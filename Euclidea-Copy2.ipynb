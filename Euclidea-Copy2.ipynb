{
 "cells": [
  {
   "cell_type": "code",
   "execution_count": 1,
   "metadata": {},
   "outputs": [
    {
     "name": "stderr",
     "output_type": "stream",
     "text": [
      "C:\\Users\\Jergb\\Anaconda3\\lib\\site-packages\\ggplot\\utils.py:81: FutureWarning: pandas.tslib is deprecated and will be removed in a future version.\n",
      "You can access Timestamp as pandas.Timestamp\n",
      "  pd.tslib.Timestamp,\n"
     ]
    }
   ],
   "source": [
    "import pandas as pd\n",
    "import mysql.connector\n",
    "import Algfuns as Af\n",
    "import matplotlib.pyplot as plt\n",
    "import seaborn as sns\n",
    "from ggplot import *"
   ]
  },
  {
   "cell_type": "code",
   "execution_count": 2,
   "metadata": {},
   "outputs": [],
   "source": [
    "WSN=Af.impbd('WSN','medidas')\n",
    "WSN=WSN.head(1000)"
   ]
  },
  {
   "cell_type": "markdown",
   "metadata": {},
   "source": [
    "WSN.head(50)"
   ]
  },
  {
   "cell_type": "code",
   "execution_count": 3,
   "metadata": {},
   "outputs": [],
   "source": [
    "TH = WSN.TEMPERATURA > WSN['HUMEDAD RELATIVA']"
   ]
  },
  {
   "cell_type": "code",
   "execution_count": 4,
   "metadata": {},
   "outputs": [
    {
     "data": {
      "text/plain": [
       "'r'"
      ]
     },
     "execution_count": 4,
     "metadata": {},
     "output_type": "execute_result"
    }
   ],
   "source": [
    "color=TH.map({True: 'r', False: 'b'})\n",
    "color[1]"
   ]
  },
  {
   "cell_type": "code",
   "execution_count": 15,
   "metadata": {},
   "outputs": [
    {
     "name": "stderr",
     "output_type": "stream",
     "text": [
      "Traceback (most recent call last):\n",
      "  File \"C:\\Users\\Jergb\\Anaconda3\\lib\\site-packages\\matplotlib\\colors.py\", line 166, in to_rgba\n",
      "    rgba = _colors_full_map.cache[c, alpha]\n",
      "  File \"C:\\Users\\Jergb\\Anaconda3\\lib\\site-packages\\pandas\\core\\generic.py\", line 1489, in __hash__\n",
      "    ' hashed'.format(self.__class__.__name__))\n",
      "TypeError: 'Series' objects are mutable, thus they cannot be hashed\n",
      "\n",
      "During handling of the above exception, another exception occurred:\n",
      "\n",
      "Traceback (most recent call last):\n",
      "  File \"C:\\Users\\Jergb\\Anaconda3\\lib\\site-packages\\matplotlib\\backends\\backend_qt5.py\", line 519, in _draw_idle\n",
      "    self.draw()\n",
      "  File \"C:\\Users\\Jergb\\Anaconda3\\lib\\site-packages\\matplotlib\\backends\\backend_agg.py\", line 433, in draw\n",
      "    self.figure.draw(self.renderer)\n",
      "  File \"C:\\Users\\Jergb\\Anaconda3\\lib\\site-packages\\matplotlib\\artist.py\", line 55, in draw_wrapper\n",
      "    return draw(artist, renderer, *args, **kwargs)\n",
      "  File \"C:\\Users\\Jergb\\Anaconda3\\lib\\site-packages\\matplotlib\\figure.py\", line 1475, in draw\n",
      "    renderer, self, artists, self.suppressComposite)\n",
      "  File \"C:\\Users\\Jergb\\Anaconda3\\lib\\site-packages\\matplotlib\\image.py\", line 141, in _draw_list_compositing_images\n",
      "    a.draw(renderer)\n",
      "  File \"C:\\Users\\Jergb\\Anaconda3\\lib\\site-packages\\matplotlib\\artist.py\", line 55, in draw_wrapper\n",
      "    return draw(artist, renderer, *args, **kwargs)\n",
      "  File \"C:\\Users\\Jergb\\Anaconda3\\lib\\site-packages\\matplotlib\\axes\\_base.py\", line 2607, in draw\n",
      "    mimage._draw_list_compositing_images(renderer, self, artists)\n",
      "  File \"C:\\Users\\Jergb\\Anaconda3\\lib\\site-packages\\matplotlib\\image.py\", line 141, in _draw_list_compositing_images\n",
      "    a.draw(renderer)\n",
      "  File \"C:\\Users\\Jergb\\Anaconda3\\lib\\site-packages\\matplotlib\\artist.py\", line 55, in draw_wrapper\n",
      "    return draw(artist, renderer, *args, **kwargs)\n",
      "  File \"C:\\Users\\Jergb\\Anaconda3\\lib\\site-packages\\matplotlib\\lines.py\", line 761, in draw\n",
      "    ln_color_rgba = self._get_rgba_ln_color()\n",
      "  File \"C:\\Users\\Jergb\\Anaconda3\\lib\\site-packages\\matplotlib\\lines.py\", line 1262, in _get_rgba_ln_color\n",
      "    return mcolors.to_rgba(self._color, self._alpha)\n",
      "  File \"C:\\Users\\Jergb\\Anaconda3\\lib\\site-packages\\matplotlib\\colors.py\", line 168, in to_rgba\n",
      "    rgba = _to_rgba_no_colorcycle(c, alpha)\n",
      "  File \"C:\\Users\\Jergb\\Anaconda3\\lib\\site-packages\\matplotlib\\colors.py\", line 219, in _to_rgba_no_colorcycle\n",
      "    raise ValueError(\"Invalid RGBA argument: {!r}\".format(orig_c))\n",
      "ValueError: Invalid RGBA argument: 0      r\n",
      "1      r\n",
      "2      r\n",
      "3      r\n",
      "4      r\n",
      "5      r\n",
      "6      r\n",
      "7      r\n",
      "8      r\n",
      "9      r\n",
      "10     r\n",
      "11     r\n",
      "12     r\n",
      "13     r\n",
      "14     r\n",
      "15     r\n",
      "16     r\n",
      "17     r\n",
      "18     r\n",
      "19     r\n",
      "20     r\n",
      "21     r\n",
      "22     r\n",
      "23     r\n",
      "24     r\n",
      "25     r\n",
      "26     r\n",
      "27     r\n",
      "28     r\n",
      "29     r\n",
      "      ..\n",
      "970    b\n",
      "971    b\n",
      "972    b\n",
      "973    b\n",
      "974    b\n",
      "975    b\n",
      "976    b\n",
      "977    b\n",
      "978    b\n",
      "979    b\n",
      "980    b\n",
      "981    b\n",
      "982    b\n",
      "983    b\n",
      "984    b\n",
      "985    b\n",
      "986    b\n",
      "987    b\n",
      "988    b\n",
      "989    b\n",
      "990    b\n",
      "991    b\n",
      "992    b\n",
      "993    b\n",
      "994    b\n",
      "995    b\n",
      "996    b\n",
      "997    b\n",
      "998    b\n",
      "999    b\n",
      "Length: 1000, dtype: object\n",
      "Traceback (most recent call last):\n",
      "  File \"C:\\Users\\Jergb\\Anaconda3\\lib\\site-packages\\matplotlib\\colors.py\", line 166, in to_rgba\n",
      "    rgba = _colors_full_map.cache[c, alpha]\n",
      "  File \"C:\\Users\\Jergb\\Anaconda3\\lib\\site-packages\\pandas\\core\\generic.py\", line 1489, in __hash__\n",
      "    ' hashed'.format(self.__class__.__name__))\n",
      "TypeError: 'Series' objects are mutable, thus they cannot be hashed\n",
      "\n",
      "During handling of the above exception, another exception occurred:\n",
      "\n",
      "Traceback (most recent call last):\n",
      "  File \"C:\\Users\\Jergb\\Anaconda3\\lib\\site-packages\\matplotlib\\backends\\backend_qt5.py\", line 519, in _draw_idle\n",
      "    self.draw()\n",
      "  File \"C:\\Users\\Jergb\\Anaconda3\\lib\\site-packages\\matplotlib\\backends\\backend_agg.py\", line 433, in draw\n",
      "    self.figure.draw(self.renderer)\n",
      "  File \"C:\\Users\\Jergb\\Anaconda3\\lib\\site-packages\\matplotlib\\artist.py\", line 55, in draw_wrapper\n",
      "    return draw(artist, renderer, *args, **kwargs)\n",
      "  File \"C:\\Users\\Jergb\\Anaconda3\\lib\\site-packages\\matplotlib\\figure.py\", line 1475, in draw\n",
      "    renderer, self, artists, self.suppressComposite)\n",
      "  File \"C:\\Users\\Jergb\\Anaconda3\\lib\\site-packages\\matplotlib\\image.py\", line 141, in _draw_list_compositing_images\n",
      "    a.draw(renderer)\n",
      "  File \"C:\\Users\\Jergb\\Anaconda3\\lib\\site-packages\\matplotlib\\artist.py\", line 55, in draw_wrapper\n",
      "    return draw(artist, renderer, *args, **kwargs)\n",
      "  File \"C:\\Users\\Jergb\\Anaconda3\\lib\\site-packages\\matplotlib\\axes\\_base.py\", line 2607, in draw\n",
      "    mimage._draw_list_compositing_images(renderer, self, artists)\n",
      "  File \"C:\\Users\\Jergb\\Anaconda3\\lib\\site-packages\\matplotlib\\image.py\", line 141, in _draw_list_compositing_images\n",
      "    a.draw(renderer)\n",
      "  File \"C:\\Users\\Jergb\\Anaconda3\\lib\\site-packages\\matplotlib\\artist.py\", line 55, in draw_wrapper\n",
      "    return draw(artist, renderer, *args, **kwargs)\n",
      "  File \"C:\\Users\\Jergb\\Anaconda3\\lib\\site-packages\\matplotlib\\lines.py\", line 761, in draw\n",
      "    ln_color_rgba = self._get_rgba_ln_color()\n",
      "  File \"C:\\Users\\Jergb\\Anaconda3\\lib\\site-packages\\matplotlib\\lines.py\", line 1262, in _get_rgba_ln_color\n",
      "    return mcolors.to_rgba(self._color, self._alpha)\n",
      "  File \"C:\\Users\\Jergb\\Anaconda3\\lib\\site-packages\\matplotlib\\colors.py\", line 168, in to_rgba\n",
      "    rgba = _to_rgba_no_colorcycle(c, alpha)\n",
      "  File \"C:\\Users\\Jergb\\Anaconda3\\lib\\site-packages\\matplotlib\\colors.py\", line 219, in _to_rgba_no_colorcycle\n",
      "    raise ValueError(\"Invalid RGBA argument: {!r}\".format(orig_c))\n",
      "ValueError: Invalid RGBA argument: 0      r\n",
      "1      r\n",
      "2      r\n",
      "3      r\n",
      "4      r\n",
      "5      r\n",
      "6      r\n",
      "7      r\n",
      "8      r\n",
      "9      r\n",
      "10     r\n",
      "11     r\n",
      "12     r\n",
      "13     r\n",
      "14     r\n",
      "15     r\n",
      "16     r\n",
      "17     r\n",
      "18     r\n",
      "19     r\n",
      "20     r\n",
      "21     r\n",
      "22     r\n",
      "23     r\n",
      "24     r\n",
      "25     r\n",
      "26     r\n",
      "27     r\n",
      "28     r\n",
      "29     r\n",
      "      ..\n",
      "970    b\n",
      "971    b\n",
      "972    b\n",
      "973    b\n",
      "974    b\n",
      "975    b\n",
      "976    b\n",
      "977    b\n",
      "978    b\n",
      "979    b\n",
      "980    b\n",
      "981    b\n",
      "982    b\n",
      "983    b\n",
      "984    b\n",
      "985    b\n",
      "986    b\n",
      "987    b\n",
      "988    b\n",
      "989    b\n",
      "990    b\n",
      "991    b\n",
      "992    b\n",
      "993    b\n",
      "994    b\n",
      "995    b\n",
      "996    b\n",
      "997    b\n",
      "998    b\n",
      "999    b\n",
      "Length: 1000, dtype: object\n"
     ]
    }
   ],
   "source": [
    "%matplotlib qt\n",
    "WSN.TEMPERATURA.plot(color=[TH.map({True: 'r', False: 'b'})])\n",
    "plt.show()"
   ]
  },
  {
   "cell_type": "code",
   "execution_count": 6,
   "metadata": {},
   "outputs": [
    {
     "data": {
      "text/plain": [
       "<ggplot: (142008244835)>"
      ]
     },
     "execution_count": 6,
     "metadata": {},
     "output_type": "execute_result"
    }
   ],
   "source": [
    "ggplot(WSN, aes(x = 'TIME', y ='TEMPERATURA')) + \\\n",
    "    geom_point(alpha=1, size=100, color='dodgerblue') + \\\n",
    "    geom_point(data = WSN[(WSN.TEMPERATURA >= WSN['HUMEDAD RELATIVA'])],alpha=1, size = 100, color='red')"
   ]
  }
 ],
 "metadata": {
  "kernelspec": {
   "display_name": "Python 3",
   "language": "python",
   "name": "python3"
  },
  "language_info": {
   "codemirror_mode": {
    "name": "ipython",
    "version": 3
   },
   "file_extension": ".py",
   "mimetype": "text/x-python",
   "name": "python",
   "nbconvert_exporter": "python",
   "pygments_lexer": "ipython3",
   "version": "3.6.5"
  }
 },
 "nbformat": 4,
 "nbformat_minor": 2
}
