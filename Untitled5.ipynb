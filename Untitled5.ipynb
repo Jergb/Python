{
 "cells": [
  {
   "cell_type": "code",
   "execution_count": 6,
   "metadata": {},
   "outputs": [
    {
     "name": "stdout",
     "output_type": "stream",
     "text": [
      " +-----------------------------------------------+\n",
      " | XBee Python Library Set/Get parameters Sample |\n",
      " +-----------------------------------------------+\n",
      "\n",
      "Node ID:                     Yoda\n",
      "PAN ID:                      00 00 00 00 00 00 12 34\n",
      "Destination address high:    00 00 00 00\n",
      "Destination address low:     00 00 FF FF\n",
      "\n",
      "All parameters were set correctly!\n"
     ]
    }
   ],
   "source": [
    "\n",
    "from digi.xbee.devices import XBeeDevice\n",
    "from digi.xbee.util import utils\n",
    "\n",
    "# TODO: Replace with the serial port where your local module is connected to. \n",
    "PORT = \"COM3\"\n",
    "# TODO: Replace with the baud rate of your local module.\n",
    "BAUD_RATE = 9600\n",
    "\n",
    "PARAM_NODE_ID = \"NI\"\n",
    "PARAM_PAN_ID = \"ID\"\n",
    "PARAM_DEST_ADDRESS_H = \"DH\"\n",
    "PARAM_DEST_ADDRESS_L = \"DL\"\n",
    "\n",
    "PARAM_VALUE_NODE_ID = \"Yoda\"\n",
    "PARAM_VALUE_PAN_ID = utils.hex_string_to_bytes(\"1234\")\n",
    "PARAM_VALUE_DEST_ADDRESS_H = utils.hex_string_to_bytes(\"00\")\n",
    "PARAM_VALUE_DEST_ADDRESS_L = utils.hex_string_to_bytes(\"FFFF\")\n",
    "\n",
    "\n",
    "def main():\n",
    "    print(\" +-----------------------------------------------+\")\n",
    "    print(\" | XBee Python Library Set/Get parameters Sample |\")\n",
    "    print(\" +-----------------------------------------------+\\n\")\n",
    "\n",
    "    device = XBeeDevice(PORT, BAUD_RATE)\n",
    "\n",
    "    try:\n",
    "        device.open()\n",
    "\n",
    "        # Set parameters.\n",
    "        device.set_parameter(PARAM_NODE_ID, bytearray(PARAM_VALUE_NODE_ID, 'utf8'))\n",
    "        device.set_parameter(PARAM_PAN_ID, PARAM_VALUE_PAN_ID)\n",
    "        device.set_parameter(PARAM_DEST_ADDRESS_H, PARAM_VALUE_DEST_ADDRESS_H)\n",
    "        device.set_parameter(PARAM_DEST_ADDRESS_L, PARAM_VALUE_DEST_ADDRESS_L)\n",
    "\n",
    "        # Get parameters.\n",
    "        print(\"Node ID:                     %s\" % device.get_parameter(PARAM_NODE_ID).decode())\n",
    "        print(\"PAN ID:                      %s\" % utils.hex_to_string(device.get_parameter(PARAM_PAN_ID)))\n",
    "        print(\"Destination address high:    %s\" % utils.hex_to_string(device.get_parameter(PARAM_DEST_ADDRESS_H)))\n",
    "        print(\"Destination address low:     %s\" % utils.hex_to_string(device.get_parameter(PARAM_DEST_ADDRESS_L)))\n",
    "\n",
    "        print(\"\")\n",
    "        print(\"All parameters were set correctly!\")\n",
    "\n",
    "    finally:\n",
    "        if device is not None and device.is_open():\n",
    "            device.close()\n",
    "\n",
    "\n",
    "if __name__ == '__main__':\n",
    "    main()"
   ]
  }
 ],
 "metadata": {
  "kernelspec": {
   "display_name": "Python 3",
   "language": "python",
   "name": "python3"
  },
  "language_info": {
   "codemirror_mode": {
    "name": "ipython",
    "version": 3
   },
   "file_extension": ".py",
   "mimetype": "text/x-python",
   "name": "python",
   "nbconvert_exporter": "python",
   "pygments_lexer": "ipython3",
   "version": "3.6.5"
  }
 },
 "nbformat": 4,
 "nbformat_minor": 2
}
