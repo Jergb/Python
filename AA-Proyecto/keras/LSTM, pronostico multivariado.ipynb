{
 "cells": [
  {
   "cell_type": "markdown",
   "metadata": {},
   "source": [
    "# LSTM  para predecir a los pasajeros de las aerolíneas internacionales"
   ]
  },
  {
   "cell_type": "code",
   "execution_count": 1,
   "metadata": {},
   "outputs": [
    {
     "name": "stderr",
     "output_type": "stream",
     "text": [
      "C:\\Users\\Jergb\\Anaconda3\\lib\\site-packages\\h5py\\__init__.py:36: FutureWarning: Conversion of the second argument of issubdtype from `float` to `np.floating` is deprecated. In future, it will be treated as `np.float64 == np.dtype(float).type`.\n",
      "  from ._conv import register_converters as _register_converters\n",
      "Using TensorFlow backend.\n"
     ]
    }
   ],
   "source": [
    "import numpy\n",
    "import matplotlib.pyplot as plt\n",
    "from pandas import read_csv\n",
    "import math\n",
    "import pandas as pd\n",
    "from keras.models import Sequential\n",
    "from keras.layers import Bidirectional \n",
    "from keras.layers import Dense\n",
    "from keras.layers import LSTM\n",
    "from sklearn.preprocessing import MinMaxScaler\n",
    "from sklearn.metrics import mean_squared_error"
   ]
  },
  {
   "cell_type": "markdown",
   "metadata": {},
   "source": [
    "# convertimos un array de valores en una matriz de conjuntos de datos\n",
    "Con esto tenemos la salida a n muestras siguientes"
   ]
  },
  {
   "cell_type": "code",
   "execution_count": 2,
   "metadata": {},
   "outputs": [],
   "source": [
    "# convertir un array de valores en una matriz de conjuntos de datos\n",
    "def create_dataset(dataset, look_back=1):\n",
    "    x = dataset.iloc[0:-look_back].values\n",
    "    y = dataset.iloc[look_back::,0].values\n",
    "    return numpy.array(x), numpy.array(y)"
   ]
  },
  {
   "cell_type": "markdown",
   "metadata": {},
   "source": [
    "# Se define una semilla constante para controlar la estabilidad del modelo.\n",
    "Con esto se garantiza que el modelo se entrene siempre con la misma secuencia de numeros aleatorios."
   ]
  },
  {
   "cell_type": "code",
   "execution_count": 3,
   "metadata": {},
   "outputs": [],
   "source": [
    "numpy.random.seed(5)"
   ]
  },
  {
   "cell_type": "markdown",
   "metadata": {},
   "source": [
    "# cargamos el conjunto de datos"
   ]
  },
  {
   "cell_type": "markdown",
   "metadata": {},
   "source": [
    "dataframe = read_csv('international-airline-passengers.csv', usecols=[1], engine='python',skipfooter=3)\n",
    "dataset = dataframe.values\n",
    "dataset = dataset.astype('float32')\n",
    "dataframe.shape"
   ]
  },
  {
   "cell_type": "code",
   "execution_count": 16,
   "metadata": {},
   "outputs": [
    {
     "ename": "FileNotFoundError",
     "evalue": "File b'ajustado.csv' does not exist",
     "output_type": "error",
     "traceback": [
      "\u001b[1;31m---------------------------------------------------------------------------\u001b[0m",
      "\u001b[1;31mFileNotFoundError\u001b[0m                         Traceback (most recent call last)",
      "\u001b[1;32m<ipython-input-16-d2d534e83e09>\u001b[0m in \u001b[0;36m<module>\u001b[1;34m()\u001b[0m\n\u001b[1;32m----> 1\u001b[1;33m \u001b[0mdataframe\u001b[0m \u001b[1;33m=\u001b[0m \u001b[0mpd\u001b[0m\u001b[1;33m.\u001b[0m\u001b[0mread_csv\u001b[0m\u001b[1;33m(\u001b[0m\u001b[1;34m'ajustado.csv'\u001b[0m\u001b[1;33m,\u001b[0m \u001b[0mparse_dates\u001b[0m\u001b[1;33m=\u001b[0m\u001b[1;32mTrue\u001b[0m\u001b[1;33m,\u001b[0m\u001b[0mindex_col\u001b[0m\u001b[1;33m=\u001b[0m\u001b[1;36m0\u001b[0m\u001b[1;33m)\u001b[0m\u001b[1;33m\u001b[0m\u001b[0m\n\u001b[0m\u001b[0;32m      2\u001b[0m \u001b[0mdataset\u001b[0m \u001b[1;33m=\u001b[0m \u001b[0mdataframe\u001b[0m\u001b[1;33m.\u001b[0m\u001b[0miloc\u001b[0m\u001b[1;33m[\u001b[0m\u001b[1;33m:\u001b[0m\u001b[1;33m,\u001b[0m\u001b[1;36m2\u001b[0m\u001b[1;33m:\u001b[0m\u001b[1;36m3\u001b[0m\u001b[1;33m]\u001b[0m\u001b[1;33m.\u001b[0m\u001b[0mvalues\u001b[0m\u001b[1;33m\u001b[0m\u001b[0m\n\u001b[0;32m      3\u001b[0m \u001b[0mdataset\u001b[0m \u001b[1;33m=\u001b[0m \u001b[0mdataset\u001b[0m\u001b[1;33m.\u001b[0m\u001b[0mastype\u001b[0m\u001b[1;33m(\u001b[0m\u001b[1;34m'float32'\u001b[0m\u001b[1;33m)\u001b[0m\u001b[1;33m\u001b[0m\u001b[0m\n\u001b[0;32m      4\u001b[0m \u001b[0mdataset\u001b[0m\u001b[1;33m.\u001b[0m\u001b[0mshape\u001b[0m\u001b[1;33m\u001b[0m\u001b[0m\n",
      "\u001b[1;32m~\\Anaconda3\\lib\\site-packages\\pandas\\io\\parsers.py\u001b[0m in \u001b[0;36mparser_f\u001b[1;34m(filepath_or_buffer, sep, delimiter, header, names, index_col, usecols, squeeze, prefix, mangle_dupe_cols, dtype, engine, converters, true_values, false_values, skipinitialspace, skiprows, nrows, na_values, keep_default_na, na_filter, verbose, skip_blank_lines, parse_dates, infer_datetime_format, keep_date_col, date_parser, dayfirst, iterator, chunksize, compression, thousands, decimal, lineterminator, quotechar, quoting, escapechar, comment, encoding, dialect, tupleize_cols, error_bad_lines, warn_bad_lines, skipfooter, doublequote, delim_whitespace, low_memory, memory_map, float_precision)\u001b[0m\n\u001b[0;32m    676\u001b[0m                     skip_blank_lines=skip_blank_lines)\n\u001b[0;32m    677\u001b[0m \u001b[1;33m\u001b[0m\u001b[0m\n\u001b[1;32m--> 678\u001b[1;33m         \u001b[1;32mreturn\u001b[0m \u001b[0m_read\u001b[0m\u001b[1;33m(\u001b[0m\u001b[0mfilepath_or_buffer\u001b[0m\u001b[1;33m,\u001b[0m \u001b[0mkwds\u001b[0m\u001b[1;33m)\u001b[0m\u001b[1;33m\u001b[0m\u001b[0m\n\u001b[0m\u001b[0;32m    679\u001b[0m \u001b[1;33m\u001b[0m\u001b[0m\n\u001b[0;32m    680\u001b[0m     \u001b[0mparser_f\u001b[0m\u001b[1;33m.\u001b[0m\u001b[0m__name__\u001b[0m \u001b[1;33m=\u001b[0m \u001b[0mname\u001b[0m\u001b[1;33m\u001b[0m\u001b[0m\n",
      "\u001b[1;32m~\\Anaconda3\\lib\\site-packages\\pandas\\io\\parsers.py\u001b[0m in \u001b[0;36m_read\u001b[1;34m(filepath_or_buffer, kwds)\u001b[0m\n\u001b[0;32m    438\u001b[0m \u001b[1;33m\u001b[0m\u001b[0m\n\u001b[0;32m    439\u001b[0m     \u001b[1;31m# Create the parser.\u001b[0m\u001b[1;33m\u001b[0m\u001b[1;33m\u001b[0m\u001b[0m\n\u001b[1;32m--> 440\u001b[1;33m     \u001b[0mparser\u001b[0m \u001b[1;33m=\u001b[0m \u001b[0mTextFileReader\u001b[0m\u001b[1;33m(\u001b[0m\u001b[0mfilepath_or_buffer\u001b[0m\u001b[1;33m,\u001b[0m \u001b[1;33m**\u001b[0m\u001b[0mkwds\u001b[0m\u001b[1;33m)\u001b[0m\u001b[1;33m\u001b[0m\u001b[0m\n\u001b[0m\u001b[0;32m    441\u001b[0m \u001b[1;33m\u001b[0m\u001b[0m\n\u001b[0;32m    442\u001b[0m     \u001b[1;32mif\u001b[0m \u001b[0mchunksize\u001b[0m \u001b[1;32mor\u001b[0m \u001b[0miterator\u001b[0m\u001b[1;33m:\u001b[0m\u001b[1;33m\u001b[0m\u001b[0m\n",
      "\u001b[1;32m~\\Anaconda3\\lib\\site-packages\\pandas\\io\\parsers.py\u001b[0m in \u001b[0;36m__init__\u001b[1;34m(self, f, engine, **kwds)\u001b[0m\n\u001b[0;32m    785\u001b[0m             \u001b[0mself\u001b[0m\u001b[1;33m.\u001b[0m\u001b[0moptions\u001b[0m\u001b[1;33m[\u001b[0m\u001b[1;34m'has_index_names'\u001b[0m\u001b[1;33m]\u001b[0m \u001b[1;33m=\u001b[0m \u001b[0mkwds\u001b[0m\u001b[1;33m[\u001b[0m\u001b[1;34m'has_index_names'\u001b[0m\u001b[1;33m]\u001b[0m\u001b[1;33m\u001b[0m\u001b[0m\n\u001b[0;32m    786\u001b[0m \u001b[1;33m\u001b[0m\u001b[0m\n\u001b[1;32m--> 787\u001b[1;33m         \u001b[0mself\u001b[0m\u001b[1;33m.\u001b[0m\u001b[0m_make_engine\u001b[0m\u001b[1;33m(\u001b[0m\u001b[0mself\u001b[0m\u001b[1;33m.\u001b[0m\u001b[0mengine\u001b[0m\u001b[1;33m)\u001b[0m\u001b[1;33m\u001b[0m\u001b[0m\n\u001b[0m\u001b[0;32m    788\u001b[0m \u001b[1;33m\u001b[0m\u001b[0m\n\u001b[0;32m    789\u001b[0m     \u001b[1;32mdef\u001b[0m \u001b[0mclose\u001b[0m\u001b[1;33m(\u001b[0m\u001b[0mself\u001b[0m\u001b[1;33m)\u001b[0m\u001b[1;33m:\u001b[0m\u001b[1;33m\u001b[0m\u001b[0m\n",
      "\u001b[1;32m~\\Anaconda3\\lib\\site-packages\\pandas\\io\\parsers.py\u001b[0m in \u001b[0;36m_make_engine\u001b[1;34m(self, engine)\u001b[0m\n\u001b[0;32m   1012\u001b[0m     \u001b[1;32mdef\u001b[0m \u001b[0m_make_engine\u001b[0m\u001b[1;33m(\u001b[0m\u001b[0mself\u001b[0m\u001b[1;33m,\u001b[0m \u001b[0mengine\u001b[0m\u001b[1;33m=\u001b[0m\u001b[1;34m'c'\u001b[0m\u001b[1;33m)\u001b[0m\u001b[1;33m:\u001b[0m\u001b[1;33m\u001b[0m\u001b[0m\n\u001b[0;32m   1013\u001b[0m         \u001b[1;32mif\u001b[0m \u001b[0mengine\u001b[0m \u001b[1;33m==\u001b[0m \u001b[1;34m'c'\u001b[0m\u001b[1;33m:\u001b[0m\u001b[1;33m\u001b[0m\u001b[0m\n\u001b[1;32m-> 1014\u001b[1;33m             \u001b[0mself\u001b[0m\u001b[1;33m.\u001b[0m\u001b[0m_engine\u001b[0m \u001b[1;33m=\u001b[0m \u001b[0mCParserWrapper\u001b[0m\u001b[1;33m(\u001b[0m\u001b[0mself\u001b[0m\u001b[1;33m.\u001b[0m\u001b[0mf\u001b[0m\u001b[1;33m,\u001b[0m \u001b[1;33m**\u001b[0m\u001b[0mself\u001b[0m\u001b[1;33m.\u001b[0m\u001b[0moptions\u001b[0m\u001b[1;33m)\u001b[0m\u001b[1;33m\u001b[0m\u001b[0m\n\u001b[0m\u001b[0;32m   1015\u001b[0m         \u001b[1;32melse\u001b[0m\u001b[1;33m:\u001b[0m\u001b[1;33m\u001b[0m\u001b[0m\n\u001b[0;32m   1016\u001b[0m             \u001b[1;32mif\u001b[0m \u001b[0mengine\u001b[0m \u001b[1;33m==\u001b[0m \u001b[1;34m'python'\u001b[0m\u001b[1;33m:\u001b[0m\u001b[1;33m\u001b[0m\u001b[0m\n",
      "\u001b[1;32m~\\Anaconda3\\lib\\site-packages\\pandas\\io\\parsers.py\u001b[0m in \u001b[0;36m__init__\u001b[1;34m(self, src, **kwds)\u001b[0m\n\u001b[0;32m   1706\u001b[0m         \u001b[0mkwds\u001b[0m\u001b[1;33m[\u001b[0m\u001b[1;34m'usecols'\u001b[0m\u001b[1;33m]\u001b[0m \u001b[1;33m=\u001b[0m \u001b[0mself\u001b[0m\u001b[1;33m.\u001b[0m\u001b[0musecols\u001b[0m\u001b[1;33m\u001b[0m\u001b[0m\n\u001b[0;32m   1707\u001b[0m \u001b[1;33m\u001b[0m\u001b[0m\n\u001b[1;32m-> 1708\u001b[1;33m         \u001b[0mself\u001b[0m\u001b[1;33m.\u001b[0m\u001b[0m_reader\u001b[0m \u001b[1;33m=\u001b[0m \u001b[0mparsers\u001b[0m\u001b[1;33m.\u001b[0m\u001b[0mTextReader\u001b[0m\u001b[1;33m(\u001b[0m\u001b[0msrc\u001b[0m\u001b[1;33m,\u001b[0m \u001b[1;33m**\u001b[0m\u001b[0mkwds\u001b[0m\u001b[1;33m)\u001b[0m\u001b[1;33m\u001b[0m\u001b[0m\n\u001b[0m\u001b[0;32m   1709\u001b[0m \u001b[1;33m\u001b[0m\u001b[0m\n\u001b[0;32m   1710\u001b[0m         \u001b[0mpassed_names\u001b[0m \u001b[1;33m=\u001b[0m \u001b[0mself\u001b[0m\u001b[1;33m.\u001b[0m\u001b[0mnames\u001b[0m \u001b[1;32mis\u001b[0m \u001b[1;32mNone\u001b[0m\u001b[1;33m\u001b[0m\u001b[0m\n",
      "\u001b[1;32mpandas\\_libs\\parsers.pyx\u001b[0m in \u001b[0;36mpandas._libs.parsers.TextReader.__cinit__\u001b[1;34m()\u001b[0m\n",
      "\u001b[1;32mpandas\\_libs\\parsers.pyx\u001b[0m in \u001b[0;36mpandas._libs.parsers.TextReader._setup_parser_source\u001b[1;34m()\u001b[0m\n",
      "\u001b[1;31mFileNotFoundError\u001b[0m: File b'ajustado.csv' does not exist"
     ]
    }
   ],
   "source": [
    "dataframe = pd.read_csv('ajustado.csv', parse_dates=True,index_col=0)\n",
    "dataset = dataframe.iloc[:,2:3].values\n",
    "dataset = dataset.astype('float32')\n",
    "dataset.shape"
   ]
  },
  {
   "cell_type": "code",
   "execution_count": 5,
   "metadata": {},
   "outputs": [],
   "source": [
    "# normalizamos el conjunto de datos\n",
    "scaler = MinMaxScaler(feature_range=(0, 1))\n",
    "dataset = scaler.fit_transform(dataset)"
   ]
  },
  {
   "cell_type": "code",
   "execution_count": 6,
   "metadata": {},
   "outputs": [
    {
     "name": "stdout",
     "output_type": "stream",
     "text": [
      "2769 1364\n"
     ]
    }
   ],
   "source": [
    "# dividimos entre entranmiento y test\n",
    "import pandas as pd\n",
    "train_size = int(len(dataset) * 0.67)\n",
    "test_size = len(dataset) - train_size\n",
    "train, test = pd.DataFrame(dataset[0:train_size,:]), pd.DataFrame(dataset[train_size:len(dataset),:])\n",
    "print(len(train), len(test))"
   ]
  },
  {
   "cell_type": "code",
   "execution_count": 7,
   "metadata": {
    "scrolled": false
   },
   "outputs": [],
   "source": [
    "# remodelamos X=t y Y=t+1\n",
    "look_back = 1\n",
    "trainX, trainY = create_dataset(train, look_back)\n",
    "testX, testY = create_dataset(test, look_back)"
   ]
  },
  {
   "cell_type": "code",
   "execution_count": 8,
   "metadata": {
    "scrolled": false
   },
   "outputs": [
    {
     "name": "stdout",
     "output_type": "stream",
     "text": [
      "Epoch 1/100\n",
      " - 7s - loss: 0.0135\n",
      "Epoch 2/100\n",
      " - 6s - loss: 5.7968e-05\n",
      "Epoch 3/100\n",
      " - 6s - loss: 6.5337e-05\n",
      "Epoch 4/100\n",
      " - 6s - loss: 6.7579e-05\n",
      "Epoch 5/100\n",
      " - 6s - loss: 6.7963e-05\n",
      "Epoch 6/100\n",
      " - 6s - loss: 6.7875e-05\n",
      "Epoch 7/100\n",
      " - 6s - loss: 6.7469e-05\n",
      "Epoch 8/100\n",
      " - 6s - loss: 6.6195e-05\n",
      "Epoch 9/100\n",
      " - 6s - loss: 6.6002e-05\n",
      "Epoch 10/100\n",
      " - 7s - loss: 6.5239e-05\n",
      "Epoch 11/100\n",
      " - 6s - loss: 6.4877e-05\n",
      "Epoch 12/100\n",
      " - 6s - loss: 6.4361e-05\n",
      "Epoch 13/100\n",
      " - 6s - loss: 6.5846e-05\n",
      "Epoch 14/100\n",
      " - 6s - loss: 6.4642e-05\n",
      "Epoch 15/100\n",
      " - 7s - loss: 6.3082e-05\n",
      "Epoch 16/100\n",
      " - 6s - loss: 6.4957e-05\n",
      "Epoch 17/100\n",
      " - 6s - loss: 6.4670e-05\n",
      "Epoch 18/100\n",
      " - 6s - loss: 6.4946e-05\n",
      "Epoch 19/100\n",
      " - 7s - loss: 6.5422e-05\n",
      "Epoch 20/100\n",
      " - 6s - loss: 6.4299e-05\n",
      "Epoch 21/100\n",
      " - 6s - loss: 6.4382e-05\n",
      "Epoch 22/100\n",
      " - 6s - loss: 6.4219e-05\n",
      "Epoch 23/100\n",
      " - 6s - loss: 6.5505e-05\n",
      "Epoch 24/100\n",
      " - 7s - loss: 6.4297e-05\n",
      "Epoch 25/100\n",
      " - 6s - loss: 6.3308e-05\n",
      "Epoch 26/100\n",
      " - 6s - loss: 6.4516e-05\n",
      "Epoch 27/100\n",
      " - 6s - loss: 6.4489e-05\n",
      "Epoch 28/100\n",
      " - 7s - loss: 6.4060e-05\n",
      "Epoch 29/100\n",
      " - 6s - loss: 6.1488e-05\n",
      "Epoch 30/100\n",
      " - 6s - loss: 6.5246e-05\n",
      "Epoch 31/100\n",
      " - 7s - loss: 6.4357e-05\n",
      "Epoch 32/100\n",
      " - 7s - loss: 6.3882e-05\n",
      "Epoch 33/100\n",
      " - 7s - loss: 6.2151e-05\n",
      "Epoch 34/100\n",
      " - 6s - loss: 6.2423e-05\n",
      "Epoch 35/100\n",
      " - 7s - loss: 6.4756e-05\n",
      "Epoch 36/100\n",
      " - 6s - loss: 6.1865e-05\n",
      "Epoch 37/100\n",
      " - 7s - loss: 6.1552e-05\n",
      "Epoch 38/100\n",
      " - 6s - loss: 6.0188e-05\n",
      "Epoch 39/100\n",
      " - 6s - loss: 6.1146e-05\n",
      "Epoch 40/100\n",
      " - 6s - loss: 6.0943e-05\n",
      "Epoch 41/100\n",
      " - 6s - loss: 5.8186e-05\n",
      "Epoch 42/100\n",
      " - 6s - loss: 6.0147e-05\n",
      "Epoch 43/100\n",
      " - 6s - loss: 5.8423e-05\n",
      "Epoch 44/100\n",
      " - 6s - loss: 5.9310e-05\n",
      "Epoch 45/100\n",
      " - 6s - loss: 6.0877e-05\n",
      "Epoch 46/100\n",
      " - 6s - loss: 5.9968e-05\n",
      "Epoch 47/100\n",
      " - 7s - loss: 5.9368e-05\n",
      "Epoch 48/100\n",
      " - 6s - loss: 5.9069e-05\n",
      "Epoch 49/100\n",
      " - 6s - loss: 5.9416e-05\n",
      "Epoch 50/100\n",
      " - 6s - loss: 6.1071e-05\n",
      "Epoch 51/100\n",
      " - 6s - loss: 5.8288e-05\n",
      "Epoch 52/100\n",
      " - 7s - loss: 5.8677e-05\n",
      "Epoch 53/100\n",
      " - 6s - loss: 5.9140e-05\n",
      "Epoch 54/100\n",
      " - 6s - loss: 5.9328e-05\n",
      "Epoch 55/100\n",
      " - 6s - loss: 5.7674e-05\n",
      "Epoch 56/100\n",
      " - 6s - loss: 5.7990e-05\n",
      "Epoch 57/100\n",
      " - 7s - loss: 5.9127e-05\n",
      "Epoch 58/100\n",
      " - 6s - loss: 5.8749e-05\n",
      "Epoch 59/100\n",
      " - 6s - loss: 5.7511e-05\n",
      "Epoch 60/100\n",
      " - 6s - loss: 5.7800e-05\n",
      "Epoch 61/100\n",
      " - 7s - loss: 5.8838e-05\n",
      "Epoch 62/100\n",
      " - 6s - loss: 5.7744e-05\n",
      "Epoch 63/100\n",
      " - 6s - loss: 5.8043e-05\n",
      "Epoch 64/100\n",
      " - 6s - loss: 6.0304e-05\n",
      "Epoch 65/100\n",
      " - 6s - loss: 5.5747e-05\n",
      "Epoch 66/100\n",
      " - 6s - loss: 5.6985e-05\n",
      "Epoch 67/100\n",
      " - 6s - loss: 5.9110e-05\n",
      "Epoch 68/100\n",
      " - 6s - loss: 5.9039e-05\n",
      "Epoch 69/100\n",
      " - 6s - loss: 5.6967e-05\n",
      "Epoch 70/100\n",
      " - 7s - loss: 5.9733e-05\n",
      "Epoch 71/100\n",
      " - 7s - loss: 5.8497e-05\n",
      "Epoch 72/100\n",
      " - 6s - loss: 6.0896e-05\n",
      "Epoch 73/100\n",
      " - 6s - loss: 5.8184e-05\n",
      "Epoch 74/100\n",
      " - 6s - loss: 5.8118e-05\n",
      "Epoch 75/100\n",
      " - 6s - loss: 5.7067e-05\n",
      "Epoch 76/100\n",
      " - 6s - loss: 5.8819e-05\n",
      "Epoch 77/100\n",
      " - 6s - loss: 5.6668e-05\n",
      "Epoch 78/100\n",
      " - 6s - loss: 5.7486e-05\n",
      "Epoch 79/100\n",
      " - 6s - loss: 5.6822e-05\n",
      "Epoch 80/100\n",
      " - 6s - loss: 5.6983e-05\n",
      "Epoch 81/100\n",
      " - 7s - loss: 5.7502e-05\n",
      "Epoch 82/100\n",
      " - 6s - loss: 5.7413e-05\n",
      "Epoch 83/100\n",
      " - 6s - loss: 5.8659e-05\n",
      "Epoch 84/100\n",
      " - 6s - loss: 5.6391e-05\n",
      "Epoch 85/100\n",
      " - 6s - loss: 5.8278e-05\n",
      "Epoch 86/100\n",
      " - 6s - loss: 5.8531e-05\n",
      "Epoch 87/100\n",
      " - 6s - loss: 5.7711e-05\n",
      "Epoch 88/100\n",
      " - 6s - loss: 5.8649e-05\n",
      "Epoch 89/100\n",
      " - 7s - loss: 5.6523e-05\n",
      "Epoch 90/100\n",
      " - 6s - loss: 5.7571e-05\n",
      "Epoch 91/100\n",
      " - 6s - loss: 5.7638e-05\n",
      "Epoch 92/100\n",
      " - 6s - loss: 5.5749e-05\n",
      "Epoch 93/100\n",
      " - 6s - loss: 5.7452e-05\n",
      "Epoch 94/100\n",
      " - 6s - loss: 5.6768e-05\n",
      "Epoch 95/100\n",
      " - 6s - loss: 5.7935e-05\n",
      "Epoch 96/100\n",
      " - 6s - loss: 5.6543e-05\n",
      "Epoch 97/100\n",
      " - 6s - loss: 5.7851e-05\n",
      "Epoch 98/100\n",
      " - 6s - loss: 5.7443e-05\n",
      "Epoch 99/100\n",
      " - 6s - loss: 5.6571e-05\n",
      "Epoch 100/100\n",
      " - 6s - loss: 5.8082e-05\n"
     ]
    },
    {
     "data": {
      "text/plain": [
       "<keras.callbacks.History at 0x196858adac8>"
      ]
     },
     "execution_count": 8,
     "metadata": {},
     "output_type": "execute_result"
    }
   ],
   "source": [
    "# remodelamos la entrada para que sea[muestras, pasos de tiempo, características]\n",
    "trainX = numpy.reshape(trainX, (trainX.shape[0], 1, trainX.shape[1]))\n",
    "testX = numpy.reshape(testX, (testX.shape[0], 1, testX.shape[1]))\n",
    "#creamos la LSTM network\n",
    "\n",
    "model = Sequential()\n",
    "model.add(Bidirectional(LSTM(4, input_shape=(1, look_back))))\n",
    "model.add(Dense(1))\n",
    "# evaluar la exactitud de las predicciones de un modelo a través del error de la raíz cuadrada de la media (RMSE)\n",
    "# El error de entrenamiento mide qué tan bien ajusta los datos de entrenamiento tu modelo\n",
    "#El error cuadrático medio (MSE) puede ser difícil de interpretar; es por esto que generalmente observamos el error \n",
    "# de la raíz cuadrada de la media (RMSE) en su lugar. Una propiedad interesante del RMSE es que se puede interpretar \n",
    "# en la misma escala que los objetivos originales\n",
    "model.compile(loss='mean_squared_error', optimizer='adam')\n",
    "model.fit(trainX, trainY, epochs=100, batch_size=1, verbose=2)"
   ]
  },
  {
   "cell_type": "code",
   "execution_count": 9,
   "metadata": {},
   "outputs": [],
   "source": [
    "# hacemos las predicciones\n",
    "trainPredict = model.predict(trainX)\n",
    "testPredict = model.predict(testX)"
   ]
  },
  {
   "cell_type": "code",
   "execution_count": 10,
   "metadata": {},
   "outputs": [],
   "source": [
    "# invertimos las predicciones\n",
    "trainPredict = scaler.inverse_transform(trainPredict)\n",
    "trainY = scaler.inverse_transform([trainY])\n",
    "testPredict = scaler.inverse_transform(testPredict)\n",
    "testY = scaler.inverse_transform([testY])"
   ]
  },
  {
   "cell_type": "code",
   "execution_count": 11,
   "metadata": {},
   "outputs": [
    {
     "name": "stdout",
     "output_type": "stream",
     "text": [
      "Resultado del entrenamiento: 0.68 RMSE\n",
      "Resultado del test: 0.66 RMSE\n"
     ]
    }
   ],
   "source": [
    "# calculamos el error rms\n",
    "trainScore = math.sqrt(mean_squared_error(trainY[0], trainPredict[:,0]))\n",
    "print('Resultado del entrenamiento: %.2f RMSE' % (trainScore))\n",
    "testScore = math.sqrt(mean_squared_error(testY[0], testPredict[:,0]))\n",
    "print('Resultado del test: %.2f RMSE' % (testScore))"
   ]
  },
  {
   "cell_type": "code",
   "execution_count": 12,
   "metadata": {},
   "outputs": [],
   "source": [
    "# predicciones del entrenamiento de cambio para plotear\n",
    "trainPredictPlot = numpy.empty_like(dataset)\n",
    "trainPredictPlot[:, :] = numpy.nan\n",
    "trainPredictPlot[look_back:len(trainPredict)+look_back, :] = trainPredict"
   ]
  },
  {
   "cell_type": "code",
   "execution_count": 13,
   "metadata": {},
   "outputs": [],
   "source": [
    "# predicciones del test de cambio para plotear\n",
    "testPredictPlot = numpy.empty_like(dataset)\n",
    "testPredictPlot[:, :] = numpy.nan\n",
    "testPredictPlot[len(trainPredict)+(look_back)+1:len(dataset), :] = testPredict"
   ]
  },
  {
   "cell_type": "code",
   "execution_count": 14,
   "metadata": {},
   "outputs": [
    {
     "data": {
      "image/png": "[encoded data removed]",
      "text/plain": [
       "<Figure size 1224x432 with 1 Axes>"
      ]
     },
     "metadata": {},
     "output_type": "display_data"
    }
   ],
   "source": [
    "plt.figure(figsize=(17,6))\n",
    "# plot baseline and predictions\n",
    "plt.plot(scaler.inverse_transform(dataset))\n",
    "# ploteamos linea base y predicciones\n",
    "plt.plot(trainPredictPlot,'r', linewidth = 2)\n",
    "plt.plot(testPredictPlot,'m', linewidth = 2)\n",
    "plt.legend( ('Datos', 'Prediccion datos entramiento', 'Prediccion sobre los datos de test'), loc = 'upper left')\n",
    "plt.grid(True)\n",
    "plt.title(\"Datos sobre pasajeros por mes desde 1949 a 1960\", fontsize = 15)\n",
    "plt.xlabel(\"Tiempo (nº meses)\", fontsize = 10)\n",
    "plt.ylabel(\"nº de pasajeros\", fontsize = 10)\n",
    "plt.show()"
   ]
  },
  {
   "cell_type": "code",
   "execution_count": 15,
   "metadata": {},
   "outputs": [
    {
     "data": {
      "text/plain": [
       "<matplotlib.collections.PathCollection at 0x19690c54908>"
      ]
     },
     "execution_count": 15,
     "metadata": {},
     "output_type": "execute_result"
    },
    {
     "data": {
      "image/png": "[encoded data removed]",
      "text/plain": [
       "<Figure size 432x288 with 1 Axes>"
      ]
     },
     "metadata": {},
     "output_type": "display_data"
    }
   ],
   "source": [
    "plt.scatter(testPredict,testY)"
   ]
  },
  {
   "cell_type": "markdown",
   "metadata": {},
   "source": [
    "Resultado del entrenamiento: 23.34 RMSE\n",
    "Resultado del test: 47.56 RMSE\n",
    "\n",
    "- bidireccional:\n",
    "Resultado del entrenamiento: 22.85 RMSE\n",
    "Resultado del test: 48.85 RMSE\n"
   ]
  }
 ],
 "metadata": {
  "kernelspec": {
   "display_name": "Python 3",
   "language": "python",
   "name": "python3"
  },
  "language_info": {
   "codemirror_mode": {
    "name": "ipython",
    "version": 3
   },
   "file_extension": ".py",
   "mimetype": "text/x-python",
   "name": "python",
   "nbconvert_exporter": "python",
   "pygments_lexer": "ipython3",
   "version": "3.6.5"
  }
 },
 "nbformat": 4,
 "nbformat_minor": 2
}
