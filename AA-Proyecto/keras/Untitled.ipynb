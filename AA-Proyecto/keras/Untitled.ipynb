{
 "cells": [
  {
   "cell_type": "code",
   "execution_count": 7,
   "metadata": {},
   "outputs": [
    {
     "name": "stdout",
     "output_type": "stream",
     "text": [
      "hey cat there hey cat dog there hey cat dog mouse there "
     ]
    }
   ],
   "source": [
    "strst = [' cat', ' dog', ' mouse']\n",
    "strinc = ''\n",
    "strinc \n",
    "for i in strst:\n",
    "    strinc = strinc + i\n",
    "    print('Hey'+strinc+' there', end =\" \")"
   ]
  }
 ],
 "metadata": {
  "kernelspec": {
   "display_name": "Python 3",
   "language": "python",
   "name": "python3"
  },
  "language_info": {
   "codemirror_mode": {
    "name": "ipython",
    "version": 3
   },
   "file_extension": ".py",
   "mimetype": "text/x-python",
   "name": "python",
   "nbconvert_exporter": "python",
   "pygments_lexer": "ipython3",
   "version": "3.6.5"
  }
 },
 "nbformat": 4,
 "nbformat_minor": 2
}
