{
 "cells": [
  {
   "cell_type": "markdown",
   "metadata": {},
   "source": [
    "# Importa los módulos necesarios y establece configuraciones"
   ]
  },
  {
   "cell_type": "code",
   "execution_count": null,
   "metadata": {},
   "outputs": [],
   "source": [
    "import pandas as pd\n",
    "import numpy as np\n",
    "import matplotlib.pyplot as plt\n",
    "import funs\n",
    "import seaborn as sns\n",
    "import plotly.plotly as py\n",
    "from plotly.graph_objs import *\n",
    "from plotly.offline import download_plotlyjs, init_notebook_mode, plot, iplot\n",
    "from sklearn.preprocessing import StandardScaler\n",
    "init_notebook_mode(connected=True)\n",
    "pd.options.display.max_rows = 10"
   ]
  },
  {
   "cell_type": "markdown",
   "metadata": {},
   "source": [
    "## Importa el .csv que contiene las mediciones de todos los nodos"
   ]
  },
  {
   "cell_type": "code",
   "execution_count": null,
   "metadata": {},
   "outputs": [],
   "source": [
    "df = pd.read_csv('all_nodos.csv')\n",
    "df"
   ]
  },
  {
   "cell_type": "markdown",
   "metadata": {},
   "source": [
    "## Suprime las columnas que no se necesitan"
   ]
  },
  {
   "cell_type": "code",
   "execution_count": null,
   "metadata": {},
   "outputs": [],
   "source": [
    "try:\n",
    "    df.drop(columns=['T_NODO', 'TRY', 'FECHA', 'Carga', 'RSSI', 'T_SERVIDOR', 'TIPO_Nodo'], inplace = True)\n",
    "except KeyError:\n",
    "    pass\n",
    "df"
   ]
  },
  {
   "cell_type": "markdown",
   "metadata": {},
   "source": [
    "## Atrasa la columna HORA del mes mayo en tres unidades, la hora estaba adelantada para esos registros"
   ]
  },
  {
   "cell_type": "code",
   "execution_count": null,
   "metadata": {},
   "outputs": [],
   "source": [
    "ind_rem = [[x,int(df.HORA[x])-3] for x in range(len(df)) if df.MES[x] < 6]\n",
    "df.loc[pd.DataFrame(ind_rem).iloc[:,0],'HORA'] = pd.DataFrame(ind_rem).iloc[:,1].values\n",
    "ind_rem = [[x, df.HORA[x]+24,df.DIA[x]-1] for x in range(len(df)) if df.HORA[x]<0]\n",
    "df.loc[pd.DataFrame(ind_rem).iloc[:,0],'HORA'] = pd.DataFrame(ind_rem).iloc[:,1].values\n",
    "df.loc[pd.DataFrame(ind_rem).iloc[:,0],'DIA'] = pd.DataFrame(ind_rem).iloc[:,2].values"
   ]
  },
  {
   "cell_type": "markdown",
   "metadata": {},
   "source": [
    "## Cambia los nombres de las columnas"
   ]
  },
  {
   "cell_type": "code",
   "execution_count": null,
   "metadata": {},
   "outputs": [],
   "source": [
    "old_names = ['id_Variable','id_nodo','Temperatura','Humedad','Hum. Tierra','Nivel_UV','INT. LUMÍN'] \n",
    "new_names = ['id_Variable','NODO','TEMPERATURA','HUMEDAD RELATIVA','HUMEDAD DE LA TIERRA','NIVEL UV','INTENSIDAD LUMÍNICA']\n",
    "df.rename(columns=dict(zip(old_names, new_names)), inplace=True)\n",
    "df"
   ]
  },
  {
   "cell_type": "markdown",
   "metadata": {},
   "source": [
    "## Se introduce un cero antes de las unidades de las columnas MES, DIA, HORA, MINUTO"
   ]
  },
  {
   "cell_type": "code",
   "execution_count": null,
   "metadata": {},
   "outputs": [],
   "source": [
    "ind_rem = {}\n",
    "for i in ['MES','DIA','HORA','MINUTO']:\n",
    "    ind_rem[i] = [[x,'0'+str(df[i][x])] for x in range(len(df)) if df[i][x] < 10]\n",
    "    df.loc[pd.DataFrame(ind_rem[i]).iloc[:,0],i] = pd.DataFrame(ind_rem[i]).iloc[:,1].values\n",
    "df"
   ]
  },
  {
   "cell_type": "markdown",
   "metadata": {},
   "source": [
    "## Se crea una columna con la estrucutura AÑO+MES+DIA+HORA+MINUTO"
   ]
  },
  {
   "cell_type": "code",
   "execution_count": null,
   "metadata": {},
   "outputs": [],
   "source": [
    "df['TIME'] = [str(df.AÑO[i])+str(df.MES[i])+str(df.DIA[i])+str(df.HORA[i])+str(df.MINUTO[i]) for i in range(len(df))]\n",
    "df.TIME"
   ]
  },
  {
   "cell_type": "markdown",
   "metadata": {},
   "source": [
    "## Convierte la columna TIME al fomato Timestamp"
   ]
  },
  {
   "cell_type": "code",
   "execution_count": null,
   "metadata": {},
   "outputs": [],
   "source": [
    "df['TIME'] = [pd.Timestamp(x) for x in df['TIME']]\n",
    "df"
   ]
  },
  {
   "cell_type": "markdown",
   "metadata": {},
   "source": [
    "## Suprime las columnas que no se van a utilizar"
   ]
  },
  {
   "cell_type": "code",
   "execution_count": null,
   "metadata": {},
   "outputs": [],
   "source": [
    "try:\n",
    "    df.drop(columns = ['id_Variable','AÑO','MES','DIA','MINUTO'], inplace = True)\n",
    "except KeyError:\n",
    "    pass"
   ]
  },
  {
   "cell_type": "markdown",
   "metadata": {},
   "source": [
    "## Elimina los elementos de df anteriores al registro 2882, correspondientes a pruebas"
   ]
  },
  {
   "cell_type": "code",
   "execution_count": null,
   "metadata": {},
   "outputs": [],
   "source": [
    "if len(df) == 50501:\n",
    "    df = df.iloc[2822::,:].reset_index(drop = True)"
   ]
  },
  {
   "cell_type": "code",
   "execution_count": null,
   "metadata": {},
   "outputs": [],
   "source": [
    "df.index = df.TIME\n",
    "df.drop(columns = 'TIME', inplace = True)\n",
    "df"
   ]
  },
  {
   "cell_type": "markdown",
   "metadata": {},
   "source": [
    "## Mormaliza las variables"
   ]
  },
  {
   "cell_type": "code",
   "execution_count": null,
   "metadata": {},
   "outputs": [],
   "source": [
    "df2 = StandardScaler().fit_transform(df.iloc[:,1:6])\n",
    "df2 = pd.DataFrame(df2)\n",
    "df2.columns = df.iloc[:,1:6].columns\n",
    "df2.index = df.index\n",
    "df.iloc[:,1:6] = df2\n",
    "df"
   ]
  },
  {
   "cell_type": "code",
   "execution_count": null,
   "metadata": {},
   "outputs": [],
   "source": [
    "# convierte a entero los registros de la columna HORA\n",
    "df.HORA = [int(df.HORA[x]) for x in range(len(df))]"
   ]
  },
  {
   "cell_type": "code",
   "execution_count": null,
   "metadata": {},
   "outputs": [],
   "source": [
    "n = df.NODO.value_counts()\n",
    "# imprime los nodos contenidos en df y la cantidad de registros que posee\n",
    "print(n)\n",
    "nodos  = n.index.tolist()"
   ]
  },
  {
   "cell_type": "markdown",
   "metadata": {},
   "source": [
    "## Separa los nodos"
   ]
  },
  {
   "cell_type": "code",
   "execution_count": null,
   "metadata": {},
   "outputs": [],
   "source": [
    "tablas = {}\n",
    "for i in nodos:\n",
    "    tablas[i] = (df.query('NODO == %s' %i)).copy()#.reset_index(drop=False))\n",
    "    \n",
    "tabla = []\n",
    "for i in nodos:\n",
    "    tabla_nodo = df.query('NODO == %s' %i).copy()#.reset_index(drop=False)\n",
    "    tabla_nodo.columns = [j+str(tabla_nodo.NODO[0]) for j in tabla_nodo.columns]\n",
    "    tabla_nodo.drop(columns = ['NODO%s'%i],inplace=True)\n",
    "    tabla.append(tabla_nodo)"
   ]
  },
  {
   "cell_type": "markdown",
   "metadata": {},
   "source": [
    "## Realiza una gráfica interactiva de valores medidos por un nodo\n",
    "\n",
    "### \"tablas\" es un diccionario de DFs. Para acceder al DF correspondiente a cada nodo se hace tabla[nodo], tabla[2] (nodo 2).\n",
    "#### Cada DF tiene 7 columnas:\n",
    "0 - TEMPERATURA  \n",
    "1 - HUMEDAD RELATIVA  \n",
    "2 - HUMEDAD DE LA TIERRA  \n",
    "3 - HUMEDAD DE LA TIERRA  \n",
    "4 - NIVEL UV  \n",
    "5 - INTENSIDAD LUMÍNICA  \n",
    "6 - HORA  \n",
    "7 - TIME  "
   ]
  },
  {
   "cell_type": "code",
   "execution_count": null,
   "metadata": {},
   "outputs": [],
   "source": [
    "for nodo in nodos:\n",
    "    data = ([{'x': tablas[nodo].index,'y': tablas[nodo][col],'name': col}\n",
    "             for col in tablas[nodo].columns[1:6]])\n",
    "    layout = dict(title = 'NODO %s' %nodo,\n",
    "                  yaxis = dict(title = 'MAGNITUD'),\n",
    "                  xaxis = dict(title = 'FECHA')\n",
    "                 )\n",
    "    fig = dict(data=data, layout=layout)\n",
    "    iplot(fig,layout)"
   ]
  },
  {
   "cell_type": "markdown",
   "metadata": {},
   "source": [
    "## Se presentan los periodos de medición observados para cada nodo, calculados para separaciones de más de 60 minutos entre los registros\n"
   ]
  },
  {
   "cell_type": "code",
   "execution_count": null,
   "metadata": {},
   "outputs": [],
   "source": [
    "# Aplica la función separa_nodos, que calcula el tamaño de los dataframes entre periodos de medición con separación #edge\"\n",
    "for i in nodos:\n",
    "    print('NODO %s' %i)\n",
    "    print(funs.separa_datos(tablas[i],60))\n",
    "    \n",
    "                    "
   ]
  },
  {
   "cell_type": "markdown",
   "metadata": {},
   "source": [
    "## Apartir de la información anterior se tiene que:  \n",
    "- ### los nodos 2, 3, 5 estuvieron funcionando en tres periodos de tiempo consecutivos.\n",
    "### Dicha simultaneidad se presenta mayormente entre las fechas:  \n",
    "- 2018-05-09 10:26:00 2018-05-10 14:37:00  \n",
    "- 2018-05-23 10:09:00 2018-05-26 07:01:00  \n",
    "- 2018-06-05 10:22:00 2018-06-08 18:40:00\n",
    "- ### El nodo 8 comenzó a funcionar desde el 24 de mayo y apartir de ese peridodo sus mediciones concuerdan con algunos periodos de medición de los nodos 2, 3 y 5.  \n",
    "  \n",
    "### la simultaneidad  de mayor rango se presenta entre las fechas:\n",
    "- 2018-05-24 09:42:00 2018-05-26 07:01:00  \n",
    "- ### Los nodos 6 y 8 presentan la menor cantidad de registros y se encuentran en fechas dispares a las de los demás nodos."
   ]
  },
  {
   "cell_type": "markdown",
   "metadata": {},
   "source": [
    "## Concatena los DFs contenidos en tabla"
   ]
  },
  {
   "cell_type": "code",
   "execution_count": null,
   "metadata": {},
   "outputs": [],
   "source": [
    "tabla = pd.concat(tabla).sort_index()\n",
    "tabla"
   ]
  },
  {
   "cell_type": "markdown",
   "metadata": {},
   "source": [
    "## Ordena las columnas por orden alfabético"
   ]
  },
  {
   "cell_type": "code",
   "execution_count": null,
   "metadata": {},
   "outputs": [],
   "source": [
    "tabla = tabla.reindex(columns = sorted(tabla.columns))"
   ]
  },
  {
   "cell_type": "markdown",
   "metadata": {},
   "source": [
    "## Matrices de correlación entre variables de diferentes nodos"
   ]
  },
  {
   "cell_type": "code",
   "execution_count": null,
   "metadata": {
    "scrolled": false
   },
   "outputs": [],
   "source": [
    "tcorr = tabla.corr()\n",
    "for i in range(0,len(tcorr),6):\n",
    "    for j in range(0,len(tcorr),6):\n",
    "        sns.heatmap(tcorr[i:i+6].iloc[:,j:j+6], annot=True, cmap='RdYlGn',fmt=\".2f\")\n",
    "        plt.show()"
   ]
  },
  {
   "cell_type": "code",
   "execution_count": null,
   "metadata": {},
   "outputs": [],
   "source": [
    "# presentación gráfica de las variables entre los nodos, pero con matplotlib :v\n",
    "# nodos = 2;3;4;5;6;8\n",
    "for nodo in nodos:\n",
    "    ejey = tablas[nodo].columns[1:6]\n",
    "    tablas[nodo].plot(y = ejey, figsize=[20,5],title='Nodo %d'%nodo)\n",
    "    plt.tight_layout()"
   ]
  },
  {
   "cell_type": "code",
   "execution_count": null,
   "metadata": {},
   "outputs": [],
   "source": [
    "# grafica una variable para dos nodos y calcula la correlación de los dos nodos respecto a esa variable.\n",
    "variable = tablas[2].columns[1]\n",
    "plt.figure(figsize = [20,5])\n",
    "nodo1 = 6\n",
    "nodo2 = 8\n",
    "for nodo in [nodo1, nodo2]:\n",
    "    plt.plot(tablas[nodo].TIME,tablas[nodo][variable])\n",
    "ncorr = pd.concat([tablas[nodo1].TEMPERATURA,tablas[nodo2].TEMPERATURA],axis=1).corr()\n",
    "corr = ncorr.values[1][0]\n",
    "plt.title('%s DE LOS NODOS %d Y %d'%(variable, nodo1, nodo2))\n",
    "print('CORRELACIÓN DE %s EN LOS NODOS %d Y %d: %s'%(variable, nodo1,nodo2,corr))"
   ]
  }
 ],
 "metadata": {
  "kernelspec": {
   "display_name": "Python 3",
   "language": "python",
   "name": "python3"
  },
  "language_info": {
   "codemirror_mode": {
    "name": "ipython",
    "version": 3
   },
   "file_extension": ".py",
   "mimetype": "text/x-python",
   "name": "python",
   "nbconvert_exporter": "python",
   "pygments_lexer": "ipython3",
   "version": "3.6.5"
  }
 },
 "nbformat": 4,
 "nbformat_minor": 2
}
