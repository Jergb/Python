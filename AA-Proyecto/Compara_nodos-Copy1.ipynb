{
 "cells": [
  {
   "cell_type": "markdown",
   "metadata": {},
   "source": [
    "# Compara nodos para saber cuál es el que presenta los mejores datos para cada valriable y qué periodo de tiempo corresponden"
   ]
  },
  {
   "cell_type": "code",
   "execution_count": null,
   "metadata": {},
   "outputs": [],
   "source": [
    "import pandas as pd\n",
    "import matplotlib.pyplot as plt\n",
    "import pandas as pd\n",
    "import funs\n",
    "import seaborn as sns\n",
    "import plotly.plotly as py\n",
    "from plotly.graph_objs import *\n",
    "from plotly.offline import download_plotlyjs, init_notebook_mode, plot, iplot\n",
    "init_notebook_mode(connected=True)"
   ]
  },
  {
   "cell_type": "markdown",
   "metadata": {},
   "source": [
    "### Lee los nodos en un diccionario de dataframes"
   ]
  },
  {
   "cell_type": "code",
   "execution_count": null,
   "metadata": {},
   "outputs": [],
   "source": [
    "tablas={}\n",
    "for nodo in [2,3,4,5,6,8]:\n",
    "    tablas[nodo] = pd.read_csv('medidas_nodo%s'%nodo,parse_dates=True,index_col=0)"
   ]
  },
  {
   "cell_type": "markdown",
   "metadata": {},
   "source": [
    "### Grafica los valores de las variables de cada nodo en gráficas interactivas"
   ]
  },
  {
   "cell_type": "code",
   "execution_count": null,
   "metadata": {
    "scrolled": false
   },
   "outputs": [],
   "source": [
    "for nodo in [2,3,4,5,6,8]:\n",
    "    data = ([{'x': tablas[nodo].index,'y': tablas[nodo][col],'name': col}\n",
    "             for col in tablas[nodo].columns[0:4]])\n",
    "    layout = dict(title = 'NODO %s' %nodo,\n",
    "                  yaxis = dict(title = '°C, %RH, %Pw, Nivel UV'),\n",
    "                  xaxis = dict(title = 'FECHA')\n",
    "                 )\n",
    "    fig = dict(data=data, layout=layout)\n",
    "    iplot(fig,layout)"
   ]
  },
  {
   "cell_type": "markdown",
   "metadata": {},
   "source": [
    "### Aplica funs.separa, obtine para cada nodo una lista de DF con los registros obtenidos entre periodos de medición con separación de más de t minutos"
   ]
  },
  {
   "cell_type": "code",
   "execution_count": null,
   "metadata": {},
   "outputs": [],
   "source": [
    "# Aplica la función separa_nodos, que calcula el tamaño de los dataframes entre periodos de medición con separación #edge\"\n",
    "t = 60 * 24\n",
    "nodo, periodos = {}, {}\n",
    "for i in [2,3,4,5,6,8]:\n",
    "    nodo[i], periodos[i] = funs.separa_datos(tablas[i],t)"
   ]
  },
  {
   "cell_type": "markdown",
   "metadata": {},
   "source": [
    "### Se obtiene la cantidad de divisiones realizadas para un nodo, el rango de los datos y su tamaño"
   ]
  },
  {
   "cell_type": "code",
   "execution_count": null,
   "metadata": {},
   "outputs": [],
   "source": [
    "periodos[2]"
   ]
  },
  {
   "cell_type": "code",
   "execution_count": null,
   "metadata": {},
   "outputs": [],
   "source": [
    "periodos[3]"
   ]
  },
  {
   "cell_type": "code",
   "execution_count": null,
   "metadata": {},
   "outputs": [],
   "source": [
    "periodos[4]"
   ]
  },
  {
   "cell_type": "code",
   "execution_count": null,
   "metadata": {},
   "outputs": [],
   "source": [
    "periodos[5]"
   ]
  },
  {
   "cell_type": "code",
   "execution_count": null,
   "metadata": {},
   "outputs": [],
   "source": [
    "periodos[6]"
   ]
  },
  {
   "cell_type": "code",
   "execution_count": null,
   "metadata": {},
   "outputs": [],
   "source": [
    "periodos[8]"
   ]
  },
  {
   "cell_type": "markdown",
   "metadata": {},
   "source": [
    "### Grafica el periodo de medicición escogido"
   ]
  },
  {
   "cell_type": "code",
   "execution_count": null,
   "metadata": {},
   "outputs": [],
   "source": [
    "T = 0\n",
    "for i in [2,3,4,5,6,8]:\n",
    "    nodo[i][T].iloc[:,0:4].plot(figsize=[20,5])\n",
    "    plt.title('NODO %s'%i)\n",
    "    plt.xlabel('FECHA')\n",
    "    plt.ylabel('°C, %RH, %Pw, Nivel UV')\n",
    "    # Nodos que presentan mediciones por más de un día con comportamiento similar al obervado en \n",
    "    # otros nodos\n",
    "    #primer periodo nodos 2, 3 y 5\n",
    "    # Segundo periodo nodos 2, 3 y 5\n",
    "    # Tercer periodo 2, 3 y 5\n",
    "    # Cuarto periodo: ninguno"
   ]
  },
  {
   "cell_type": "code",
   "execution_count": null,
   "metadata": {},
   "outputs": [],
   "source": [
    "periodos[2][1:3]"
   ]
  },
  {
   "cell_type": "code",
   "execution_count": null,
   "metadata": {},
   "outputs": [],
   "source": [
    "periodos[3][1:3]"
   ]
  },
  {
   "cell_type": "code",
   "execution_count": null,
   "metadata": {},
   "outputs": [],
   "source": [
    "periodos[5][1:3]"
   ]
  },
  {
   "cell_type": "code",
   "execution_count": null,
   "metadata": {
    "scrolled": false
   },
   "outputs": [],
   "source": [
    "# Presenta los registros del segundo periodo de medición de los nodos 2, 3 y 5 \n",
    "T = 1\n",
    "mag = {0:'°C', 1:'%RH', 2:'%Pw', 3:'Nivel UV', 4:'lx'}\n",
    "for i in range(5):\n",
    "    plt.figure(figsize=[20,5])\n",
    "    plt.title('%s DE LOS NODODS 2, 3 y 5 DURANTE EL PERIODO DE MEDICIÓN #%d'%(nodo[2][0].columns[i],T+1))\n",
    "    plt.xlabel('FECHA')\n",
    "    plt.ylabel(mag[i])\n",
    "    plt.plot(nodo[2][0].iloc[:,i],label='NODO 2')\n",
    "    plt.plot(nodo[3][0].iloc[:,i],label='NODO 3')\n",
    "    plt.plot(nodo[5][0].iloc[:,i],label='NODO 5')\n",
    "    plt.legend()"
   ]
  },
  {
   "cell_type": "code",
   "execution_count": null,
   "metadata": {},
   "outputs": [],
   "source": [
    "# Presenta los registros del tercer periodo de los nodos 2, 3 y 5 \n",
    "T = 2\n",
    "mag = {0:'°C', 1:'%RH', 2:'%Pw', 3:'Nivel UV', 4:'lx'}\n",
    "for i in range(5):\n",
    "    plt.figure(figsize=[20,5])\n",
    "    plt.title('%s DE LOS NODODS 2, 3 y 5 DURANTE EL PERIODO DE MEDICIÓN #%d'%(nodo[2][0].columns[i],T+1))\n",
    "    plt.xlabel('FECHA')\n",
    "    plt.ylabel(mag[i])\n",
    "    plt.plot(nodo[2][1].iloc[:,i],label='NODO 2')\n",
    "    plt.plot(nodo[3][1].iloc[:,i],label='NODO 3')\n",
    "    plt.plot(nodo[5][1].iloc[:,i],label='NODO 5')\n",
    "    plt.legend()"
   ]
  }
 ],
 "metadata": {
  "kernelspec": {
   "display_name": "Python 3",
   "language": "python",
   "name": "python3"
  },
  "language_info": {
   "codemirror_mode": {
    "name": "ipython",
    "version": 3
   },
   "file_extension": ".py",
   "mimetype": "text/x-python",
   "name": "python",
   "nbconvert_exporter": "python",
   "pygments_lexer": "ipython3",
   "version": "3.6.5"
  }
 },
 "nbformat": 4,
 "nbformat_minor": 2
}
