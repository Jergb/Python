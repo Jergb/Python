{
 "cells": [
  {
   "cell_type": "markdown",
   "metadata": {},
   "source": [
    "## Vamo a importar los datos"
   ]
  },
  {
   "cell_type": "code",
   "execution_count": 1,
   "metadata": {},
   "outputs": [],
   "source": [
    "import numpy as np\n",
    "import pandas as pd\n",
    "temp = pd.read_csv('nodo2_periodo3.csv')#,parse_dates=True,index_col=0)"
   ]
  },
  {
   "cell_type": "code",
   "execution_count": 2,
   "metadata": {},
   "outputs": [
    {
     "data": {
      "text/html": [
       "<div>\n",
       "<style scoped>\n",
       "    .dataframe tbody tr th:only-of-type {\n",
       "        vertical-align: middle;\n",
       "    }\n",
       "\n",
       "    .dataframe tbody tr th {\n",
       "        vertical-align: top;\n",
       "    }\n",
       "\n",
       "    .dataframe thead th {\n",
       "        text-align: right;\n",
       "    }\n",
       "</style>\n",
       "<table border=\"1\" class=\"dataframe\">\n",
       "  <thead>\n",
       "    <tr style=\"text-align: right;\">\n",
       "      <th></th>\n",
       "      <th>Unnamed: 0</th>\n",
       "      <th>HUMEDAD DE LA TIERRA</th>\n",
       "      <th>HUMEDAD RELATIVA</th>\n",
       "      <th>INTENSIDAD LUMÍNICA</th>\n",
       "      <th>TEMPERATURA</th>\n",
       "    </tr>\n",
       "  </thead>\n",
       "  <tbody>\n",
       "    <tr>\n",
       "      <th>0</th>\n",
       "      <td>2018-06-05 14:41:00</td>\n",
       "      <td>6.11</td>\n",
       "      <td>16.0</td>\n",
       "      <td>5841.0</td>\n",
       "      <td>34.0</td>\n",
       "    </tr>\n",
       "    <tr>\n",
       "      <th>1</th>\n",
       "      <td>2018-06-05 14:42:00</td>\n",
       "      <td>6.11</td>\n",
       "      <td>16.0</td>\n",
       "      <td>5847.0</td>\n",
       "      <td>34.0</td>\n",
       "    </tr>\n",
       "    <tr>\n",
       "      <th>2</th>\n",
       "      <td>2018-06-05 14:43:00</td>\n",
       "      <td>6.11</td>\n",
       "      <td>16.0</td>\n",
       "      <td>5841.0</td>\n",
       "      <td>34.0</td>\n",
       "    </tr>\n",
       "    <tr>\n",
       "      <th>3</th>\n",
       "      <td>2018-06-05 14:44:00</td>\n",
       "      <td>5.95</td>\n",
       "      <td>16.0</td>\n",
       "      <td>5841.0</td>\n",
       "      <td>34.0</td>\n",
       "    </tr>\n",
       "    <tr>\n",
       "      <th>4</th>\n",
       "      <td>2018-06-05 14:45:00</td>\n",
       "      <td>5.95</td>\n",
       "      <td>16.0</td>\n",
       "      <td>5841.0</td>\n",
       "      <td>34.0</td>\n",
       "    </tr>\n",
       "  </tbody>\n",
       "</table>\n",
       "</div>"
      ],
      "text/plain": [
       "            Unnamed: 0  HUMEDAD DE LA TIERRA  HUMEDAD RELATIVA  \\\n",
       "0  2018-06-05 14:41:00                  6.11              16.0   \n",
       "1  2018-06-05 14:42:00                  6.11              16.0   \n",
       "2  2018-06-05 14:43:00                  6.11              16.0   \n",
       "3  2018-06-05 14:44:00                  5.95              16.0   \n",
       "4  2018-06-05 14:45:00                  5.95              16.0   \n",
       "\n",
       "   INTENSIDAD LUMÍNICA  TEMPERATURA  \n",
       "0               5841.0         34.0  \n",
       "1               5847.0         34.0  \n",
       "2               5841.0         34.0  \n",
       "3               5841.0         34.0  \n",
       "4               5841.0         34.0  "
      ]
     },
     "execution_count": 2,
     "metadata": {},
     "output_type": "execute_result"
    }
   ],
   "source": [
    "temp.head()"
   ]
  },
  {
   "cell_type": "code",
   "execution_count": 3,
   "metadata": {},
   "outputs": [
    {
     "data": {
      "text/plain": [
       "0    34.0\n",
       "1    34.0\n",
       "2    34.0\n",
       "3    34.0\n",
       "4    34.0\n",
       "Name: TEMPERATURA, dtype: float64"
      ]
     },
     "metadata": {},
     "output_type": "display_data"
    },
    {
     "data": {
      "text/plain": [
       "4554    26.0\n",
       "4555    26.0\n",
       "4556    26.0\n",
       "4557    26.0\n",
       "4558    26.0\n",
       "Name: TEMPERATURA, dtype: float64"
      ]
     },
     "metadata": {},
     "output_type": "display_data"
    }
   ],
   "source": [
    "yt = temp.iloc[:,4]\n",
    "display(yt.head())\n",
    "display(yt.tail())"
   ]
  },
  {
   "cell_type": "code",
   "execution_count": 4,
   "metadata": {},
   "outputs": [
    {
     "data": {
      "text/plain": [
       "Text(0.5,1,' Partial autocorrelation function for Monthly Sunspots')"
      ]
     },
     "execution_count": 4,
     "metadata": {},
     "output_type": "execute_result"
    }
   ],
   "source": [
    "from statsmodels.tsa.stattools import pacf\n",
    "import matplotlib.pyplot as plt\n",
    "x_pacf = pacf(yt, nlags=30, method='ols')\n",
    "plt.plot(x_pacf)\n",
    "plt.plot(len(x_pacf)*[0],'--')\n",
    "plt.title(' Partial autocorrelation function for Monthly Sunspots')"
   ]
  },
  {
   "cell_type": "markdown",
   "metadata": {},
   "source": [
    "For our model we use 5 time lags of the data."
   ]
  },
  {
   "cell_type": "code",
   "execution_count": 5,
   "metadata": {},
   "outputs": [],
   "source": [
    "yt_1=yt.shift(1)\n",
    "yt_2=yt.shift(2)\n",
    "yt_3=yt.shift(3)\n",
    "yt_4=yt.shift(4)\n",
    "yt_5=yt.shift(5)"
   ]
  },
  {
   "cell_type": "code",
   "execution_count": 6,
   "metadata": {},
   "outputs": [
    {
     "data": {
      "text/html": [
       "<div>\n",
       "<style scoped>\n",
       "    .dataframe tbody tr th:only-of-type {\n",
       "        vertical-align: middle;\n",
       "    }\n",
       "\n",
       "    .dataframe tbody tr th {\n",
       "        vertical-align: top;\n",
       "    }\n",
       "\n",
       "    .dataframe thead th {\n",
       "        text-align: right;\n",
       "    }\n",
       "</style>\n",
       "<table border=\"1\" class=\"dataframe\">\n",
       "  <thead>\n",
       "    <tr style=\"text-align: right;\">\n",
       "      <th></th>\n",
       "      <th>yt</th>\n",
       "      <th>yt_1</th>\n",
       "      <th>yt_2</th>\n",
       "      <th>yt_3</th>\n",
       "      <th>yt_4</th>\n",
       "      <th>yt_5</th>\n",
       "    </tr>\n",
       "  </thead>\n",
       "  <tbody>\n",
       "    <tr>\n",
       "      <th>0</th>\n",
       "      <td>34.0</td>\n",
       "      <td>NaN</td>\n",
       "      <td>NaN</td>\n",
       "      <td>NaN</td>\n",
       "      <td>NaN</td>\n",
       "      <td>NaN</td>\n",
       "    </tr>\n",
       "    <tr>\n",
       "      <th>1</th>\n",
       "      <td>34.0</td>\n",
       "      <td>34.0</td>\n",
       "      <td>NaN</td>\n",
       "      <td>NaN</td>\n",
       "      <td>NaN</td>\n",
       "      <td>NaN</td>\n",
       "    </tr>\n",
       "    <tr>\n",
       "      <th>2</th>\n",
       "      <td>34.0</td>\n",
       "      <td>34.0</td>\n",
       "      <td>34.0</td>\n",
       "      <td>NaN</td>\n",
       "      <td>NaN</td>\n",
       "      <td>NaN</td>\n",
       "    </tr>\n",
       "    <tr>\n",
       "      <th>3</th>\n",
       "      <td>34.0</td>\n",
       "      <td>34.0</td>\n",
       "      <td>34.0</td>\n",
       "      <td>34.0</td>\n",
       "      <td>NaN</td>\n",
       "      <td>NaN</td>\n",
       "    </tr>\n",
       "    <tr>\n",
       "      <th>4</th>\n",
       "      <td>34.0</td>\n",
       "      <td>34.0</td>\n",
       "      <td>34.0</td>\n",
       "      <td>34.0</td>\n",
       "      <td>34.0</td>\n",
       "      <td>NaN</td>\n",
       "    </tr>\n",
       "    <tr>\n",
       "      <th>5</th>\n",
       "      <td>34.0</td>\n",
       "      <td>34.0</td>\n",
       "      <td>34.0</td>\n",
       "      <td>34.0</td>\n",
       "      <td>34.0</td>\n",
       "      <td>34.0</td>\n",
       "    </tr>\n",
       "  </tbody>\n",
       "</table>\n",
       "</div>"
      ],
      "text/plain": [
       "     yt  yt_1  yt_2  yt_3  yt_4  yt_5\n",
       "0  34.0   NaN   NaN   NaN   NaN   NaN\n",
       "1  34.0  34.0   NaN   NaN   NaN   NaN\n",
       "2  34.0  34.0  34.0   NaN   NaN   NaN\n",
       "3  34.0  34.0  34.0  34.0   NaN   NaN\n",
       "4  34.0  34.0  34.0  34.0  34.0   NaN\n",
       "5  34.0  34.0  34.0  34.0  34.0  34.0"
      ]
     },
     "metadata": {},
     "output_type": "display_data"
    },
    {
     "data": {
      "text/html": [
       "<div>\n",
       "<style scoped>\n",
       "    .dataframe tbody tr th:only-of-type {\n",
       "        vertical-align: middle;\n",
       "    }\n",
       "\n",
       "    .dataframe tbody tr th {\n",
       "        vertical-align: top;\n",
       "    }\n",
       "\n",
       "    .dataframe thead th {\n",
       "        text-align: right;\n",
       "    }\n",
       "</style>\n",
       "<table border=\"1\" class=\"dataframe\">\n",
       "  <thead>\n",
       "    <tr style=\"text-align: right;\">\n",
       "      <th></th>\n",
       "      <th>yt</th>\n",
       "      <th>yt_1</th>\n",
       "      <th>yt_2</th>\n",
       "      <th>yt_3</th>\n",
       "      <th>yt_4</th>\n",
       "      <th>yt_5</th>\n",
       "    </tr>\n",
       "  </thead>\n",
       "  <tbody>\n",
       "    <tr>\n",
       "      <th>4553</th>\n",
       "      <td>26.0</td>\n",
       "      <td>26.0</td>\n",
       "      <td>26.0</td>\n",
       "      <td>26.0</td>\n",
       "      <td>26.0</td>\n",
       "      <td>26.0</td>\n",
       "    </tr>\n",
       "    <tr>\n",
       "      <th>4554</th>\n",
       "      <td>26.0</td>\n",
       "      <td>26.0</td>\n",
       "      <td>26.0</td>\n",
       "      <td>26.0</td>\n",
       "      <td>26.0</td>\n",
       "      <td>26.0</td>\n",
       "    </tr>\n",
       "    <tr>\n",
       "      <th>4555</th>\n",
       "      <td>26.0</td>\n",
       "      <td>26.0</td>\n",
       "      <td>26.0</td>\n",
       "      <td>26.0</td>\n",
       "      <td>26.0</td>\n",
       "      <td>26.0</td>\n",
       "    </tr>\n",
       "    <tr>\n",
       "      <th>4556</th>\n",
       "      <td>26.0</td>\n",
       "      <td>26.0</td>\n",
       "      <td>26.0</td>\n",
       "      <td>26.0</td>\n",
       "      <td>26.0</td>\n",
       "      <td>26.0</td>\n",
       "    </tr>\n",
       "    <tr>\n",
       "      <th>4557</th>\n",
       "      <td>26.0</td>\n",
       "      <td>26.0</td>\n",
       "      <td>26.0</td>\n",
       "      <td>26.0</td>\n",
       "      <td>26.0</td>\n",
       "      <td>26.0</td>\n",
       "    </tr>\n",
       "    <tr>\n",
       "      <th>4558</th>\n",
       "      <td>26.0</td>\n",
       "      <td>26.0</td>\n",
       "      <td>26.0</td>\n",
       "      <td>26.0</td>\n",
       "      <td>26.0</td>\n",
       "      <td>26.0</td>\n",
       "    </tr>\n",
       "  </tbody>\n",
       "</table>\n",
       "</div>"
      ],
      "text/plain": [
       "        yt  yt_1  yt_2  yt_3  yt_4  yt_5\n",
       "4553  26.0  26.0  26.0  26.0  26.0  26.0\n",
       "4554  26.0  26.0  26.0  26.0  26.0  26.0\n",
       "4555  26.0  26.0  26.0  26.0  26.0  26.0\n",
       "4556  26.0  26.0  26.0  26.0  26.0  26.0\n",
       "4557  26.0  26.0  26.0  26.0  26.0  26.0\n",
       "4558  26.0  26.0  26.0  26.0  26.0  26.0"
      ]
     },
     "metadata": {},
     "output_type": "display_data"
    }
   ],
   "source": [
    "data = pd.concat([yt,yt_1,yt_2,yt_3,yt_4,yt_5],axis =1)\n",
    "data.columns = ['yt', 'yt_1', 'yt_2', 'yt_3', 'yt_4', 'yt_5']\n",
    "display(data.head(6))\n",
    "display(data.tail(6))"
   ]
  },
  {
   "cell_type": "code",
   "execution_count": 7,
   "metadata": {},
   "outputs": [
    {
     "name": "stdout",
     "output_type": "stream",
     "text": [
      "['yt_1', 'yt_2', 'yt_3', 'yt_4', 'yt_5']\n"
     ]
    },
    {
     "data": {
      "text/plain": [
       "5    34.0\n",
       "6    34.0\n",
       "7    34.0\n",
       "8    34.0\n",
       "9    34.0\n",
       "Name: yt, dtype: float64"
      ]
     },
     "metadata": {},
     "output_type": "display_data"
    },
    {
     "data": {
      "text/plain": [
       "4554    26.0\n",
       "4555    26.0\n",
       "4556    26.0\n",
       "4557    26.0\n",
       "4558    26.0\n",
       "Name: yt, dtype: float64"
      ]
     },
     "metadata": {},
     "output_type": "display_data"
    },
    {
     "data": {
      "text/html": [
       "<div>\n",
       "<style scoped>\n",
       "    .dataframe tbody tr th:only-of-type {\n",
       "        vertical-align: middle;\n",
       "    }\n",
       "\n",
       "    .dataframe tbody tr th {\n",
       "        vertical-align: top;\n",
       "    }\n",
       "\n",
       "    .dataframe thead th {\n",
       "        text-align: right;\n",
       "    }\n",
       "</style>\n",
       "<table border=\"1\" class=\"dataframe\">\n",
       "  <thead>\n",
       "    <tr style=\"text-align: right;\">\n",
       "      <th></th>\n",
       "      <th>yt_1</th>\n",
       "      <th>yt_2</th>\n",
       "      <th>yt_3</th>\n",
       "      <th>yt_4</th>\n",
       "      <th>yt_5</th>\n",
       "    </tr>\n",
       "  </thead>\n",
       "  <tbody>\n",
       "    <tr>\n",
       "      <th>5</th>\n",
       "      <td>34.0</td>\n",
       "      <td>34.0</td>\n",
       "      <td>34.0</td>\n",
       "      <td>34.0</td>\n",
       "      <td>34.0</td>\n",
       "    </tr>\n",
       "    <tr>\n",
       "      <th>6</th>\n",
       "      <td>34.0</td>\n",
       "      <td>34.0</td>\n",
       "      <td>34.0</td>\n",
       "      <td>34.0</td>\n",
       "      <td>34.0</td>\n",
       "    </tr>\n",
       "    <tr>\n",
       "      <th>7</th>\n",
       "      <td>34.0</td>\n",
       "      <td>34.0</td>\n",
       "      <td>34.0</td>\n",
       "      <td>34.0</td>\n",
       "      <td>34.0</td>\n",
       "    </tr>\n",
       "    <tr>\n",
       "      <th>8</th>\n",
       "      <td>34.0</td>\n",
       "      <td>34.0</td>\n",
       "      <td>34.0</td>\n",
       "      <td>34.0</td>\n",
       "      <td>34.0</td>\n",
       "    </tr>\n",
       "    <tr>\n",
       "      <th>9</th>\n",
       "      <td>34.0</td>\n",
       "      <td>34.0</td>\n",
       "      <td>34.0</td>\n",
       "      <td>34.0</td>\n",
       "      <td>34.0</td>\n",
       "    </tr>\n",
       "  </tbody>\n",
       "</table>\n",
       "</div>"
      ],
      "text/plain": [
       "   yt_1  yt_2  yt_3  yt_4  yt_5\n",
       "5  34.0  34.0  34.0  34.0  34.0\n",
       "6  34.0  34.0  34.0  34.0  34.0\n",
       "7  34.0  34.0  34.0  34.0  34.0\n",
       "8  34.0  34.0  34.0  34.0  34.0\n",
       "9  34.0  34.0  34.0  34.0  34.0"
      ]
     },
     "metadata": {},
     "output_type": "display_data"
    },
    {
     "data": {
      "text/html": [
       "<div>\n",
       "<style scoped>\n",
       "    .dataframe tbody tr th:only-of-type {\n",
       "        vertical-align: middle;\n",
       "    }\n",
       "\n",
       "    .dataframe tbody tr th {\n",
       "        vertical-align: top;\n",
       "    }\n",
       "\n",
       "    .dataframe thead th {\n",
       "        text-align: right;\n",
       "    }\n",
       "</style>\n",
       "<table border=\"1\" class=\"dataframe\">\n",
       "  <thead>\n",
       "    <tr style=\"text-align: right;\">\n",
       "      <th></th>\n",
       "      <th>yt_1</th>\n",
       "      <th>yt_2</th>\n",
       "      <th>yt_3</th>\n",
       "      <th>yt_4</th>\n",
       "      <th>yt_5</th>\n",
       "    </tr>\n",
       "  </thead>\n",
       "  <tbody>\n",
       "    <tr>\n",
       "      <th>4554</th>\n",
       "      <td>26.0</td>\n",
       "      <td>26.0</td>\n",
       "      <td>26.0</td>\n",
       "      <td>26.0</td>\n",
       "      <td>26.0</td>\n",
       "    </tr>\n",
       "    <tr>\n",
       "      <th>4555</th>\n",
       "      <td>26.0</td>\n",
       "      <td>26.0</td>\n",
       "      <td>26.0</td>\n",
       "      <td>26.0</td>\n",
       "      <td>26.0</td>\n",
       "    </tr>\n",
       "    <tr>\n",
       "      <th>4556</th>\n",
       "      <td>26.0</td>\n",
       "      <td>26.0</td>\n",
       "      <td>26.0</td>\n",
       "      <td>26.0</td>\n",
       "      <td>26.0</td>\n",
       "    </tr>\n",
       "    <tr>\n",
       "      <th>4557</th>\n",
       "      <td>26.0</td>\n",
       "      <td>26.0</td>\n",
       "      <td>26.0</td>\n",
       "      <td>26.0</td>\n",
       "      <td>26.0</td>\n",
       "    </tr>\n",
       "    <tr>\n",
       "      <th>4558</th>\n",
       "      <td>26.0</td>\n",
       "      <td>26.0</td>\n",
       "      <td>26.0</td>\n",
       "      <td>26.0</td>\n",
       "      <td>26.0</td>\n",
       "    </tr>\n",
       "  </tbody>\n",
       "</table>\n",
       "</div>"
      ],
      "text/plain": [
       "      yt_1  yt_2  yt_3  yt_4  yt_5\n",
       "4554  26.0  26.0  26.0  26.0  26.0\n",
       "4555  26.0  26.0  26.0  26.0  26.0\n",
       "4556  26.0  26.0  26.0  26.0  26.0\n",
       "4557  26.0  26.0  26.0  26.0  26.0\n",
       "4558  26.0  26.0  26.0  26.0  26.0"
      ]
     },
     "metadata": {},
     "output_type": "display_data"
    }
   ],
   "source": [
    "data = data.dropna()\n",
    "y = data['yt']\n",
    "cols = ['yt_1','yt_2','yt_3','yt_4','yt_5']\n",
    "print(cols)\n",
    "x = data[cols]\n",
    "display(y.head())\n",
    "display(y.tail())\n",
    "display(x.head())\n",
    "display(x.tail())"
   ]
  },
  {
   "cell_type": "markdown",
   "metadata": {},
   "source": [
    "## Vamo a normalizar los datos"
   ]
  },
  {
   "cell_type": "code",
   "execution_count": 8,
   "metadata": {},
   "outputs": [],
   "source": [
    "from sklearn import preprocessing\n",
    "# scaler para x\n",
    "scaler = preprocessing.MinMaxScaler(feature_range=(-1, 1))"
   ]
  },
  {
   "cell_type": "code",
   "execution_count": 9,
   "metadata": {},
   "outputs": [],
   "source": [
    "# 5 columnas\n",
    "x = np.array(x).reshape((len(x),5))\n",
    "x = scaler.fit_transform(x)"
   ]
  },
  {
   "cell_type": "code",
   "execution_count": 10,
   "metadata": {},
   "outputs": [],
   "source": [
    "# scaler para y\n",
    "scaler_y = preprocessing.MinMaxScaler(feature_range=(-1,1))\n",
    "y = np.array(y).reshape((len(y),1))\n",
    "y = scaler_y.fit_transform(y)"
   ]
  },
  {
   "cell_type": "markdown",
   "metadata": {},
   "source": [
    "# Train and Test Sets"
   ]
  },
  {
   "cell_type": "code",
   "execution_count": 11,
   "metadata": {},
   "outputs": [
    {
     "name": "stdout",
     "output_type": "stream",
     "text": [
      "Shape of x_train is  (3643, 5, 1)\n",
      "Shape of x_test is  (910, 5, 1)\n"
     ]
    }
   ],
   "source": [
    "train_end = int(len(y)*.8)\n",
    "x_train = x[0:train_end,]\n",
    "x_test = x[train_end+1:len(y),]\n",
    "y_train = y[0:train_end]\n",
    "y_test = y[train_end+1:len(y)]\n",
    "x_train = x_train.reshape(x_train.shape+(1,))\n",
    "x_test = x_test.reshape(x_test.shape+(1,))\n",
    "\n",
    "print('Shape of x_train is ', x_train.shape)\n",
    "print('Shape of x_test is ', x_test.shape)"
   ]
  },
  {
   "cell_type": "code",
   "execution_count": 12,
   "metadata": {},
   "outputs": [
    {
     "name": "stderr",
     "output_type": "stream",
     "text": [
      "C:\\Users\\Jergb\\Anaconda3\\lib\\site-packages\\h5py\\__init__.py:36: FutureWarning: Conversion of the second argument of issubdtype from `float` to `np.floating` is deprecated. In future, it will be treated as `np.float64 == np.dtype(float).type`.\n",
      "  from ._conv import register_converters as _register_converters\n",
      "Using TensorFlow backend.\n"
     ]
    }
   ],
   "source": [
    "# importa el modelo secuencial, permite apilar capas de manera lineal\n",
    "from keras.models import Sequential\n",
    "# importa la capa densa, esta es una capa de red neuronal completamente conectada regular\n",
    "# con una función lineal de activación\n",
    "from keras.layers import Dense, Activation\n",
    "# Optimizador de descenso de gradiente estocástico\n",
    "from keras.layers.recurrent import LSTM\n",
    "#import numpy as np"
   ]
  },
  {
   "cell_type": "markdown",
   "metadata": {},
   "source": [
    "## Vamo a definir el modelo"
   ]
  },
  {
   "cell_type": "code",
   "execution_count": 13,
   "metadata": {},
   "outputs": [],
   "source": [
    "# define una semilla para tener resultados repetibles\n",
    "seed = 1161180\n",
    "np.random.seed(seed)\n",
    "# Define el modelo secuencial\n",
    "fit1 = Sequential()\n",
    "# Agrega una capa LSTM con cuatro neuronas, activación tanh, activación interoir hard_sgimoitde\n",
    "# y forma de entrada (5,1)\n",
    "fit1.add(LSTM(units=4,activation='tanh',\n",
    "              recurrent_activation='hard_sigmoid',\n",
    "              input_shape=(5,1)))\n",
    "#Agrega una capa densa con una slida y activación lineal\n",
    "fit1.add(Dense(units=1, activation='linear'))"
   ]
  },
  {
   "cell_type": "code",
   "execution_count": 14,
   "metadata": {},
   "outputs": [],
   "source": [
    "# Define el modelo secuencial\n",
    "fit2 = Sequential()\n",
    "# Agrega una capa LSTM con cuatro neuronas, activación tanh, activación interoir hard_sgimoitde\n",
    "# y forma de entrada (5,1)\n",
    "fit2.add(LSTM(units=4,activation='tanh',\n",
    "              recurrent_activation='hard_sigmoid',\n",
    "              input_shape=(5,1)))\n",
    "#Agrega una capa densa con una slida y activación lineal\n",
    "fit2.add(Dense(units=1, activation='linear'))"
   ]
  },
  {
   "cell_type": "code",
   "execution_count": 15,
   "metadata": {},
   "outputs": [],
   "source": [
    "fit1.compile(loss='mean_squared_error', optimizer='rmsprop')\n",
    "#Ajustar el modelo\n",
    "history1 = fit1.fit(x_train, y_train, batch_size = 1, epochs=10, verbose=0, shuffle=False)"
   ]
  },
  {
   "cell_type": "code",
   "execution_count": 16,
   "metadata": {},
   "outputs": [],
   "source": [
    "fit2.compile(loss='mean_squared_error', optimizer='rmsprop')\n",
    "#Ajustar el modelo\n",
    "history2 = fit2.fit(x_train, y_train, batch_size = 1, epochs=10, verbose=0, shuffle=True)"
   ]
  },
  {
   "cell_type": "code",
   "execution_count": 17,
   "metadata": {},
   "outputs": [],
   "source": [
    "fit3 = Sequential ()\n",
    "# The batch_input_shape takes the batch size (1 in our example), number of attributes \n",
    "#(5 time lagged variables) and number of time steps (1 month forecast).\n",
    "fit3.add(LSTM(units=4,stateful=True,batch_input_shape=(1,5,1),activation='tanh',\n",
    "              recurrent_activation ='hard_sigmoid'))\n",
    "fit3.add(Dense(units=1,activation='linear'))\n",
    "fit3.compile(loss='mean_squared_error',optimizer='rmsprop')"
   ]
  },
  {
   "cell_type": "code",
   "execution_count": 18,
   "metadata": {},
   "outputs": [],
   "source": [
    "fit4 = Sequential ()\n",
    "# The batch_input_shape takes the batch size (1 in our example), number of attributes \n",
    "#(5 time lagged variables) and number of time steps (1 month forecast).\n",
    "fit4.add(LSTM(units=4,stateful=True,batch_input_shape=(1,5,1),activation='tanh',\n",
    "              recurrent_activation ='hard_sigmoid'))\n",
    "fit4.add(Dense(units=1,activation='linear'))\n",
    "fit4.compile(loss='mean_squared_error',optimizer='rmsprop')"
   ]
  },
  {
   "cell_type": "code",
   "execution_count": 19,
   "metadata": {},
   "outputs": [],
   "source": [
    "end_point =len(x_train)\n",
    "start_point =end_point - 50\n",
    "\n",
    "#The model has to be trained one epoch at a time with the\n",
    "#state reset after each epoch\n",
    "\n",
    "history3=[]\n",
    "for i in range(len(x_train[start_point:end_point])):\n",
    "    history3.append(fit3.fit(x_train[start_point:end_point],y_train[start_point:end_point],epochs=1,\n",
    "             batch_size=1,verbose=0,shuffle=False))\n",
    "    fit3.reset_states()\n",
    "    \n",
    "history4=[]\n",
    "for i in range(len(x_train[start_point:end_point])):\n",
    "    history4.append(fit4.fit(x_train[start_point:end_point],y_train[start_point:end_point],epochs=1,\n",
    "             batch_size=1,verbose=0,shuffle=True))\n",
    "    fit4.reset_states()"
   ]
  },
  {
   "cell_type": "code",
   "execution_count": 20,
   "metadata": {},
   "outputs": [],
   "source": [
    "from keras.layers.recurrent import GRU\n",
    "\n",
    "fit5 = Sequential ()\n",
    "#return_sequeinces=False para trabajar con una sola objetivo\n",
    "#Para trabajar con varios objetivos se deja en True\n",
    "fit5.add(GRU(units=4,return_sequences= False,activation='tanh',\n",
    "             recurrent_activation='hard_sigmoid',input_shape=(5,1)))\n",
    "fit5.add(Dense(units=1,activation='linear'))\n",
    "fit5.compile(loss='mean_squared_error',optimizer='rmsprop')"
   ]
  },
  {
   "cell_type": "code",
   "execution_count": 21,
   "metadata": {},
   "outputs": [],
   "source": [
    "history5 = fit5.fit(x_train,y_train,batch_size=1,verbose=0,epochs=10)"
   ]
  },
  {
   "cell_type": "markdown",
   "metadata": {},
   "source": [
    "the\n",
    "model will forecast the next month based on the last 500 rolling\n",
    "months of data:"
   ]
  },
  {
   "cell_type": "markdown",
   "metadata": {},
   "source": [
    "The larger the batch size, the more memory you\n",
    "will need to run the model"
   ]
  },
  {
   "cell_type": "code",
   "execution_count": 22,
   "metadata": {},
   "outputs": [
    {
     "name": "stdout",
     "output_type": "stream",
     "text": [
      "_________________________________________________________________\n",
      "Layer (type)                 Output Shape              Param #   \n",
      "=================================================================\n",
      "lstm_1 (LSTM)                (None, 4)                 96        \n",
      "_________________________________________________________________\n",
      "dense_1 (Dense)              (None, 1)                 5         \n",
      "=================================================================\n",
      "Total params: 101\n",
      "Trainable params: 101\n",
      "Non-trainable params: 0\n",
      "_________________________________________________________________\n"
     ]
    },
    {
     "data": {
      "text/plain": [
       "None"
      ]
     },
     "metadata": {},
     "output_type": "display_data"
    },
    {
     "name": "stdout",
     "output_type": "stream",
     "text": [
      "_________________________________________________________________\n",
      "Layer (type)                 Output Shape              Param #   \n",
      "=================================================================\n",
      "lstm_2 (LSTM)                (None, 4)                 96        \n",
      "_________________________________________________________________\n",
      "dense_2 (Dense)              (None, 1)                 5         \n",
      "=================================================================\n",
      "Total params: 101\n",
      "Trainable params: 101\n",
      "Non-trainable params: 0\n",
      "_________________________________________________________________\n"
     ]
    },
    {
     "data": {
      "text/plain": [
       "None"
      ]
     },
     "metadata": {},
     "output_type": "display_data"
    },
    {
     "name": "stdout",
     "output_type": "stream",
     "text": [
      "_________________________________________________________________\n",
      "Layer (type)                 Output Shape              Param #   \n",
      "=================================================================\n",
      "lstm_3 (LSTM)                (1, 4)                    96        \n",
      "_________________________________________________________________\n",
      "dense_3 (Dense)              (1, 1)                    5         \n",
      "=================================================================\n",
      "Total params: 101\n",
      "Trainable params: 101\n",
      "Non-trainable params: 0\n",
      "_________________________________________________________________\n"
     ]
    },
    {
     "data": {
      "text/plain": [
       "None"
      ]
     },
     "metadata": {},
     "output_type": "display_data"
    },
    {
     "name": "stdout",
     "output_type": "stream",
     "text": [
      "_________________________________________________________________\n",
      "Layer (type)                 Output Shape              Param #   \n",
      "=================================================================\n",
      "lstm_4 (LSTM)                (1, 4)                    96        \n",
      "_________________________________________________________________\n",
      "dense_4 (Dense)              (1, 1)                    5         \n",
      "=================================================================\n",
      "Total params: 101\n",
      "Trainable params: 101\n",
      "Non-trainable params: 0\n",
      "_________________________________________________________________\n"
     ]
    },
    {
     "data": {
      "text/plain": [
       "None"
      ]
     },
     "metadata": {},
     "output_type": "display_data"
    },
    {
     "name": "stdout",
     "output_type": "stream",
     "text": [
      "_________________________________________________________________\n",
      "Layer (type)                 Output Shape              Param #   \n",
      "=================================================================\n",
      "gru_1 (GRU)                  (None, 4)                 72        \n",
      "_________________________________________________________________\n",
      "dense_5 (Dense)              (None, 1)                 5         \n",
      "=================================================================\n",
      "Total params: 77\n",
      "Trainable params: 77\n",
      "Non-trainable params: 0\n",
      "_________________________________________________________________\n"
     ]
    },
    {
     "data": {
      "text/plain": [
       "None"
      ]
     },
     "metadata": {},
     "output_type": "display_data"
    }
   ],
   "source": [
    "display(fit1.summary())\n",
    "display(fit2.summary())\n",
    "display(fit3.summary())\n",
    "display(fit4.summary())\n",
    "display(fit5.summary())"
   ]
  },
  {
   "cell_type": "markdown",
   "metadata": {},
   "source": [
    "# Evaluar el modelo\n",
    "Train and Test MSE\n"
   ]
  },
  {
   "cell_type": "code",
   "execution_count": 23,
   "metadata": {},
   "outputs": [
    {
     "name": "stdout",
     "output_type": "stream",
     "text": [
      "3643/3643 [==============================] - 3s 890us/step\n",
      "910/910 [==============================] - 1s 751us/step\n",
      "in train2 MSE =  0.0185\n",
      "in test2 MSE =  0.02\n",
      "3643/3643 [==============================] - 3s 811us/step\n",
      "910/910 [==============================] - 1s 791us/step\n",
      "in train2 MSE =  0.0015\n",
      "in test2 MSE =  0.0018\n",
      "3643/3643 [==============================] - 3s 804us/step\n",
      "910/910 [==============================] - 1s 771us/step\n",
      "in train3 MSE =  0.0348\n",
      "in test3 MSE =  0.0244\n",
      "3643/3643 [==============================] - 3s 839us/step\n",
      "910/910 [==============================] - 1s 1ms/step\n",
      "in train4 MSE =  0.1624\n",
      "in test4 MSE =  0.1683\n",
      "3643/3643 [==============================] - 3s 948us/step\n",
      "910/910 [==============================] - 1s 716us/step\n",
      "in train5 MSE =  0.0016\n",
      "in test5 MSE =  0.0019\n"
     ]
    }
   ],
   "source": [
    "score_train1 = fit1.evaluate(x_train, y_train, batch_size=1)\n",
    "score_test1 = fit1.evaluate(x_test, y_test, batch_size=1)\n",
    "\n",
    "print('in train2 MSE = ', round(score_train1,4))\n",
    "print('in test2 MSE = ', round( score_test1 ,4))\n",
    "\n",
    "score_train2 = fit2.evaluate(x_train, y_train, batch_size=1)\n",
    "score_test2 = fit2.evaluate(x_test, y_test, batch_size=1)\n",
    "\n",
    "print('in train2 MSE = ', round(score_train2,4))\n",
    "print('in test2 MSE = ', round( score_test2 ,4))\n",
    "\n",
    "score_train3 = fit3.evaluate(x_train, y_train, batch_size=1)\n",
    "score_test3 = fit3.evaluate(x_test, y_test, batch_size=1)\n",
    "\n",
    "print('in train3 MSE = ', round(score_train3,4))\n",
    "print('in test3 MSE = ', round( score_test3,4))\n",
    "\n",
    "score_train4 = fit4.evaluate(x_train, y_train, batch_size=1)\n",
    "score_test4 = fit4.evaluate(x_test, y_test, batch_size=1)\n",
    "\n",
    "print('in train4 MSE = ', round(score_train4,4))\n",
    "print('in test4 MSE = ', round( score_test4,4))\n",
    "\n",
    "score_train5 = fit5.evaluate(x_train, y_train, batch_size=1)\n",
    "score_test5 = fit5.evaluate(x_test, y_test, batch_size=1)\n",
    "\n",
    "print('in train5 MSE = ', round(score_train5,4))\n",
    "print('in test5 MSE = ', round( score_test5,4))"
   ]
  },
  {
   "cell_type": "markdown",
   "metadata": {},
   "source": [
    "And to convert the predictions back to their original scale,\n",
    "so we can view them individually:"
   ]
  },
  {
   "cell_type": "code",
   "execution_count": 24,
   "metadata": {
    "scrolled": false
   },
   "outputs": [
    {
     "data": {
      "text/plain": [
       "<matplotlib.legend.Legend at 0x19a8f10fd68>"
      ]
     },
     "execution_count": 24,
     "metadata": {},
     "output_type": "execute_result"
    },
    {
     "data": {
      "image/png": "[encoded data removed]",
      "text/plain": [
       "<Figure size 1152x576 with 1 Axes>"
      ]
     },
     "metadata": {},
     "output_type": "display_data"
    },
    {
     "data": {
      "image/png": "[encoded data removed]",
      "text/plain": [
       "<Figure size 432x288 with 1 Axes>"
      ]
     },
     "metadata": {},
     "output_type": "display_data"
    },
    {
     "data": {
      "image/png": "[encoded data removed]",
      "text/plain": [
       "<Figure size 432x288 with 1 Axes>"
      ]
     },
     "metadata": {},
     "output_type": "display_data"
    },
    {
     "data": {
      "image/png": "[encoded data removed]",
      "text/plain": [
       "<Figure size 432x288 with 1 Axes>"
      ]
     },
     "metadata": {},
     "output_type": "display_data"
    },
    {
     "data": {
      "image/png": "[encoded data removed]",
      "text/plain": [
       "<Figure size 432x288 with 1 Axes>"
      ]
     },
     "metadata": {},
     "output_type": "display_data"
    },
    {
     "data": {
      "image/png": "[encoded data removed]",
      "text/plain": [
       "<Figure size 432x288 with 1 Axes>"
      ]
     },
     "metadata": {},
     "output_type": "display_data"
    }
   ],
   "source": [
    "from sklearn.metrics import mean_squared_error\n",
    "import math\n",
    "import matplotlib.pyplot as plt\n",
    "\n",
    "entreno = scaler_y.inverse_transform(np.array(y_test).reshape((len(y_test),1)))\n",
    "plt.figure(figsize=[16,8])\n",
    "plt.plot(np.rint(entreno),label='set de prueba',linewidth=2)\n",
    "\n",
    "pred1 = fit1.predict(x_test)\n",
    "pred1 = scaler_y.inverse_transform(np.array(pred1).reshape((len(pred1),1)))\n",
    "\n",
    "# Difrerenca entre rms y rmse\n",
    "# Se calcula el error rms\n",
    "\n",
    "p1 = math.sqrt(mean_squared_error(pred1, entreno))\n",
    "#RSME idntefica los grandes errores\n",
    "#RSM identifica la variación de disftribución de frecuencias\n",
    "#https://translate.googleusercontent.com/translate_c?depth=1&hl=es&prev=search&rurl=translate.google.com&sl=en&sp=nmt4&u=https://medium.com/human-in-a-machine-world/mae-and-rmse-which-metric-is-better-e60ac3bde13d&xid=17259,15700023,15700186,15700191,15700248&usg=ALkJrhipwo7TP2PruqpEsfcKMCIVIjSq4Q\n",
    "\n",
    "plt.plot(np.rint(pred1),label='predicción sin shuffle (%.2f)'%p1)\n",
    "\n",
    "pred2 = fit2.predict(x_test)\n",
    "pred2 = scaler_y.inverse_transform(np.array(pred2).reshape((len(pred2),1)))\n",
    "\n",
    "p2 = math.sqrt(mean_squared_error(pred2, entreno))\n",
    "\n",
    "plt.plot(np.rint(pred2),label='predicción con suffle (%.2f)'%p2)\n",
    "\n",
    "pred3 = fit3.predict(x_test,batch_size=1)\n",
    "pred3 = scaler_y.inverse_transform(np.array(pred3).reshape((len(pred3),1)))\n",
    "\n",
    "p3 = math.sqrt(mean_squared_error(pred3, entreno))\n",
    "\n",
    "plt.plot(np.rint(pred3),label='predicción con estado sin suffle (%.2f)'%p3)\n",
    "\n",
    "pred4 = fit4.predict(x_test,batch_size=1)\n",
    "pred4 = scaler_y.inverse_transform(np.array(pred4).reshape((len(pred4),1)))\n",
    "\n",
    "p4 = math.sqrt(mean_squared_error(pred4, entreno))\n",
    "\n",
    "plt.plot(np.rint(pred4),label='predicción con estado con suffle (%.2f)'%p4)\n",
    "\n",
    "pred5 = fit5.predict(x_test)\n",
    "pred5 = scaler_y.inverse_transform(np.array(pred5).reshape((len(pred5),1)))\n",
    "\n",
    "p5 = math.sqrt(mean_squared_error(pred5, entreno))\n",
    "\n",
    "plt.plot(np.rint(pred5),label='predicción con GRU (%.2f)'%p5)\n",
    "\n",
    "plt.legend()\n",
    "\n",
    "\n",
    "plt.figure()\n",
    "plt.scatter(np.rint(pred1),np.rint(entreno),alpha=.1,label='predicción sin suffle')\n",
    "plt.legend()\n",
    "plt.figure()\n",
    "plt.scatter(np.rint(pred2),np.rint(entreno),alpha=.1,label='predicción con suffle')\n",
    "plt.legend()\n",
    "plt.figure()\n",
    "plt.scatter(np.rint(pred3),np.rint(entreno),alpha=.1,label='predicción con estado sin suffle')\n",
    "plt.legend()\n",
    "plt.figure()\n",
    "plt.scatter(np.rint(pred4),np.rint(entreno),alpha=.1,label='predicción con estado con suffle')\n",
    "plt.legend()\n",
    "plt.figure()\n",
    "plt.scatter(np.rint(pred5),np.rint(entreno),alpha=.1,label='predicción con GRU')\n",
    "plt.legend()"
   ]
  },
  {
   "cell_type": "code",
   "execution_count": 25,
   "metadata": {},
   "outputs": [
    {
     "data": {
      "text/plain": [
       "<matplotlib.legend.Legend at 0x19a8f1c6be0>"
      ]
     },
     "execution_count": 25,
     "metadata": {},
     "output_type": "execute_result"
    },
    {
     "data": {
      "image/png": "[encoded data removed]",
      "text/plain": [
       "<Figure size 432x288 with 1 Axes>"
      ]
     },
     "metadata": {},
     "output_type": "display_data"
    },
    {
     "data": {
      "image/png": "[encoded data removed]",
      "text/plain": [
       "<Figure size 432x288 with 1 Axes>"
      ]
     },
     "metadata": {},
     "output_type": "display_data"
    },
    {
     "data": {
      "image/png": "[encoded data removed]",
      "text/plain": [
       "<Figure size 432x288 with 1 Axes>"
      ]
     },
     "metadata": {},
     "output_type": "display_data"
    }
   ],
   "source": [
    "plt.plot(history1.history['loss'], 'r', label='pérdidas sin shuffle')\n",
    "plt.plot(history2.history['loss'], 'b', label='pérdidas con shuffle')\n",
    "plt.plot(history5.history['loss'], 'g', label='pérdidas con GRU')\n",
    "plt.legend()\n",
    "\n",
    "plt.figure()\n",
    "h3 = [x.history['loss'] for x in history3]\n",
    "plt.plot(h3, 'r', label='pérdidas con estado sin shuffle')\n",
    "plt.legend()\n",
    "\n",
    "plt.figure()\n",
    "h4 = [x.history['loss'] for x in history4]\n",
    "plt.plot(h4, 'b', label='pérdidas con estado con shuffle')\n",
    "plt.legend()"
   ]
  },
  {
   "cell_type": "code",
   "execution_count": 28,
   "metadata": {},
   "outputs": [
    {
     "data": {
      "text/plain": [
       "['scaler.save']"
      ]
     },
     "execution_count": 28,
     "metadata": {},
     "output_type": "execute_result"
    }
   ],
   "source": [
    "fit2.save('lstms.h5')\n",
    "fit1.save('lstm.h5')\n",
    "fit5.save('grus.h5')\n",
    "from sklearn.externals import joblib \n",
    "joblib.dump(scaler_y, 'scaler.save')"
   ]
  },
  {
   "cell_type": "code",
   "execution_count": null,
   "metadata": {},
   "outputs": [],
   "source": []
  }
 ],
 "metadata": {
  "kernelspec": {
   "display_name": "Python 3",
   "language": "python",
   "name": "python3"
  },
  "language_info": {
   "codemirror_mode": {
    "name": "ipython",
    "version": 3
   },
   "file_extension": ".py",
   "mimetype": "text/x-python",
   "name": "python",
   "nbconvert_exporter": "python",
   "pygments_lexer": "ipython3",
   "version": "3.6.5"
  }
 },
 "nbformat": 4,
 "nbformat_minor": 2
}
