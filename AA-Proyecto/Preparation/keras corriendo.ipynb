{
 "cells": [
  {
   "cell_type": "markdown",
   "metadata": {},
   "source": [
    "# Teoría\n",
    "- Qué es el modelo Sequential?  \n",
    "Es un modelo que permite construir redes neuronales agregando capas en secuencia.\n",
    "- Qué es un modelo de compilación?  \n",
    "método para configurar el proceso de aprendizaje, se puede agregar una función de coste, un optimizador y las métricas de rendimiento.\n",
    "- La capa Dense es básicamente una capa de regresión lineal.\n",
    "- Qué es shape?  \n",
    "Es la forma de los datos de entrada que el modelo debe esperar, sólo se define en la capa de entrada.\n",
    "- Sample:  \n",
    "Un elemento de un conjunto de datos.\n",
    "- Batch:  \n",
    "un conjunto de N muestras. Las muestras en un lote se procesan de forma independiente, en paralelo. Si se entrena, un lote da como resultado solo una actualización del modelo.\n",
    "- Epoch:  \n",
    "un corte arbitrario, generalmente definido como \"una pasada sobre todo el conjunto de datos\", utilizado para separar la capacitación en fases distintas, lo que es útil para el registro y la evaluación periódica.\n",
    "- RNN con estado:  \n",
    "Hacer un RNN con estado significa que los estados para las muestras de cada lote se reutilizarán como estados iniciales para las muestras en el siguiente lote.\n",
    "- En add.LST(x,y,z)\n",
    "x indica el número de nodos por capa.\n",
    "- MSE  \n",
    "El MSE Mean Square Error \n",
    "- R2S\n"
   ]
  },
  {
   "cell_type": "markdown",
   "metadata": {},
   "source": [
    "## Vamo a importar los datos"
   ]
  },
  {
   "cell_type": "code",
   "execution_count": 18,
   "metadata": {},
   "outputs": [
    {
     "name": "stdout",
     "output_type": "stream",
     "text": [
      "<class 'pandas.core.frame.DataFrame'>\n",
      "DatetimeIndex: 4559 entries, 2018-06-05 14:41:00 to 2018-06-08 18:39:00\n",
      "Data columns (total 4 columns):\n",
      "HUMEDAD DE LA TIERRA    4559 non-null float64\n",
      "HUMEDAD RELATIVA        4559 non-null float64\n",
      "INTENSIDAD LUMÍNICA     4559 non-null float64\n",
      "TEMPERATURA             4559 non-null float64\n",
      "dtypes: float64(4)\n",
      "memory usage: 178.1 KB\n"
     ]
    }
   ],
   "source": [
    "import pandas as pd\n",
    "import numpy as np\n",
    "\n",
    "df = pd.read_csv('nodo2_periodo3.csv', parse_dates=True,index_col=0)\n",
    "df.info()"
   ]
  },
  {
   "cell_type": "markdown",
   "metadata": {},
   "source": [
    "## Vamo a normalizar los datos"
   ]
  },
  {
   "cell_type": "code",
   "execution_count": null,
   "metadata": {},
   "outputs": [],
   "source": [
    "from sklearn import preprocessing\n",
    "scaler = preprocessing.MinMaxScaler(feature_range=(0, 1))\n",
    "scaler"
   ]
  },
  {
   "cell_type": "code",
   "execution_count": null,
   "metadata": {},
   "outputs": [],
   "source": []
  },
  {
   "cell_type": "code",
   "execution_count": 23,
   "metadata": {},
   "outputs": [
    {
     "ename": "ValueError",
     "evalue": "cannot reshape array of size 18236 into shape (4559,)",
     "output_type": "error",
     "traceback": [
      "\u001b[1;31m---------------------------------------------------------------------------\u001b[0m",
      "\u001b[1;31mValueError\u001b[0m                                Traceback (most recent call last)",
      "\u001b[1;32m<ipython-input-23-db7522b7ed44>\u001b[0m in \u001b[0;36m<module>\u001b[1;34m()\u001b[0m\n\u001b[1;32m----> 1\u001b[1;33m \u001b[0mnp\u001b[0m\u001b[1;33m.\u001b[0m\u001b[0marray\u001b[0m\u001b[1;33m(\u001b[0m\u001b[0mdf\u001b[0m\u001b[1;33m.\u001b[0m\u001b[0mvalues\u001b[0m\u001b[1;33m)\u001b[0m\u001b[1;33m.\u001b[0m\u001b[0mreshape\u001b[0m\u001b[1;33m(\u001b[0m\u001b[0mlen\u001b[0m\u001b[1;33m(\u001b[0m\u001b[0mdf\u001b[0m\u001b[1;33m)\u001b[0m\u001b[1;33m,\u001b[0m\u001b[1;33m)\u001b[0m\u001b[1;33m\u001b[0m\u001b[0m\n\u001b[0m",
      "\u001b[1;31mValueError\u001b[0m: cannot reshape array of size 18236 into shape (4559,)"
     ]
    }
   ],
   "source": [
    "np.array(df.values).reshape(len(df),)"
   ]
  },
  {
   "cell_type": "markdown",
   "metadata": {},
   "source": [
    "## Primero vamo a separar datos\n",
    " Crear los sets de entrenamiento  de prueba"
   ]
  },
  {
   "cell_type": "markdown",
   "metadata": {},
   "source": [
    "## Vamo a definir una semilla"
   ]
  },
  {
   "cell_type": "markdown",
   "metadata": {},
   "source": [
    "## Vamo a definir el modelo"
   ]
  },
  {
   "cell_type": "markdown",
   "metadata": {},
   "source": [
    "## Vamo a entrenar el modelo"
   ]
  },
  {
   "cell_type": "markdown",
   "metadata": {},
   "source": [
    "## Vamo a revisar qué tan bueno es el modelo"
   ]
  },
  {
   "cell_type": "code",
   "execution_count": null,
   "metadata": {},
   "outputs": [],
   "source": [
    "# importa el modelo secuencial, permite apilar capas de manera lineal\n",
    "from keras.models import Sequential\n",
    "# importa la capa densa, esta es una capa de red neuronal completamente conectada regular\n",
    "# con una función lineal de activación\n",
    "#from keras.layers.core import Dense, Activation\n",
    "# importa todas las capas\n",
    "from keras.layers import *\n",
    "#from keras.layers.recurrent import LSTM\n",
    "import numpy as np"
   ]
  },
  {
   "cell_type": "code",
   "execution_count": null,
   "metadata": {},
   "outputs": [],
   "source": [
    "gru = GRU(50)(Input(shape = (10, 30)))"
   ]
  },
  {
   "cell_type": "code",
   "execution_count": null,
   "metadata": {},
   "outputs": [],
   "source": [
    "print(gru.shape)"
   ]
  },
  {
   "cell_type": "code",
   "execution_count": null,
   "metadata": {},
   "outputs": [],
   "source": [
    "gru = GRU(50, return_sequences = False, return_state = True)(Input(shape = (10, 30)))\n",
    "print(gru[0].shape)         # shape of output\n",
    "print(gru[1].shape)         # shape of hidden state"
   ]
  },
  {
   "cell_type": "code",
   "execution_count": null,
   "metadata": {},
   "outputs": [],
   "source": [
    "gru = GRU(50, return_sequences = True, return_state = True)(Input(shape = (10, 30)))\n",
    "print(gru[0].shape)         # shape of output\n",
    "print(gru[1].shape)         # shape of hidden state"
   ]
  },
  {
   "cell_type": "code",
   "execution_count": 11,
   "metadata": {},
   "outputs": [
    {
     "name": "stdout",
     "output_type": "stream",
     "text": [
      "(?, ?, 50)\n",
      "(?, 50)\n"
     ]
    }
   ],
   "source": [
    "output, hidden_state = GRU(50, return_sequences = True, return_state = True)(Input(shape = (10, 30)))\n",
    "print(output.shape)\n",
    "print(hidden_state.shape)"
   ]
  },
  {
   "cell_type": "code",
   "execution_count": 11,
   "metadata": {},
   "outputs": [
    {
     "name": "stderr",
     "output_type": "stream",
     "text": [
      "C:\\Users\\Jergb\\Anaconda3\\lib\\site-packages\\ipykernel_launcher.py:8: UserWarning: Update your `LSTM` call to the Keras 2 API: `LSTM(activation=\"tanh\", input_shape=(5, 1), units=4, recurrent_activation=\"hard_sigmoid\")`\n",
      "  \n",
      "C:\\Users\\Jergb\\Anaconda3\\lib\\site-packages\\ipykernel_launcher.py:10: UserWarning: Update your `Dense` call to the Keras 2 API: `Dense(activation=\"linear\", units=1)`\n",
      "  # Remove the CWD from sys.path while we load stuff.\n"
     ]
    },
    {
     "ename": "NameError",
     "evalue": "name 'x_train' is not defined",
     "output_type": "error",
     "traceback": [
      "\u001b[1;31m---------------------------------------------------------------------------\u001b[0m",
      "\u001b[1;31mNameError\u001b[0m                                 Traceback (most recent call last)",
      "\u001b[1;32m<ipython-input-11-60b7be34a38d>\u001b[0m in \u001b[0;36m<module>\u001b[1;34m()\u001b[0m\n\u001b[0;32m     13\u001b[0m \u001b[0mfit1\u001b[0m\u001b[1;33m.\u001b[0m\u001b[0mcompile\u001b[0m\u001b[1;33m(\u001b[0m\u001b[0mloss\u001b[0m\u001b[1;33m=\u001b[0m\u001b[1;34m'mean_squared_error'\u001b[0m\u001b[1;33m,\u001b[0m \u001b[0moptimizer\u001b[0m\u001b[1;33m=\u001b[0m\u001b[1;34m'rmsprop'\u001b[0m\u001b[1;33m)\u001b[0m\u001b[1;33m\u001b[0m\u001b[0m\n\u001b[0;32m     14\u001b[0m \u001b[1;31m#Ajustar el modelo\u001b[0m\u001b[1;33m\u001b[0m\u001b[1;33m\u001b[0m\u001b[0m\n\u001b[1;32m---> 15\u001b[1;33m \u001b[0mfit1\u001b[0m\u001b[1;33m.\u001b[0m\u001b[0mfit\u001b[0m\u001b[1;33m(\u001b[0m\u001b[0mx_train\u001b[0m\u001b[1;33m,\u001b[0m \u001b[0my_train\u001b[0m\u001b[1;33m,\u001b[0m \u001b[0mbatch_size\u001b[0m \u001b[1;33m=\u001b[0m \u001b[1;36m1\u001b[0m\u001b[1;33m,\u001b[0m \u001b[0mnb_epoch\u001b[0m\u001b[1;33m=\u001b[0m\u001b[1;36m10\u001b[0m\u001b[1;33m,\u001b[0m \u001b[0mshuffle\u001b[0m\u001b[1;33m=\u001b[0m\u001b[1;32mFalse\u001b[0m\u001b[1;33m)\u001b[0m\u001b[1;33m\u001b[0m\u001b[0m\n\u001b[0m",
      "\u001b[1;31mNameError\u001b[0m: name 'x_train' is not defined"
     ]
    }
   ],
   "source": [
    "# define una semilla para tener resultados repetibles\n",
    "seed = 2016\n",
    "np.random.seed(seed)\n",
    "# Define el modelo secuencial\n",
    "fit1 = Sequential()\n",
    "# Agrega una capa LSTM con cuatro neuronas, activación tanh, activación interoir hard_sgimoitde\n",
    "# y forma de entrada (5,1)\n",
    "fit1.add(LSTM(output_dim=4, activation='tanh', inner_activation='hard_sigmoid',input_shape=(5, 1)))\n",
    "#Agrega una capa densa con una slida y activación lineal\n",
    "fit1.add(Dense(output_dim=1, activation='linear'))\n",
    "#Compila el model con función de pérdidas MSE y optimizador rmsprop\n",
    "# EL optimiador rmsprop actualiza el ritmo de aprendizaje del gradiente descendiente\n",
    "fit1.compile(loss='mean_squared_error', optimizer='rmsprop')\n",
    "#Ajustar el modelo\n",
    "fit1.fit(x_train, y_train, batch_size = 1, nb_epoch=10, shuffle=False)"
   ]
  },
  {
   "cell_type": "code",
   "execution_count": 4,
   "metadata": {},
   "outputs": [
    {
     "name": "stderr",
     "output_type": "stream",
     "text": [
      "C:\\Users\\Jergb\\Anaconda3\\lib\\site-packages\\ipykernel_launcher.py:8: UserWarning: Update your `LSTM` call to the Keras 2 API: `LSTM(activation=\"tanh\", input_shape=(5, 1), units=4, recurrent_activation=\"hard_sigmoid\")`\n",
      "  \n",
      "C:\\Users\\Jergb\\Anaconda3\\lib\\site-packages\\ipykernel_launcher.py:9: UserWarning: Update your `Dense` call to the Keras 2 API: `Dense(activation=\"linear\", units=1)`\n",
      "  if __name__ == '__main__':\n"
     ]
    }
   ],
   "source": []
  }
 ],
 "metadata": {
  "kernelspec": {
   "display_name": "Python 3",
   "language": "python",
   "name": "python3"
  },
  "language_info": {
   "codemirror_mode": {
    "name": "ipython",
    "version": 3
   },
   "file_extension": ".py",
   "mimetype": "text/x-python",
   "name": "python",
   "nbconvert_exporter": "python",
   "pygments_lexer": "ipython3",
   "version": "3.6.5"
  }
 },
 "nbformat": 4,
 "nbformat_minor": 2
}
