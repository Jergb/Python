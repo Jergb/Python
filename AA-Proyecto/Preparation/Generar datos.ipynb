{
 "cells": [
  {
   "cell_type": "code",
   "execution_count": 1,
   "metadata": {},
   "outputs": [
    {
     "name": "stderr",
     "output_type": "stream",
     "text": [
      "C:\\Users\\Jergb\\Anaconda3\\lib\\site-packages\\ggplot\\utils.py:81: FutureWarning: pandas.tslib is deprecated and will be removed in a future version.\n",
      "You can access Timestamp as pandas.Timestamp\n",
      "  pd.tslib.Timestamp,\n"
     ]
    },
    {
     "data": {
      "text/html": [
       "<script>requirejs.config({paths: { 'plotly': ['https://cdn.plot.ly/plotly-latest.min']},});if(!window.Plotly) {{require(['plotly'],function(plotly) {window.Plotly=plotly;});}}</script>"
      ],
      "text/vnd.plotly.v1+html": [
       "<script>requirejs.config({paths: { 'plotly': ['https://cdn.plot.ly/plotly-latest.min']},});if(!window.Plotly) {{require(['plotly'],function(plotly) {window.Plotly=plotly;});}}</script>"
      ]
     },
     "metadata": {},
     "output_type": "display_data"
    }
   ],
   "source": [
    "import pandas as pd\n",
    "import matplotlib.pyplot as plt\n",
    "import pandas as pd\n",
    "import funs\n",
    "import seaborn as sns\n",
    "import plotly.plotly as py\n",
    "from plotly.graph_objs import *\n",
    "from plotly.offline import download_plotlyjs, init_notebook_mode, plot, iplot\n",
    "init_notebook_mode(connected=True)\n",
    "pd.options.display.max_rows = 10\n",
    "import numpy as np"
   ]
  },
  {
   "cell_type": "code",
   "execution_count": 2,
   "metadata": {},
   "outputs": [],
   "source": [
    "periodo=3\n",
    "nodosp={}\n",
    "for i in [2,3,5]:\n",
    "    nodosp[i] = pd.read_csv('nodo%d_periodo%d.csv'%(i,periodo),\n",
    "                                           parse_dates=True,index_col=0)\n",
    "    nodosp[i] = nodosp[i].drop(columns=['HORA'])"
   ]
  },
  {
   "cell_type": "code",
   "execution_count": 3,
   "metadata": {},
   "outputs": [],
   "source": [
    "raw=nodosp[5].copy()"
   ]
  },
  {
   "cell_type": "code",
   "execution_count": 4,
   "metadata": {},
   "outputs": [],
   "source": [
    "from datetime import datetime,timedelta\n",
    "nindex=pd.Timestamp('2018-06-08 18:39:00')+timedelta(days=10)"
   ]
  },
  {
   "cell_type": "code",
   "execution_count": 5,
   "metadata": {},
   "outputs": [],
   "source": [
    "raw.loc[nindex] = raw.iloc[0]"
   ]
  },
  {
   "cell_type": "code",
   "execution_count": 6,
   "metadata": {},
   "outputs": [],
   "source": [
    "raw=raw.asfreq('30T')\n",
    "filtrado=raw.copy()\n",
    "filtrar=raw.copy()"
   ]
  },
  {
   "cell_type": "code",
   "execution_count": 7,
   "metadata": {},
   "outputs": [
    {
     "data": {
      "text/html": [
       "<div>\n",
       "<style scoped>\n",
       "    .dataframe tbody tr th:only-of-type {\n",
       "        vertical-align: middle;\n",
       "    }\n",
       "\n",
       "    .dataframe tbody tr th {\n",
       "        vertical-align: top;\n",
       "    }\n",
       "\n",
       "    .dataframe thead th {\n",
       "        text-align: right;\n",
       "    }\n",
       "</style>\n",
       "<table border=\"1\" class=\"dataframe\">\n",
       "  <thead>\n",
       "    <tr style=\"text-align: right;\">\n",
       "      <th></th>\n",
       "      <th>HUMEDAD DE LA TIERRA</th>\n",
       "      <th>HUMEDAD RELATIVA</th>\n",
       "      <th>INTENSIDAD LUMÍNICA</th>\n",
       "      <th>TEMPERATURA</th>\n",
       "    </tr>\n",
       "  </thead>\n",
       "  <tbody>\n",
       "    <tr>\n",
       "      <th>2018-06-05 14:41:00</th>\n",
       "      <td>13.82</td>\n",
       "      <td>24.0</td>\n",
       "      <td>5829.0</td>\n",
       "      <td>34.0</td>\n",
       "    </tr>\n",
       "    <tr>\n",
       "      <th>2018-06-05 15:11:00</th>\n",
       "      <td>13.82</td>\n",
       "      <td>26.0</td>\n",
       "      <td>5794.0</td>\n",
       "      <td>32.0</td>\n",
       "    </tr>\n",
       "    <tr>\n",
       "      <th>2018-06-05 15:41:00</th>\n",
       "      <td>14.30</td>\n",
       "      <td>27.0</td>\n",
       "      <td>5777.0</td>\n",
       "      <td>32.0</td>\n",
       "    </tr>\n",
       "    <tr>\n",
       "      <th>2018-06-05 16:11:00</th>\n",
       "      <td>15.10</td>\n",
       "      <td>27.0</td>\n",
       "      <td>5747.0</td>\n",
       "      <td>31.0</td>\n",
       "    </tr>\n",
       "    <tr>\n",
       "      <th>2018-06-05 16:41:00</th>\n",
       "      <td>14.94</td>\n",
       "      <td>28.0</td>\n",
       "      <td>5706.0</td>\n",
       "      <td>30.0</td>\n",
       "    </tr>\n",
       "    <tr>\n",
       "      <th>...</th>\n",
       "      <td>...</td>\n",
       "      <td>...</td>\n",
       "      <td>...</td>\n",
       "      <td>...</td>\n",
       "    </tr>\n",
       "    <tr>\n",
       "      <th>2018-06-18 16:11:00</th>\n",
       "      <td>NaN</td>\n",
       "      <td>NaN</td>\n",
       "      <td>NaN</td>\n",
       "      <td>NaN</td>\n",
       "    </tr>\n",
       "    <tr>\n",
       "      <th>2018-06-18 16:41:00</th>\n",
       "      <td>NaN</td>\n",
       "      <td>NaN</td>\n",
       "      <td>NaN</td>\n",
       "      <td>NaN</td>\n",
       "    </tr>\n",
       "    <tr>\n",
       "      <th>2018-06-18 17:11:00</th>\n",
       "      <td>NaN</td>\n",
       "      <td>NaN</td>\n",
       "      <td>NaN</td>\n",
       "      <td>NaN</td>\n",
       "    </tr>\n",
       "    <tr>\n",
       "      <th>2018-06-18 17:41:00</th>\n",
       "      <td>NaN</td>\n",
       "      <td>NaN</td>\n",
       "      <td>NaN</td>\n",
       "      <td>NaN</td>\n",
       "    </tr>\n",
       "    <tr>\n",
       "      <th>2018-06-18 18:11:00</th>\n",
       "      <td>NaN</td>\n",
       "      <td>NaN</td>\n",
       "      <td>NaN</td>\n",
       "      <td>NaN</td>\n",
       "    </tr>\n",
       "  </tbody>\n",
       "</table>\n",
       "<p>632 rows × 4 columns</p>\n",
       "</div>"
      ],
      "text/plain": [
       "                     HUMEDAD DE LA TIERRA  HUMEDAD RELATIVA  \\\n",
       "2018-06-05 14:41:00                 13.82              24.0   \n",
       "2018-06-05 15:11:00                 13.82              26.0   \n",
       "2018-06-05 15:41:00                 14.30              27.0   \n",
       "2018-06-05 16:11:00                 15.10              27.0   \n",
       "2018-06-05 16:41:00                 14.94              28.0   \n",
       "...                                   ...               ...   \n",
       "2018-06-18 16:11:00                   NaN               NaN   \n",
       "2018-06-18 16:41:00                   NaN               NaN   \n",
       "2018-06-18 17:11:00                   NaN               NaN   \n",
       "2018-06-18 17:41:00                   NaN               NaN   \n",
       "2018-06-18 18:11:00                   NaN               NaN   \n",
       "\n",
       "                     INTENSIDAD LUMÍNICA  TEMPERATURA  \n",
       "2018-06-05 14:41:00               5829.0         34.0  \n",
       "2018-06-05 15:11:00               5794.0         32.0  \n",
       "2018-06-05 15:41:00               5777.0         32.0  \n",
       "2018-06-05 16:11:00               5747.0         31.0  \n",
       "2018-06-05 16:41:00               5706.0         30.0  \n",
       "...                                  ...          ...  \n",
       "2018-06-18 16:11:00                  NaN          NaN  \n",
       "2018-06-18 16:41:00                  NaN          NaN  \n",
       "2018-06-18 17:11:00                  NaN          NaN  \n",
       "2018-06-18 17:41:00                  NaN          NaN  \n",
       "2018-06-18 18:11:00                  NaN          NaN  \n",
       "\n",
       "[632 rows x 4 columns]"
      ]
     },
     "execution_count": 7,
     "metadata": {},
     "output_type": "execute_result"
    }
   ],
   "source": [
    "raw"
   ]
  },
  {
   "cell_type": "code",
   "execution_count": 8,
   "metadata": {},
   "outputs": [
    {
     "data": {
      "text/plain": [
       "6.193450225078143"
      ]
     },
     "execution_count": 8,
     "metadata": {},
     "output_type": "execute_result"
    }
   ],
   "source": [
    "np.median(np.random.rand(i))*10"
   ]
  },
  {
   "cell_type": "code",
   "execution_count": 9,
   "metadata": {},
   "outputs": [],
   "source": [
    "def filtro(filtrar,variable,i,q):\n",
    "    'Iguala el valor de una medición a un determinado valor límite'\n",
    "    \n",
    "    try:\n",
    "        \n",
    "        d=len(filtrar[variable].iloc[0:i])/(60*24)\n",
    "        val=[filtrar[variable][i-(60*24)*(1+j)] for j in range(int(d)) if d>1]\n",
    "        val.append(filtrar[variable][i-1])\n",
    "        filtrar[variable][i] = np.mean(val)+np.median(np.random.rand(i))*10\n",
    "\n",
    "    except KeyError:\n",
    "        filtrar[variable][i]= q\n",
    "    return filtrar\n",
    "\n",
    "\n",
    "\n",
    "def filtrar_variables(variable,lim_i,lim_s):\n",
    "    'Ajusta los valores atípicos en las mediciones de la variable v'\n",
    "    global filtrado\n",
    "    Li, Ls = funs.tukey(filtrar[variable])\n",
    "\n",
    "    for i in range(len(filtrar[variable])):\n",
    "        if filtrar[variable][i] >= np.nan:\n",
    "            funs.filtro(filtrado,variable,i,filtrado[variable].quantile(.75))\n",
    "            \n",
    "    plt.plot(filtrado.loc[:,variable],'blue',label='filtrar')\n",
    "    plt.legend()\n",
    "    return"
   ]
  },
  {
   "cell_type": "code",
   "execution_count": null,
   "metadata": {},
   "outputs": [],
   "source": [
    "for variable in raw:\n",
    "    lim_i,lim_s = funs.tukey(raw[variable])\n",
    "    for i in range(len(raw)):\n",
    "        filtrar_variables(variable,lim_i,lim_s)"
   ]
  },
  {
   "cell_type": "code",
   "execution_count": 56,
   "metadata": {},
   "outputs": [
    {
     "data": {
      "text/plain": [
       "<matplotlib.axes._subplots.AxesSubplot at 0x1a8347bdb00>"
      ]
     },
     "execution_count": 56,
     "metadata": {},
     "output_type": "execute_result"
    },
    {
     "data": {
      "image/png": "[encoded data removed]",
      "text/plain": [
       "<Figure size 432x288 with 1 Axes>"
      ]
     },
     "metadata": {},
     "output_type": "display_data"
    }
   ],
   "source": [
    "probar primero con un día, haciendo x=prom(días+rand(minutos))"
   ]
  },
  {
   "cell_type": "code",
   "execution_count": null,
   "metadata": {},
   "outputs": [],
   "source": [
    "\n",
    "raw = pd.read_csv('nodo%d_periodo%d.csv'%(2,2),\n",
    "                  parse_dates=True,index_col=0)\n"
   ]
  },
  {
   "cell_type": "code",
   "execution_count": null,
   "metadata": {},
   "outputs": [],
   "source": [
    "a=raw['TEMPERATURA'].rolling(2000).std()\n",
    "b=raw['HUMEDAD RELATIVA'].rolling(2000).std()\n",
    "s=raw['HUMEDAD RELATIVA'].std()\n",
    "#hacemos la desviación esandar, y escogemos un tamaño de muestra anterior con una desviacón estandar cercana\n",
    "for i in range(len(raw)-i):\n",
    "    val= [raw.TEMPERATURA[i-x:i].std for x in range(len(raw)) if raw.TEMPERATURA[i-x:i].std() < s]\n",
    "    if len(val)>0:\n",
    "        break"
   ]
  },
  {
   "cell_type": "code",
   "execution_count": null,
   "metadata": {},
   "outputs": [],
   "source": [
    "from datetime import datetime, timedelta\n",
    "# calcula el rango d tukey\n",
    "\n",
    "nob=raw.copy()\n",
    "li,ls=funs.tukey(raw['TEMPERATURA'])\n",
    "display(li,ls)\n",
    "indice=[x for x in raw.TEMPERATURA.index\n",
    "   if raw.TEMPERATURA.loc[x]<li or raw.TEMPERATURA.loc[x]>ls]\n",
    "#tenemos el indice y los valores atípicos\n",
    "b=[x-timedelta(days=1) for x in indice]\n",
    "\n",
    "\n",
    "nob.TEMPERATURA.loc[indice]=raw.TEMPERATURA.loc[b].values\n",
    "#plt.plot(raw.TEMPERATURA.loc[indice])\n",
    "#plt.plot(raw.TEMPERATURA.loc[b])\n",
    "#plt.plot(raw.TEMPERATURA)\n",
    "plt.plot(nob.TEMPERATURA)\n",
    "#plt.plot(raw.TEMPERATURA.loc[b])\n",
    "nob.TEMPERATURA.isnull().any()"
   ]
  },
  {
   "cell_type": "code",
   "execution_count": null,
   "metadata": {},
   "outputs": [],
   "source": [
    "a=pd.DataFrame({'v':[1,2,3,4]})\n",
    "a.loc[[2,3]]=a.loc[[1,0]].values\n",
    "a"
   ]
  },
  {
   "cell_type": "code",
   "execution_count": null,
   "metadata": {},
   "outputs": [],
   "source": [
    "filtrado=tablas[2]\n",
    "li1,ls1 = funs.tukey(filtrado.TEMPERATURA)\n",
    "print(li1,ls1)\n",
    "li2,ls2 = funs.tukey(ajustado['HUMEDAD RELATIVA'])\n",
    "a = ajustado.loc[:,['TEMPERATURA', 'HUMEDAD RELATIVA']].copy()\n",
    "ind = [[x,a.TEMPERATURA.loc[x]] for x in list(a.TEMPERATURA.index)\n",
    "       if 30 >= a.TEMPERATURA.loc[x]]\n",
    "a.loc[pd.DataFrame(ind).iloc[:,0],'outlier'] = pd.DataFrame(ind).iloc[:,1].values\n",
    "plt.plot(filtrado.TEMPERATURA)\n",
    "plt.plot(a.outlier)\n",
    "#Revisar que tipos de valores son "
   ]
  },
  {
   "cell_type": "code",
   "execution_count": null,
   "metadata": {},
   "outputs": [],
   "source": [
    "a=tablas[2].rolling(20).median()\n",
    "plt.figure(figsize=[20,10])\n",
    "plt.plot(tablas[2].TEMPERATURA)\n",
    "plt.plot(a.TEMPERATURA)\n",
    "a"
   ]
  },
  {
   "cell_type": "code",
   "execution_count": null,
   "metadata": {},
   "outputs": [],
   "source": [
    "t = 24*60\n",
    "nodo, periodos = {}, {}\n",
    "for i in [2,3,4,5,6,8]:\n",
    "    nodo[i], periodos[i] = funs.separa_datos(tablas[i],t)"
   ]
  },
  {
   "cell_type": "code",
   "execution_count": null,
   "metadata": {},
   "outputs": [],
   "source": [
    "separados = nodo[2][1]\n",
    "inicio = nodo[2][1].index[0]\n",
    "fin = nodo[2][1].index[-1]\n",
    "periodos"
   ]
  },
  {
   "cell_type": "code",
   "execution_count": null,
   "metadata": {},
   "outputs": [],
   "source": [
    "nodo[2][1].TEMPERATURA.plot()"
   ]
  },
  {
   "cell_type": "code",
   "execution_count": null,
   "metadata": {},
   "outputs": [],
   "source": [
    "tablas[2]"
   ]
  },
  {
   "cell_type": "code",
   "execution_count": null,
   "metadata": {},
   "outputs": [],
   "source": [
    ".TEMPERATURA[[1,3,5,2]]=40"
   ]
  },
  {
   "cell_type": "code",
   "execution_count": null,
   "metadata": {},
   "outputs": [],
   "source": [
    "tablas[2].TEMPERATURA[300]"
   ]
  },
  {
   "cell_type": "markdown",
   "metadata": {},
   "source": [
    "def info_periodo(dataset,inicio,fin):\n",
    "    registros = len(dataset.loc[inicio:fin,:])+1\n",
    "    inicio = pd.Timestamp(inicio)\n",
    "    fin = pd.Timestamp(fin)\n",
    "    tiempo = fin - inicio\n",
    "    \n",
    "    faltantes = funs.transcurrido_fechas(fin, inicio) + 1 - registros\n",
    "    r_registros = registros / (funs.transcurrido_fechas(fin, inicio) +1)\n",
    "    n_registros = faltantes / (funs.transcurrido_fechas(fin, inicio) +1)\n",
    "    info = pd.DataFrame({'Inicio': [inicio], 'Fin': [fin],\n",
    "                             'Registrado': [registros], 'No Registrado':[faltantes],\n",
    "                             '% Registrado':[r_registros],'% No Registrado':[n_registros],\n",
    "                             'Duración':[tiempo]})\n",
    "    return info"
   ]
  },
  {
   "cell_type": "code",
   "execution_count": null,
   "metadata": {},
   "outputs": [],
   "source": [
    "from time import time\n",
    "import numpy as np\n",
    "start_time = time()\n",
    "a=[]\n",
    "for i in range(int(1e5)):\n",
    "    a.append(i)\n",
    "elapsed_time = time() - start_time\n",
    "print(\"Elapsed time: %0.10f seconds.\" % elapsed_time)"
   ]
  },
  {
   "cell_type": "code",
   "execution_count": null,
   "metadata": {},
   "outputs": [],
   "source": [
    "start_time = time()\n",
    "a = [i for i in range(int(1e7))]\n",
    "elapsed_time = time() - start_time\n",
    "print(\"Elapsed time: %0.10f seconds.\" % elapsed_time)\n",
    "elapsed_time"
   ]
  },
  {
   "cell_type": "code",
   "execution_count": null,
   "metadata": {},
   "outputs": [],
   "source": [
    "start_time = time()\n",
    "a = {i for i in range(int(1e7))}\n",
    "elapsed_time = time() - start_time\n",
    "print(\"Elapsed time: %0.10f seconds.\" % elapsed_time)\n",
    "elapsed_time"
   ]
  },
  {
   "cell_type": "code",
   "execution_count": null,
   "metadata": {},
   "outputs": [],
   "source": [
    "start_time = time()\n",
    "a = np.arange(1e7)\n",
    "elapsed_time = time() - start_time\n",
    "print(\"Elapsed time: %0.10f seconds.\" % elapsed_time)\n",
    "elapsed_time"
   ]
  },
  {
   "cell_type": "code",
   "execution_count": null,
   "metadata": {},
   "outputs": [],
   "source": [
    "a=np.arange(40)\n",
    "b = {i for i in a if i>30}\n",
    "b"
   ]
  },
  {
   "cell_type": "code",
   "execution_count": null,
   "metadata": {},
   "outputs": [],
   "source": []
  }
 ],
 "metadata": {
  "kernelspec": {
   "display_name": "Python 3",
   "language": "python",
   "name": "python3"
  },
  "language_info": {
   "codemirror_mode": {
    "name": "ipython",
    "version": 3
   },
   "file_extension": ".py",
   "mimetype": "text/x-python",
   "name": "python",
   "nbconvert_exporter": "python",
   "pygments_lexer": "ipython3",
   "version": "3.6.5"
  }
 },
 "nbformat": 4,
 "nbformat_minor": 2
}
