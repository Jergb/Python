{
 "cells": [
  {
   "cell_type": "code",
   "execution_count": null,
   "metadata": {},
   "outputs": [],
   "source": [
    "import sqlalchemy\n",
    "import pandas as pd\n",
    "import time\n",
    "import Algfuns as Af\n",
    "import matplotlib.pyplot as plt\n",
    "#=============================================================================="
   ]
  },
  {
   "cell_type": "markdown",
   "metadata": {
    "collapsed": true
   },
   "source": [
    "tempo=time.time()\n",
    "Tiempo=time.time()\n",
    "while 1:\n",
    "    if time.time()-Tiempo>60:\n",
    "        Tiempo=time.time()\n",
    "    if time.time()-tempo>120:\n",
    "        print((time.time()-Tiempo)*3)\n",
    "        break\n",
    "end"
   ]
  },
  {
   "cell_type": "code",
   "execution_count": null,
   "metadata": {},
   "outputs": [],
   "source": [
    "Af.WSN=pd.DataFrame()\n",
    "Af.fila=1\n",
    "RIS=pd.DataFrame()\n",
    "Af.Faltan=0\n",
    "Af.RIS=pd.DataFrame()\n",
    "Af.Ni=[]\n",
    "\n",
    "Af.Duplicados={2:[0],5:[0]}\n",
    "\n",
    "Af.Faltantes={2:[0],5:[0]}\n"
   ]
  },
  {
   "cell_type": "code",
   "execution_count": null,
   "metadata": {},
   "outputs": [],
   "source": [
    "fwsn=[]\n",
    "tr=0\n",
    "while 1:\n",
    "    Af.bajar()\n",
    "    row=len(Af.WSN)-3 # Row contiene la iteración de la fila a analizar\n",
    "    \n",
    "    if len(Af.WSN)==fwsn:\n",
    "        Af.agregar(row)\n",
    "\n",
    "        break\n",
    "    \n",
    "    else:\n",
    "        try:\n",
    "            Af.filtro(row)\n",
    "            if row>1000:\n",
    "                Af.agregar(row)\n",
    "                break\n",
    "        except KeyError:\n",
    "            pass\n",
    "\n",
    "    tr+=1\n",
    "    \n",
    "    fwsn=len(Af.WSN)\n",
    "\n",
    "[Tabla2, Tabla5] = Af.tablas(Af.WSN)\n",
    "print('Faltaron', Af.Faltan,'Mediciones')\n",
    "print('Faltaron', Af.Faltantes[2], 'mediciones en el nodo 2')\n",
    "print('Faltaron', Af.Faltantes[5], 'mediciones en el nodo 5')\n",
    "print('Hay', Af.Duplicados[2], 'duplicados en las mediciones del nodo 2')\n",
    "print('Hay', Af.Duplicados[5], 'duplicados en las mediciones del nodo 5')\n",
    "\n",
    "tr"
   ]
  },
  {
   "cell_type": "code",
   "execution_count": null,
   "metadata": {},
   "outputs": [],
   "source": [
    "Af.RIS.head(5)"
   ]
  },
  {
   "cell_type": "markdown",
   "metadata": {},
   "source": [
    "Af.WSN"
   ]
  },
  {
   "cell_type": "markdown",
   "metadata": {},
   "source": [
    "   ax.set_xlim(len(xdata)-10, len(xdata)+1)\n",
    "   #print(i)\n",
    "   ax.relim()\n",
    "   ax.autoscale_view()\n",
    "   xdata.append(i)\n",
    "   y = np.sin(i / 10.)\n",
    "   ydata.append(y)\n",
    "   line.set_data(xdata, ydata)"
   ]
  },
  {
   "cell_type": "code",
   "execution_count": null,
   "metadata": {},
   "outputs": [],
   "source": [
    "%matplotlib qt\n",
    "import matplotlib.pyplot as plt\n",
    "import matplotlib.animation as animation\n",
    "import numpy as np\n",
    "Af.bajar()\n",
    "Af.bajar()\n",
    "[Tabla2, Tabla5] = Af.tablas(Af.WSN)\n",
    "wind= 50 # Acá se define el tamaño de la ventana, cada cuanto se mueve :D!\n",
    "sigma=1.5 #que dice que fuera de dos ya es valor anormal\n",
    "Tabla2['up']= Tabla2.TEMPERATURA.rolling(window=wind).quantile(.25)-(sigma*Tabla2.TEMPERATURA.rolling(window=wind).std())\n",
    "Tabla2['down']= Tabla2.TEMPERATURA.rolling(window=wind).quantile(.75)+(sigma*Tabla2.TEMPERATURA.rolling(window=wind).std())\n",
    "COUNT = 1000\n",
    "fig, ax = plt.subplots()\n",
    "line, = ax.plot([], [])\n",
    "line1, = ax.plot([], [])\n",
    "line2, = ax.plot([], [])\n",
    "xdata = []\n",
    "ydata = []\n",
    "up=[]\n",
    "down=[]\n",
    "def next():\n",
    "   i = 0\n",
    "   while i < COUNT:\n",
    "      i += 1\n",
    "      yield i\n",
    "def update(i):\n",
    "   Af.bajar()\n",
    "   [Tabla2, Tabla5] = Af.tablas(Af.WSN)\n",
    "   # Se definen los límites del eje x respecto al tiempo\n",
    "   # ax.set_xlim(Tabla2.TIME[i]-timedelta(seconds=60*60),Tabla2.TIME[i])\n",
    "   Tabla2['up']= Tabla2.TEMPERATURA.rolling(window=wind).quantile(.25)-(sigma*Tabla2.TEMPERATURA.rolling(window=wind).std())\n",
    "   Tabla2['down']= Tabla2.TEMPERATURA.rolling(window=wind).quantile(.75)+(sigma*Tabla2.TEMPERATURA.rolling(window=wind).std())\n",
    "   #ax.set_xlim(Tabla2.TIME[i]-timedelta(seconds=60*100),Tabla2.TIME[i])\n",
    "\n",
    "   ax.set_xlim(i-60,i)\n",
    "    \n",
    "   # Ajustar la imagen al contenido automáticaente\n",
    "   ax.relim()\n",
    "   ax.autoscale_view()\n",
    "   # Se añade un valor a los datos representados en el eje x\n",
    "   \n",
    "   xdata.append(i)\n",
    "    \n",
    "   #xdata.append(Tabla2.TIME[i])\n",
    "   # Se define un valor a los datos representados en el eje y\n",
    "   ydata.append(Tabla2.TEMPERATURA[i])\n",
    "   # Se actualizan los vectores de datos a representar\n",
    "\n",
    "   up.append(Tabla2.up[i])\n",
    "   down.append(Tabla2.down[i])\n",
    "   line.set_data(xdata, ydata)\n",
    "   line1.set_data(xdata, up)\n",
    "   line2.set_data(xdata, down)\n",
    "   return line,\n",
    " \n",
    "if __name__ == '__main__':\n",
    "   a = animation.FuncAnimation(fig, update, next, blit = False, interval = 60,\n",
    "                               repeat = False)\n",
    "   plt.show()"
   ]
  },
  {
   "cell_type": "code",
   "execution_count": null,
   "metadata": {},
   "outputs": [],
   "source": [
    "plt.close('all')"
   ]
  },
  {
   "cell_type": "code",
   "execution_count": null,
   "metadata": {},
   "outputs": [],
   "source": [
    "Tabla2.median()"
   ]
  },
  {
   "cell_type": "code",
   "execution_count": null,
   "metadata": {},
   "outputs": [],
   "source": [
    "Tabla2.mean()"
   ]
  },
  {
   "cell_type": "code",
   "execution_count": null,
   "metadata": {},
   "outputs": [],
   "source": [
    "wind= 60 # Acá se define el tamaño de la ventana, cada cuanto se mueve :D!\n",
    "sigma=2 #que dice que fuera de dos ya es valor anormal\n",
    "\n",
    "# Se define una ventana deslizante\n",
    "Tabla2['up']= Tabla2.TEMPERATURA.rolling(window=wind).quantile(.25)-(sigma*Tabla2.TEMPERATURA.rolling(window=wind).std())\n",
    "Tabla2['down']= Tabla2.TEMPERATURA.rolling(window=wind).quantile(.75)+(sigma*Tabla2.TEMPERATURA.rolling(window=wind).std())\n",
    "Tabla2.iloc[:,[2,7,8,9]].plot(x='TIME')\n",
    "plt.show()"
   ]
  },
  {
   "cell_type": "code",
   "execution_count": null,
   "metadata": {},
   "outputs": [],
   "source": []
  }
 ],
 "metadata": {
  "kernelspec": {
   "display_name": "Python 3",
   "language": "python",
   "name": "python3"
  },
  "language_info": {
   "codemirror_mode": {
    "name": "ipython",
    "version": 3
   },
   "file_extension": ".py",
   "mimetype": "text/x-python",
   "name": "python",
   "nbconvert_exporter": "python",
   "pygments_lexer": "ipython3",
   "version": "3.6.5"
  }
 },
 "nbformat": 4,
 "nbformat_minor": 2
}
