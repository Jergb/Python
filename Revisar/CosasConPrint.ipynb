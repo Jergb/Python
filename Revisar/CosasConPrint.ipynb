{
 "cells": [
  {
   "cell_type": "code",
   "execution_count": 11,
   "metadata": {},
   "outputs": [
    {
     "name": "stdout",
     "output_type": "stream",
     "text": [
      "Hey cat dog mouse there\r"
     ]
    }
   ],
   "source": [
    "import time\n",
    "strst = [' cat', ' dog', ' mouse']\n",
    "strinc = ''\n",
    "strinc \n",
    "for i in strst:\n",
    "    strinc = strinc + i\n",
    "#    print('Hey'+strinc+' there', end =\" \")\n",
    "    print('Hey'+strinc+' there', end=\"\\r\")\n",
    "    time.sleep(1)"
   ]
  }
 ],
 "metadata": {
  "kernelspec": {
   "display_name": "Python 3",
   "language": "python",
   "name": "python3"
  }
 },
 "nbformat": 4,
 "nbformat_minor": 2
}
