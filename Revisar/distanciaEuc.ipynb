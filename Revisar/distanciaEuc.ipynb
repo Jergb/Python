{
 "cells": [
  {
   "cell_type": "code",
   "execution_count": 1,
   "metadata": {},
   "outputs": [],
   "source": [
    "from datetime import datetime, date, time, timedelta\n",
    "import calendar"
   ]
  },
  {
   "cell_type": "code",
   "execution_count": 2,
   "metadata": {},
   "outputs": [
    {
     "name": "stdout",
     "output_type": "stream",
     "text": [
      "Fecha inicial: 2013-10-01 00:00:00\n",
      "Fecha final: 2013-12-25 00:00:00\n",
      "Diferencia: 85 días\n"
     ]
    }
   ],
   "source": [
    "formato_fecha = \"%d-%m-%Y\"\n",
    "fecha_inicial = datetime.strptime(\"01-10-2013\", \n",
    "                                  formato_fecha)\n",
    "fecha_final = datetime.strptime(\"25-12-2013\", \n",
    "                                formato_fecha)\n",
    "diferencia = fecha_final - fecha_inicial\n",
    "print(\"Fecha inicial:\", fecha_inicial)\n",
    "print(\"Fecha final:\", fecha_final)\n",
    "print(\"Diferencia:\", diferencia.days, \"días\")"
   ]
  },
  {
   "cell_type": "code",
   "execution_count": null,
   "metadata": {},
   "outputs": [],
   "source": []
  },
  {
   "cell_type": "code",
   "execution_count": 8,
   "metadata": {},
   "outputs": [
    {
     "name": "stdout",
     "output_type": "stream",
     "text": [
      "Distancia Euclidea\n",
      "\n",
      "Matriz de datos:\n",
      "         Var1       Var2\n",
      "0  [1, 3, 5]  [2, 3, 6]\n",
      "1  [4, 4, 4]  [2, 4, 3]\n",
      "2  [4, 5, 3]  [2, 5, 3]\n",
      "\n",
      "Distancia Euclídea:\n",
      " 0    1.414214\n",
      "1    2.236068\n",
      "2    2.000000\n",
      "dtype: float64\n"
     ]
    }
   ],
   "source": [
    "import pandas as pd\n",
    "from scipy.spatial.distance import mahalanobis as MH\n",
    "from scipy.spatial.distance import euclidean as EU\n",
    "print('Distancia Euclidea\\n')\n",
    "Datos={}\n",
    "Datos['Var1']=pd.DataFrame([[1,3,5],[4,4,4],[4,5,3]]).values.tolist()\n",
    "Datos['Var2']=pd.DataFrame([[2,3,6],[2,4,3],[2,5,3]]).values.tolist()\n",
    "Datos=pd.DataFrame(Datos)\n",
    "print('Matriz de datos:\\n',Datos)\n",
    "Data=Datos[['Var1','Var2']]\n",
    "ED=Data.apply(lambda m:EU(m.Var1,m.Var2),axis=1)\n",
    "print('\\nDistancia Euclídea:\\n',ED)\n"
   ]
  },
  {
   "cell_type": "code",
   "execution_count": null,
   "metadata": {},
   "outputs": [],
   "source": []
  }
 ],
 "metadata": {
  "kernelspec": {
   "display_name": "Python 3",
   "language": "python",
   "name": "python3"
  },
  "language_info": {
   "codemirror_mode": {
    "name": "ipython",
    "version": 3
   },
   "file_extension": ".py",
   "mimetype": "text/x-python",
   "name": "python",
   "nbconvert_exporter": "python",
   "pygments_lexer": "ipython3",
   "version": "3.6.5"
  }
 },
 "nbformat": 4,
 "nbformat_minor": 2
}
