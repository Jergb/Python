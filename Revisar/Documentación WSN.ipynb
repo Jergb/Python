{
 "cells": [
  {
   "cell_type": "markdown",
   "metadata": {},
   "source": [
    "# Análisis WSN\n",
    "Se presenta la documentación del código empleado para analizar las mediciones de variables ambientales tomadas en un cultivo de Cacao en el corregimiento de Cornejo, San Cayetano (Norte deSantander)\n"
   ]
  },
  {
   "cell_type": "markdown",
   "metadata": {},
   "source": [
    "\n",
    "\n",
    "Se Importan las librerias necesarias para el análisis"
   ]
  },
  {
   "cell_type": "code",
   "execution_count": 1,
   "metadata": {
    "scrolled": true
   },
   "outputs": [],
   "source": [
    "import matplotlib.pyplot as plt\n",
    "import pandas as pd\n",
    "import seaborn as sns\n",
    "from sklearn.decomposition import PCA\n",
    "from sklearn.preprocessing import StandardScaler\n",
    "import Algmods as Af\n",
    "from scipy import stats\n",
    "\n",
    "pd.options.display.max_rows = 10"
   ]
  },
  {
   "cell_type": "markdown",
   "metadata": {},
   "source": [
    "Se importan los datos desde el archivo WSN.csv"
   ]
  },
  {
   "cell_type": "code",
   "execution_count": 2,
   "metadata": {},
   "outputs": [
    {
     "data": {
      "text/html": [
       "<div>\n",
       "<style scoped>\n",
       "    .dataframe tbody tr th:only-of-type {\n",
       "        vertical-align: middle;\n",
       "    }\n",
       "\n",
       "    .dataframe tbody tr th {\n",
       "        vertical-align: top;\n",
       "    }\n",
       "\n",
       "    .dataframe thead th {\n",
       "        text-align: right;\n",
       "    }\n",
       "</style>\n",
       "<table border=\"1\" class=\"dataframe\">\n",
       "  <thead>\n",
       "    <tr style=\"text-align: right;\">\n",
       "      <th></th>\n",
       "      <th>IDMEDIDA</th>\n",
       "      <th>NODO</th>\n",
       "      <th>TEMPERATURA</th>\n",
       "      <th>HUMEDAD RELATIVA</th>\n",
       "      <th>HUMEDAD DE LA TIERRA</th>\n",
       "      <th>NIVEL UV</th>\n",
       "      <th>INTENSIDAD LUMÍNICA</th>\n",
       "      <th>TIME</th>\n",
       "    </tr>\n",
       "  </thead>\n",
       "  <tbody>\n",
       "    <tr>\n",
       "      <th>0</th>\n",
       "      <td>1</td>\n",
       "      <td>2</td>\n",
       "      <td>27</td>\n",
       "      <td>19</td>\n",
       "      <td>74.97</td>\n",
       "      <td>0</td>\n",
       "      <td>5853</td>\n",
       "      <td>2018-05-09 09:38:00</td>\n",
       "    </tr>\n",
       "    <tr>\n",
       "      <th>1</th>\n",
       "      <td>2</td>\n",
       "      <td>2</td>\n",
       "      <td>28</td>\n",
       "      <td>19</td>\n",
       "      <td>72.72</td>\n",
       "      <td>0</td>\n",
       "      <td>5865</td>\n",
       "      <td>2018-05-09 09:49:00</td>\n",
       "    </tr>\n",
       "    <tr>\n",
       "      <th>2</th>\n",
       "      <td>3</td>\n",
       "      <td>2</td>\n",
       "      <td>28</td>\n",
       "      <td>19</td>\n",
       "      <td>72.56</td>\n",
       "      <td>0</td>\n",
       "      <td>5859</td>\n",
       "      <td>2018-05-09 09:50:00</td>\n",
       "    </tr>\n",
       "    <tr>\n",
       "      <th>3</th>\n",
       "      <td>4</td>\n",
       "      <td>2</td>\n",
       "      <td>28</td>\n",
       "      <td>19</td>\n",
       "      <td>72.40</td>\n",
       "      <td>0</td>\n",
       "      <td>5859</td>\n",
       "      <td>2018-05-09 09:51:00</td>\n",
       "    </tr>\n",
       "    <tr>\n",
       "      <th>4</th>\n",
       "      <td>5</td>\n",
       "      <td>2</td>\n",
       "      <td>28</td>\n",
       "      <td>19</td>\n",
       "      <td>72.08</td>\n",
       "      <td>0</td>\n",
       "      <td>5859</td>\n",
       "      <td>2018-05-09 09:52:00</td>\n",
       "    </tr>\n",
       "    <tr>\n",
       "      <th>...</th>\n",
       "      <td>...</td>\n",
       "      <td>...</td>\n",
       "      <td>...</td>\n",
       "      <td>...</td>\n",
       "      <td>...</td>\n",
       "      <td>...</td>\n",
       "      <td>...</td>\n",
       "      <td>...</td>\n",
       "    </tr>\n",
       "    <tr>\n",
       "      <th>22808</th>\n",
       "      <td>22809</td>\n",
       "      <td>5</td>\n",
       "      <td>33</td>\n",
       "      <td>29</td>\n",
       "      <td>6.43</td>\n",
       "      <td>1</td>\n",
       "      <td>5865</td>\n",
       "      <td>2018-06-11 06:15:00</td>\n",
       "    </tr>\n",
       "    <tr>\n",
       "      <th>22809</th>\n",
       "      <td>22810</td>\n",
       "      <td>2</td>\n",
       "      <td>31</td>\n",
       "      <td>17</td>\n",
       "      <td>0.82</td>\n",
       "      <td>0</td>\n",
       "      <td>5853</td>\n",
       "      <td>2018-06-11 06:16:00</td>\n",
       "    </tr>\n",
       "    <tr>\n",
       "      <th>22810</th>\n",
       "      <td>22811</td>\n",
       "      <td>5</td>\n",
       "      <td>33</td>\n",
       "      <td>29</td>\n",
       "      <td>6.43</td>\n",
       "      <td>0</td>\n",
       "      <td>5865</td>\n",
       "      <td>2018-06-11 06:16:00</td>\n",
       "    </tr>\n",
       "    <tr>\n",
       "      <th>22811</th>\n",
       "      <td>22812</td>\n",
       "      <td>2</td>\n",
       "      <td>32</td>\n",
       "      <td>17</td>\n",
       "      <td>0.82</td>\n",
       "      <td>0</td>\n",
       "      <td>5853</td>\n",
       "      <td>2018-06-11 06:17:00</td>\n",
       "    </tr>\n",
       "    <tr>\n",
       "      <th>22812</th>\n",
       "      <td>22813</td>\n",
       "      <td>5</td>\n",
       "      <td>33</td>\n",
       "      <td>29</td>\n",
       "      <td>6.43</td>\n",
       "      <td>0</td>\n",
       "      <td>5865</td>\n",
       "      <td>2018-06-11 06:17:00</td>\n",
       "    </tr>\n",
       "  </tbody>\n",
       "</table>\n",
       "<p>22813 rows × 8 columns</p>\n",
       "</div>"
      ],
      "text/plain": [
       "       IDMEDIDA  NODO  TEMPERATURA  HUMEDAD RELATIVA  HUMEDAD DE LA TIERRA  \\\n",
       "0             1     2           27                19                 74.97   \n",
       "1             2     2           28                19                 72.72   \n",
       "2             3     2           28                19                 72.56   \n",
       "3             4     2           28                19                 72.40   \n",
       "4             5     2           28                19                 72.08   \n",
       "...         ...   ...          ...               ...                   ...   \n",
       "22808     22809     5           33                29                  6.43   \n",
       "22809     22810     2           31                17                  0.82   \n",
       "22810     22811     5           33                29                  6.43   \n",
       "22811     22812     2           32                17                  0.82   \n",
       "22812     22813     5           33                29                  6.43   \n",
       "\n",
       "       NIVEL UV  INTENSIDAD LUMÍNICA                 TIME  \n",
       "0             0                 5853  2018-05-09 09:38:00  \n",
       "1             0                 5865  2018-05-09 09:49:00  \n",
       "2             0                 5859  2018-05-09 09:50:00  \n",
       "3             0                 5859  2018-05-09 09:51:00  \n",
       "4             0                 5859  2018-05-09 09:52:00  \n",
       "...         ...                  ...                  ...  \n",
       "22808         1                 5865  2018-06-11 06:15:00  \n",
       "22809         0                 5853  2018-06-11 06:16:00  \n",
       "22810         0                 5865  2018-06-11 06:16:00  \n",
       "22811         0                 5853  2018-06-11 06:17:00  \n",
       "22812         0                 5865  2018-06-11 06:17:00  \n",
       "\n",
       "[22813 rows x 8 columns]"
      ]
     },
     "execution_count": 2,
     "metadata": {},
     "output_type": "execute_result"
    }
   ],
   "source": [
    "wsn = pd.read_csv('medidas.csv')\n",
    "wsn"
   ]
  },
  {
   "cell_type": "markdown",
   "metadata": {},
   "source": [
    "wsn=Af.impbd('WSN','medidas')"
   ]
  },
  {
   "cell_type": "markdown",
   "metadata": {},
   "source": [
    "*Af.filtro* realiza un filtro de valores faltantes y repetidos en el dataset, dejando únicamente los pares de vectores de\n",
    "de datos de los nodos dos y cinco registrados en un minuto determinado"
   ]
  },
  {
   "cell_type": "code",
   "execution_count": 3,
   "metadata": {},
   "outputs": [
    {
     "name": "stdout",
     "output_type": "stream",
     "text": [
      "Faltantes nodo 2:  36022\n",
      "Faltantes nodo 5:  35280\n",
      "La serie general tiene 22813 valores\n",
      "La serie filtrada tiene 21164 observaciones\n"
     ]
    },
    {
     "data": {
      "text/html": [
       "<div>\n",
       "<style scoped>\n",
       "    .dataframe tbody tr th:only-of-type {\n",
       "        vertical-align: middle;\n",
       "    }\n",
       "\n",
       "    .dataframe tbody tr th {\n",
       "        vertical-align: top;\n",
       "    }\n",
       "\n",
       "    .dataframe thead th {\n",
       "        text-align: right;\n",
       "    }\n",
       "</style>\n",
       "<table border=\"1\" class=\"dataframe\">\n",
       "  <thead>\n",
       "    <tr style=\"text-align: right;\">\n",
       "      <th></th>\n",
       "      <th>IDMEDIDA</th>\n",
       "      <th>NODO</th>\n",
       "      <th>TEMPERATURA</th>\n",
       "      <th>HUMEDAD RELATIVA</th>\n",
       "      <th>HUMEDAD DE LA TIERRA</th>\n",
       "      <th>NIVEL UV</th>\n",
       "      <th>INTENSIDAD LUMÍNICA</th>\n",
       "      <th>TIME</th>\n",
       "    </tr>\n",
       "  </thead>\n",
       "  <tbody>\n",
       "    <tr>\n",
       "      <th>0</th>\n",
       "      <td>38</td>\n",
       "      <td>5</td>\n",
       "      <td>30</td>\n",
       "      <td>58</td>\n",
       "      <td>80.42</td>\n",
       "      <td>0</td>\n",
       "      <td>5829</td>\n",
       "      <td>2018-05-09 10:25:00</td>\n",
       "    </tr>\n",
       "    <tr>\n",
       "      <th>1</th>\n",
       "      <td>39</td>\n",
       "      <td>2</td>\n",
       "      <td>29</td>\n",
       "      <td>18</td>\n",
       "      <td>62.61</td>\n",
       "      <td>0</td>\n",
       "      <td>5853</td>\n",
       "      <td>2018-05-09 10:25:00</td>\n",
       "    </tr>\n",
       "    <tr>\n",
       "      <th>2</th>\n",
       "      <td>40</td>\n",
       "      <td>5</td>\n",
       "      <td>30</td>\n",
       "      <td>57</td>\n",
       "      <td>73.20</td>\n",
       "      <td>0</td>\n",
       "      <td>5829</td>\n",
       "      <td>2018-05-09 10:26:00</td>\n",
       "    </tr>\n",
       "    <tr>\n",
       "      <th>3</th>\n",
       "      <td>41</td>\n",
       "      <td>2</td>\n",
       "      <td>29</td>\n",
       "      <td>18</td>\n",
       "      <td>62.61</td>\n",
       "      <td>0</td>\n",
       "      <td>5853</td>\n",
       "      <td>2018-05-09 10:26:00</td>\n",
       "    </tr>\n",
       "    <tr>\n",
       "      <th>4</th>\n",
       "      <td>42</td>\n",
       "      <td>5</td>\n",
       "      <td>30</td>\n",
       "      <td>57</td>\n",
       "      <td>67.75</td>\n",
       "      <td>0</td>\n",
       "      <td>5841</td>\n",
       "      <td>2018-05-09 10:27:00</td>\n",
       "    </tr>\n",
       "    <tr>\n",
       "      <th>...</th>\n",
       "      <td>...</td>\n",
       "      <td>...</td>\n",
       "      <td>...</td>\n",
       "      <td>...</td>\n",
       "      <td>...</td>\n",
       "      <td>...</td>\n",
       "      <td>...</td>\n",
       "      <td>...</td>\n",
       "    </tr>\n",
       "    <tr>\n",
       "      <th>21159</th>\n",
       "      <td>22809</td>\n",
       "      <td>5</td>\n",
       "      <td>33</td>\n",
       "      <td>29</td>\n",
       "      <td>6.43</td>\n",
       "      <td>1</td>\n",
       "      <td>5865</td>\n",
       "      <td>2018-06-11 06:15:00</td>\n",
       "    </tr>\n",
       "    <tr>\n",
       "      <th>21160</th>\n",
       "      <td>22810</td>\n",
       "      <td>2</td>\n",
       "      <td>31</td>\n",
       "      <td>17</td>\n",
       "      <td>0.82</td>\n",
       "      <td>0</td>\n",
       "      <td>5853</td>\n",
       "      <td>2018-06-11 06:16:00</td>\n",
       "    </tr>\n",
       "    <tr>\n",
       "      <th>21161</th>\n",
       "      <td>22811</td>\n",
       "      <td>5</td>\n",
       "      <td>33</td>\n",
       "      <td>29</td>\n",
       "      <td>6.43</td>\n",
       "      <td>0</td>\n",
       "      <td>5865</td>\n",
       "      <td>2018-06-11 06:16:00</td>\n",
       "    </tr>\n",
       "    <tr>\n",
       "      <th>21162</th>\n",
       "      <td>22812</td>\n",
       "      <td>2</td>\n",
       "      <td>32</td>\n",
       "      <td>17</td>\n",
       "      <td>0.82</td>\n",
       "      <td>0</td>\n",
       "      <td>5853</td>\n",
       "      <td>2018-06-11 06:17:00</td>\n",
       "    </tr>\n",
       "    <tr>\n",
       "      <th>21163</th>\n",
       "      <td>22813</td>\n",
       "      <td>5</td>\n",
       "      <td>33</td>\n",
       "      <td>29</td>\n",
       "      <td>6.43</td>\n",
       "      <td>0</td>\n",
       "      <td>5865</td>\n",
       "      <td>2018-06-11 06:17:00</td>\n",
       "    </tr>\n",
       "  </tbody>\n",
       "</table>\n",
       "<p>21164 rows × 8 columns</p>\n",
       "</div>"
      ],
      "text/plain": [
       "       IDMEDIDA  NODO  TEMPERATURA  HUMEDAD RELATIVA  HUMEDAD DE LA TIERRA  \\\n",
       "0            38     5           30                58                 80.42   \n",
       "1            39     2           29                18                 62.61   \n",
       "2            40     5           30                57                 73.20   \n",
       "3            41     2           29                18                 62.61   \n",
       "4            42     5           30                57                 67.75   \n",
       "...         ...   ...          ...               ...                   ...   \n",
       "21159     22809     5           33                29                  6.43   \n",
       "21160     22810     2           31                17                  0.82   \n",
       "21161     22811     5           33                29                  6.43   \n",
       "21162     22812     2           32                17                  0.82   \n",
       "21163     22813     5           33                29                  6.43   \n",
       "\n",
       "       NIVEL UV  INTENSIDAD LUMÍNICA                TIME  \n",
       "0             0                 5829 2018-05-09 10:25:00  \n",
       "1             0                 5853 2018-05-09 10:25:00  \n",
       "2             0                 5829 2018-05-09 10:26:00  \n",
       "3             0                 5853 2018-05-09 10:26:00  \n",
       "4             0                 5841 2018-05-09 10:27:00  \n",
       "...         ...                  ...                 ...  \n",
       "21159         1                 5865 2018-06-11 06:15:00  \n",
       "21160         0                 5853 2018-06-11 06:16:00  \n",
       "21161         0                 5865 2018-06-11 06:16:00  \n",
       "21162         0                 5853 2018-06-11 06:17:00  \n",
       "21163         0                 5865 2018-06-11 06:17:00  \n",
       "\n",
       "[21164 rows x 8 columns]"
      ]
     },
     "execution_count": 3,
     "metadata": {},
     "output_type": "execute_result"
    }
   ],
   "source": [
    "%matplotlib inline\n",
    "# Af.filtrop genera datos que para visualizar la cantidad de valores faltantes y medidos\n",
    "# por los nodos 2 y 5\n",
    "MDNN,CDN,MA,CA,MFN,CFN,WSN=Af.filtrop(wsn)\n",
    "# WSN=Af.filtro(wsn)\n",
    "print('La serie general tiene', len(wsn), 'valores')\n",
    "print('La serie filtrada tiene', len(WSN), 'observaciones')\n",
    "WSN"
   ]
  },
  {
   "cell_type": "markdown",
   "metadata": {},
   "source": [
    "Se realiza la descripción estadística de la muestra general"
   ]
  },
  {
   "cell_type": "code",
   "execution_count": 4,
   "metadata": {},
   "outputs": [
    {
     "data": {
      "text/html": [
       "<div>\n",
       "<style scoped>\n",
       "    .dataframe tbody tr th:only-of-type {\n",
       "        vertical-align: middle;\n",
       "    }\n",
       "\n",
       "    .dataframe tbody tr th {\n",
       "        vertical-align: top;\n",
       "    }\n",
       "\n",
       "    .dataframe thead th {\n",
       "        text-align: right;\n",
       "    }\n",
       "</style>\n",
       "<table border=\"1\" class=\"dataframe\">\n",
       "  <thead>\n",
       "    <tr style=\"text-align: right;\">\n",
       "      <th></th>\n",
       "      <th>IDMEDIDA</th>\n",
       "      <th>NODO</th>\n",
       "      <th>TEMPERATURA</th>\n",
       "      <th>HUMEDAD RELATIVA</th>\n",
       "      <th>HUMEDAD DE LA TIERRA</th>\n",
       "      <th>NIVEL UV</th>\n",
       "      <th>INTENSIDAD LUMÍNICA</th>\n",
       "    </tr>\n",
       "  </thead>\n",
       "  <tbody>\n",
       "    <tr>\n",
       "      <th>count</th>\n",
       "      <td>21164.000000</td>\n",
       "      <td>21164.000000</td>\n",
       "      <td>21164.000000</td>\n",
       "      <td>21164.000000</td>\n",
       "      <td>21164.000000</td>\n",
       "      <td>21164.000000</td>\n",
       "      <td>21164.000000</td>\n",
       "    </tr>\n",
       "    <tr>\n",
       "      <th>mean</th>\n",
       "      <td>10838.746929</td>\n",
       "      <td>3.500000</td>\n",
       "      <td>27.534256</td>\n",
       "      <td>45.893073</td>\n",
       "      <td>33.709783</td>\n",
       "      <td>0.019325</td>\n",
       "      <td>3089.160556</td>\n",
       "    </tr>\n",
       "    <tr>\n",
       "      <th>std</th>\n",
       "      <td>6272.639449</td>\n",
       "      <td>1.500035</td>\n",
       "      <td>4.961517</td>\n",
       "      <td>23.466546</td>\n",
       "      <td>29.186186</td>\n",
       "      <td>0.194074</td>\n",
       "      <td>2810.595105</td>\n",
       "    </tr>\n",
       "    <tr>\n",
       "      <th>min</th>\n",
       "      <td>38.000000</td>\n",
       "      <td>2.000000</td>\n",
       "      <td>-20.000000</td>\n",
       "      <td>5.000000</td>\n",
       "      <td>0.820000</td>\n",
       "      <td>0.000000</td>\n",
       "      <td>0.000000</td>\n",
       "    </tr>\n",
       "    <tr>\n",
       "      <th>25%</th>\n",
       "      <td>5411.750000</td>\n",
       "      <td>2.000000</td>\n",
       "      <td>24.000000</td>\n",
       "      <td>28.000000</td>\n",
       "      <td>9.160000</td>\n",
       "      <td>0.000000</td>\n",
       "      <td>0.000000</td>\n",
       "    </tr>\n",
       "    <tr>\n",
       "      <th>50%</th>\n",
       "      <td>10749.500000</td>\n",
       "      <td>3.500000</td>\n",
       "      <td>27.000000</td>\n",
       "      <td>39.000000</td>\n",
       "      <td>19.110000</td>\n",
       "      <td>0.000000</td>\n",
       "      <td>4398.000000</td>\n",
       "    </tr>\n",
       "    <tr>\n",
       "      <th>75%</th>\n",
       "      <td>16290.250000</td>\n",
       "      <td>5.000000</td>\n",
       "      <td>30.000000</td>\n",
       "      <td>60.000000</td>\n",
       "      <td>64.860000</td>\n",
       "      <td>0.000000</td>\n",
       "      <td>5829.000000</td>\n",
       "    </tr>\n",
       "    <tr>\n",
       "      <th>max</th>\n",
       "      <td>22813.000000</td>\n",
       "      <td>5.000000</td>\n",
       "      <td>60.000000</td>\n",
       "      <td>95.000000</td>\n",
       "      <td>90.220000</td>\n",
       "      <td>6.000000</td>\n",
       "      <td>5941.000000</td>\n",
       "    </tr>\n",
       "  </tbody>\n",
       "</table>\n",
       "</div>"
      ],
      "text/plain": [
       "           IDMEDIDA          NODO   TEMPERATURA  HUMEDAD RELATIVA  \\\n",
       "count  21164.000000  21164.000000  21164.000000      21164.000000   \n",
       "mean   10838.746929      3.500000     27.534256         45.893073   \n",
       "std     6272.639449      1.500035      4.961517         23.466546   \n",
       "min       38.000000      2.000000    -20.000000          5.000000   \n",
       "25%     5411.750000      2.000000     24.000000         28.000000   \n",
       "50%    10749.500000      3.500000     27.000000         39.000000   \n",
       "75%    16290.250000      5.000000     30.000000         60.000000   \n",
       "max    22813.000000      5.000000     60.000000         95.000000   \n",
       "\n",
       "       HUMEDAD DE LA TIERRA      NIVEL UV  INTENSIDAD LUMÍNICA  \n",
       "count          21164.000000  21164.000000         21164.000000  \n",
       "mean              33.709783      0.019325          3089.160556  \n",
       "std               29.186186      0.194074          2810.595105  \n",
       "min                0.820000      0.000000             0.000000  \n",
       "25%                9.160000      0.000000             0.000000  \n",
       "50%               19.110000      0.000000          4398.000000  \n",
       "75%               64.860000      0.000000          5829.000000  \n",
       "max               90.220000      6.000000          5941.000000  "
      ]
     },
     "execution_count": 4,
     "metadata": {},
     "output_type": "execute_result"
    }
   ],
   "source": [
    "WSN.describe()"
   ]
  },
  {
   "cell_type": "markdown",
   "metadata": {},
   "source": [
    "Se obtiene la curtosis de las variables para saber forma de la distribución que presenta cada variable"
   ]
  },
  {
   "cell_type": "code",
   "execution_count": 5,
   "metadata": {},
   "outputs": [
    {
     "data": {
      "text/plain": [
       "TEMPERATURA              14.305108\n",
       "HUMEDAD RELATIVA         -0.615099\n",
       "HUMEDAD DE LA TIERRA     -1.336804\n",
       "NIVEL UV                293.662459\n",
       "INTENSIDAD LUMÍNICA      -1.930976\n",
       "dtype: float64"
      ]
     },
     "execution_count": 5,
     "metadata": {},
     "output_type": "execute_result"
    }
   ],
   "source": [
    "WSN.iloc[:,[2,3,4,5,6]].kurtosis()"
   ]
  },
  {
   "cell_type": "markdown",
   "metadata": {},
   "source": [
    "Se grafican los diagramas de cajas correspodientes a cada variable"
   ]
  },
  {
   "cell_type": "code",
   "execution_count": 6,
   "metadata": {},
   "outputs": [
    {
     "data": {
      "image/png": "[encoded data removed]",
      "text/plain": [
       "<Figure size 432x288 with 5 Axes>"
      ]
     },
     "metadata": {},
     "output_type": "display_data"
    }
   ],
   "source": [
    "#%matplotlib qt\n",
    "b=150\n",
    "for a in range(2,7):\n",
    "    b+=1\n",
    "    plt.subplot(b)\n",
    "    sns.distplot(WSN.iloc[:,a], kde=False, fit=stats.gamma);\n"
   ]
  },
  {
   "cell_type": "code",
   "execution_count": 7,
   "metadata": {},
   "outputs": [
    {
     "data": {
      "image/png": "[encoded data removed]",
      "text/plain": [
       "<Figure size 432x288 with 5 Axes>"
      ]
     },
     "metadata": {},
     "output_type": "display_data"
    }
   ],
   "source": [
    "Af.wsnbp(WSN.iloc[:,2:7])"
   ]
  },
  {
   "cell_type": "markdown",
   "metadata": {},
   "source": [
    "Grafico de stripplot, para ver la dispersón de los datos en cada variable"
   ]
  },
  {
   "cell_type": "code",
   "execution_count": 8,
   "metadata": {},
   "outputs": [
    {
     "data": {
      "image/png": "[encoded data removed]",
      "text/plain": [
       "<Figure size 432x288 with 5 Axes>"
      ]
     },
     "metadata": {},
     "output_type": "display_data"
    }
   ],
   "source": [
    "b=150\n",
    "for a in range(2,7):\n",
    "    b+=1\n",
    "    plt.subplot(b)\n",
    "    sns.stripplot(x='NODO', y=WSN.iloc[:,a], data=WSN, jitter=True)\n",
    "    sns.despine()#?????"
   ]
  },
  {
   "cell_type": "code",
   "execution_count": null,
   "metadata": {},
   "outputs": [],
   "source": [
    "b=150\n",
    "for a in range(2,7):\n",
    "    b+=1\n",
    "    plt.subplot(b)\n",
    "    sns.swarmplot(x='NODO', y=WSN.iloc[:,a], data=WSN)\n",
    "    sns.despine()"
   ]
  },
  {
   "cell_type": "code",
   "execution_count": null,
   "metadata": {},
   "outputs": [],
   "source": [
    "Nodo2,Nodo5=Af.tablas(WSN) #Crea las tablas que se van a utilizar para el análisis"
   ]
  },
  {
   "cell_type": "markdown",
   "metadata": {},
   "source": [
    "S evisualizan las graficas correpondientes a las mediciones del nodo \"Node\" (Nodo2 o Nodo5)"
   ]
  },
  {
   "cell_type": "code",
   "execution_count": null,
   "metadata": {},
   "outputs": [],
   "source": [
    "%matplotlib qt\n",
    "Node=Nodo2\n",
    "ax=Node.iloc[:,[2,3,4,5,6]].plot(subplots=True,sharex=False,legend=False,title=list(WSN.iloc[:,[2,3,4,5,6]].columns))\n",
    "lis=['°C','%RH','%PW',' ','lx']\n",
    "for a in range(5):\n",
    "    ax[a].set_xlabel('Medición')\n",
    "    ax[a].set_ylabel(lis[a])\n",
    "plt.show()"
   ]
  },
  {
   "cell_type": "markdown",
   "metadata": {},
   "source": [
    "Presenta información grafica de los valores faltantes, duplicados y medidos."
   ]
  },
  {
   "cell_type": "code",
   "execution_count": null,
   "metadata": {
    "scrolled": true
   },
   "outputs": [],
   "source": [
    "Af.datosplot(MDNN,CDN,MA,CA,MFN,CFN,WSN)"
   ]
  },
  {
   "cell_type": "code",
   "execution_count": null,
   "metadata": {},
   "outputs": [],
   "source": [
    "mahalNodos=Af.mahalM(Nodo2.iloc[:,2:7],Nodo5.iloc[:,2:7],WSN.iloc[:,2:7])\n",
    "eucliNodos=Af.euclidea(Nodo2.iloc[:,2:7],Nodo5.iloc[:,2:7])"
   ]
  },
  {
   "cell_type": "markdown",
   "metadata": {},
   "source": [
    "Grafica de la distancias de Mahalanobis y Euclidea"
   ]
  },
  {
   "cell_type": "code",
   "execution_count": null,
   "metadata": {},
   "outputs": [],
   "source": [
    "#,'o',label='Distancia de Mahalanobis'\n",
    "\n",
    "plt.plot(mahalNodos,label='Distancia de Mahalanobis')\n",
    "plt.legend()\n",
    "plt.figure()\n",
    "plt.plot(eucliNodos,label='Distancia Euclidea')\n",
    "plt.legend()\n",
    "plt.show()"
   ]
  },
  {
   "cell_type": "code",
   "execution_count": null,
   "metadata": {},
   "outputs": [],
   "source": [
    "sns.distplot(mahalNodos, kde=False, fit=stats.chi2);\n",
    "plt.figure()\n",
    "sns.distplot(eucliNodos, kde=False, fit=stats.chi2);"
   ]
  }
 ],
 "metadata": {
  "kernelspec": {
   "display_name": "Python 3",
   "language": "python",
   "name": "python3"
  },
  "language_info": {
   "codemirror_mode": {
    "name": "ipython",
    "version": 3
   },
   "file_extension": ".py",
   "mimetype": "text/x-python",
   "name": "python",
   "nbconvert_exporter": "python",
   "pygments_lexer": "ipython3",
   "version": "3.6.5"
  }
 },
 "nbformat": 4,
 "nbformat_minor": 2
}
