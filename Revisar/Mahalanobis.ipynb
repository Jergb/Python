{
 "cells": [
  {
   "cell_type": "code",
   "execution_count": 6,
   "metadata": {
    "scrolled": true
   },
   "outputs": [
    {
     "name": "stdout",
     "output_type": "stream",
     "text": [
      "Distancia de Mahalanobis\n",
      "\n",
      "datus: \n",
      "     0\n",
      "0   2\n",
      "1   5\n",
      "2   6\n",
      "3   4\n",
      "4   1\n",
      "5   3\n",
      "6   2\n",
      "7   3\n",
      "8   4\n",
      "9   6\n",
      "10  2\n",
      "11  4\n",
      "12  5\n",
      "13  5\n",
      "14  4\n",
      "15  2\n",
      "Matriz de datos:\n",
      "    Var1  Var2\n",
      "0     1     3\n",
      "1     3     4\n",
      "2     4     6\n",
      "3     5     2\n",
      "4     5     6\n",
      "5     2     4\n",
      "6     5     4\n",
      "7     2     2\n",
      "<class 'pandas.core.frame.DataFrame'>\n",
      "\n",
      "covarianza: \n",
      "           0\n",
      "0  2.383333\n"
     ]
    },
    {
     "data": {
      "image/png": "[encoded data removed]",
      "text/plain": [
       "<Figure size 432x288 with 1 Axes>"
      ]
     },
     "metadata": {},
     "output_type": "display_data"
    }
   ],
   "source": [
    "import matplotlib.pyplot as plt\n",
    "import pandas as pd\n",
    "import numpy as np\n",
    "import scipy as sp\n",
    "from scipy.spatial.distance import mahalanobis as MH\n",
    "\n",
    "print('Distancia de Mahalanobis\\n')\n",
    "Datos={}\n",
    "Datos['Var1']=[1,3,4,5,5,2,5,2]\n",
    "Datos['Var2']=[3,4,6,2,6,4,4,2]\n",
    "datus=pd.DataFrame([2,5,6,4,1,3,2,3,4,6,2,4,5,5,4,2])\n",
    "#print(datus.stack()\n",
    "print('datus: \\n',datus)\n",
    "Datos=pd.DataFrame(Datos)\n",
    "print('Matriz de datos:\\n',Datos)\n",
    "Data=Datos[['Var1','Var2']]\n",
    "print(type(Data))\n",
    "covarianza=datus.cov()\n",
    "print('\\ncovarianza: \\n',covarianza)\n",
    "invcov=sp.linalg.inv(covarianza)\n",
    "\n",
    "#print('\\nInverso de la covarianza: \\n',invcov)\n",
    "MD=Data.apply(lambda m:MH(m.Var1,m.Var2,invcov),axis=1)\n",
    "#print('\\nDistancia de Mahalanobis:\\n',MD)\n",
    "plt.plot(MD)\n",
    "plt.show()\n",
    "\n",
    "\n"
   ]
  },
  {
   "cell_type": "code",
   "execution_count": null,
   "metadata": {},
   "outputs": [],
   "source": []
  }
 ],
 "metadata": {
  "kernelspec": {
   "display_name": "Python 3",
   "language": "python",
   "name": "python3"
  },
  "language_info": {
   "codemirror_mode": {
    "name": "ipython",
    "version": 3
   },
   "file_extension": ".py",
   "mimetype": "text/x-python",
   "name": "python",
   "nbconvert_exporter": "python",
   "pygments_lexer": "ipython3",
   "version": "3.6.5"
  }
 },
 "nbformat": 4,
 "nbformat_minor": 2
}
