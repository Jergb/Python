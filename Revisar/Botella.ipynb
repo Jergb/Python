{
 "cells": [
  {
   "cell_type": "code",
   "execution_count": 1,
   "metadata": {},
   "outputs": [
    {
     "name": "stderr",
     "output_type": "stream",
     "text": [
      "Bottle v0.12.13 server starting up (using WSGIRefServer())...\n",
      "Listening on http://localhost:8080/\n",
      "Hit Ctrl-C to quit.\n",
      "\n",
      "127.0.0.1 - - [28/Jan/2019 16:46:31] \"GET / HTTP/1.1\" 200 14\n",
      "C:\\Users\\Jergb\\Anaconda3\\lib\\site-packages\\bottle.py:3468: DeprecationWarning: Flags not at the start of the expression \"((?m)[urbURB]?(?:''(\" (truncated)\n",
      "  patterns = [re.compile(p%pattern_vars) for p in patterns]\n",
      "C:\\Users\\Jergb\\Anaconda3\\lib\\site-packages\\bottle.py:3468: DeprecationWarning: Flags not at the start of the expression '\\\\{\\\\{((?:((?m)[urbURB' (truncated)\n",
      "  patterns = [re.compile(p%pattern_vars) for p in patterns]\n",
      "127.0.0.1 - - [28/Jan/2019 16:46:31] \"GET /favicon.ico HTTP/1.1\" 404 742\n"
     ]
    }
   ],
   "source": [
    "from bottle import route, run\n",
    "\n",
    "@route('/')\n",
    "@route('/hello/<name>')\n",
    "def greet(name='D223'):\n",
    "    return 'Hello %s, :D'%name\n",
    "run(host='localhost', port=8080, debug=True)"
   ]
  }
 ],
 "metadata": {
  "kernelspec": {
   "display_name": "Python 3",
   "language": "python",
   "name": "python3"
  },
  "language_info": {
   "codemirror_mode": {
    "name": "ipython",
    "version": 3
   },
   "file_extension": ".py",
   "mimetype": "text/x-python",
   "name": "python",
   "nbconvert_exporter": "python",
   "pygments_lexer": "ipython3",
   "version": "3.6.5"
  }
 },
 "nbformat": 4,
 "nbformat_minor": 2
}
