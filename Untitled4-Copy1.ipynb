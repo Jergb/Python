{
 "cells": [
  {
   "cell_type": "code",
   "execution_count": 1,
   "metadata": {},
   "outputs": [
    {
     "name": "stderr",
     "output_type": "stream",
     "text": [
      "Bottle v0.12.13 server starting up (using WSGIRefServer())...\n",
      "Listening on http://localhost:8080/\n",
      "Hit Ctrl-C to quit.\n",
      "\n",
      "127.0.0.1 - - [18/Sep/2018 07:33:08] \"GET / HTTP/1.1\" 200 14\n",
      "C:\\Users\\Jergb\\Anaconda3\\lib\\site-packages\\bottle.py:3129: ResourceWarning: unclosed <socket.socket fd=1320, family=AddressFamily.AF_INET, type=SocketKind.SOCK_STREAM, proto=0, laddr=('127.0.0.1', 8080)>\n",
      "  pass\n"
     ]
    }
   ],
   "source": [
    "from bottle import route, run\n",
    "\n",
    "@route('/')\n",
    "@route('/hello/<name>')\n",
    "def greet(name='D223'):\n",
    "    return 'Hello %s, :D'%name\n",
    "run(host='localhost', port=8080, debug=True)"
   ]
  },
  {
   "cell_type": "code",
   "execution_count": 4,
   "metadata": {},
   "outputs": [
    {
     "ename": "SyntaxError",
     "evalue": "invalid syntax (<ipython-input-4-6be8c9e61ef0>, line 3)",
     "output_type": "error",
     "traceback": [
      "\u001b[1;36m  File \u001b[1;32m\"<ipython-input-4-6be8c9e61ef0>\"\u001b[1;36m, line \u001b[1;32m3\u001b[0m\n\u001b[1;33m    y = json.dumps(x)`\u001b[0m\n\u001b[1;37m                     ^\u001b[0m\n\u001b[1;31mSyntaxError\u001b[0m\u001b[1;31m:\u001b[0m invalid syntax\n"
     ]
    }
   ],
   "source": [
    "# convert into JSON:\n",
    "x=[1,2]\n",
    "y = json.dumps(x)`"
   ]
  }
 ],
 "metadata": {
  "kernelspec": {
   "display_name": "Python 3",
   "language": "python",
   "name": "python3"
  },
  "language_info": {
   "codemirror_mode": {
    "name": "ipython",
    "version": 3
   },
   "file_extension": ".py",
   "mimetype": "text/x-python",
   "name": "python",
   "nbconvert_exporter": "python",
   "pygments_lexer": "ipython3",
   "version": "3.6.5"
  }
 },
 "nbformat": 4,
 "nbformat_minor": 2
}
