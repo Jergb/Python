{
 "cells": [
  {
   "cell_type": "markdown",
   "metadata": {},
   "source": [
    "# Ajuste de Oultiers\n",
    "El presente notebook presenta un algoritmo para suavizar outliers en series temporales de variables atmósfericas. Se trabaja con los valores obtenidos por una red inalámbrica de sensores desplegada en un cultivo de cacao en una vereda del municipio de San Cayetano, Norte de Santander. Las mediciones analizadas corresponden a las variables atmósfericas Temperatura, Humedad Relativa, Humedad de la Tierra e Intensidad Lumínica."
   ]
  },
  {
   "cell_type": "code",
   "execution_count": 1,
   "metadata": {},
   "outputs": [],
   "source": [
    "# Se importan los módulos necesarios\n",
    "import pandas as pd\n",
    "import matplotlib.pylab as plt\n",
    "from matplotlib import cm\n",
    "import seaborn as sns\n",
    "import funs\n",
    "from scipy.stats.stats import pearsonr\n",
    "\n",
    "# Se define un límite para las filas de los dataframes que se presenten en el notebook\n",
    "pd.options.display.max_rows = 10"
   ]
  },
  {
   "cell_type": "code",
   "execution_count": 18,
   "metadata": {},
   "outputs": [],
   "source": [
    "# Importa los datos correspondientes al nodo 2\n",
    "nodo = 5\n",
    "mediciones_cacao = pd.read_csv('mediciones_cacao_n%s.csv' %nodo)\n",
    "#mediciones_cacao.loc[:, 'TIME'] = [pd.Timestamp(x) for x in mediciones_cacao['TIME']]\n",
    "mediciones_cacao.drop('NIVEL UV',axis=1,inplace=True)\n",
    "mediciones_cacao = mediciones_cacao.head(20000).copy()\n",
    "# Crea dos copias de los datos, filtrado para realzar un filtro de valores atípicos\n",
    "# según el rango de medición y ajustado para suavizar la curva \n",
    "filtrado = mediciones_cacao.copy()\n",
    "ajustado = mediciones_cacao.copy()"
   ]
  },
  {
   "cell_type": "code",
   "execution_count": 19,
   "metadata": {},
   "outputs": [
    {
     "data": {
      "text/html": [
       "<div>\n",
       "<style scoped>\n",
       "    .dataframe tbody tr th:only-of-type {\n",
       "        vertical-align: middle;\n",
       "    }\n",
       "\n",
       "    .dataframe tbody tr th {\n",
       "        vertical-align: top;\n",
       "    }\n",
       "\n",
       "    .dataframe thead th {\n",
       "        text-align: right;\n",
       "    }\n",
       "</style>\n",
       "<table border=\"1\" class=\"dataframe\">\n",
       "  <thead>\n",
       "    <tr style=\"text-align: right;\">\n",
       "      <th></th>\n",
       "      <th>TEMPERATURA</th>\n",
       "      <th>HUMEDAD RELATIVA</th>\n",
       "      <th>HUMEDAD DE LA TIERRA</th>\n",
       "      <th>INTENSIDAD LUMÍNICA</th>\n",
       "      <th>HORA</th>\n",
       "      <th>TIME</th>\n",
       "    </tr>\n",
       "  </thead>\n",
       "  <tbody>\n",
       "    <tr>\n",
       "      <th>0</th>\n",
       "      <td>30</td>\n",
       "      <td>58</td>\n",
       "      <td>80.42</td>\n",
       "      <td>5829</td>\n",
       "      <td>10</td>\n",
       "      <td>2018-05-09 10:25:00</td>\n",
       "    </tr>\n",
       "    <tr>\n",
       "      <th>1</th>\n",
       "      <td>30</td>\n",
       "      <td>57</td>\n",
       "      <td>73.20</td>\n",
       "      <td>5829</td>\n",
       "      <td>10</td>\n",
       "      <td>2018-05-09 10:26:00</td>\n",
       "    </tr>\n",
       "    <tr>\n",
       "      <th>2</th>\n",
       "      <td>30</td>\n",
       "      <td>57</td>\n",
       "      <td>67.75</td>\n",
       "      <td>5841</td>\n",
       "      <td>10</td>\n",
       "      <td>2018-05-09 10:27:00</td>\n",
       "    </tr>\n",
       "    <tr>\n",
       "      <th>3</th>\n",
       "      <td>30</td>\n",
       "      <td>57</td>\n",
       "      <td>63.25</td>\n",
       "      <td>5824</td>\n",
       "      <td>10</td>\n",
       "      <td>2018-05-09 10:28:00</td>\n",
       "    </tr>\n",
       "    <tr>\n",
       "      <th>4</th>\n",
       "      <td>30</td>\n",
       "      <td>56</td>\n",
       "      <td>58.92</td>\n",
       "      <td>5835</td>\n",
       "      <td>10</td>\n",
       "      <td>2018-05-09 10:29:00</td>\n",
       "    </tr>\n",
       "    <tr>\n",
       "      <th>...</th>\n",
       "      <td>...</td>\n",
       "      <td>...</td>\n",
       "      <td>...</td>\n",
       "      <td>...</td>\n",
       "      <td>...</td>\n",
       "      <td>...</td>\n",
       "    </tr>\n",
       "    <tr>\n",
       "      <th>11766</th>\n",
       "      <td>33</td>\n",
       "      <td>29</td>\n",
       "      <td>6.59</td>\n",
       "      <td>5865</td>\n",
       "      <td>6</td>\n",
       "      <td>2018-06-11 06:13:00</td>\n",
       "    </tr>\n",
       "    <tr>\n",
       "      <th>11767</th>\n",
       "      <td>33</td>\n",
       "      <td>29</td>\n",
       "      <td>6.43</td>\n",
       "      <td>5865</td>\n",
       "      <td>6</td>\n",
       "      <td>2018-06-11 06:14:00</td>\n",
       "    </tr>\n",
       "    <tr>\n",
       "      <th>11768</th>\n",
       "      <td>33</td>\n",
       "      <td>29</td>\n",
       "      <td>6.43</td>\n",
       "      <td>5865</td>\n",
       "      <td>6</td>\n",
       "      <td>2018-06-11 06:15:00</td>\n",
       "    </tr>\n",
       "    <tr>\n",
       "      <th>11769</th>\n",
       "      <td>33</td>\n",
       "      <td>29</td>\n",
       "      <td>6.43</td>\n",
       "      <td>5865</td>\n",
       "      <td>6</td>\n",
       "      <td>2018-06-11 06:16:00</td>\n",
       "    </tr>\n",
       "    <tr>\n",
       "      <th>11770</th>\n",
       "      <td>33</td>\n",
       "      <td>29</td>\n",
       "      <td>6.43</td>\n",
       "      <td>5865</td>\n",
       "      <td>6</td>\n",
       "      <td>2018-06-11 06:17:00</td>\n",
       "    </tr>\n",
       "  </tbody>\n",
       "</table>\n",
       "<p>11771 rows × 6 columns</p>\n",
       "</div>"
      ],
      "text/plain": [
       "       TEMPERATURA  HUMEDAD RELATIVA  HUMEDAD DE LA TIERRA  \\\n",
       "0               30                58                 80.42   \n",
       "1               30                57                 73.20   \n",
       "2               30                57                 67.75   \n",
       "3               30                57                 63.25   \n",
       "4               30                56                 58.92   \n",
       "...            ...               ...                   ...   \n",
       "11766           33                29                  6.59   \n",
       "11767           33                29                  6.43   \n",
       "11768           33                29                  6.43   \n",
       "11769           33                29                  6.43   \n",
       "11770           33                29                  6.43   \n",
       "\n",
       "       INTENSIDAD LUMÍNICA  HORA                 TIME  \n",
       "0                     5829    10  2018-05-09 10:25:00  \n",
       "1                     5829    10  2018-05-09 10:26:00  \n",
       "2                     5841    10  2018-05-09 10:27:00  \n",
       "3                     5824    10  2018-05-09 10:28:00  \n",
       "4                     5835    10  2018-05-09 10:29:00  \n",
       "...                    ...   ...                  ...  \n",
       "11766                 5865     6  2018-06-11 06:13:00  \n",
       "11767                 5865     6  2018-06-11 06:14:00  \n",
       "11768                 5865     6  2018-06-11 06:15:00  \n",
       "11769                 5865     6  2018-06-11 06:16:00  \n",
       "11770                 5865     6  2018-06-11 06:17:00  \n",
       "\n",
       "[11771 rows x 6 columns]"
      ]
     },
     "execution_count": 19,
     "metadata": {},
     "output_type": "execute_result"
    }
   ],
   "source": [
    "mediciones_cacao"
   ]
  },
  {
   "cell_type": "code",
   "execution_count": 20,
   "metadata": {},
   "outputs": [
    {
     "data": {
      "image/png": "[encoded data removed]",
      "text/plain": [
       "<Figure size 432x288 with 1 Axes>"
      ]
     },
     "metadata": {},
     "output_type": "display_data"
    },
    {
     "data": {
      "image/png": "[encoded data removed]",
      "text/plain": [
       "<Figure size 432x288 with 1 Axes>"
      ]
     },
     "metadata": {},
     "output_type": "display_data"
    },
    {
     "data": {
      "image/png": "[encoded data removed]",
      "text/plain": [
       "<Figure size 432x288 with 1 Axes>"
      ]
     },
     "metadata": {},
     "output_type": "display_data"
    },
    {
     "data": {
      "image/png": "[encoded data removed]",
      "text/plain": [
       "<Figure size 432x288 with 1 Axes>"
      ]
     },
     "metadata": {},
     "output_type": "display_data"
    }
   ],
   "source": [
    "# Grafica las variables  de interes\n",
    "a=510\n",
    "for i in range(0,4):\n",
    "    a+=1\n",
    "    #plt.subplot(a)\n",
    "    plt.figure()\n",
    "    plt.plot(mediciones_cacao.iloc[:,i])\n",
    "    plt.title(mediciones_cacao.columns[i])\n",
    "    plt.tight_layout()\n"
   ]
  },
  {
   "cell_type": "markdown",
   "metadata": {},
   "source": [
    "A partir de los gráficos de los valores medidos es posible deducir relaciones existentes entre las variables:\n",
    "- Relación de proporcionaliad inversa entre la temperatura y la humedad relativa.\n",
    "- Correlación positiva entre la humedad relativa y la humedad del suelo.\n",
    "- Correspodencia de los valores máximos de intensidad lumínica con los ciclos positivos de temperatura.\n",
    "\n",
    "Correlaciones positivas\n",
    "- Temperatura - Intensidad Lumínica.\n",
    "- Humedad Relativa - Humedad de la Tierra.\n",
    "\n",
    "Correlaciones negativas\n",
    "- Temperatura - Humedad Relativa\n",
    "- Temperatura - Humedad de la Tierra.\n",
    "- Humedad Relativa - Intensidad Lumínica.\n",
    "\n",
    "A continuación se realiza un grafico de matriz de correlación para visualizar mejor la relación entre las varibles."
   ]
  },
  {
   "cell_type": "code",
   "execution_count": 21,
   "metadata": {},
   "outputs": [
    {
     "data": {
      "image/png": "[encoded data removed]",
      "text/plain": [
       "<Figure size 432x288 with 2 Axes>"
      ]
     },
     "metadata": {},
     "output_type": "display_data"
    }
   ],
   "source": [
    "sns.heatmap(mediciones_cacao.corr(), annot=True, cmap='RdYlGn',fmt=\".2f\")\n",
    "plt.title('CORRELACIÓN DE LAS MEDICIONES DEL NODO %s' %nodo)\n",
    "plt.show()"
   ]
  },
  {
   "cell_type": "markdown",
   "metadata": {},
   "source": [
    "Se aplica un filtro para ajustar el rango de valores medidos de las variables, variando el mismo desde un límite máximo basado en el rango de medida del sensor, hasta el rango definido por el criterio de Tukey para los valores de la variable. Finalmente se selecciona el rango que garantice la mejor correlación entre las variables."
   ]
  },
  {
   "cell_type": "code",
   "execution_count": 22,
   "metadata": {},
   "outputs": [],
   "source": [
    "def info_var(v):\n",
    "    'Grafica todos los valores medidos para la variable v'\n",
    "    variable = mediciones_cacao.columns[v]\n",
    "    \n",
    "    plt.plot(mediciones_cacao[variable],'orange',label='datos')\n",
    "    plt.title(variable)\n",
    "    plt.legend()\n",
    "    \n",
    "def tukey(variable):\n",
    "    'Obtiene los límites superiores e inferiores para v'\n",
    "    \n",
    "    RIQ = variable.quantile(q=.75) - variable.quantile(q=.25)\n",
    "    Li = variable.quantile(q=.25) - RIQ * 1.5\n",
    "    Ls = variable.quantile(q=.75) + RIQ * 1.5\n",
    "    return Li, Ls"
   ]
  },
  {
   "cell_type": "code",
   "execution_count": 23,
   "metadata": {},
   "outputs": [],
   "source": [
    "def filtro(variable,i,q):\n",
    "    'Iguala el valor de una medición a un determinado valor límite'\n",
    "    global filtrado\n",
    "    \n",
    "    try:\n",
    "        filtrado[variable][i] = filtrado[variable][i-120:i].median()   \n",
    "        \n",
    "    except KeyError:\n",
    "        filtrado[variable][i]= q\n",
    "    return\n",
    "\n",
    "def filtro_var(v,lim_i,lim_s):\n",
    "    'Ajusta los valores atípicos en las mediciones de la variable v'\n",
    "    \n",
    "    global filtrado,filtrar\n",
    "    variable=filtrado.columns[v]\n",
    "    Li, Ls = tukey(filtrado[variable])\n",
    "\n",
    "    for i in range(len(filtrado[variable])):\n",
    "              \n",
    "        if filtrado[variable][i] >= lim_s:\n",
    "            filtro(variable,i,filtrado[variable].quantile(.75))\n",
    "        \n",
    "        elif filtrado[variable][i] <= lim_i:\n",
    "            filtro(variable,i,filtrado[variable].quantile(.25))\n",
    "            \n",
    "        elif filtrado[variable][i] >= Ls and Ls > lim_s:\n",
    "            filtro(variable,i,filtrado[variable].quantile(.75))\n",
    "            \n",
    "        elif filtrado[variable][i] <= Li and Li < lim_i:\n",
    "            filtro(variable,i,filtrado[variable].quantile(.25))\n",
    "    return filtrado.corr()"
   ]
  },
  {
   "cell_type": "code",
   "execution_count": 24,
   "metadata": {},
   "outputs": [],
   "source": [
    "def up_ajuste(filtrado,v):\n",
    "    global ajustado\n",
    "    variable=ajustado.columns[v]\n",
    "    ajustado[variable]=filtrado[variable].copy()\n",
    "    return\n",
    "\n",
    "def ajuste_variacion(v):\n",
    "    'Ajusta los valores que presentan una variación superior a la std'\n",
    "    global ajustado\n",
    "    up_ajuste(filtrado,v)\n",
    "    variable=ajustado.columns[v]\n",
    "    ventana=60\n",
    "    rolling_std = ajustado[variable].rolling(ventana).std()\n",
    "    rolling_std_inv=ajustado[variable].iloc[::-1].rolling(ventana).std().iloc[::-1]\n",
    "    indice=rolling_std[rolling_std.isnull().values].index\n",
    "    rolling_std[indice[0]]=rolling_std_inv[indice[0]]\n",
    "\n",
    "    nvalores=ajustado[variable][rolling_std>(rolling_std.mean())].index.values\n",
    "    rolling_median=ajustado[variable].rolling(ventana).median()\n",
    "    rolling_median_inv=ajustado[variable].iloc[::-1].rolling(ventana).median().iloc[::-1]\n",
    "    indice=rolling_median[rolling_median.isnull().values].index\n",
    "    rolling_median[indice[0]]=rolling_median_inv[indice[0]]\n",
    "    suave=ajustado[variable].copy()\n",
    "    suave[nvalores]=rolling_median[nvalores+ventana]\n",
    "    plt.figure()\n",
    "    plt.plot(filtrado[variable],label='filtrado')\n",
    "    plt.plot(suave,label='suavizado')\n",
    "    plt.legend()\n",
    "    ajustado[variable]=suave\n",
    "    return         "
   ]
  },
  {
   "cell_type": "code",
   "execution_count": null,
   "metadata": {},
   "outputs": [],
   "source": [
    "def val_ranngo(Li,lim_i,lim_s,var,var_rel)         \n",
    "    'Determia la columna de correlación entre dos variables'\n",
    "    global mediciones_cacao\n",
    "    correl={'corre':[]}\n",
    "    for rango in range(int(Li),lim_i):\n",
    "        # Eto se puede  variar y que filtro var devuelva el indice de correlación de Pearson\n",
    "        filtrado = mediciones_cacao.copy()\n",
    "        # Aplcación del filtro de rango\n",
    "        corre = filtro_var(v,rango,lim_s)\n",
    "        correl['corre'].append(corre.iloc[var,var_rel])\n",
    "    return"
   ]
  },
  {
   "cell_type": "code",
   "execution_count": null,
   "metadata": {},
   "outputs": [],
   "source": [
    "def recorrido(var,var_rel): \n",
    "    if Li>lim_i:\n",
    "        print('Li mayor')\n",
    "        correl={'corre':[]}\n",
    "        # ciclo for para variar el rango desde el límite inferior hasta el límite de Tukey\n",
    "        for rango in range(lim_i,int(Li)):\n",
    "            # Eto se puede  variar y que filtro var devuelva el indice de correlación de Pearson\n",
    "            filtrado = mediciones_cacao.copy()\n",
    "            # Aplcación del filtro de rango\n",
    "            corre = filtro_var(v,rango,lim_s)\n",
    "            correl['corre'].append(corre.iloc[var,var_rel])\n",
    "    else:\n",
    "        print('else')\n",
    "        # ciclo for para variar el rango desde el límite inferior hasta el límite de Tukey\n",
    "        correl={'corre':[]}\n",
    "        for rango in range(int(Li),lim_i):\n",
    "            # Eto se puede  variar y que filtro var devuelva el indice de correlación de Pearson\n",
    "            filtrado = mediciones_cacao.copy()\n",
    "            # Aplcación del filtro de rango\n",
    "            corre = filtro_var(v,rango,lim_s)\n",
    "            correl['corre'].append(corre.iloc[var,var_rel])\n",
    "            \n",
    "    correl=pd.DataFrame(correl)\n",
    "    # Devuelve el límite infeior más cercano al límite de Tukey con menor correlación\n",
    "    menor = correl.index[correl['corre'] == correl.corre.min()].tolist()[-1]"
   ]
  },
  {
   "cell_type": "code",
   "execution_count": 30,
   "metadata": {
    "scrolled": false
   },
   "outputs": [
    {
     "name": "stdout",
     "output_type": "stream",
     "text": [
      "-21.5\n",
      "else\n"
     ]
    },
    {
     "name": "stderr",
     "output_type": "stream",
     "text": [
      "C:\\Users\\Jergb\\Anaconda3\\lib\\site-packages\\ipykernel_launcher.py:6: SettingWithCopyWarning: \n",
      "A value is trying to be set on a copy of a slice from a DataFrame\n",
      "\n",
      "See the caveats in the documentation: http://pandas.pydata.org/pandas-docs/stable/indexing.html#indexing-view-versus-copy\n",
      "  \n",
      "C:\\Users\\Jergb\\Anaconda3\\lib\\site-packages\\pandas\\core\\indexing.py:189: SettingWithCopyWarning: \n",
      "A value is trying to be set on a copy of a slice from a DataFrame\n",
      "\n",
      "See the caveats in the documentation: http://pandas.pydata.org/pandas-docs/stable/indexing.html#indexing-view-versus-copy\n",
      "  self._setitem_with_indexer(indexer, value)\n"
     ]
    },
    {
     "name": "stdout",
     "output_type": "stream",
     "text": [
      "menor 36\n"
     ]
    },
    {
     "data": {
      "text/plain": [
       "16"
      ]
     },
     "execution_count": 30,
     "metadata": {},
     "output_type": "execute_result"
    }
   ],
   "source": [
    "def filtro_rango(v,lim_i,lim_s):\n",
    "    global mediciones_cacao\n",
    "    \n",
    "    variable = mediciones_cacao.columns[v]\n",
    "    \n",
    "    # Se realiza el test de Tukey\n",
    "    Li, Ls = tukey(mediciones_cacao[variable])\n",
    "    print(Li)\n",
    "    # se verifica si el límite inferior de Tukey es mayor que el límite inferior de medida\n",
    "    if Li>lim_i:\n",
    "        print('Li mayor')\n",
    "        # ciclo for para variar el rango desde el límite inferior hasta el límite de Tukey\n",
    "        for rango in range(lim_i,int(Li)):\n",
    "            # Eto se puede  variar y que filtro var devuelva el indice de correlación de Pearson\n",
    "            filtrado = mediciones_cacao.copy()\n",
    "            # Aplcación del filtro de rango\n",
    "            corr = filtro_var(v,rango,lim_s)\n",
    "            print(corr)\n",
    "    else:\n",
    "        print('else')\n",
    "        # ciclo for para variar el rango desde el límite inferior hasta el límite de Tukey\n",
    "        correl={'corre':[]}\n",
    "        for rango in range(int(Li),lim_i):\n",
    "            # Eto se puede  variar y que filtro var devuelva el indice de correlación de Pearson\n",
    "            filtrado = mediciones_cacao.copy()\n",
    "            # Aplcación del filtro de rango\n",
    "            corre = filtro_var(v,rango,lim_s)\n",
    "            correl['corre'].append(corre.iloc[0,1])\n",
    "    correl=pd.DataFrame(correl)\n",
    "    # Devuelve el límite infeior más cercano al límite de Tukey con menor correlación\n",
    "    menor = correl.index[correl['corre'] == correl.corre.min()].tolist()[-1]\n",
    "    print('menor',menor)\n",
    "    Li=int(Li)+menor+1\n",
    "        \n",
    "    return Li\n",
    "        \n",
    "\n",
    "filtrado = mediciones_cacao.copy()\n",
    "a=filtro_rango(1,16,55)\n",
    "a"
   ]
  },
  {
   "cell_type": "markdown",
   "metadata": {},
   "source": [
    "Temperatura 0\n",
    "HR 1\n",
    "HS 2\n",
    "IL 3\n",
    "H 4\n",
    "correlación--->(X,X)"
   ]
  },
  {
   "cell_type": "code",
   "execution_count": 28,
   "metadata": {},
   "outputs": [
    {
     "data": {
      "text/html": [
       "<div>\n",
       "<style scoped>\n",
       "    .dataframe tbody tr th:only-of-type {\n",
       "        vertical-align: middle;\n",
       "    }\n",
       "\n",
       "    .dataframe tbody tr th {\n",
       "        vertical-align: top;\n",
       "    }\n",
       "\n",
       "    .dataframe thead th {\n",
       "        text-align: right;\n",
       "    }\n",
       "</style>\n",
       "<table border=\"1\" class=\"dataframe\">\n",
       "  <thead>\n",
       "    <tr style=\"text-align: right;\">\n",
       "      <th></th>\n",
       "      <th>TEMPERATURA</th>\n",
       "      <th>HUMEDAD RELATIVA</th>\n",
       "      <th>HUMEDAD DE LA TIERRA</th>\n",
       "      <th>INTENSIDAD LUMÍNICA</th>\n",
       "      <th>HORA</th>\n",
       "    </tr>\n",
       "  </thead>\n",
       "  <tbody>\n",
       "    <tr>\n",
       "      <th>TEMPERATURA</th>\n",
       "      <td>1.000000</td>\n",
       "      <td>-0.619261</td>\n",
       "      <td>-0.160006</td>\n",
       "      <td>0.748181</td>\n",
       "      <td>-0.067127</td>\n",
       "    </tr>\n",
       "    <tr>\n",
       "      <th>HUMEDAD RELATIVA</th>\n",
       "      <td>-0.619261</td>\n",
       "      <td>1.000000</td>\n",
       "      <td>0.440134</td>\n",
       "      <td>-0.439747</td>\n",
       "      <td>0.099167</td>\n",
       "    </tr>\n",
       "    <tr>\n",
       "      <th>HUMEDAD DE LA TIERRA</th>\n",
       "      <td>-0.160006</td>\n",
       "      <td>0.440134</td>\n",
       "      <td>1.000000</td>\n",
       "      <td>0.011778</td>\n",
       "      <td>-0.021691</td>\n",
       "    </tr>\n",
       "    <tr>\n",
       "      <th>INTENSIDAD LUMÍNICA</th>\n",
       "      <td>0.748181</td>\n",
       "      <td>-0.439747</td>\n",
       "      <td>0.011778</td>\n",
       "      <td>1.000000</td>\n",
       "      <td>-0.316369</td>\n",
       "    </tr>\n",
       "    <tr>\n",
       "      <th>HORA</th>\n",
       "      <td>-0.067127</td>\n",
       "      <td>0.099167</td>\n",
       "      <td>-0.021691</td>\n",
       "      <td>-0.316369</td>\n",
       "      <td>1.000000</td>\n",
       "    </tr>\n",
       "  </tbody>\n",
       "</table>\n",
       "</div>"
      ],
      "text/plain": [
       "                      TEMPERATURA  HUMEDAD RELATIVA  HUMEDAD DE LA TIERRA  \\\n",
       "TEMPERATURA              1.000000         -0.619261             -0.160006   \n",
       "HUMEDAD RELATIVA        -0.619261          1.000000              0.440134   \n",
       "HUMEDAD DE LA TIERRA    -0.160006          0.440134              1.000000   \n",
       "INTENSIDAD LUMÍNICA      0.748181         -0.439747              0.011778   \n",
       "HORA                    -0.067127          0.099167             -0.021691   \n",
       "\n",
       "                      INTENSIDAD LUMÍNICA      HORA  \n",
       "TEMPERATURA                      0.748181 -0.067127  \n",
       "HUMEDAD RELATIVA                -0.439747  0.099167  \n",
       "HUMEDAD DE LA TIERRA             0.011778 -0.021691  \n",
       "INTENSIDAD LUMÍNICA              1.000000 -0.316369  \n",
       "HORA                            -0.316369  1.000000  "
      ]
     },
     "execution_count": 28,
     "metadata": {},
     "output_type": "execute_result"
    }
   ],
   "source": [
    "filtro_var(0,0,50)"
   ]
  },
  {
   "cell_type": "code",
   "execution_count": null,
   "metadata": {},
   "outputs": [],
   "source": [
    "a={'corre':[3,5,2,2,1]}\n",
    "a=pd.DataFrame(a)\n",
    "a.index[a['corre'] == a.corre.min()].tolist()[0]\n",
    "#pd.DataFrame(d)\n",
    "#d[0]"
   ]
  },
  {
   "cell_type": "code",
   "execution_count": null,
   "metadata": {},
   "outputs": [],
   "source": [
    "Debe variar los límites y escoger el rango que asegure la mejor correación, luego pasa a trabajar con otra variable \n",
    "y repite el paso anterior, así hasta completar todas las variables, luego vuelve a comenzar, se realiza hasa que todas \n",
    "las variables presentan el valor de correlación más óptimo.\n",
    "def filter():\n",
    "# calcular la correlación entre la variable de ineres y las demás\n",
    "# variar el límte superior hasta llegar al valor dspuesto por tukey para el límite superior, seleccioar el valor superior\n",
    "#que ofrece la mejor correlación con las demás variables. VAriar el límite inferior......\n",
    "# pasar a la sigiente variable.....\n",
    "# Repetir hasta opbtner los mejores valores\n",
    "\n",
    "# Se hace de manera ana´loga para suavizar la serie"
   ]
  },
  {
   "cell_type": "markdown",
   "metadata": {},
   "source": [
    "El sensor DHT11 tiene rangos de medición de:  \n",
    "- Temperatura de $(20°C - 50°C)\\pm5°C$  \n",
    "- Humedad Ralativa de $(20\\% - 90\\%)\\pm2\\%$\n",
    "\n",
    "L arelación entre la temperatura y la humedad relativa es de una correlación negativa\n"
   ]
  },
  {
   "cell_type": "code",
   "execution_count": null,
   "metadata": {},
   "outputs": [],
   "source": [
    "(mediciones_cacao.iloc[:,1:2]).boxplot()\n",
    "plt.figure()\n",
    "\n",
    "info_var(1)\n",
    "filtro_var(1,0,54)\n",
    "ajuste_variacion(1)\n",
    "\n",
    "plt.figure()\n",
    "\n",
    "(ajustado.iloc[:,1:2]).boxplot()\n",
    "filtrado.corr().iloc[:,0:1]"
   ]
  },
  {
   "cell_type": "code",
   "execution_count": null,
   "metadata": {},
   "outputs": [],
   "source": [
    "plt.scatter(mediciones_cacao.iloc[:,1],mediciones_cacao.iloc[:,2])\n",
    "plt.figure()\n",
    "plt.hist(mediciones_cacao.iloc[:,1])\n",
    "plt.hist(mediciones_cacao.iloc[:,2])\n",
    "plt.show()"
   ]
  },
  {
   "cell_type": "code",
   "execution_count": null,
   "metadata": {},
   "outputs": [],
   "source": [
    "info_var(1)\n",
    "filtro_var(1,0,54)\n",
    "ajuste_variacion(1)\n",
    "plt.figure()\n",
    "plt.plot(mediciones_cacao.iloc[:,1].rolling(60).std())"
   ]
  },
  {
   "cell_type": "code",
   "execution_count": null,
   "metadata": {},
   "outputs": [],
   "source": [
    "info_var(2)\n",
    "filtro_var(2,10,100)\n",
    "ajuste_variacion(2)\n",
    "plt.figure()\n",
    "plt.plot(mediciones_cacao.iloc[:,2].rolling(60).std())"
   ]
  },
  {
   "cell_type": "code",
   "execution_count": null,
   "metadata": {},
   "outputs": [],
   "source": [
    "-1<3\n"
   ]
  },
  {
   "cell_type": "code",
   "execution_count": null,
   "metadata": {},
   "outputs": [],
   "source": [
    "info_var(3)\n",
    "filtro_var(3,0,100)\n",
    "ajuste_variacion(3)\n",
    "plt.figure()\n",
    "plt.plot(mediciones_cacao.iloc[:,3].rolling(60).std())"
   ]
  },
  {
   "cell_type": "code",
   "execution_count": null,
   "metadata": {},
   "outputs": [],
   "source": [
    "info_var(4)\n",
    "filtro_var(4,-10,6000)\n",
    "ajuste_variacion(4)\n",
    "plt.figure()\n",
    "plt.plot(mediciones_cacao.iloc[:,4].rolling(60).std())"
   ]
  },
  {
   "cell_type": "code",
   "execution_count": null,
   "metadata": {},
   "outputs": [],
   "source": [
    "mediciones_cacao['NODO'].replace(to_replace=[nodo], value='Nodo%s'%nodo, inplace=True) \n",
    "sns.pairplot(mediciones_cacao,hue='NODO',plot_kws=dict(s=10),diag_kind='kde')\n",
    "plt.show()"
   ]
  },
  {
   "cell_type": "code",
   "execution_count": null,
   "metadata": {},
   "outputs": [],
   "source": [
    "ajustado['NODO'].replace(to_replace=[nodo], value='Nodo%s' %nodo, inplace=True) \n",
    "sns.pairplot(ajustado,hue='NODO',plot_kws=dict(s=10),diag_kind=('kde'))\n",
    "plt.show()"
   ]
  },
  {
   "cell_type": "code",
   "execution_count": null,
   "metadata": {},
   "outputs": [],
   "source": [
    "filtrado['NODO'].replace(to_replace=[nodo], value='Nodo%s' %nodo, inplace=True) \n",
    "\n",
    "sns.heatmap(mediciones_cacao.corr(), annot=True, cmap='RdYlGn',fmt=\".2f\")\n",
    "plt.title('CORRELACIÓN DE LAS MEDICIONES DEL NODO %s' %nodo)\n",
    "plt.figure()\n",
    "sns.heatmap(filtrado.corr(), annot=True, cmap='RdYlGn',fmt=\".2f\")\n",
    "plt.title('MEDICIONES FILTRADAS DEL NODO %s' %nodo)\n",
    "plt.figure()\n",
    "sns.heatmap(ajustado.corr(), annot=True, cmap='RdYlGn',fmt=\".2f\")\n",
    "plt.title('MEDICIONES AJUSTADAS DEL NODO %s' %nodo)\n",
    "plt.show()"
   ]
  }
 ],
 "metadata": {
  "kernelspec": {
   "display_name": "Python 3",
   "language": "python",
   "name": "python3"
  },
  "language_info": {
   "codemirror_mode": {
    "name": "ipython",
    "version": 3
   },
   "file_extension": ".py",
   "mimetype": "text/x-python",
   "name": "python",
   "nbconvert_exporter": "python",
   "pygments_lexer": "ipython3",
   "version": "3.6.5"
  }
 },
 "nbformat": 4,
 "nbformat_minor": 2
}
