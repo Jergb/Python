{
 "cells": [
  {
   "cell_type": "code",
   "execution_count": 1,
   "metadata": {},
   "outputs": [],
   "source": [
    "import pandas as pd\n",
    "import numpy as np\n",
    "import matplotlib.pyplot as plt\n",
    "pd.options.display.max_rows = 10"
   ]
  },
  {
   "cell_type": "code",
   "execution_count": 2,
   "metadata": {},
   "outputs": [
    {
     "data": {
      "text/html": [
       "<div>\n",
       "<style scoped>\n",
       "    .dataframe tbody tr th:only-of-type {\n",
       "        vertical-align: middle;\n",
       "    }\n",
       "\n",
       "    .dataframe tbody tr th {\n",
       "        vertical-align: top;\n",
       "    }\n",
       "\n",
       "    .dataframe thead th {\n",
       "        text-align: right;\n",
       "    }\n",
       "</style>\n",
       "<table border=\"1\" class=\"dataframe\">\n",
       "  <thead>\n",
       "    <tr style=\"text-align: right;\">\n",
       "      <th></th>\n",
       "      <th>IDMEDIDA</th>\n",
       "      <th>NODO</th>\n",
       "      <th>TEMPERATURA</th>\n",
       "      <th>HUMEDAD RELATIVA</th>\n",
       "      <th>HUMEDAD DE LA TIERRA</th>\n",
       "      <th>NIVEL UV</th>\n",
       "      <th>INTENSIDAD LUMÍNICA</th>\n",
       "    </tr>\n",
       "  </thead>\n",
       "  <tbody>\n",
       "    <tr>\n",
       "      <th>count</th>\n",
       "      <td>11042.000000</td>\n",
       "      <td>11042.0</td>\n",
       "      <td>11042.000000</td>\n",
       "      <td>11042.000000</td>\n",
       "      <td>11042.000000</td>\n",
       "      <td>11042.000000</td>\n",
       "      <td>11042.000000</td>\n",
       "    </tr>\n",
       "    <tr>\n",
       "      <th>mean</th>\n",
       "      <td>10996.422297</td>\n",
       "      <td>2.0</td>\n",
       "      <td>28.693896</td>\n",
       "      <td>37.125158</td>\n",
       "      <td>42.073058</td>\n",
       "      <td>0.007607</td>\n",
       "      <td>3289.650335</td>\n",
       "    </tr>\n",
       "    <tr>\n",
       "      <th>std</th>\n",
       "      <td>6398.010014</td>\n",
       "      <td>0.0</td>\n",
       "      <td>5.756363</td>\n",
       "      <td>21.689961</td>\n",
       "      <td>34.967362</td>\n",
       "      <td>0.086891</td>\n",
       "      <td>2775.450787</td>\n",
       "    </tr>\n",
       "    <tr>\n",
       "      <th>min</th>\n",
       "      <td>1.000000</td>\n",
       "      <td>2.0</td>\n",
       "      <td>-20.000000</td>\n",
       "      <td>5.000000</td>\n",
       "      <td>0.820000</td>\n",
       "      <td>0.000000</td>\n",
       "      <td>0.000000</td>\n",
       "    </tr>\n",
       "    <tr>\n",
       "      <th>25%</th>\n",
       "      <td>5431.500000</td>\n",
       "      <td>2.0</td>\n",
       "      <td>25.000000</td>\n",
       "      <td>19.000000</td>\n",
       "      <td>5.310000</td>\n",
       "      <td>0.000000</td>\n",
       "      <td>0.000000</td>\n",
       "    </tr>\n",
       "    <tr>\n",
       "      <th>50%</th>\n",
       "      <td>10958.000000</td>\n",
       "      <td>2.0</td>\n",
       "      <td>28.000000</td>\n",
       "      <td>31.000000</td>\n",
       "      <td>62.930000</td>\n",
       "      <td>0.000000</td>\n",
       "      <td>5636.000000</td>\n",
       "    </tr>\n",
       "    <tr>\n",
       "      <th>75%</th>\n",
       "      <td>16549.500000</td>\n",
       "      <td>2.0</td>\n",
       "      <td>32.000000</td>\n",
       "      <td>48.000000</td>\n",
       "      <td>75.290000</td>\n",
       "      <td>0.000000</td>\n",
       "      <td>5847.000000</td>\n",
       "    </tr>\n",
       "    <tr>\n",
       "      <th>max</th>\n",
       "      <td>22812.000000</td>\n",
       "      <td>2.0</td>\n",
       "      <td>60.000000</td>\n",
       "      <td>95.000000</td>\n",
       "      <td>90.220000</td>\n",
       "      <td>1.000000</td>\n",
       "      <td>5941.000000</td>\n",
       "    </tr>\n",
       "  </tbody>\n",
       "</table>\n",
       "</div>"
      ],
      "text/plain": [
       "           IDMEDIDA     NODO   TEMPERATURA  HUMEDAD RELATIVA  \\\n",
       "count  11042.000000  11042.0  11042.000000      11042.000000   \n",
       "mean   10996.422297      2.0     28.693896         37.125158   \n",
       "std     6398.010014      0.0      5.756363         21.689961   \n",
       "min        1.000000      2.0    -20.000000          5.000000   \n",
       "25%     5431.500000      2.0     25.000000         19.000000   \n",
       "50%    10958.000000      2.0     28.000000         31.000000   \n",
       "75%    16549.500000      2.0     32.000000         48.000000   \n",
       "max    22812.000000      2.0     60.000000         95.000000   \n",
       "\n",
       "       HUMEDAD DE LA TIERRA      NIVEL UV  INTENSIDAD LUMÍNICA  \n",
       "count          11042.000000  11042.000000         11042.000000  \n",
       "mean              42.073058      0.007607          3289.650335  \n",
       "std               34.967362      0.086891          2775.450787  \n",
       "min                0.820000      0.000000             0.000000  \n",
       "25%                5.310000      0.000000             0.000000  \n",
       "50%               62.930000      0.000000          5636.000000  \n",
       "75%               75.290000      0.000000          5847.000000  \n",
       "max               90.220000      1.000000          5941.000000  "
      ]
     },
     "execution_count": 2,
     "metadata": {},
     "output_type": "execute_result"
    }
   ],
   "source": [
    "mediciones_cacao = pd.read_csv('medidas.csv')\n",
    "nodo = 2\n",
    "mediciones_cacao = mediciones_cacao.query('NODO == %s' %nodo).reset_index(drop=True)\n",
    "mediciones_cacao.describe()"
   ]
  },
  {
   "cell_type": "code",
   "execution_count": 3,
   "metadata": {},
   "outputs": [
    {
     "data": {
      "image/png": "[encoded data removed]",
      "text/plain": [
       "<Figure size 432x288 with 1 Axes>"
      ]
     },
     "metadata": {},
     "output_type": "display_data"
    },
    {
     "data": {
      "text/plain": [
       "5.756362523354888"
      ]
     },
     "execution_count": 3,
     "metadata": {},
     "output_type": "execute_result"
    }
   ],
   "source": [
    "window = 100\n",
    "\n",
    "n=2\n",
    "mediciones_cacao['std'] = mediciones_cacao.iloc[:,n].rolling(window).mean()\n",
    "mediciones_cacao.iloc[:,[n,8]].plot()\n",
    "plt.show()\n",
    "mediciones_cacao.iloc[:,n].std()"
   ]
  },
  {
   "cell_type": "code",
   "execution_count": 5,
   "metadata": {},
   "outputs": [],
   "source": [
    "mediciones_cacao.iloc[:,2] = mediciones_cacao.iloc[:,2].rolling(window).std()"
   ]
  },
  {
   "cell_type": "code",
   "execution_count": 6,
   "metadata": {},
   "outputs": [
    {
     "data": {
      "text/plain": [
       "[<matplotlib.lines.Line2D at 0x1c588a83940>]"
      ]
     },
     "execution_count": 6,
     "metadata": {},
     "output_type": "execute_result"
    },
    {
     "data": {
      "image/png": "[encoded data removed]",
      "text/plain": [
       "<Figure size 432x288 with 1 Axes>"
      ]
     },
     "metadata": {},
     "output_type": "display_data"
    }
   ],
   "source": [
    "plt.plot(mediciones_cacao.iloc[:,2],mediciones_cacao.iloc[:,7])\n",
    "plt.show()"
   ]
  }
 ],
 "metadata": {
  "kernelspec": {
   "display_name": "Python 3",
   "language": "python",
   "name": "python3"
  },
  "language_info": {
   "codemirror_mode": {
    "name": "ipython",
    "version": 3
   },
   "file_extension": ".py",
   "mimetype": "text/x-python",
   "name": "python",
   "nbconvert_exporter": "python",
   "pygments_lexer": "ipython3",
   "version": "3.6.5"
  }
 },
 "nbformat": 4,
 "nbformat_minor": 2
}
