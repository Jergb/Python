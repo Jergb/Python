{
 "cells": [
  {
   "cell_type": "markdown",
   "metadata": {},
   "source": [
    "# LSTM  para predecir a los pasajeros de las aerolíneas internacionales"
   ]
  },
  {
   "cell_type": "code",
   "execution_count": 1,
   "metadata": {},
   "outputs": [
    {
     "name": "stderr",
     "output_type": "stream",
     "text": [
      "C:\\Users\\Jergb\\Anaconda3\\lib\\site-packages\\h5py\\__init__.py:36: FutureWarning: Conversion of the second argument of issubdtype from `float` to `np.floating` is deprecated. In future, it will be treated as `np.float64 == np.dtype(float).type`.\n",
      "  from ._conv import register_converters as _register_converters\n",
      "Using TensorFlow backend.\n"
     ]
    }
   ],
   "source": [
    "import numpy\n",
    "import matplotlib.pyplot as plt\n",
    "from pandas import read_csv\n",
    "import math\n",
    "import time\n",
    "import pandas as pd\n",
    "from keras.models import Sequential\n",
    "from keras.layers import Bidirectional \n",
    "from keras.layers import Dense\n",
    "from keras.layers import LSTM\n",
    "from keras.callbacks import EarlyStopping\n",
    "from sklearn.preprocessing import MinMaxScaler\n",
    "from sklearn.metrics import mean_squared_error"
   ]
  },
  {
   "cell_type": "markdown",
   "metadata": {},
   "source": [
    "# convertimos un array de valores en una matriz de conjuntos de datos\n",
    "Con esto tenemos la salida a n muestras siguientes"
   ]
  },
  {
   "cell_type": "code",
   "execution_count": 2,
   "metadata": {},
   "outputs": [],
   "source": [
    "# convertimos un array de valores en una matriz de conjuntos de datos\n",
    "def crear_dataset(dataset, look_back=1):\n",
    "    dataX, dataY = [], []\n",
    "    for i in range(len(dataset)-look_back-1):\n",
    "        a = dataset[i:(i+look_back), 0]\n",
    "        dataX.append(a)\n",
    "        dataY.append(dataset[i + look_back, 0])\n",
    "    return numpy.array(dataX), numpy.array(dataY)"
   ]
  },
  {
   "cell_type": "markdown",
   "metadata": {},
   "source": [
    "# Se define una semilla constante para controlar la estabilidad del modelo.\n",
    "Con esto se garantiza que el modelo se entrene siempre con la misma secuencia de numeros aleatorios."
   ]
  },
  {
   "cell_type": "code",
   "execution_count": 3,
   "metadata": {},
   "outputs": [],
   "source": [
    "numpy.random.seed(5)"
   ]
  },
  {
   "cell_type": "markdown",
   "metadata": {},
   "source": [
    "# cargamos el conjunto de datos"
   ]
  },
  {
   "cell_type": "code",
   "execution_count": 4,
   "metadata": {},
   "outputs": [
    {
     "data": {
      "text/plain": [
       "(4559, 1)"
      ]
     },
     "metadata": {},
     "output_type": "display_data"
    },
    {
     "data": {
      "text/plain": [
       "(4559, 1)"
      ]
     },
     "metadata": {},
     "output_type": "display_data"
    },
    {
     "data": {
      "text/plain": [
       "[<matplotlib.lines.Line2D at 0x1ee3a051160>]"
      ]
     },
     "execution_count": 4,
     "metadata": {},
     "output_type": "execute_result"
    },
    {
     "data": {
      "image/png": "[encoded data removed]",
      "text/plain": [
       "<Figure size 432x288 with 1 Axes>"
      ]
     },
     "metadata": {},
     "output_type": "display_data"
    }
   ],
   "source": [
    "datos = pd.read_csv('ajustado.csv', parse_dates=True,index_col=0)\n",
    "d_prueba = pd.read_csv('nodo3_periodo3.csv', parse_dates=True,index_col=0)\n",
    "d_prueba = d_prueba.drop(columns=['HORA'])\n",
    "data = pd.DataFrame(datos.loc[:,'TEMPERATURA'])\n",
    "probar = pd.DataFrame(d_prueba.loc[:,'TEMPERATURA'])\n",
    "#data = data.astype('float32')\n",
    "display(data.shape,probar.shape)\n",
    "plt.plot(probar)\n",
    "plt.plot(data)"
   ]
  },
  {
   "cell_type": "code",
   "execution_count": 5,
   "metadata": {},
   "outputs": [],
   "source": [
    "# normalizamos el conjunto de datos\n",
    "#scaler = MinMaxScaler(feature_range=(0, 1))\n",
    "scaler = MinMaxScaler()\n",
    "data = scaler.fit_transform(data)\n",
    "probar = scaler.fit_transform(probar)"
   ]
  },
  {
   "cell_type": "code",
   "execution_count": 6,
   "metadata": {},
   "outputs": [],
   "source": [
    "# dividimos entre entranmiento y test\n",
    "ld = len(data)\n",
    "entrenar = data[0:int(ld * 0.7)]\n",
    "validar = data[int(ld * 0.7)::]"
   ]
  },
  {
   "cell_type": "markdown",
   "metadata": {
    "scrolled": false
   },
   "source": [
    "# Se crean secuencias de observaciones pasadas para  los conjuntos de entrenamiento, validación y prueba\n",
    "- El modelo aprenderá a hacer predicciones basado en la cantidad de secuencias que se definan."
   ]
  },
  {
   "cell_type": "code",
   "execution_count": 7,
   "metadata": {
    "scrolled": false
   },
   "outputs": [],
   "source": [
    "# remodelamos X=t y Y=t+1\n",
    "ventana = 10\n",
    "neuronas = 50\n",
    "entrenarX, entrenarY = crear_dataset(entrenar, ventana)\n",
    "validarX, validarY = crear_dataset(validar, ventana)\n",
    "probarX, probarY = crear_dataset(probar, ventana)"
   ]
  },
  {
   "cell_type": "code",
   "execution_count": 8,
   "metadata": {},
   "outputs": [],
   "source": [
    "# remodelamos la entrada para que sea[muestras, pasos de tiempo, características]\n",
    "# Se reordena data.shape[0], data.shape[1], de manera que cada secuencia predice el siguiente paso de tiempo \n",
    "entrenarX = numpy.reshape(entrenarX, (entrenarX.shape[0], entrenarX.shape[1],1))\n",
    "validarX = numpy.reshape(validarX, (validarX.shape[0], validarX.shape[1],1))\n",
    "probarX = numpy.reshape(probarX, (probarX.shape[0], probarX.shape[1],1))"
   ]
  },
  {
   "cell_type": "code",
   "execution_count": 9,
   "metadata": {
    "scrolled": false
   },
   "outputs": [
    {
     "name": "stdout",
     "output_type": "stream",
     "text": [
      "Epoch 1/1\n",
      " - 23s - loss: 0.0018 - acc: 0.0412\n",
      "Epoch 1/1\n",
      " - 19s - loss: 0.0012 - acc: 0.0412\n",
      "Epoch 1/1\n",
      " - 25s - loss: 0.0015 - acc: 0.0412\n",
      "Epoch 1/1\n",
      " - 26s - loss: 0.0019 - acc: 0.0412\n",
      "Epoch 1/1\n",
      " - 25s - loss: 0.0018 - acc: 0.0412\n",
      "Epoch 1/1\n",
      " - 26s - loss: 0.0022 - acc: 0.0412\n",
      "Epoch 1/1\n",
      " - 26s - loss: 0.0017 - acc: 0.0412\n",
      "Epoch 1/1\n",
      " - 27s - loss: 0.0018 - acc: 0.0412\n",
      "Epoch 1/1\n",
      " - 26s - loss: 0.0017 - acc: 0.0412\n",
      "Epoch 1/1\n",
      " - 25s - loss: 0.0019 - acc: 0.0412\n",
      "Epoch 1/1\n",
      " - 25s - loss: 0.0017 - acc: 0.0412\n",
      "Epoch 1/1\n",
      " - 29s - loss: 0.0015 - acc: 0.0412\n",
      "Epoch 1/1\n",
      " - 27s - loss: 0.0018 - acc: 0.0412\n",
      "Epoch 1/1\n",
      " - 26s - loss: 0.0023 - acc: 0.0412\n",
      "Epoch 1/1\n",
      " - 27s - loss: 0.0024 - acc: 0.0412\n",
      "Epoch 1/1\n",
      " - 25s - loss: 0.0034 - acc: 0.0412\n",
      "Epoch 1/1\n",
      " - 29s - loss: 0.0022 - acc: 0.0412\n",
      "Epoch 1/1\n",
      " - 30s - loss: 0.0026 - acc: 0.0412\n",
      "Epoch 1/1\n",
      " - 29s - loss: 0.0017 - acc: 0.0412\n",
      "Epoch 1/1\n",
      " - 27s - loss: 0.0016 - acc: 0.0412\n",
      "Epoch 1/1\n",
      " - 29s - loss: 0.0015 - acc: 0.0412\n",
      "Epoch 1/1\n",
      " - 28s - loss: 0.0017 - acc: 0.0412\n",
      "Epoch 1/1\n",
      " - 29s - loss: 0.0017 - acc: 0.0412\n",
      "Epoch 1/1\n",
      " - 28s - loss: 0.0017 - acc: 0.0412\n",
      "Epoch 1/1\n",
      " - 28s - loss: 0.0016 - acc: 0.0412\n",
      "Epoch 1/1\n",
      " - 23s - loss: 0.0017 - acc: 0.0412\n",
      "Epoch 1/1\n",
      " - 28s - loss: 0.0017 - acc: 0.0412\n",
      "Epoch 1/1\n",
      " - 28s - loss: 0.0016 - acc: 0.0412\n",
      "Epoch 1/1\n",
      " - 28s - loss: 0.0016 - acc: 0.0412\n",
      "Epoch 1/1\n",
      " - 29s - loss: 0.0016 - acc: 0.0412\n",
      "Epoch 1/1\n",
      " - 28s - loss: 0.0016 - acc: 0.0412\n",
      "Epoch 1/1\n",
      " - 29s - loss: 0.0015 - acc: 0.0412\n",
      "Epoch 1/1\n",
      " - 26s - loss: 0.0017 - acc: 0.0412\n",
      "Epoch 1/1\n",
      " - 23s - loss: 0.0018 - acc: 0.0412\n",
      "Epoch 1/1\n",
      " - 26s - loss: 0.0017 - acc: 0.0412\n",
      "Epoch 1/1\n",
      " - 26s - loss: 0.0017 - acc: 0.0412\n",
      "Epoch 1/1\n",
      " - 29s - loss: 0.0017 - acc: 0.0412\n",
      "Epoch 1/1\n",
      " - 28s - loss: 0.0016 - acc: 0.0412\n",
      "Epoch 1/1\n",
      " - 29s - loss: 0.0015 - acc: 0.0412\n",
      "Epoch 1/1\n",
      " - 27s - loss: 0.0015 - acc: 0.0412\n",
      "Epoch 1/1\n",
      " - 29s - loss: 0.0015 - acc: 0.0412\n",
      "Epoch 1/1\n",
      " - 27s - loss: 0.0016 - acc: 0.0412\n",
      "Epoch 1/1\n",
      " - 27s - loss: 0.0016 - acc: 0.0412\n",
      "Epoch 1/1\n",
      " - 28s - loss: 0.0015 - acc: 0.0412\n",
      "Epoch 1/1\n",
      " - 29s - loss: 0.0016 - acc: 0.0412\n",
      "Epoch 1/1\n",
      " - 28s - loss: 0.0015 - acc: 0.0412\n",
      "Epoch 1/1\n",
      " - 29s - loss: 0.0015 - acc: 0.0412\n",
      "Epoch 1/1\n",
      " - 26s - loss: 0.0015 - acc: 0.0412\n",
      "Epoch 1/1\n",
      " - 25s - loss: 0.0016 - acc: 0.0412\n",
      "Epoch 1/1\n",
      " - 28s - loss: 0.0016 - acc: 0.0412\n",
      "Epoch 1/1\n",
      " - 28s - loss: 0.0015 - acc: 0.0412\n",
      "Epoch 1/1\n",
      " - 28s - loss: 0.0013 - acc: 0.0412\n",
      "Epoch 1/1\n",
      " - 30s - loss: 0.0016 - acc: 0.0412\n",
      "Epoch 1/1\n",
      " - 27s - loss: 0.0016 - acc: 0.0412\n",
      "Epoch 1/1\n",
      " - 24s - loss: 0.0016 - acc: 0.0412\n",
      "Epoch 1/1\n",
      " - 27s - loss: 0.0015 - acc: 0.0412\n",
      "Epoch 1/1\n",
      " - 29s - loss: 0.0015 - acc: 0.0412\n",
      "Epoch 1/1\n",
      " - 27s - loss: 0.0015 - acc: 0.0412\n",
      "Epoch 1/1\n",
      " - 27s - loss: 0.0015 - acc: 0.0412\n",
      "Epoch 1/1\n"
     ]
    },
    {
     "ename": "KeyboardInterrupt",
     "evalue": "",
     "output_type": "error",
     "traceback": [
      "\u001b[1;31m---------------------------------------------------------------------------\u001b[0m",
      "\u001b[1;31mKeyboardInterrupt\u001b[0m                         Traceback (most recent call last)",
      "\u001b[1;32m<ipython-input-9-2ebe5fe4fe69>\u001b[0m in \u001b[0;36m<module>\u001b[1;34m()\u001b[0m\n\u001b[0;32m     27\u001b[0m     ajuste.append(model.fit(entrenarX, entrenarY, epochs=1,\n\u001b[0;32m     28\u001b[0m                             \u001b[0mbatch_size\u001b[0m\u001b[1;33m=\u001b[0m\u001b[0mbatch_size\u001b[0m\u001b[1;33m,\u001b[0m \u001b[0mverbose\u001b[0m\u001b[1;33m=\u001b[0m\u001b[1;36m2\u001b[0m\u001b[1;33m,\u001b[0m\u001b[1;33m\u001b[0m\u001b[0m\n\u001b[1;32m---> 29\u001b[1;33m                             shuffle=False, callbacks=[early_stop]))\n\u001b[0m\u001b[0;32m     30\u001b[0m     \u001b[0mmodel\u001b[0m\u001b[1;33m.\u001b[0m\u001b[0mreset_states\u001b[0m\u001b[1;33m(\u001b[0m\u001b[1;33m)\u001b[0m\u001b[1;33m\u001b[0m\u001b[0m\n\u001b[0;32m     31\u001b[0m \u001b[0mtimeup\u001b[0m \u001b[1;33m=\u001b[0m \u001b[0mtime\u001b[0m\u001b[1;33m.\u001b[0m\u001b[0mtime\u001b[0m\u001b[1;33m(\u001b[0m\u001b[1;33m)\u001b[0m \u001b[1;33m-\u001b[0m \u001b[0mtiempo\u001b[0m\u001b[1;33m\u001b[0m\u001b[0m\n",
      "\u001b[1;32m~\\Anaconda3\\lib\\site-packages\\keras\\engine\\training.py\u001b[0m in \u001b[0;36mfit\u001b[1;34m(self, x, y, batch_size, epochs, verbose, callbacks, validation_split, validation_data, shuffle, class_weight, sample_weight, initial_epoch, steps_per_epoch, validation_steps, **kwargs)\u001b[0m\n\u001b[0;32m   1037\u001b[0m                                         \u001b[0minitial_epoch\u001b[0m\u001b[1;33m=\u001b[0m\u001b[0minitial_epoch\u001b[0m\u001b[1;33m,\u001b[0m\u001b[1;33m\u001b[0m\u001b[0m\n\u001b[0;32m   1038\u001b[0m                                         \u001b[0msteps_per_epoch\u001b[0m\u001b[1;33m=\u001b[0m\u001b[0msteps_per_epoch\u001b[0m\u001b[1;33m,\u001b[0m\u001b[1;33m\u001b[0m\u001b[0m\n\u001b[1;32m-> 1039\u001b[1;33m                                         validation_steps=validation_steps)\n\u001b[0m\u001b[0;32m   1040\u001b[0m \u001b[1;33m\u001b[0m\u001b[0m\n\u001b[0;32m   1041\u001b[0m     def evaluate(self, x=None, y=None,\n",
      "\u001b[1;32m~\\Anaconda3\\lib\\site-packages\\keras\\engine\\training_arrays.py\u001b[0m in \u001b[0;36mfit_loop\u001b[1;34m(model, f, ins, out_labels, batch_size, epochs, verbose, callbacks, val_f, val_ins, shuffle, callback_metrics, initial_epoch, steps_per_epoch, validation_steps)\u001b[0m\n\u001b[0;32m    197\u001b[0m                     \u001b[0mins_batch\u001b[0m\u001b[1;33m[\u001b[0m\u001b[0mi\u001b[0m\u001b[1;33m]\u001b[0m \u001b[1;33m=\u001b[0m \u001b[0mins_batch\u001b[0m\u001b[1;33m[\u001b[0m\u001b[0mi\u001b[0m\u001b[1;33m]\u001b[0m\u001b[1;33m.\u001b[0m\u001b[0mtoarray\u001b[0m\u001b[1;33m(\u001b[0m\u001b[1;33m)\u001b[0m\u001b[1;33m\u001b[0m\u001b[0m\n\u001b[0;32m    198\u001b[0m \u001b[1;33m\u001b[0m\u001b[0m\n\u001b[1;32m--> 199\u001b[1;33m                 \u001b[0mouts\u001b[0m \u001b[1;33m=\u001b[0m \u001b[0mf\u001b[0m\u001b[1;33m(\u001b[0m\u001b[0mins_batch\u001b[0m\u001b[1;33m)\u001b[0m\u001b[1;33m\u001b[0m\u001b[0m\n\u001b[0m\u001b[0;32m    200\u001b[0m                 \u001b[0mouts\u001b[0m \u001b[1;33m=\u001b[0m \u001b[0mto_list\u001b[0m\u001b[1;33m(\u001b[0m\u001b[0mouts\u001b[0m\u001b[1;33m)\u001b[0m\u001b[1;33m\u001b[0m\u001b[0m\n\u001b[0;32m    201\u001b[0m                 \u001b[1;32mfor\u001b[0m \u001b[0ml\u001b[0m\u001b[1;33m,\u001b[0m \u001b[0mo\u001b[0m \u001b[1;32min\u001b[0m \u001b[0mzip\u001b[0m\u001b[1;33m(\u001b[0m\u001b[0mout_labels\u001b[0m\u001b[1;33m,\u001b[0m \u001b[0mouts\u001b[0m\u001b[1;33m)\u001b[0m\u001b[1;33m:\u001b[0m\u001b[1;33m\u001b[0m\u001b[0m\n",
      "\u001b[1;32m~\\Anaconda3\\lib\\site-packages\\keras\\backend\\tensorflow_backend.py\u001b[0m in \u001b[0;36m__call__\u001b[1;34m(self, inputs)\u001b[0m\n\u001b[0;32m   2713\u001b[0m                 \u001b[1;32mreturn\u001b[0m \u001b[0mself\u001b[0m\u001b[1;33m.\u001b[0m\u001b[0m_legacy_call\u001b[0m\u001b[1;33m(\u001b[0m\u001b[0minputs\u001b[0m\u001b[1;33m)\u001b[0m\u001b[1;33m\u001b[0m\u001b[0m\n\u001b[0;32m   2714\u001b[0m \u001b[1;33m\u001b[0m\u001b[0m\n\u001b[1;32m-> 2715\u001b[1;33m             \u001b[1;32mreturn\u001b[0m \u001b[0mself\u001b[0m\u001b[1;33m.\u001b[0m\u001b[0m_call\u001b[0m\u001b[1;33m(\u001b[0m\u001b[0minputs\u001b[0m\u001b[1;33m)\u001b[0m\u001b[1;33m\u001b[0m\u001b[0m\n\u001b[0m\u001b[0;32m   2716\u001b[0m         \u001b[1;32melse\u001b[0m\u001b[1;33m:\u001b[0m\u001b[1;33m\u001b[0m\u001b[0m\n\u001b[0;32m   2717\u001b[0m             \u001b[1;32mif\u001b[0m \u001b[0mpy_any\u001b[0m\u001b[1;33m(\u001b[0m\u001b[0mis_tensor\u001b[0m\u001b[1;33m(\u001b[0m\u001b[0mx\u001b[0m\u001b[1;33m)\u001b[0m \u001b[1;32mfor\u001b[0m \u001b[0mx\u001b[0m \u001b[1;32min\u001b[0m \u001b[0minputs\u001b[0m\u001b[1;33m)\u001b[0m\u001b[1;33m:\u001b[0m\u001b[1;33m\u001b[0m\u001b[0m\n",
      "\u001b[1;32m~\\Anaconda3\\lib\\site-packages\\keras\\backend\\tensorflow_backend.py\u001b[0m in \u001b[0;36m_call\u001b[1;34m(self, inputs)\u001b[0m\n\u001b[0;32m   2673\u001b[0m             \u001b[0mfetched\u001b[0m \u001b[1;33m=\u001b[0m \u001b[0mself\u001b[0m\u001b[1;33m.\u001b[0m\u001b[0m_callable_fn\u001b[0m\u001b[1;33m(\u001b[0m\u001b[1;33m*\u001b[0m\u001b[0marray_vals\u001b[0m\u001b[1;33m,\u001b[0m \u001b[0mrun_metadata\u001b[0m\u001b[1;33m=\u001b[0m\u001b[0mself\u001b[0m\u001b[1;33m.\u001b[0m\u001b[0mrun_metadata\u001b[0m\u001b[1;33m)\u001b[0m\u001b[1;33m\u001b[0m\u001b[0m\n\u001b[0;32m   2674\u001b[0m         \u001b[1;32melse\u001b[0m\u001b[1;33m:\u001b[0m\u001b[1;33m\u001b[0m\u001b[0m\n\u001b[1;32m-> 2675\u001b[1;33m             \u001b[0mfetched\u001b[0m \u001b[1;33m=\u001b[0m \u001b[0mself\u001b[0m\u001b[1;33m.\u001b[0m\u001b[0m_callable_fn\u001b[0m\u001b[1;33m(\u001b[0m\u001b[1;33m*\u001b[0m\u001b[0marray_vals\u001b[0m\u001b[1;33m)\u001b[0m\u001b[1;33m\u001b[0m\u001b[0m\n\u001b[0m\u001b[0;32m   2676\u001b[0m         \u001b[1;32mreturn\u001b[0m \u001b[0mfetched\u001b[0m\u001b[1;33m[\u001b[0m\u001b[1;33m:\u001b[0m\u001b[0mlen\u001b[0m\u001b[1;33m(\u001b[0m\u001b[0mself\u001b[0m\u001b[1;33m.\u001b[0m\u001b[0moutputs\u001b[0m\u001b[1;33m)\u001b[0m\u001b[1;33m]\u001b[0m\u001b[1;33m\u001b[0m\u001b[0m\n\u001b[0;32m   2677\u001b[0m \u001b[1;33m\u001b[0m\u001b[0m\n",
      "\u001b[1;32m~\\Anaconda3\\lib\\site-packages\\tensorflow\\python\\client\\session.py\u001b[0m in \u001b[0;36m__call__\u001b[1;34m(self, *args, **kwargs)\u001b[0m\n\u001b[0;32m   1397\u001b[0m           ret = tf_session.TF_SessionRunCallable(\n\u001b[0;32m   1398\u001b[0m               \u001b[0mself\u001b[0m\u001b[1;33m.\u001b[0m\u001b[0m_session\u001b[0m\u001b[1;33m.\u001b[0m\u001b[0m_session\u001b[0m\u001b[1;33m,\u001b[0m \u001b[0mself\u001b[0m\u001b[1;33m.\u001b[0m\u001b[0m_handle\u001b[0m\u001b[1;33m,\u001b[0m \u001b[0margs\u001b[0m\u001b[1;33m,\u001b[0m \u001b[0mstatus\u001b[0m\u001b[1;33m,\u001b[0m\u001b[1;33m\u001b[0m\u001b[0m\n\u001b[1;32m-> 1399\u001b[1;33m               run_metadata_ptr)\n\u001b[0m\u001b[0;32m   1400\u001b[0m         \u001b[1;32mif\u001b[0m \u001b[0mrun_metadata\u001b[0m\u001b[1;33m:\u001b[0m\u001b[1;33m\u001b[0m\u001b[0m\n\u001b[0;32m   1401\u001b[0m           \u001b[0mproto_data\u001b[0m \u001b[1;33m=\u001b[0m \u001b[0mtf_session\u001b[0m\u001b[1;33m.\u001b[0m\u001b[0mTF_GetBuffer\u001b[0m\u001b[1;33m(\u001b[0m\u001b[0mrun_metadata_ptr\u001b[0m\u001b[1;33m)\u001b[0m\u001b[1;33m\u001b[0m\u001b[0m\n",
      "\u001b[1;31mKeyboardInterrupt\u001b[0m: "
     ]
    }
   ],
   "source": [
    "#creamos la LSTM network\n",
    "# Se define el batch_size tamaño de muestras\n",
    "batch_size = 1\n",
    "# expected input data shape: (batch_size, timesteps, data_dim)\n",
    "model = Sequential()\n",
    "# stateful = True permite que la red entrene con todos los lotes de manera secuencial y no por separado.\n",
    "# se ingresa el tamaño de muestras de entrada.\n",
    "#model.add(Bidirectional(LSTM(50, batch_input_shape=(batch_size, ventana),stateful = True)))\n",
    "model.add(LSTM(neuronas, batch_input_shape=(batch_size, ventana, 1), stateful=True, return_sequences=True))\n",
    "model.add(LSTM(neuronas, batch_input_shape=(batch_size, ventana, 1), stateful=True))\n",
    "\n",
    "# devuelve una secuencia de vectores de dimensión 50\n",
    "model.add(Dense(1))\n",
    "# evaluar la exactitud de las predicciones de un modelo a través del error de la raíz cuadrada de la media (RMSE)\n",
    "# El error de entrenamiento mide qué tan bien ajusta los datos de entrenamiento tu modelo\n",
    "#El error cuadrático medio (MSE) puede ser difícil de interpretar; es por esto que generalmente observamos el error \n",
    "# de la raíz cuadrada de la media (RMSE) en su lugar. Una propiedad interesante del RMSE es que se puede interpretar \n",
    "# en la misma escala que los objetivos originales\n",
    "model.compile(loss='mean_squared_error', optimizer='adam', metrics=['accuracy'])\n",
    "\n",
    "tiempo = time.time()\n",
    "\n",
    "# el bucle de ajuste permite que la red mantenga las salidas de las secuencias en cada iteración.\n",
    "ajuste = []\n",
    "early_stop = EarlyStopping(monitor='loss', patience=1, verbose=2)\n",
    "for i in range(100):\n",
    "    ajuste.append(model.fit(entrenarX, entrenarY, epochs=1,\n",
    "                            batch_size=batch_size, verbose=2,\n",
    "                            shuffle=False, callbacks=[early_stop]))\n",
    "    model.reset_states()\n",
    "timeup = time.time() - tiempo"
   ]
  },
  {
   "cell_type": "code",
   "execution_count": null,
   "metadata": {},
   "outputs": [],
   "source": [
    "# hacemos las predicciones, se anexa batch=batch_size debido a que seestá trbajando con estados\n",
    "entrenar_predic = model.predict(entrenarX, batch_size=batch_size)\n",
    "validar_predic = model.predict(validarX, batch_size=batch_size)\n",
    "probar_predic = model.predict(probarX, batch_size=batch_size)"
   ]
  },
  {
   "cell_type": "code",
   "execution_count": null,
   "metadata": {},
   "outputs": [],
   "source": [
    "# invertimos las predicciones\n",
    "entrenar_predic = scaler.inverse_transform(entrenar_predic)\n",
    "entrenarY = scaler.inverse_transform([entrenarY])\n",
    "validar_predic = scaler.inverse_transform(validar_predic)\n",
    "validarY = scaler.inverse_transform([validarY])\n",
    "probar_predic = scaler.inverse_transform(probar_predic)\n",
    "probarY = scaler.inverse_transform([probarY])"
   ]
  },
  {
   "cell_type": "code",
   "execution_count": null,
   "metadata": {},
   "outputs": [],
   "source": [
    "# calculamos el error rms\n",
    "r_entrenamiento = math.sqrt(mean_squared_error(entrenarY[0], entrenar_predic[:,0]))\n",
    "print('Resultado del entrenamiento: %.2f RMSE' % (r_entrenamiento))\n",
    "r_validacion = math.sqrt(mean_squared_error(validarY[0], validar_predic[:,0]))\n",
    "print('Resultado de la validación: %.2f RMSE' % (r_validacion))\n",
    "r_prueba = math.sqrt(mean_squared_error(probarY[0], probar_predic[:,0]))\n",
    "print('Resultado de la prueba: %.2f RMSE' % (r_prueba))"
   ]
  },
  {
   "cell_type": "code",
   "execution_count": null,
   "metadata": {},
   "outputs": [],
   "source": [
    "# predicciones del entrenamiento de cambio para plotear\n",
    "trainPredictPlot = numpy.empty_like(data)\n",
    "trainPredictPlot[:, :] = numpy.nan\n",
    "trainPredictPlot[ventana:len(entrenar_predic)+ventana, :] = entrenar_predic"
   ]
  },
  {
   "cell_type": "code",
   "execution_count": null,
   "metadata": {},
   "outputs": [],
   "source": [
    "# predicciones del test de cambio para plotear\n",
    "vPredictPlot = numpy.empty_like(data)\n",
    "vPredictPlot[:, :] = numpy.nan\n",
    "vPredictPlot[len(entrenar_predic)+(ventana*2)+1:len(data)-1, :] = validar_predic"
   ]
  },
  {
   "cell_type": "code",
   "execution_count": null,
   "metadata": {},
   "outputs": [],
   "source": [
    "# predicciones del test de cambio para plotear\n",
    "testPredictPlot = numpy.empty_like(d_prueba)\n",
    "testPredictPlot[:, :] = numpy.nan\n",
    "testPredictPlot[ventana:len(probar_predic)+ventana, :] = probar_predic"
   ]
  },
  {
   "cell_type": "code",
   "execution_count": null,
   "metadata": {},
   "outputs": [],
   "source": [
    "plt.figure(figsize=(17,6))\n",
    "# plot baseline and predictions\n",
    "plt.plot(scaler.inverse_transform(data))\n",
    "# ploteamos linea base y predicciones\n",
    "plt.plot(trainPredictPlot,'r', linewidth = 2)\n",
    "plt.plot(vPredictPlot,'m', linewidth = 2)\n",
    "plt.legend( ('Datos', 'Entrenamiento', 'Validación'))\n",
    "plt.grid(True)\n",
    "plt.title(\"Predicción del modelo\", fontsize = 15)\n",
    "plt.xlabel(\"Registros\", fontsize = 10)\n",
    "plt.ylabel(\"Temperatura (°C)\", fontsize = 10)\n",
    "plt.show()"
   ]
  },
  {
   "cell_type": "code",
   "execution_count": null,
   "metadata": {},
   "outputs": [],
   "source": [
    "d_prueba = pd.read_csv('nodo2_periodo2.csv', parse_dates=True,index_col=0)\n",
    "d_prueba = d_prueba.drop(columns=['HORA'])\n",
    "probar = pd.DataFrame(d_prueba.loc[:,'TEMPERATURA'])\n",
    "plt.figure(figsize=(17,6))\n",
    "# normalizamos el conjunto de datos\n",
    "\n",
    "scaler = MinMaxScaler(feature_range=(0, 1))\n",
    "probar_e = pd.DataFrame(scaler.fit_transform(probar)).values\n",
    "probarX, probarY = crear_dataset(probar_e, ventana)\n",
    "\n",
    "probarX = numpy.reshape(probarX, (probarX.shape[0], probarX.shape[1], 1))\n",
    "probar_predic = model.predict(probarX, batch_size=batch_size)\n",
    "\n",
    "probar_predic = scaler.inverse_transform(probar_predic)\n",
    "probarY = scaler.inverse_transform([probarY])\n",
    "\n",
    "r_prueba = math.sqrt(mean_squared_error(probarY[0], probar_predic[:,0]))\n",
    "print('Resultado de la prueba con atípicos: %.2f RMSE' % (r_prueba))\n",
    "testPredictPlot = numpy.empty_like(probar)\n",
    "testPredictPlot[:, :] = numpy.nan\n",
    "testPredictPlot[ventana:len(probar_predic)+ventana, :] = probar_predic\n",
    "plt.plot(probar.values)\n",
    "plt.plot(probar_predic,'r.')"
   ]
  },
  {
   "cell_type": "markdown",
   "metadata": {},
   "source": [
    "#valores = pd.DataFrame({'t':datos.iloc[58:64,-1]})\n",
    "valores = pd.DataFrame({'t':[33,33,33,33,33,33,\\\n",
    "                             33,33,33,33,33,33,33,33,33,33,33,33,\\\n",
    "                             33,33,33,33,34,34,34,34,34,34,34,67,34,34]})\n",
    "inte = [[x] for x in valores.t]\n",
    "print(inte)\n",
    "probar = pd.DataFrame(scaler.fit_transform(inte)).values\n",
    "probarX, probarY = crear_dataset(probar, ventana)\n",
    "\n",
    "probarX = numpy.reshape(probarX, (probarX.shape[0], probarX.shape[1], 1))\n",
    "probar_predic = model.predict(probarX, batch_size=batch_size)\n",
    "probar_predic = scaler.inverse_transform(probar_predic)\n",
    "r = pd.DataFrame({'t+%d'%ventana:[int(x) for x in probar_predic]})\n",
    "pd.concat([valores,r],axis=1)\n"
   ]
  },
  {
   "cell_type": "markdown",
   "metadata": {},
   "source": [
    "# Resumen\n",
    "- ventana = 1; neuronas = 2:  \n",
    "Resultado del entrenamiento: 0.75 RMSE  \n",
    "Resultado de la validación: 0.54 RMSE  \n",
    "Resultado de la prueba: 0.58 RMSE \n",
    "Resultado de la prueba con atípicos: 7.20 RMSE  \n",
    "Total params: 75  \n",
    "Trainable params: 75  \n",
    "Non-trainable params: 0  \n",
    "Tiempo:  11.83968871831894 minutos\n",
    "\n",
    "---\n",
    "- ventana = 1; neuronas = 4:  \n",
    "Resultado del entrenamiento: 0.96 RMSE  \n",
    "Resultado de la validación: 0.77 RMSE  \n",
    "Resultado de la prueba: 0.84 RMSE  \n",
    "Resultado de la prueba con atípicos: 8.59 RMSE  \n",
    "Total params: 245  \n",
    "Trainable params: 245  \n",
    "Non-trainable params: 0  \n",
    "Tiempo:  10.938772861162821 minutos\n",
    "\n",
    "---\n",
    "- ventana = 1; neuronas = 6;  \n",
    "Resultado del entrenamiento: 1.30 RMSE  \n",
    "Resultado de la validación: 1.09 RMSE  \n",
    "Resultado de la prueba: 1.11 RMSE  \n",
    "Resultado de la prueba con atípicos: 10.71 RMSE  \n",
    "Tiempo:  10.694780294100443 minutos  \n",
    "Exactitud máxima: 0.04107870805895265  \n",
    "Total params: 511  \n",
    "Trainable params: 511  \n",
    "Non-trainable params: 0  \n",
    "\n",
    "--\n",
    "- ventana = 5; neuronas 2"
   ]
  },
  {
   "cell_type": "code",
   "execution_count": null,
   "metadata": {},
   "outputs": [],
   "source": [
    "print('Tiempo: ',timeup/60, 'minutos')\n",
    "acc =[x.history['acc'] for x in ajuste]\n",
    "loss = [x.history['loss'] for x in ajuste]\n",
    "plt.plot(loss)\n",
    "plt.title('Pérdidas')\n",
    "plt.text(loss[-1][0],loss[-1][0],min(loss)[0])\n",
    "plt.figure()\n",
    "plt.plot(acc)\n",
    "plt.title('Exactitud')\n",
    "plt.text(acc[0][0],acc[0][0],max(acc)[0])\n",
    "print('Exactitud máxima:', max(acc)[0])\n",
    "model.summary()"
   ]
  },
  {
   "cell_type": "code",
   "execution_count": null,
   "metadata": {},
   "outputs": [],
   "source": [
    "acc[0]"
   ]
  }
 ],
 "metadata": {
  "kernelspec": {
   "display_name": "Python 3",
   "language": "python",
   "name": "python3"
  },
  "language_info": {
   "codemirror_mode": {
    "name": "ipython",
    "version": 3
   },
   "file_extension": ".py",
   "mimetype": "text/x-python",
   "name": "python",
   "nbconvert_exporter": "python",
   "pygments_lexer": "ipython3",
   "version": "3.6.5"
  }
 },
 "nbformat": 4,
 "nbformat_minor": 2
}
