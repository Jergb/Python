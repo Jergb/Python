{
 "cells": [
  {
   "cell_type": "markdown",
   "metadata": {},
   "source": [
    "# LSTM\n",
    "- Qué es el modelo Sequential?  \n",
    "Es un modo de construir redes neuronales agregando capas en secuencia.\n",
    "- Qué es un modelo de compilación?  \n",
    "método para configurar el proceso de aprendizaje, se puede agregar una función de coste, un optimizador y las métricas de rendimiento.\n",
    "- Qué es shape?  \n",
    "Es la forma de los datos de entrada que el modelo debe esperar, sólo se define en la capa de entrada.\n",
    "- Sample:  \n",
    "Un elemento de un conjunto de datos.\n",
    "- Batch:  \n",
    "un conjunto de N muestras. Las muestras en un lote se procesan de forma independiente, en paralelo. Si se entrena, un lote da como resultado solo una actualización del modelo.\n",
    "- Epoch:  \n",
    "un corte arbitrario, generalmente definido como \"una pasada sobre todo el conjunto de datos\", utilizado para separar la capacitación en fases distintas, lo que es útil para el registro y la evaluación periódica.\n",
    "- RNN con estado:  \n",
    "Hacer un RNN con estado significa que los estados para las muestras de cada lote se reutilizarán como estados iniciales para las muestras en el siguiente lote.\n",
    "- En add.LST(x,y,z)\n",
    "x indica el número de nodos por capa\n"
   ]
  }
 ],
 "metadata": {
  "kernelspec": {
   "display_name": "Python 3",
   "language": "python",
   "name": "python3"
  },
  "language_info": {
   "codemirror_mode": {
    "name": "ipython",
    "version": 3
   },
   "file_extension": ".py",
   "mimetype": "text/x-python",
   "name": "python",
   "nbconvert_exporter": "python",
   "pygments_lexer": "ipython3",
   "version": "3.6.5"
  }
 },
 "nbformat": 4,
 "nbformat_minor": 2
}
