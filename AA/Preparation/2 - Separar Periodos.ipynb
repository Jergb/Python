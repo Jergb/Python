{
 "cells": [
  {
   "cell_type": "markdown",
   "metadata": {},
   "source": [
    "### Importa módulos necesarios y establece configuraciones"
   ]
  },
  {
   "cell_type": "code",
   "execution_count": null,
   "metadata": {},
   "outputs": [],
   "source": [
    "import pandas as pd\n",
    "from time import time\n",
    "import matplotlib.pyplot as plt\n",
    "import pandas as pd\n",
    "import funs\n",
    "from IPython.display import display\n",
    "import numpy as np\n",
    "import seaborn as sns\n",
    "import plotly.plotly as py\n",
    "from plotly.graph_objs import *\n",
    "from plotly.offline import download_plotlyjs, init_notebook_mode, plot, iplot\n",
    "init_notebook_mode(connected=True)\n",
    "pd.options.display.float_format = '{:.2f}'.format\n",
    "pd.options.display.max_rows = 10"
   ]
  },
  {
   "cell_type": "markdown",
   "metadata": {},
   "source": [
    "### Lee los nodos en un diccionario de dataframes"
   ]
  },
  {
   "cell_type": "code",
   "execution_count": null,
   "metadata": {},
   "outputs": [],
   "source": [
    "tablas={}\n",
    "for nodo in [2,3,4,5,6,8]:\n",
    "    tablas[nodo] = pd.read_csv('medidas_nodo%s.csv'%nodo,parse_dates=True,index_col=0)"
   ]
  },
  {
   "cell_type": "markdown",
   "metadata": {},
   "source": [
    "### Grafica los valores de las variables de cada nodo en gráficas interactivas"
   ]
  },
  {
   "cell_type": "markdown",
   "metadata": {
    "scrolled": false
   },
   "source": [
    "for nodo in [2,3,4,5,6,8]:\n",
    "    data = ([{'x': tablas[nodo].index,'y': tablas[nodo][col],'name': col}\n",
    "             for col in tablas[nodo].columns[0:4]])\n",
    "    layout = dict(title = 'NODO %s' %nodo,\n",
    "                  yaxis = dict(title = '°C, %RH, %Pw, Nivel UV'),\n",
    "                  xaxis = dict(title = 'FECHA')\n",
    "                 )\n",
    "    fig = dict(data=data, layout=layout)\n",
    "    iplot(fig,layout)"
   ]
  },
  {
   "cell_type": "markdown",
   "metadata": {},
   "source": [
    "### Aplica funs.separa: obtine para cada nodo una lista de DF con los registros obtenidos entre periodos de medición con separación de más de t minutos"
   ]
  },
  {
   "cell_type": "code",
   "execution_count": null,
   "metadata": {},
   "outputs": [],
   "source": [
    "# Aplica la función separa_nodos, que calcula el tamaño de los dataframes entre periodos.\n",
    "# Los periodos de medición corresponden a una separación entre registros  mayor a t minutos.\n",
    "# t = 60*24, los registros se realizan cada minuto, de modo que t equivale a un día.\n",
    "t = 60 * 24\n",
    "nodo, periodos = {}, {}\n",
    "for i in [2,3,4,5,6,8]:\n",
    "    nodo[i], periodos[i] = funs.separa_datos(tablas[i],t)"
   ]
  },
  {
   "cell_type": "markdown",
   "metadata": {},
   "source": [
    "### Presenta información acerca de los periodos de medición"
   ]
  },
  {
   "cell_type": "code",
   "execution_count": null,
   "metadata": {},
   "outputs": [],
   "source": [
    "for i in periodos:    \n",
    "    display('Nodo %s'%i,periodos[i])"
   ]
  },
  {
   "cell_type": "markdown",
   "metadata": {},
   "source": [
    "### Aplica un filtro a los registros, cualquier periodo de medición con menos de mr registros es eliminado"
   ]
  },
  {
   "cell_type": "code",
   "execution_count": null,
   "metadata": {},
   "outputs": [],
   "source": [
    "# mr es la cantidad mínima de registros\n",
    "mr = 1e3\n",
    "for i in periodos:\n",
    "    borrar =[]\n",
    "    for j in periodos[i].index:\n",
    "        if periodos[i].iloc[j,2] < mr:\n",
    "            borrar.append(j)\n",
    "            nodo[i][j]=np.nan\n",
    "    periodos[i] = periodos[i].drop(index=borrar)\n",
    "    nodo[i] = [nodo[i][x] for x in periodos[i].index if not(x in borrar)]"
   ]
  },
  {
   "cell_type": "markdown",
   "metadata": {},
   "source": [
    "### Presenta la información relacionada a los periodos de medición para cada nodo luego de aplicado el filtro de cantidad de registros"
   ]
  },
  {
   "cell_type": "code",
   "execution_count": null,
   "metadata": {},
   "outputs": [],
   "source": [
    "for i in periodos:\n",
    "    display('Nodo %s'%i,periodos[i])\n",
    "    \n",
    "#    Periodo 1: 2018-05-09 10:25:00 - 2018-05-10 14:36:00\n",
    "#    Periodo 2: 2018-05-23 10:08:00 - 2018-05-26 07:00:00\n",
    "#    Periodo 3: 2018-06-05 10:21:00 - 2018-06-08 18:40:00\n",
    "#    Periodo 4: 2018-06-11 08:56:00 - 2018-06-14 03:45:00"
   ]
  },
  {
   "cell_type": "markdown",
   "metadata": {},
   "source": [
    "#### Se evidencian tres periodos de medición para los cuales hay registros de los nodos 2, 3, 5, 6 y 8"
   ]
  },
  {
   "cell_type": "markdown",
   "metadata": {},
   "source": [
    "### Se agregan los indíces de los registros faltantes y se asignan valores NaN a las variables"
   ]
  },
  {
   "cell_type": "code",
   "execution_count": null,
   "metadata": {},
   "outputs": [],
   "source": [
    "for i in nodo:\n",
    "    for j in range(len(nodo[i])):\n",
    "        nodo[i][j] = nodo[i][j].asfreq('60S')"
   ]
  },
  {
   "cell_type": "markdown",
   "metadata": {},
   "source": [
    "#### A continuación se presentan las gráficas de las variables durante tres periodos de medición. \n",
    "### Gráficas para el primer periodo"
   ]
  },
  {
   "cell_type": "code",
   "execution_count": null,
   "metadata": {},
   "outputs": [],
   "source": [
    "T = 0\n",
    "for i in [2,3,5,6]:\n",
    "    ax=nodo[i][T].iloc[:,0:5].plot(figsize=[20,4],\n",
    "                                  secondary_y='INTENSIDAD LUMÍNICA'\n",
    "                                  ,mark_right=None)\n",
    "    ax2=nodo[i][T].iloc[:,4].plot(secondary_y=True,color='mediumpurple')\n",
    "    ax.set_ylabel('°C, %RH, %, Nivel UV')\n",
    "    ax2.set_ylabel('Lux')\n",
    "    ax.set_xlabel('FECHA')\n",
    "    ax.set_title('Variables del Nodo %d en el Periodo de medición # %d'%(i,T+1))\n",
    "    plt.tight_layout()\n",
    "    plt.show()"
   ]
  },
  {
   "cell_type": "markdown",
   "metadata": {},
   "source": [
    "#### Para el primer periodo los registros de los nodos 2, 3 y 5 presentan gran similitud, tanto para los valores medidos de cada variable como para el rango de fechas de los registros, se eceptúa el caso del sensor de PT550 del nodo 2, pues los valores de la variable intensidad luminica registrados en la noche están errados, sea por falla en el sensor o por alguna fuente de luz presente en su cercanía.\n",
    "#### Fallas en los valores registrados por el nodo 6\n",
    "- Se observan periodos de hasta tres horas sin registrar datos de las variables Humedad Relativa y Temperatura, correspondientes al sensor DHT11.\n",
    "- Los valores de la variable Nivel UV permanencen constantes durante todo el periodo de medición, registrando una media de 7.52, lo que indica que este sensor se encontraba defectuoso.\n",
    "- La media de los valores de Humedad de la tierra registrados es de 5.14, lo que indica que este sensor podría estar defectuoso o desconectado.\n",
    "### Gráficas para el segundo periodo"
   ]
  },
  {
   "cell_type": "code",
   "execution_count": null,
   "metadata": {
    "scrolled": false
   },
   "outputs": [],
   "source": [
    "T = 1\n",
    "for i in [2,3,5]:\n",
    "    ax=nodo[i][T].iloc[:,0:5].plot(figsize=[20,4],\n",
    "                                  secondary_y='INTENSIDAD LUMÍNICA'\n",
    "                                  ,mark_right=None)\n",
    "    ax2=nodo[i][T].iloc[:,4].plot(secondary_y=True,color='mediumpurple')\n",
    "    ax.set_ylabel('°C, %RH, %, Nivel UV')\n",
    "    ax2.set_ylabel('Lux')\n",
    "    ax.set_xlabel('FECHA')\n",
    "    ax.set_title('Variables del Nodo %d en el Periodo de medición # %d'%(i,T+1))\n",
    "    plt.tight_layout()\n",
    "    \n",
    "ax=nodo[8][0].iloc[:,0:5].plot(figsize=[20,4],\n",
    "                               secondary_y='INTENSIDAD LUMÍNICA'\n",
    "                               ,mark_right=None)\n",
    "ax2=nodo[8][0].iloc[:,4].plot(secondary_y=True,color='mediumpurple')\n",
    "ax.set_ylabel('°C, %RH, %, Nivel UV')\n",
    "ax2.set_ylabel('Lux')\n",
    "ax.set_xlabel('FECHA')\n",
    "ax.set_title('Variables del Nodo 8 en el Periodo de medición # 2')\n",
    "plt.tight_layout()\n",
    "plt.show()"
   ]
  },
  {
   "cell_type": "markdown",
   "metadata": {},
   "source": [
    "#### Durante el segundo periodo de medición se presentaron fallas simultaneas en el sensor DTH11 del nodo 2 y variaciones anormales  en los registros de intensidad lumínica de los nodos 2, 3 y 5 crrespondientes a la mañana del 25 de mayo.\n",
    "- Las diferencias respecto a los valores medidos en los nodos 2, 3 y 5 aunmentan en comparación a lo observado en el periodo de medición # 1.\n",
    "#### El nodo 8 presentó fallas en todos sus sensores, salvo el orrespondiente a Humedad de la Tierra.\n",
    "\n",
    "### Gráficas para el tercer periodo"
   ]
  },
  {
   "cell_type": "code",
   "execution_count": null,
   "metadata": {},
   "outputs": [],
   "source": [
    "T = 2\n",
    "for i in [2,3,5]:\n",
    "    ax=nodo[i][T].iloc[:,0:5].plot(figsize=[20,4],\n",
    "                                  secondary_y='INTENSIDAD LUMÍNICA'\n",
    "                                  ,mark_right=None)\n",
    "    ax2=nodo[i][T].iloc[:,4].plot(secondary_y=True,color='mediumpurple')\n",
    "    ax.set_ylabel('°C, %RH, %Pw, Nivel UV')\n",
    "    ax2.set_ylabel('Lux')\n",
    "    ax.set_xlabel('FECHA')\n",
    "    ax.set_title('Variables del Nodo %d en el Periodo de medición # %d'%(i,T+1))\n",
    "    plt.tight_layout()\n",
    "    \n",
    "ax=nodo[8][1].iloc[:,0:5].plot(figsize=[20,4],\n",
    "                               secondary_y='INTENSIDAD LUMÍNICA'\n",
    "                               ,mark_right=None)\n",
    "ax2=nodo[8][1].iloc[:,4].plot(secondary_y=True,color='mediumpurple')\n",
    "ax.set_ylabel('°C, %RH, %Pw, Nivel UV')\n",
    "ax2.set_ylabel('Lux')\n",
    "ax.set_xlabel('FECHA')\n",
    "ax.set_title('Variables del Nodo 8 en el Periodo de medición # 2')\n",
    "plt.tight_layout()\n",
    "plt.show()"
   ]
  },
  {
   "cell_type": "markdown",
   "metadata": {},
   "source": [
    "#### Durante el tercer periodo de medición se presentaron las mayores similitudes entre las variables registradas en los nodos 2, 3 y 5.\n",
    "- Los bajos niveles de humedad del suelo en todos los nodos corresponden a que han transcurrido varios días desde que se regó el cultivo por última vez y al redución de las precipitaciones en la región.\n",
    "\n",
    "#### El nodo 8 no funcióno correctamente, los únicos registros correctos corresponden a las primeras 12 horas de medición."
   ]
  },
  {
   "cell_type": "markdown",
   "metadata": {},
   "source": [
    "##### A partir de la información anterior se establece que los nodos 6 y 8 no aportan información útil para el análisis de los datos, pues se evidencian demasiadas fallas en los valores. Además, se puede establecer que hay tres periodos de medición para los cuales se tienen registros simultaneos de los nodos 2, 3 y 5. \n",
    "- La variable Nivel UV no se va a considerar para el estudio, dado que la cantidad de valores medidos que corresponden a la incidencia de radiación solar directamente sobre los sensores se presentan en un reducido espacio de tiempo durante los días de medición, esto corresponde a la ubicación de los sensores a la altura de los frutos de cacao.\n",
    "\n",
    "#### A continuación se procede a igualar los registros para los tres nodos teniendo en cuenta los siguientes rangos:\n",
    "- Periodo 1: 2018-05-09 10:25:00 - 2018-05-10 14:36:00\n",
    "- Periodo 2: 2018-05-23 10:08:00 - 2018-05-26 07:00:00\n",
    "- Periodo 3: 2018-06-05 10:21:00 - 2018-06-08 18:40:00"
   ]
  },
  {
   "cell_type": "markdown",
   "metadata": {},
   "source": [
    "### Se definen las fechas en las que inician y terminan los periodos de medición"
   ]
  },
  {
   "cell_type": "code",
   "execution_count": null,
   "metadata": {},
   "outputs": [],
   "source": [
    "inicio = {0: '2018-05-09 10:25:00',\n",
    "          1: '2018-05-23 10:08:00',\n",
    "          2: '2018-06-05 14:41:00'}\n",
    "fin = {0: '2018-05-10 14:36:00',\n",
    "       1: '2018-05-26 07:00:00',\n",
    "       2: '2018-06-08 18:39:00'}"
   ]
  },
  {
   "cell_type": "markdown",
   "metadata": {},
   "source": [
    "### Se extraen los rangos definidos para cada periodo de medición"
   ]
  },
  {
   "cell_type": "code",
   "execution_count": null,
   "metadata": {},
   "outputs": [],
   "source": [
    "node = {2:[], 3:[], 5:[]}\n",
    "info = {2:[], 3:[], 5:[]}\n",
    "for i in [2,3,5]:\n",
    "    node[i]={}\n",
    "    info[i]=pd.DataFrame(columns=['Registro Inicial', 'Registro Final',\n",
    "                                  'Registrado', 'No Registrado',\n",
    "                                  'Registrado(%)', 'No Registrado(%)','Duración'])\n",
    "    for T in range(3):\n",
    "        node[i][T], infon = funs.info_periodo(nodo[i][T],inicio[T],fin[T])\n",
    "        node[i][T] = node[i][T].drop(columns=['NIVEL UV'])\n",
    "        info[i] = pd.concat([info[i],infon])\n",
    "    info[i] = info[i].reset_index(drop=True)    "
   ]
  },
  {
   "cell_type": "code",
   "execution_count": null,
   "metadata": {},
   "outputs": [],
   "source": [
    "for i in [2,3,5]:\n",
    "    display('Nodo %d'%i,info[i])"
   ]
  },
  {
   "cell_type": "code",
   "execution_count": null,
   "metadata": {},
   "outputs": [],
   "source": [
    "# Presenta los registros del segundo periodo de medición de los nodos 2, 3 y 5 \n",
    "T = 0\n",
    "mag = {0:'°C', 1:'%RH', 2:'%', 3:'Nivel UV', 4:'lx'}\n",
    "for i in range(4):\n",
    "    plt.figure(figsize=[20,5])\n",
    "    plt.title('%s DE LOS NODODS 2, 3 y 5 DURANTE EL PERIODO DE MEDICIÓN #%d'%(nodo[2][0].columns[i],T+1))\n",
    "    plt.xlabel('FECHA')\n",
    "    plt.ylabel(mag[i])\n",
    "    plt.plot(node[2][0].iloc[:,i],label='NODO 2')\n",
    "    plt.plot(node[3][0].iloc[:,i],label='NODO 3')\n",
    "    plt.plot(node[5][0].iloc[:,i],label='NODO 5')\n",
    "    plt.legend()\n",
    "    plt.tight_layout()\n",
    "    plt.show()"
   ]
  },
  {
   "cell_type": "code",
   "execution_count": null,
   "metadata": {
    "scrolled": false
   },
   "outputs": [],
   "source": [
    "# Presenta los registros del segundo periodo de medición de los nodos 2, 3 y 5 \n",
    "T = 1\n",
    "mag = {0:'°C', 1:'%RH', 2:'%', 3:'Nivel UV', 4:'lx'}\n",
    "for i in range(4):\n",
    "    plt.figure(figsize=[20,5])\n",
    "    plt.title('%s DE LOS NODODS 2, 3 y 5 DURANTE EL PERIODO DE MEDICIÓN #%d'%(nodo[2][0].columns[i],T+1))\n",
    "    plt.xlabel('FECHA')\n",
    "    plt.ylabel(mag[i])\n",
    "    plt.plot(node[2][T].iloc[:,i],label='NODO 2')\n",
    "    plt.plot(node[3][T].iloc[:,i],label='NODO 3')\n",
    "    plt.plot(node[5][T].iloc[:,i],label='NODO 5')\n",
    "    plt.legend()\n",
    "    plt.tight_layout()\n",
    "    plt.show()"
   ]
  },
  {
   "cell_type": "code",
   "execution_count": null,
   "metadata": {
    "scrolled": false
   },
   "outputs": [],
   "source": [
    "# Presenta los registros del tercer periodo de los nodos 2, 3 y 5 \n",
    "T = 2\n",
    "mag = {0:'°C', 1:'%RH', 2:'%', 3:'Nivel UV', 4:'lx'}\n",
    "for i in range(4):\n",
    "    plt.figure(figsize=[20,5])\n",
    "    plt.title('%s DE LOS NODODS 2, 3 y 5 DURANTE EL PERIODO DE MEDICIÓN #%d'%(nodo[2][0].columns[i],T+1))\n",
    "    plt.xlabel('FECHA')\n",
    "    plt.ylabel(mag[i])\n",
    "    plt.plot(node[2][T].iloc[:,i],label='NODO 2')\n",
    "    plt.plot(node[3][T].iloc[:,i],label='NODO 3')\n",
    "    plt.plot(node[5][T].iloc[:,i],label='NODO 5')\n",
    "    plt.legend()"
   ]
  },
  {
   "cell_type": "markdown",
   "metadata": {},
   "source": [
    "### Se reemplazan los valores NaN con los valores registrados en columnas superiores"
   ]
  },
  {
   "cell_type": "code",
   "execution_count": null,
   "metadata": {},
   "outputs": [],
   "source": [
    "for i in node:\n",
    "    for T in range(3):\n",
    "        node[i][T] = node[i][T].ffill()"
   ]
  },
  {
   "cell_type": "markdown",
   "metadata": {},
   "source": [
    "### Se almacenan los registros de los nodos 2, 3, y 5 para los tres periodos de medición"
   ]
  },
  {
   "cell_type": "code",
   "execution_count": null,
   "metadata": {},
   "outputs": [],
   "source": [
    "for i in node:\n",
    "    for T in range(3):\n",
    "        node[i][T] = node[i][T].reindex(columns = sorted(node[i][T].columns))\n",
    "        (node[i][T]).to_csv('nodo%d_periodo%d.csv'%(i, T+1))"
   ]
  },
  {
   "cell_type": "code",
   "execution_count": null,
   "metadata": {},
   "outputs": [],
   "source": []
  }
 ],
 "metadata": {
  "kernelspec": {
   "display_name": "Python 3",
   "language": "python",
   "name": "python3"
  },
  "language_info": {
   "codemirror_mode": {
    "name": "ipython",
    "version": 3
   },
   "file_extension": ".py",
   "mimetype": "text/x-python",
   "name": "python",
   "nbconvert_exporter": "python",
   "pygments_lexer": "ipython3",
   "version": "3.6.5"
  }
 },
 "nbformat": 4,
 "nbformat_minor": 2
}
