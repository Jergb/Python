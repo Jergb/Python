{
 "cells": [
  {
   "cell_type": "markdown",
   "metadata": {},
   "source": [
    "# Ajuste de Oultiers\n",
    "El presente notebook presenta un algoritmo para suavizar outliers en series temporales de variables ambientales. Se trabaja con los valores obtenidos por una red inalámbrica de sensores desplegada en un cultivo de cacao en una vereda del municipio de San Cayetano, Norte de Santander. Las mediciones analizadas corresponden a las variables Temperatura, Humedad Relativa, Humedad de la Tierra e Intensidad Lumínica."
   ]
  },
  {
   "cell_type": "markdown",
   "metadata": {},
   "source": [
    "### Importa los módulos necesarios y establece configuraciones"
   ]
  },
  {
   "cell_type": "code",
   "execution_count": null,
   "metadata": {},
   "outputs": [],
   "source": [
    "import pandas as pd\n",
    "import matplotlib.pylab as plt\n",
    "from matplotlib import cm\n",
    "import seaborn as sns\n",
    "import funs\n",
    "from scipy.stats.stats import pearsonr\n",
    "import warnings\n",
    "warnings.filterwarnings('ignore')\n",
    "# Se define un límite para las filas de los dataframes que se presenten en el notebook\n",
    "pd.options.display.max_rows = 10"
   ]
  },
  {
   "cell_type": "markdown",
   "metadata": {},
   "source": [
    "### Importa los registros de los nodos 2, 3 y 5 para el periodo 2"
   ]
  },
  {
   "cell_type": "code",
   "execution_count": null,
   "metadata": {},
   "outputs": [],
   "source": [
    "nodo = 2\n",
    "periodo = 3\n",
    "nodosp={}\n",
    "for i in [2,3,5]:\n",
    "    nodosp[i] = pd.read_csv('nodo%d_periodo%d.csv'%(i,periodo),\n",
    "                                           parse_dates=True,index_col=0)\n",
    "    nodosp[i] = nodosp[i].drop(columns=['HORA'])"
   ]
  },
  {
   "cell_type": "markdown",
   "metadata": {},
   "source": [
    "### Grafica las mediciones de los tres nodos en gráficas separadas para cada variable"
   ]
  },
  {
   "cell_type": "code",
   "execution_count": null,
   "metadata": {},
   "outputs": [],
   "source": [
    "for i in range(4):\n",
    "    plt.figure(figsize=[20,5])\n",
    "    sub=510\n",
    "    for n in nodosp:\n",
    "        sub+=1\n",
    "        plt.plot(nodosp[n].iloc[:,i],label='Nodo %d'%n)\n",
    "        plt.title(nodosp[n].columns[i])\n",
    "        plt.legend()\n",
    "        plt.tight_layout()"
   ]
  },
  {
   "cell_type": "markdown",
   "metadata": {},
   "source": [
    "### Se realizan copias del dataframe a analizar\n",
    "- El llamado al módulo *funs* indica que la variable se se utiliza en funciones del módulo de manera global."
   ]
  },
  {
   "cell_type": "code",
   "execution_count": null,
   "metadata": {},
   "outputs": [],
   "source": [
    "raw = nodosp[2]\n",
    "funs.raw = raw.copy()\n",
    "# filtrar para realzar un filtro de valores atípicos\n",
    "# según un rango dundicado por teclado.\n",
    "funs.filtrar = raw.copy()\n",
    "# filtrado almacena almacenar el dataframe luego de aplicar filtro.\n",
    "funs.filtrado = raw.copy() \n",
    "# Ajustado almacena el dataframe luego de aplicar el suavizado.\n",
    "funs.ajustado = raw.copy()"
   ]
  },
  {
   "cell_type": "markdown",
   "metadata": {},
   "source": [
    "### Grafica las variables temperatura y humedad de la tierra, el gráfico de dispersión de las dos variables y presenta la correlación entre las dos"
   ]
  },
  {
   "cell_type": "code",
   "execution_count": null,
   "metadata": {
    "scrolled": false
   },
   "outputs": [],
   "source": [
    "funs.info_relation(raw,'TEMPERATURA','HUMEDAD RELATIVA')"
   ]
  },
  {
   "cell_type": "markdown",
   "metadata": {},
   "source": [
    "### Aplica un filtro de rango para los valores, basado en el criterio de Tukey y el rango de medición de los sensores"
   ]
  },
  {
   "cell_type": "code",
   "execution_count": null,
   "metadata": {},
   "outputs": [],
   "source": [
    "#lim_menor = funs.filtro_menor(var1,var2, 20, 43, -1)\n",
    "#lim_mayor = funs.filtro_mayor(var1,var2,20, 43, -1)\n",
    "#print(lim_menor,lim_mayor)\n",
    "funs.filtrar_variables('TEMPERATURA',20,35)\n",
    "\n",
    "\n",
    "#lim_menor = funs.filtro_menor('HUMEDAD RELATIVA','TEMPERATURA', 19, 74, -1)\n",
    "#lim_mayor = funs.filtro_mayor('HUMEDAD RELATIVA','TEMPERATURA',19, 74, -1)\n",
    "#print(lim_menor,lim_mayor)\n",
    "funs.filtrar_variables('HUMEDAD RELATIVA',10,74)\n",
    "funs.info_relation(funs.filtrado,'TEMPERATURA','HUMEDAD RELATIVA')"
   ]
  },
  {
   "cell_type": "code",
   "execution_count": null,
   "metadata": {},
   "outputs": [],
   "source": [
    "funs.info_relation(funs.filtrado,'HUMEDAD DE LA TIERRA','HUMEDAD RELATIVA')"
   ]
  },
  {
   "cell_type": "code",
   "execution_count": null,
   "metadata": {},
   "outputs": [],
   "source": [
    "#var1= 'HUMEDAD DE LA TIERRA'\n",
    "#var2= 'HUMEDAD RELATIVA'\n",
    "#lim_menor = funs.filtro_menor(var2,var1, 68, 86, 1)\n",
    "#lim_mayor = funs.filtro_mayor(var2,var1, 68, 86, 1)\n",
    "#print(lim_menor,lim_mayor)\n",
    "funs.filtrar_variables('HUMEDAD DE LA TIERRA',68,88)\n",
    "funs.info_relation(funs.filtrado,'HUMEDAD DE LA TIERRA','HUMEDAD RELATIVA')"
   ]
  },
  {
   "cell_type": "code",
   "execution_count": null,
   "metadata": {},
   "outputs": [],
   "source": [
    "funs.info_relation(funs.filtrado,'INTENSIDAD LUMÍNICA','TEMPERATURA')"
   ]
  },
  {
   "cell_type": "code",
   "execution_count": null,
   "metadata": {},
   "outputs": [],
   "source": [
    "sns.heatmap(raw.corr(), annot=True, cmap='RdYlGn',fmt=\".2f\")\n",
    "plt.figure()\n",
    "sns.heatmap(funs.filtrado.corr(), annot=True, cmap='RdYlGn',fmt=\".2f\")"
   ]
  },
  {
   "cell_type": "code",
   "execution_count": null,
   "metadata": {},
   "outputs": [],
   "source": [
    "funs.ajuste_variacion('TEMPERATURA',50)\n",
    "plt.figure(figsize=[17,5])\n",
    "plt.plot(funs.ajustado.iloc[:,3],label='Nodo 2')\n",
    "plt.plot(nodosp[3].iloc[:,3],label='Nodo 3')\n",
    "plt.plot(nodosp[5].iloc[:,3],label='Nodo 5')\n",
    "plt.legend()\n",
    "plt.show()\n",
    "\n",
    "funs.info_relation(funs.ajustado,'TEMPERATURA','HUMEDAD RELATIVA')"
   ]
  },
  {
   "cell_type": "code",
   "execution_count": null,
   "metadata": {},
   "outputs": [],
   "source": [
    "funs.ajuste_variacion('HUMEDAD RELATIVA',10)\n",
    "plt.figure(figsize=[17,5])\n",
    "plt.plot(funs.ajustado.iloc[:,1],label='Nodo 2')\n",
    "plt.plot(nodosp[3].iloc[:,1],label='Nodo 3')\n",
    "plt.plot(nodosp[5].iloc[:,1],label='Nodo 5')\n",
    "plt.legend()\n",
    "plt.show()\n",
    "\n",
    "funs.info_relation(funs.ajustado,'TEMPERATURA','HUMEDAD RELATIVA')"
   ]
  },
  {
   "cell_type": "code",
   "execution_count": null,
   "metadata": {},
   "outputs": [],
   "source": [
    "funs.ajuste_variacion('HUMEDAD DE LA TIERRA',20)\n",
    "plt.figure(figsize=[17,5])\n",
    "plt.plot(funs.ajustado.iloc[:,0],label='Nodo 2')\n",
    "plt.plot(nodosp[3].iloc[:,0],label='Nodo 3')\n",
    "plt.plot(nodosp[5].iloc[:,0],label='Nodo 5')\n",
    "plt.legend()\n",
    "plt.show()\n",
    "funs.info_relation(funs.ajustado,'HUMEDAD DE LA TIERRA','HUMEDAD RELATIVA')"
   ]
  },
  {
   "cell_type": "markdown",
   "metadata": {},
   "source": [
    "funs.ajuste_variacion('INTENSIDAD LUMÍNICA',200)\n",
    "plt.figure(figsize=[17,5])\n",
    "plt.plot(funs.ajustado.iloc[:,2],label='Nodo 2')\n",
    "plt.plot(nodosp[3].iloc[:,2],label='Nodo 3')\n",
    "plt.plot(nodosp[5].iloc[:,2],label='Nodo 5')\n",
    "plt.legend()\n",
    "plt.show()\n",
    "plt.figure()\n",
    "funs.info_relation(funs.ajustado,'INTENSIDAD LUMÍNICA','TEMPERATURA')"
   ]
  },
  {
   "cell_type": "code",
   "execution_count": null,
   "metadata": {},
   "outputs": [],
   "source": [
    "sns.heatmap(raw.corr(), annot=True, cmap='RdYlGn',fmt=\".2f\")\n",
    "plt.title('CORRELACIÓN DE LAS MEDICIONES DEL NODO %s' %nodo)\n",
    "plt.figure()\n",
    "sns.heatmap(funs.filtrado.corr(), annot=True, cmap='RdYlGn',fmt=\".2f\")\n",
    "plt.title('MEDICIONES FILTRADAS DEL NODO %s' %nodo)\n",
    "plt.figure()\n",
    "sns.heatmap(funs.ajustado.corr(), annot=True, cmap='RdYlGn',fmt=\".2f\")\n",
    "plt.title('MEDICIONES AJUSTADAS DEL NODO %s' %nodo)\n",
    "plt.show()"
   ]
  },
  {
   "cell_type": "code",
   "execution_count": null,
   "metadata": {},
   "outputs": [],
   "source": [
    "funs.ajustado.hist(figsize=[15,3])\n",
    "plt.show()"
   ]
  },
  {
   "cell_type": "code",
   "execution_count": null,
   "metadata": {},
   "outputs": [],
   "source": [
    "from IPython.display import display, Markdown, Latex\n",
    "from scipy import stats\n",
    "def relation(df,v1,v2,marca):\n",
    "    'Permite visualizar la relación entre dos variables'\n",
    "    df = df.loc[:,[v1, v2]].copy()\n",
    "    corr = df.loc[:,[v1,v2]].corr().iloc[0,1]\n",
    "    tabla = {'r':'ORIGINALES','d':'DUPLICADOS','a':'SUVIZADOS'}\n",
    "    a=1  \n",
    "    \n",
    "    with plt.style.context(('seaborn')):\n",
    "\n",
    "        plt.scatter(df[v1],df[v2],linewidths=.8,alpha=.6,label='Normales')\n",
    "        x = df[v1]\n",
    "        y = df[v2]\n",
    "        slope, intercept, r_value, p_value, std_err = stats.linregress(x, y)\n",
    "        plt.plot(x, intercept + slope*x, 'g', label='Regresión Lineal')\n",
    "                \n",
    "        \n",
    "        for v in [v1,v2]:\n",
    "            li,ls = funs.tukey(df[v])\n",
    "            try:\n",
    "                ind = [[x,df[v][x]] for x in list(df[v].index)\n",
    "                       if df[v].loc[x]<=li or df[v].loc[x]>=ls]\n",
    "                df.loc[pd.DataFrame(ind).iloc[:,0],'o%d'%a] = pd.DataFrame(ind).iloc[:,1].values\n",
    "                a+=1\n",
    "                try:\n",
    "                    plt.scatter(df['o1'],df[v2],color='r',label='Atípicos')\n",
    "                except KeyError:\n",
    "                    pass\n",
    "                try: \n",
    "                    plt.scatter(df[v1],df['o2'],color='r',label='Atípicos')     \n",
    "                except KeyError:\n",
    "                    pass\n",
    "                \n",
    "            except (IndexError,NameError) as e:\n",
    "                pass\n",
    "    plt.xlabel('TEMPERATURA (°C)',fontsize=15)\n",
    "    plt.ylabel('HUMEDAD RELATIVA (%RH)',fontsize=15)\n",
    "    plt.legend()\n",
    "    plt.title(r'VALORES %s $\\rho$ = %.2f'%(tabla[marca],corr),fontsize=15)"
   ]
  },
  {
   "cell_type": "code",
   "execution_count": null,
   "metadata": {},
   "outputs": [],
   "source": [
    "with plt.style.context(('seaborn')):\n",
    "    plt.figure(figsize=(20,6))\n",
    "    plt.suptitle('GRÁFICOS DE DISPERSIÓN DE TEMPERATURA Y HUMEDAD RELATIVA',fontsize=15)\n",
    "    plt.subplot(121)\n",
    "    relation(raw,'TEMPERATURA','HUMEDAD RELATIVA','r')\n",
    "    plt.subplot(122)\n",
    "    relation(funs.ajustado,'TEMPERATURA','HUMEDAD RELATIVA','a')\n",
    "    plt.savefig('disp.png', dpi=300)"
   ]
  },
  {
   "cell_type": "code",
   "execution_count": null,
   "metadata": {},
   "outputs": [],
   "source": [
    "import numpy as np\n",
    "def graf(df,v1,marca):   \n",
    "    'Permite visualizar la relación entre dos variables'\n",
    "    global nodosp\n",
    "    df = pd.DataFrame({v1:df.loc[:,v1].copy()})\n",
    "    tabla = {'r':'ORIGINALES','d':'DUPLICADOS','s':'SUVIZADOS'}\n",
    "    a=1      \n",
    "    with plt.style.context(('seaborn')):\n",
    "\n",
    "        plt.plot(df[v1],label='Nodo 2')\n",
    "        plt.plot(nodosp[3].loc[:,'HUMEDAD RELATIVA'],label='Nodo 3',color='orange')\n",
    "        plt.plot(nodosp[5].loc[:,'HUMEDAD RELATIVA'],label='Nodo 5',color='green')\n",
    "\n",
    "        \n",
    "        for v in [v1]:\n",
    "            li,ls = funs.tukey(df[v])\n",
    "            try:\n",
    "                ind = [[x,df[v][x]] for x in list(df[v].index)\n",
    "                       if df[v].loc[x]<=li or df[v].loc[x]>=ls]\n",
    "                df.loc[pd.DataFrame(ind).iloc[:,0],'o%d'%a] = pd.DataFrame(ind).iloc[:,1].values\n",
    "                a+=1\n",
    "                try:\n",
    "                    plt.plot(df['o1'],'ro',label='Atípicos')\n",
    "                except KeyError:\n",
    "                    pass\n",
    "                \n",
    "            except (IndexError,NameError) as e:\n",
    "                pass\n",
    "        plt.xlabel('FECHA',fontsize=15)\n",
    "        plt.ylabel('HUMEDAD RELATIVA (%RH)',fontsize=15)\n",
    "        plt.legend()\n",
    "        if marca=='s':\n",
    "            legend = plt.legend(title=\"NODOS\",fancybox=True)\n",
    "        else:\n",
    "            legend = plt.legend(title=\"NODOS\",fancybox=True)\n",
    "        plt.title(r'VALORES %s'%(tabla[marca]),fontsize=15)"
   ]
  },
  {
   "cell_type": "code",
   "execution_count": null,
   "metadata": {},
   "outputs": [],
   "source": [
    "plt.figure(figsize=(20,6))\n",
    "plt.suptitle('GRÁFICOS DE TEMPERATURA',fontsize=15)\n",
    "plt.subplot(121)\n",
    "\n",
    "\n",
    "graf(raw,'TEMPERATURA','r')\n",
    "plt.subplot(122)\n",
    "\n",
    "graf(funs.ajustado,'TEMPERATURA','s')\n",
    "plt.savefig('graft.png', dpi=300)"
   ]
  },
  {
   "cell_type": "code",
   "execution_count": null,
   "metadata": {},
   "outputs": [],
   "source": [
    "plt.figure(figsize=(20,6))\n",
    "plt.suptitle('GRÁFICOS DE HUMEDAD RELATIVA',fontsize=15)\n",
    "plt.subplot(121)\n",
    "graf(raw,'HUMEDAD RELATIVA','r')\n",
    "\n",
    "plt.subplot(122)\n",
    "\n",
    "graf(funs.ajustado,'HUMEDAD RELATIVA','s')\n",
    "plt.savefig('graf.png', dpi=300)"
   ]
  },
  {
   "cell_type": "code",
   "execution_count": null,
   "metadata": {},
   "outputs": [],
   "source": [
    "(funs.ajustado).to_csv('ajustado.csv')"
   ]
  },
  {
   "cell_type": "code",
   "execution_count": null,
   "metadata": {},
   "outputs": [],
   "source": [
    "nodo = pd.read_csv('ajustado.csv',\n",
    "                   parse_dates=True,index_col=0)"
   ]
  },
  {
   "cell_type": "code",
   "execution_count": null,
   "metadata": {},
   "outputs": [],
   "source": [
    "nodo"
   ]
  }
 ],
 "metadata": {
  "kernelspec": {
   "display_name": "Python 3",
   "language": "python",
   "name": "python3"
  },
  "language_info": {
   "codemirror_mode": {
    "name": "ipython",
    "version": 3
   },
   "file_extension": ".py",
   "mimetype": "text/x-python",
   "name": "python",
   "nbconvert_exporter": "python",
   "pygments_lexer": "ipython3",
   "version": "3.6.5"
  }
 },
 "nbformat": 4,
 "nbformat_minor": 2
}
