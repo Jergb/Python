{
 "cells": [
  {
   "cell_type": "code",
   "execution_count": 8,
   "metadata": {},
   "outputs": [],
   "source": [
    "import pandas as pd\n",
    "nodo = 2\n",
    "periodo = 3\n",
    "nodosp={}\n",
    "for i in [2,3,5]:\n",
    "    nodosp[i] = pd.read_csv('nodo%d_periodo%d.csv'%(i,periodo),\n",
    "                                           parse_dates=True,index_col=0)"
   ]
  },
  {
   "cell_type": "code",
   "execution_count": 21,
   "metadata": {},
   "outputs": [
    {
     "name": "stderr",
     "output_type": "stream",
     "text": [
      "C:\\Users\\Jergb\\Anaconda3\\lib\\site-packages\\ipykernel_launcher.py:17: RuntimeWarning: overflow encountered in double_scalars\n",
      "C:\\Users\\Jergb\\Anaconda3\\lib\\site-packages\\ipykernel_launcher.py:17: RuntimeWarning: invalid value encountered in double_scalars\n"
     ]
    },
    {
     "name": "stdout",
     "output_type": "stream",
     "text": [
      "(100, 4800, 4) (100, 4800, 3)\n"
     ]
    }
   ],
   "source": [
    "################ \n",
    "df = nodosp[2].iloc[0:4801,:]\n",
    "################ \n",
    "import numpy as np \n",
    "def random_sample(len_timeseries=3000): \n",
    "    Nchoice = 600 \n",
    "    x1 = df.TEMPERATURA[0:-1]\n",
    "    x2 = df['HUMEDAD RELATIVA'][0:-1]\n",
    "    x3 = df['HUMEDAD DE LA TIERRA'][0:-1]\n",
    "    x4 = df['HORA'][1::]\n",
    "    y1 = df.TEMPERATURA[1::]\n",
    "    y2 = df['HUMEDAD RELATIVA'][1::]\n",
    "    y3 = df['HUMEDAD DE LA TIERRA'][1::]\n",
    "    for t in range(3,len_timeseries): \n",
    "     ## the output time series depend on input as follows: \n",
    "     y1[t] = x1[t-2] \n",
    "     y2[t] = x2[t-1]*x3[t-2] \n",
    "     y3[t] = x4[t-3] \n",
    "    y = np.array([y1,y2,y3]).T \n",
    "    X = np.array([x1,x2,x3,x4]).T \n",
    "    return y, X \n",
    "def generate_data(Nsequence = 1000): \n",
    "    X_train = [] \n",
    "    y_train = [] \n",
    "    for isequence in range(Nsequence): \n",
    "     y, X = random_sample() \n",
    "     X_train.append(X) \n",
    "     y_train.append(y) \n",
    "    return np.array(X_train),np.array(y_train) \n",
    "\n",
    "Nsequence = 100 \n",
    "prop = 0.5 \n",
    "Ntrain = int(Nsequence*prop) \n",
    "X, y = generate_data(Nsequence) \n",
    "X_train = X[:Ntrain,:,:] \n",
    "X_test = X[Ntrain:,:,:] \n",
    "y_train = y[:Ntrain,:,:] \n",
    "y_test = y[Ntrain:,:,:] \n",
    "\n",
    "#X.shape = (N sequence, length of time series, N input features) \n",
    "#y.shape = (N sequence, length of time series, N targets) \n",
    "print(X.shape, y.shape) \n",
    "# (100, 3000, 4) (100, 3000, 3) \n",
    "\n",
    "#################### \n",
    "# Cutting function # \n",
    "#################### "
   ]
  },
  {
   "cell_type": "markdown",
   "metadata": {},
   "source": [
    "**Modo de estado con N = batch_size.** Los modelos de estado sólido son difíciles con Keras, porque debe tener cuidado con la forma en que corta las series de tiempo y selecciona el tamaño del lote. En la pregunta OP, el tamaño de muestra es N = 100. Dado que podemos aceptar entrenar el modelo con un lote de cien (no es un número grande), seleccionaremos batch_size = 100.\n",
    "\n",
    "La selección de batch_size = N simplifica la capacitación porque no es necesario reiniciar estados dentro de épocas (por lo que no es necesario escribir una devolución de llamada on_batch_begin).\n",
    "\n",
    "Sigue siendo una cuestión de cortar la serie temporal. Cortar es un poco técnico, así que escribí una función de envoltura que funcionaba en todos los casos."
   ]
  },
  {
   "cell_type": "code",
   "execution_count": 22,
   "metadata": {},
   "outputs": [],
   "source": [
    "def stateful_cut(arr, batch_size, T_after_cut): \n",
    "    if len(arr.shape) != 3: \n",
    "     # N: Independent sample size, \n",
    "     # T: Time length, \n",
    "     # m: Dimension \n",
    "     print(\"ERROR: please format arr as a (N, T, m) array.\") \n",
    "\n",
    "    N = arr.shape[0] \n",
    "    T = arr.shape[1] \n",
    "\n",
    "    # We need T_after_cut * nb_cuts = T \n",
    "    nb_cuts = int(T/T_after_cut) \n",
    "    if nb_cuts * T_after_cut != T: \n",
    "     print(\"ERROR: T_after_cut must divide T\") \n",
    "\n",
    "    # We need batch_size * nb_reset = N \n",
    "    # If nb_reset = 1, we only reset after the whole epoch, so no need to reset \n",
    "    nb_reset = int(N/batch_size) \n",
    "    if nb_reset * batch_size != N: \n",
    "     print(\"ERROR: batch_size must divide N\") \n",
    "\n",
    "    # Cutting (technical) \n",
    "    cut1 = np.split(arr, nb_reset, axis=0) \n",
    "    cut2 = [np.split(x, nb_cuts, axis=1) for x in cut1] \n",
    "    cut3 = [np.concatenate(x) for x in cut2] \n",
    "    cut4 = np.concatenate(cut3) \n",
    "    return(cut4) "
   ]
  },
  {
   "cell_type": "markdown",
   "metadata": {},
   "source": [
    "A partir de ahora, que se convierta en fácil de entrenar el modelo. Dado que el ejemplo OP es muy simple, no necesitamos preprocesamiento o regularización adicional. Describo cómo proceder paso a paso (para el impaciente, todo el código autónomo está disponible al final de esta publicación).\n",
    "\n",
    "Primero cargamos los datos y los reformamos con la función de envoltura."
   ]
  },
  {
   "cell_type": "code",
   "execution_count": 23,
   "metadata": {},
   "outputs": [],
   "source": [
    "from keras.models import Sequential \n",
    "from keras.layers import Dense, LSTM, TimeDistributed \n",
    "import matplotlib.pyplot as plt \n",
    "import matplotlib.patches as mpatches \n",
    "\n",
    "## \n",
    "# Data \n",
    "## \n",
    "N = X_train.shape[0] # size of samples \n",
    "T = X_train.shape[1] # length of each time series \n",
    "batch_size = N # number of time series considered together: batch_size | N \n",
    "T_after_cut = 100 # length of each cut part of the time series: T_after_cut | T \n",
    "dim_in = X_train.shape[2] # dimension of input time series \n",
    "dim_out = y_train.shape[2] # dimension of output time series \n",
    "\n",
    "inputs, outputs, inputs_test, outputs_test = [stateful_cut(arr, batch_size, T_after_cut) for arr in [X_train, y_train, X_test, y_test]] "
   ]
  },
  {
   "cell_type": "markdown",
   "metadata": {},
   "source": [
    "Luego compila un modelo con 4 entradas, 3 salidas, y 1 capa oculta contiene 10 nodos."
   ]
  },
  {
   "cell_type": "code",
   "execution_count": 24,
   "metadata": {},
   "outputs": [],
   "source": [
    "## \n",
    "# Model \n",
    "## \n",
    "nb_units = 10 \n",
    "\n",
    "model = Sequential() \n",
    "model.add(LSTM(batch_input_shape=(batch_size, None, dim_in), \n",
    "       return_sequences=True, units=nb_units, stateful=True)) \n",
    "model.add(TimeDistributed(Dense(activation='linear', units=dim_out))) \n",
    "model.compile(loss = 'mse', optimizer = 'rmsprop') "
   ]
  },
  {
   "cell_type": "markdown",
   "metadata": {},
   "source": [
    "Formamos el modelo sin restablecer los estados. Podemos hacerlo sólo porque hemos seleccionado batch_size = N."
   ]
  },
  {
   "cell_type": "code",
   "execution_count": 25,
   "metadata": {},
   "outputs": [
    {
     "name": "stdout",
     "output_type": "stream",
     "text": [
      "Train on 2400 samples, validate on 2400 samples\n",
      "Epoch 1/100\n",
      "2400/2400 [==============================] - 3s 1ms/step - loss: nan - val_loss: nan\n",
      "Epoch 2/100\n",
      "2400/2400 [==============================] - 2s 859us/step - loss: nan - val_loss: nan\n",
      "Epoch 3/100\n",
      "2400/2400 [==============================] - 2s 910us/step - loss: nan - val_loss: nan\n",
      "Epoch 4/100\n",
      "2400/2400 [==============================] - 2s 1ms/step - loss: nan - val_loss: nan\n",
      "Epoch 5/100\n",
      "2400/2400 [==============================] - 2s 880us/step - loss: nan - val_loss: nan\n",
      "Epoch 6/100\n",
      "2400/2400 [==============================] - 2s 845us/step - loss: nan - val_loss: nan\n",
      "Epoch 7/100\n",
      "2400/2400 [==============================] - 2s 842us/step - loss: nan - val_loss: nan\n",
      "Epoch 8/100\n",
      "2400/2400 [==============================] - 2s 848us/step - loss: nan - val_loss: nan\n",
      "Epoch 9/100\n",
      "2400/2400 [==============================] - 2s 840us/step - loss: nan - val_loss: nan\n",
      "Epoch 10/100\n",
      "2400/2400 [==============================] - 2s 845us/step - loss: nan - val_loss: nan\n",
      "Epoch 11/100\n",
      "2400/2400 [==============================] - 2s 838us/step - loss: nan - val_loss: nan\n",
      "Epoch 12/100\n",
      "2400/2400 [==============================] - 2s 844us/step - loss: nan - val_loss: nan\n",
      "Epoch 13/100\n",
      "2400/2400 [==============================] - 2s 838us/step - loss: nan - val_loss: nan\n",
      "Epoch 14/100\n",
      "2400/2400 [==============================] - 2s 845us/step - loss: nan - val_loss: nan\n",
      "Epoch 15/100\n",
      "2400/2400 [==============================] - 2s 855us/step - loss: nan - val_loss: nan\n",
      "Epoch 16/100\n",
      "2400/2400 [==============================] - 2s 924us/step - loss: nan - val_loss: nan\n",
      "Epoch 17/100\n",
      "2400/2400 [==============================] - 2s 1ms/step - loss: nan - val_loss: nan\n",
      "Epoch 18/100\n",
      "2400/2400 [==============================] - 2s 935us/step - loss: nan - val_loss: nan\n",
      "Epoch 19/100\n",
      "2400/2400 [==============================] - 2s 929us/step - loss: nan - val_loss: nan\n",
      "Epoch 20/100\n",
      "2400/2400 [==============================] - 2s 1ms/step - loss: nan - val_loss: nan\n",
      "Epoch 21/100\n",
      "2400/2400 [==============================] - 2s 920us/step - loss: nan - val_loss: nan\n",
      "Epoch 22/100\n",
      "2400/2400 [==============================] - 2s 931us/step - loss: nan - val_loss: nan\n",
      "Epoch 23/100\n",
      "2400/2400 [==============================] - 2s 912us/step - loss: nan - val_loss: nan\n",
      "Epoch 24/100\n",
      "2400/2400 [==============================] - 3s 1ms/step - loss: nan - val_loss: nan\n",
      "Epoch 25/100\n",
      "2400/2400 [==============================] - 2s 1ms/step - loss: nan - val_loss: nan\n",
      "Epoch 26/100\n",
      "2400/2400 [==============================] - 3s 1ms/step - loss: nan - val_loss: nan\n",
      "Epoch 27/100\n",
      "2400/2400 [==============================] - 3s 1ms/step - loss: nan - val_loss: nan\n",
      "Epoch 28/100\n",
      "2400/2400 [==============================] - 2s 954us/step - loss: nan - val_loss: nan\n",
      "Epoch 29/100\n",
      "2400/2400 [==============================] - 2s 916us/step - loss: nan - val_loss: nan\n",
      "Epoch 30/100\n",
      "2400/2400 [==============================] - 2s 965us/step - loss: nan - val_loss: nan\n",
      "Epoch 31/100\n",
      "2400/2400 [==============================] - 3s 1ms/step - loss: nan - val_loss: nan\n",
      "Epoch 32/100\n",
      "2400/2400 [==============================] - 2s 976us/step - loss: nan - val_loss: nan\n",
      "Epoch 33/100\n",
      "2400/2400 [==============================] - 3s 1ms/step - loss: nan - val_loss: nan\n",
      "Epoch 34/100\n",
      "2400/2400 [==============================] - 2s 937us/step - loss: nan - val_loss: nan\n",
      "Epoch 35/100\n",
      "2400/2400 [==============================] - 3s 1ms/step - loss: nan - val_loss: nan\n",
      "Epoch 36/100\n",
      "2400/2400 [==============================] - 2s 1ms/step - loss: nan - val_loss: nan\n",
      "Epoch 37/100\n",
      "2400/2400 [==============================] - 2s 1ms/step - loss: nan - val_loss: nan\n",
      "Epoch 38/100\n",
      "2400/2400 [==============================] - 2s 997us/step - loss: nan - val_loss: nan\n",
      "Epoch 39/100\n",
      "2400/2400 [==============================] - 2s 936us/step - loss: nan - val_loss: nan\n",
      "Epoch 40/100\n",
      "2400/2400 [==============================] - 2s 914us/step - loss: nan - val_loss: nan\n",
      "Epoch 41/100\n",
      "2400/2400 [==============================] - 2s 914us/step - loss: nan - val_loss: nan\n",
      "Epoch 42/100\n",
      "2400/2400 [==============================] - 2s 934us/step - loss: nan - val_loss: nan\n",
      "Epoch 43/100\n",
      "2400/2400 [==============================] - 2s 959us/step - loss: nan - val_loss: nan\n",
      "Epoch 44/100\n",
      "2400/2400 [==============================] - 2s 1ms/step - loss: nan - val_loss: nan\n",
      "Epoch 45/100\n",
      "2400/2400 [==============================] - 2s 988us/step - loss: nan - val_loss: nan\n",
      "Epoch 46/100\n",
      "2400/2400 [==============================] - 2s 992us/step - loss: nan - val_loss: nan\n",
      "Epoch 47/100\n",
      "2400/2400 [==============================] - 3s 1ms/step - loss: nan - val_loss: nan\n",
      "Epoch 48/100\n",
      "2400/2400 [==============================] - 2s 1ms/step - loss: nan - val_loss: nan\n",
      "Epoch 49/100\n",
      "2400/2400 [==============================] - 2s 959us/step - loss: nan - val_loss: nan\n",
      "Epoch 50/100\n",
      "2400/2400 [==============================] - 2s 957us/step - loss: nan - val_loss: nan\n",
      "Epoch 51/100\n",
      "2400/2400 [==============================] - 2s 942us/step - loss: nan - val_loss: nan\n",
      "Epoch 52/100\n",
      "2400/2400 [==============================] - 2s 992us/step - loss: nan - val_loss: nan\n",
      "Epoch 53/100\n",
      "2400/2400 [==============================] - 3s 1ms/step - loss: nan - val_loss: nan\n",
      "Epoch 54/100\n",
      "2400/2400 [==============================] - 3s 1ms/step - loss: nan - val_loss: nan\n",
      "Epoch 55/100\n",
      "2400/2400 [==============================] - 3s 1ms/step - loss: nan - val_loss: nan\n",
      "Epoch 56/100\n",
      "2400/2400 [==============================] - 3s 1ms/step - loss: nan - val_loss: nan\n",
      "Epoch 57/100\n",
      "2400/2400 [==============================] - 3s 1ms/step - loss: nan - val_loss: nan\n",
      "Epoch 58/100\n",
      "2400/2400 [==============================] - 2s 1ms/step - loss: nan - val_loss: nan\n",
      "Epoch 59/100\n",
      "2400/2400 [==============================] - 3s 1ms/step - loss: nan - val_loss: nan\n",
      "Epoch 60/100\n",
      "2400/2400 [==============================] - 3s 1ms/step - loss: nan - val_loss: nan\n",
      "Epoch 61/100\n",
      "2400/2400 [==============================] - 3s 1ms/step - loss: nan - val_loss: nan\n",
      "Epoch 62/100\n",
      "2400/2400 [==============================] - 3s 1ms/step - loss: nan - val_loss: nan\n",
      "Epoch 63/100\n",
      "2400/2400 [==============================] - 3s 1ms/step - loss: nan - val_loss: nan\n",
      "Epoch 64/100\n",
      "2400/2400 [==============================] - 4s 2ms/step - loss: nan - val_loss: nan\n",
      "Epoch 65/100\n",
      "2400/2400 [==============================] - 3s 1ms/step - loss: nan - val_loss: nan\n",
      "Epoch 66/100\n",
      "2400/2400 [==============================] - 3s 1ms/step - loss: nan - val_loss: nan\n",
      "Epoch 67/100\n",
      "2400/2400 [==============================] - 4s 2ms/step - loss: nan - val_loss: nan\n",
      "Epoch 68/100\n",
      "2400/2400 [==============================] - 3s 1ms/step - loss: nan - val_loss: nan\n",
      "Epoch 69/100\n",
      "2400/2400 [==============================] - 3s 1ms/step - loss: nan - val_loss: nan\n",
      "Epoch 70/100\n",
      "2400/2400 [==============================] - 4s 2ms/step - loss: nan - val_loss: nan\n",
      "Epoch 71/100\n",
      "2400/2400 [==============================] - 3s 1ms/step - loss: nan - val_loss: nan\n",
      "Epoch 72/100\n",
      "2400/2400 [==============================] - 3s 1ms/step - loss: nan - val_loss: nan\n",
      "Epoch 73/100\n",
      "2400/2400 [==============================] - 5s 2ms/step - loss: nan - val_loss: nan\n",
      "Epoch 74/100\n",
      "2400/2400 [==============================] - 5s 2ms/step - loss: nan - val_loss: nan\n",
      "Epoch 75/100\n",
      "2400/2400 [==============================] - 4s 2ms/step - loss: nan - val_loss: nan\n",
      "Epoch 76/100\n",
      "2400/2400 [==============================] - 4s 2ms/step - loss: nan - val_loss: nan\n",
      "Epoch 77/100\n",
      "2400/2400 [==============================] - 3s 1ms/step - loss: nan - val_loss: nan\n",
      "Epoch 78/100\n",
      "2400/2400 [==============================] - 4s 2ms/step - loss: nan - val_loss: nan\n",
      "Epoch 79/100\n",
      "2400/2400 [==============================] - 3s 1ms/step - loss: nan - val_loss: nan\n",
      "Epoch 80/100\n",
      "2400/2400 [==============================] - 3s 1ms/step - loss: nan - val_loss: nan\n",
      "Epoch 81/100\n",
      "2400/2400 [==============================] - 3s 1ms/step - loss: nan - val_loss: nan\n",
      "Epoch 82/100\n",
      "2400/2400 [==============================] - 2s 1ms/step - loss: nan - val_loss: nan\n",
      "Epoch 83/100\n"
     ]
    },
    {
     "name": "stdout",
     "output_type": "stream",
     "text": [
      "2400/2400 [==============================] - 2s 981us/step - loss: nan - val_loss: nan\n",
      "Epoch 84/100\n",
      "2400/2400 [==============================] - 2s 932us/step - loss: nan - val_loss: nan\n",
      "Epoch 85/100\n",
      "2400/2400 [==============================] - 2s 896us/step - loss: nan - val_loss: nan\n",
      "Epoch 86/100\n",
      "2400/2400 [==============================] - 2s 883us/step - loss: nan - val_loss: nan\n",
      "Epoch 87/100\n",
      "2400/2400 [==============================] - 2s 927us/step - loss: nan - val_loss: nan\n",
      "Epoch 88/100\n",
      "2400/2400 [==============================] - 2s 1ms/step - loss: nan - val_loss: nan\n",
      "Epoch 89/100\n",
      "2400/2400 [==============================] - 2s 871us/step - loss: nan - val_loss: nan\n",
      "Epoch 90/100\n",
      "2400/2400 [==============================] - 2s 914us/step - loss: nan - val_loss: nan\n",
      "Epoch 91/100\n",
      "2400/2400 [==============================] - 2s 1000us/step - loss: nan - val_loss: nan\n",
      "Epoch 92/100\n",
      "2400/2400 [==============================] - 3s 1ms/step - loss: nan - val_loss: nan\n",
      "Epoch 93/100\n",
      "2400/2400 [==============================] - 2s 959us/step - loss: nan - val_loss: nan\n",
      "Epoch 94/100\n",
      "2400/2400 [==============================] - 2s 974us/step - loss: nan - val_loss: nan\n",
      "Epoch 95/100\n",
      "2400/2400 [==============================] - 2s 980us/step - loss: nan - val_loss: nan\n",
      "Epoch 96/100\n",
      "2400/2400 [==============================] - 3s 1ms/step - loss: nan - val_loss: nan\n",
      "Epoch 97/100\n",
      "2400/2400 [==============================] - 2s 1ms/step - loss: nan - val_loss: nan\n",
      "Epoch 98/100\n",
      "2400/2400 [==============================] - 2s 958us/step - loss: nan - val_loss: nan\n",
      "Epoch 99/100\n",
      "2400/2400 [==============================] - 2s 1ms/step - loss: nan - val_loss: nan\n",
      "Epoch 100/100\n",
      "2400/2400 [==============================] - 2s 990us/step - loss: nan - val_loss: nan\n"
     ]
    }
   ],
   "source": [
    "## \n",
    "# Training \n",
    "## \n",
    "epochs = 100 \n",
    "\n",
    "nb_reset = int(N/batch_size) \n",
    "if nb_reset > 1: \n",
    "    print(\"ERROR: We need to reset states when batch_size < N\") \n",
    "\n",
    "# When nb_reset = 1, we do not need to reinitialize states \n",
    "history = model.fit(inputs, outputs, epochs = epochs, \n",
    "        batch_size = batch_size, shuffle=False, \n",
    "        validation_data=(inputs_test, outputs_test)) "
   ]
  },
  {
   "cell_type": "markdown",
   "metadata": {},
   "source": [
    "Nos obtener la evolución de la pérdida de entrenamiento/prueba de la siguiente manera:"
   ]
  },
  {
   "cell_type": "code",
   "execution_count": 26,
   "metadata": {},
   "outputs": [
    {
     "data": {
      "image/png": "[encoded data removed]",
      "text/plain": [
       "<Figure size 720x576 with 1 Axes>"
      ]
     },
     "metadata": {},
     "output_type": "display_data"
    }
   ],
   "source": [
    "def plotting(history): \n",
    "    plt.plot(history.history['loss'], color = \"red\") \n",
    "    plt.plot(history.history['val_loss'], color = \"blue\") \n",
    "    red_patch = mpatches.Patch(color='red', label='Training') \n",
    "    blue_patch = mpatches.Patch(color='blue', label='Test') \n",
    "    plt.legend(handles=[red_patch, blue_patch]) \n",
    "    plt.xlabel('Epochs') \n",
    "    plt.ylabel('MSE loss') \n",
    "    plt.show() \n",
    "\n",
    "plt.figure(figsize=(10,8)) \n",
    "plotting(history) # Evolution of training/test loss "
   ]
  },
  {
   "cell_type": "markdown",
   "metadata": {},
   "source": [
    "Ahora, definimos un 'modelo mimo' que es apátrida pero contiene nuestros pesos de estado. [¿Por qué de esta manera? Predicción con modelo con estado a través de model.predict necesita un lote completo en Keras, pero es posible que no tengamos un lote completo para predecir ...]"
   ]
  },
  {
   "cell_type": "code",
   "execution_count": 27,
   "metadata": {
    "scrolled": false
   },
   "outputs": [
    {
     "data": {
      "image/png": "[encoded data removed]",
      "text/plain": [
       "<Figure size 720x576 with 1 Axes>"
      ]
     },
     "metadata": {},
     "output_type": "display_data"
    },
    {
     "data": {
      "image/png": "[encoded data removed]",
      "text/plain": [
       "<Figure size 720x576 with 1 Axes>"
      ]
     },
     "metadata": {},
     "output_type": "display_data"
    },
    {
     "data": {
      "image/png": "[encoded data removed]",
      "text/plain": [
       "<Figure size 720x576 with 1 Axes>"
      ]
     },
     "metadata": {},
     "output_type": "display_data"
    }
   ],
   "source": [
    "## \n",
    "# Visual checking for a time series \n",
    "## \n",
    "## Mime model which is stateless but containing stateful weights \n",
    "model_stateless = Sequential() \n",
    "model_stateless.add(LSTM(input_shape=(None, dim_in), \n",
    "       return_sequences=True, units=nb_units)) \n",
    "model_stateless.add(TimeDistributed(Dense(activation='linear', units=dim_out))) \n",
    "model_stateless.compile(loss = 'mse', optimizer = 'rmsprop') \n",
    "model_stateless.set_weights(model.get_weights()) \n",
    "\n",
    "## Prediction of a new set \n",
    "i = 0 # time series selected (between 0 and N-1) \n",
    "x = X_train[i] \n",
    "y = y_train[i] \n",
    "y_hat = model_stateless.predict(np.array([x]))[0] \n",
    "\n",
    "for dim in range(3): # dim = 0 for y1 ; dim = 1 for y2 ; dim = 2 for y3. \n",
    "    plt.figure(figsize=(10,8)) \n",
    "    plt.plot(range(T), y[:,dim]) \n",
    "    plt.plot(range(T), y_hat[:,dim]) \n",
    "    plt.show() \n",
    "\n",
    "## Conclusion: works almost perfectly. "
   ]
  },
  {
   "cell_type": "code",
   "execution_count": 6,
   "metadata": {},
   "outputs": [
    {
     "data": {
      "text/plain": [
       "50"
      ]
     },
     "execution_count": 6,
     "metadata": {},
     "output_type": "execute_result"
    }
   ],
   "source": [
    "len(X_train)"
   ]
  }
 ],
 "metadata": {
  "kernelspec": {
   "display_name": "Python 3",
   "language": "python",
   "name": "python3"
  },
  "language_info": {
   "codemirror_mode": {
    "name": "ipython",
    "version": 3
   },
   "file_extension": ".py",
   "mimetype": "text/x-python",
   "name": "python",
   "nbconvert_exporter": "python",
   "pygments_lexer": "ipython3",
   "version": "3.6.5"
  }
 },
 "nbformat": 4,
 "nbformat_minor": 2
}
