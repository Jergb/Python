{
 "cells": [
  {
   "cell_type": "markdown",
   "metadata": {},
   "source": [
    "# LSTM  para predecir a los pasajeros de las aerolíneas internacionales"
   ]
  },
  {
   "cell_type": "code",
   "execution_count": 1,
   "metadata": {},
   "outputs": [
    {
     "name": "stderr",
     "output_type": "stream",
     "text": [
      "C:\\Users\\Jergb\\Anaconda3\\lib\\site-packages\\h5py\\__init__.py:36: FutureWarning: Conversion of the second argument of issubdtype from `float` to `np.floating` is deprecated. In future, it will be treated as `np.float64 == np.dtype(float).type`.\n",
      "  from ._conv import register_converters as _register_converters\n",
      "Using TensorFlow backend.\n"
     ]
    }
   ],
   "source": [
    "import numpy\n",
    "import matplotlib.pyplot as plt\n",
    "from pandas import read_csv\n",
    "import math\n",
    "import pandas as pd\n",
    "from keras.models import Sequential\n",
    "from keras.layers import Bidirectional \n",
    "from keras.layers import Dense\n",
    "from keras.layers import LSTM\n",
    "from sklearn.preprocessing import MinMaxScaler\n",
    "from sklearn.metrics import mean_squared_error"
   ]
  },
  {
   "cell_type": "markdown",
   "metadata": {},
   "source": [
    "# convertimos un array de valores en una matriz de conjuntos de datos\n",
    "Con esto tenemos la salida a n muestras siguientes"
   ]
  },
  {
   "cell_type": "code",
   "execution_count": 2,
   "metadata": {},
   "outputs": [],
   "source": [
    "# convertir un array de valores en una matriz de conjuntos de datos\n",
    "def datos_salida(data, predice_pasos=1):\n",
    "    x = data.iloc[0:-predice_pasos].values\n",
    "    y = data.iloc[predice_pasos::,0].values\n",
    "    return numpy.array(x), numpy.array(y)"
   ]
  },
  {
   "cell_type": "markdown",
   "metadata": {},
   "source": [
    "# Se define una semilla constante para controlar la estabilidad del modelo.\n",
    "Con esto se garantiza que el modelo se entrene siempre con la misma secuencia de numeros aleatorios."
   ]
  },
  {
   "cell_type": "code",
   "execution_count": 3,
   "metadata": {},
   "outputs": [],
   "source": [
    "numpy.random.seed(5)"
   ]
  },
  {
   "cell_type": "markdown",
   "metadata": {},
   "source": [
    "# cargamos el conjunto de datos"
   ]
  },
  {
   "cell_type": "markdown",
   "metadata": {},
   "source": [
    "dataframe = read_csv('international-airline-passengers.csv', usecols=[1], engine='python',skipfooter=3)\n",
    "dataset = dataframe.values\n",
    "dataset = dataset.astype('float32')\n",
    "dataframe.shape"
   ]
  },
  {
   "cell_type": "code",
   "execution_count": 4,
   "metadata": {},
   "outputs": [
    {
     "data": {
      "text/plain": [
       "(4559, 1)"
      ]
     },
     "metadata": {},
     "output_type": "display_data"
    },
    {
     "data": {
      "text/plain": [
       "(4559, 1)"
      ]
     },
     "metadata": {},
     "output_type": "display_data"
    },
    {
     "data": {
      "text/plain": [
       "[<matplotlib.lines.Line2D at 0x20fd127ff60>]"
      ]
     },
     "execution_count": 4,
     "metadata": {},
     "output_type": "execute_result"
    },
    {
     "data": {
      "image/png": "[encoded data removed]",
      "text/plain": [
       "<Figure size 432x288 with 1 Axes>"
      ]
     },
     "metadata": {},
     "output_type": "display_data"
    }
   ],
   "source": [
    "datos = pd.read_csv('ajustado.csv', parse_dates=True,index_col=0)\n",
    "d_prueba = pd.read_csv('nodo3_periodo3.csv', parse_dates=True,index_col=0)\n",
    "d_prueba = d_prueba.drop(columns=['HORA'])\n",
    "data = pd.DataFrame(datos.loc[:,'TEMPERATURA'])\n",
    "probar = pd.DataFrame(d_prueba.loc[:,'TEMPERATURA'])\n",
    "#data = data.astype('float32')\n",
    "display(data.shape,probar.shape)\n",
    "plt.plot(probar)\n",
    "plt.plot(data)\n"
   ]
  },
  {
   "cell_type": "code",
   "execution_count": 5,
   "metadata": {},
   "outputs": [],
   "source": [
    "# normalizamos el conjunto de datos\n",
    "scaler = MinMaxScaler(feature_range=(0, 1))\n",
    "data = scaler.fit_transform(data)\n",
    "probar = scaler.fit_transform(probar)"
   ]
  },
  {
   "cell_type": "code",
   "execution_count": 6,
   "metadata": {},
   "outputs": [],
   "source": [
    "# dividimos entre entranmiento y test\n",
    "ld = len(data)\n",
    "entrenar = pd.DataFrame(data[0:int(ld * 0.7)])\n",
    "validar = pd.DataFrame(data[int(ld * 0.7)::])\n",
    "probar = pd.DataFrame(probar)"
   ]
  },
  {
   "cell_type": "code",
   "execution_count": 7,
   "metadata": {
    "scrolled": false
   },
   "outputs": [],
   "source": [
    "# remodelamos X=t y Y=t+1\n",
    "entrenarX, entrenarY = datos_salida(entrenar, 1)\n",
    "validarX, validarY = datos_salida(validar, 1)\n",
    "probarX, probarY = datos_salida(probar, 1)"
   ]
  },
  {
   "cell_type": "code",
   "execution_count": 8,
   "metadata": {
    "scrolled": false
   },
   "outputs": [
    {
     "name": "stdout",
     "output_type": "stream",
     "text": [
      "Epoch 1/10\n",
      " - 11s - loss: 0.0126\n",
      "Epoch 2/10\n",
      " - 7s - loss: 2.3171e-04\n",
      "Epoch 3/10\n",
      " - 9s - loss: 2.4205e-04\n",
      "Epoch 4/10\n",
      " - 7s - loss: 2.4240e-04\n",
      "Epoch 5/10\n",
      " - 8s - loss: 2.4137e-04\n",
      "Epoch 6/10\n",
      " - 8s - loss: 2.3694e-04\n",
      "Epoch 7/10\n",
      " - 7s - loss: 2.4040e-04\n",
      "Epoch 8/10\n",
      " - 9s - loss: 2.4322e-04\n",
      "Epoch 9/10\n",
      " - 8s - loss: 2.4260e-04\n",
      "Epoch 10/10\n",
      " - 8s - loss: 2.3631e-04\n"
     ]
    },
    {
     "data": {
      "text/plain": [
       "<keras.callbacks.History at 0x20fd71adcf8>"
      ]
     },
     "execution_count": 8,
     "metadata": {},
     "output_type": "execute_result"
    }
   ],
   "source": [
    "# remodelamos la entrada para que sea[muestras, pasos de tiempo, características]\n",
    "entrenarX = numpy.reshape(entrenarX, (entrenarX.shape[0], 1, entrenarX.shape[1]))\n",
    "validarX = numpy.reshape(validarX, (validarX.shape[0], 1, validarX.shape[1]))\n",
    "probarX = numpy.reshape(probarX, (probarX.shape[0], 1, probarX.shape[1]))\n",
    "#creamos la LSTM network\n",
    "\n",
    "model = Sequential()\n",
    "model.add(Bidirectional(LSTM(4, input_shape=(1, 1))))\n",
    "model.add(Dense(1))\n",
    "# evaluar la exactitud de las predicciones de un modelo a través del error de la raíz cuadrada de la media (RMSE)\n",
    "# El error de entrenamiento mide qué tan bien ajusta los datos de entrenamiento tu modelo\n",
    "#El error cuadrático medio (MSE) puede ser difícil de interpretar; es por esto que generalmente observamos el error \n",
    "# de la raíz cuadrada de la media (RMSE) en su lugar. Una propiedad interesante del RMSE es que se puede interpretar \n",
    "# en la misma escala que los objetivos originales\n",
    "model.compile(loss='mean_squared_error', optimizer='adam')\n",
    "model.fit(entrenarX, entrenarY, epochs=10, batch_size=1, verbose=2)"
   ]
  },
  {
   "cell_type": "code",
   "execution_count": 9,
   "metadata": {},
   "outputs": [],
   "source": [
    "# hacemos las predicciones\n",
    "entrenar_predic = model.predict(entrenarX)\n",
    "validar_predic = model.predict(validarX)\n",
    "probar_predic = model.predict(probarX)"
   ]
  },
  {
   "cell_type": "code",
   "execution_count": 10,
   "metadata": {},
   "outputs": [],
   "source": [
    "# invertimos las predicciones\n",
    "entrenar_predic = scaler.inverse_transform(entrenar_predic)\n",
    "entrenarY = scaler.inverse_transform([entrenarY])\n",
    "validar_predic = scaler.inverse_transform(validar_predic)\n",
    "validarY = scaler.inverse_transform([validarY])\n",
    "probar_predic = scaler.inverse_transform(probar_predic)\n",
    "probarY = scaler.inverse_transform([probarY])"
   ]
  },
  {
   "cell_type": "code",
   "execution_count": 11,
   "metadata": {},
   "outputs": [
    {
     "name": "stdout",
     "output_type": "stream",
     "text": [
      "Resultado del entrenamiento: 0.19 RMSE\n",
      "Resultado de la validación: 0.20 RMSE\n",
      "Resultado de la prueba: 0.25 RMSE\n"
     ]
    }
   ],
   "source": [
    "# calculamos el error rms\n",
    "r_entrenamiento = math.sqrt(mean_squared_error(entrenarY[0], entrenar_predic[:,0]))\n",
    "print('Resultado del entrenamiento: %.2f RMSE' % (r_entrenamiento))\n",
    "r_validacion = math.sqrt(mean_squared_error(validarY[0], validar_predic[:,0]))\n",
    "print('Resultado de la validación: %.2f RMSE' % (r_validacion))\n",
    "r_prueba = math.sqrt(mean_squared_error(probarY[0], probar_predic[:,0]))\n",
    "print('Resultado de la prueba: %.2f RMSE' % (r_prueba))"
   ]
  },
  {
   "cell_type": "code",
   "execution_count": 12,
   "metadata": {},
   "outputs": [],
   "source": [
    "# predicciones del entrenamiento de cambio para plotear\n",
    "trainPredictPlot = numpy.empty_like(data)\n",
    "trainPredictPlot[:, :] = numpy.nan\n",
    "trainPredictPlot[1:len(entrenar_predic)+1, :] = entrenar_predic"
   ]
  },
  {
   "cell_type": "code",
   "execution_count": 13,
   "metadata": {},
   "outputs": [],
   "source": [
    "# predicciones del test de cambio para plotear\n",
    "vPredictPlot = numpy.empty_like(data)\n",
    "vPredictPlot[:, :] = numpy.nan\n",
    "vPredictPlot[len(entrenar_predic)+2:len(data), :] = validar_predic"
   ]
  },
  {
   "cell_type": "code",
   "execution_count": 14,
   "metadata": {},
   "outputs": [],
   "source": [
    "# predicciones del test de cambio para plotear\n",
    "testPredictPlot = numpy.empty_like(d_prueba)\n",
    "testPredictPlot[:, :] = numpy.nan\n",
    "testPredictPlot[1:len(d_prueba)+1, :] = probar_predic"
   ]
  },
  {
   "cell_type": "code",
   "execution_count": 15,
   "metadata": {},
   "outputs": [
    {
     "data": {
      "image/png": "[encoded data removed]",
      "text/plain": [
       "<Figure size 1224x432 with 1 Axes>"
      ]
     },
     "metadata": {},
     "output_type": "display_data"
    }
   ],
   "source": [
    "plt.figure(figsize=(17,6))\n",
    "# plot baseline and predictions\n",
    "plt.plot(scaler.inverse_transform(data))\n",
    "# ploteamos linea base y predicciones\n",
    "plt.plot(trainPredictPlot,'r', linewidth = 2)\n",
    "plt.plot(vPredictPlot,'m', linewidth = 2)\n",
    "plt.legend( ('Datos', 'Prediccion datos entramiento', 'Prediccion sobre los datos de test'), loc = 'upper left')\n",
    "plt.grid(True)\n",
    "plt.title(\"Datos sobre pasajeros por mes desde 1949 a 1960\", fontsize = 15)\n",
    "plt.xlabel(\"Tiempo (nº meses)\", fontsize = 10)\n",
    "plt.ylabel(\"nº de pasajeros\", fontsize = 10)\n",
    "plt.show()"
   ]
  },
  {
   "cell_type": "code",
   "execution_count": 16,
   "metadata": {},
   "outputs": [
    {
     "name": "stdout",
     "output_type": "stream",
     "text": [
      "Resultado de la prueba: 6.02 RMSE\n"
     ]
    },
    {
     "data": {
      "text/plain": [
       "[<matplotlib.lines.Line2D at 0x20fcd79d128>,\n",
       " <matplotlib.lines.Line2D at 0x20fdc6c3f28>,\n",
       " <matplotlib.lines.Line2D at 0x20fdc6b7080>,\n",
       " <matplotlib.lines.Line2D at 0x20fdc6b71d0>]"
      ]
     },
     "execution_count": 16,
     "metadata": {},
     "output_type": "execute_result"
    },
    {
     "data": {
      "image/png": "[encoded data removed]",
      "text/plain": [
       "<Figure size 1224x432 with 1 Axes>"
      ]
     },
     "metadata": {},
     "output_type": "display_data"
    }
   ],
   "source": [
    "d_prueba = pd.read_csv('nodo2_periodo2.csv', parse_dates=True,index_col=0)\n",
    "d_prueba = d_prueba.drop(columns=['HORA'])\n",
    "probar = pd.DataFrame(d_prueba.iloc[:,-1])\n",
    "plt.figure(figsize=(17,6))\n",
    "# normalizamos el conjunto de datos\n",
    "\n",
    "scaler = MinMaxScaler(feature_range=(0, 1))\n",
    "probar = pd.DataFrame(scaler.fit_transform(probar))\n",
    "\n",
    "probarX, probarY = datos_salida(probar, 1)\n",
    "\n",
    "probarX = numpy.reshape(probarX, (probarX.shape[0], 1, probarX.shape[1]))\n",
    "probar_predic = model.predict(probarX)\n",
    "\n",
    "\n",
    "probar_predic = scaler.inverse_transform(probar_predic)\n",
    "probarY = scaler.inverse_transform([probarY])\n",
    "\n",
    "r_prueba = math.sqrt(mean_squared_error(probarY[0], probar_predic[:,0]))\n",
    "print('Resultado de la prueba: %.2f RMSE' % (r_prueba))\n",
    "testPredictPlot = numpy.empty_like(d_prueba)\n",
    "testPredictPlot[:, :] = numpy.nan\n",
    "testPredictPlot[1:len(probar)+1, :] = probar_predic\n",
    "plt.plot(probar_predic)\n",
    "plt.plot(testPredictPlot,'.')"
   ]
  },
  {
   "cell_type": "code",
   "execution_count": 17,
   "metadata": {},
   "outputs": [
    {
     "data": {
      "text/plain": [
       "(4133, 1)"
      ]
     },
     "execution_count": 17,
     "metadata": {},
     "output_type": "execute_result"
    }
   ],
   "source": [
    "probar.shape"
   ]
  },
  {
   "cell_type": "code",
   "execution_count": 18,
   "metadata": {},
   "outputs": [
    {
     "data": {
      "text/plain": [
       "array([[30.657501],\n",
       "       [30.657501],\n",
       "       [30.657501],\n",
       "       [31.527502],\n",
       "       [30.657501],\n",
       "       [73.41219 ]], dtype=float32)"
      ]
     },
     "metadata": {},
     "output_type": "display_data"
    },
    {
     "data": {
      "text/plain": [
       "array([[[0.        ]],\n",
       "\n",
       "       [[0.        ]],\n",
       "\n",
       "       [[0.        ]],\n",
       "\n",
       "       [[0.02272727]],\n",
       "\n",
       "       [[0.        ]],\n",
       "\n",
       "       [[1.        ]]])"
      ]
     },
     "metadata": {},
     "output_type": "display_data"
    },
    {
     "data": {
      "text/html": [
       "<div>\n",
       "<style scoped>\n",
       "    .dataframe tbody tr th:only-of-type {\n",
       "        vertical-align: middle;\n",
       "    }\n",
       "\n",
       "    .dataframe tbody tr th {\n",
       "        vertical-align: top;\n",
       "    }\n",
       "\n",
       "    .dataframe thead th {\n",
       "        text-align: right;\n",
       "    }\n",
       "</style>\n",
       "<table border=\"1\" class=\"dataframe\">\n",
       "  <thead>\n",
       "    <tr style=\"text-align: right;\">\n",
       "      <th></th>\n",
       "      <th>0</th>\n",
       "    </tr>\n",
       "  </thead>\n",
       "  <tbody>\n",
       "    <tr>\n",
       "      <th>0</th>\n",
       "      <td>0.000000</td>\n",
       "    </tr>\n",
       "    <tr>\n",
       "      <th>1</th>\n",
       "      <td>0.000000</td>\n",
       "    </tr>\n",
       "    <tr>\n",
       "      <th>2</th>\n",
       "      <td>0.000000</td>\n",
       "    </tr>\n",
       "    <tr>\n",
       "      <th>3</th>\n",
       "      <td>0.022727</td>\n",
       "    </tr>\n",
       "    <tr>\n",
       "      <th>4</th>\n",
       "      <td>0.000000</td>\n",
       "    </tr>\n",
       "    <tr>\n",
       "      <th>5</th>\n",
       "      <td>1.000000</td>\n",
       "    </tr>\n",
       "    <tr>\n",
       "      <th>6</th>\n",
       "      <td>0.000000</td>\n",
       "    </tr>\n",
       "  </tbody>\n",
       "</table>\n",
       "</div>"
      ],
      "text/plain": [
       "          0\n",
       "0  0.000000\n",
       "1  0.000000\n",
       "2  0.000000\n",
       "3  0.022727\n",
       "4  0.000000\n",
       "5  1.000000\n",
       "6  0.000000"
      ]
     },
     "metadata": {},
     "output_type": "display_data"
    }
   ],
   "source": [
    "probar = pd.DataFrame(scaler.fit_transform([[30],[30],[30],[31],[30],[74],[30]]))\n",
    "\n",
    "probarX, probarY = datos_salida(probar, 1)\n",
    "\n",
    "probarX = numpy.reshape(probarX, (probarX.shape[0], 1, probarX.shape[1]))\n",
    "probar_predic = model.predict(probarX)\n",
    "probar_predic = scaler.inverse_transform(probar_predic)\n",
    "display(probar_predic,probarX,probar)"
   ]
  },
  {
   "cell_type": "code",
   "execution_count": 19,
   "metadata": {},
   "outputs": [
    {
     "data": {
      "text/plain": [
       "<matplotlib.collections.PathCollection at 0x20fdc9285c0>"
      ]
     },
     "execution_count": 19,
     "metadata": {},
     "output_type": "execute_result"
    },
    {
     "data": {
      "image/png": "[encoded data removed]",
      "text/plain": [
       "<Figure size 432x288 with 1 Axes>"
      ]
     },
     "metadata": {},
     "output_type": "display_data"
    }
   ],
   "source": [
    "plt.scatter(probar_predic,probarY)"
   ]
  },
  {
   "cell_type": "code",
   "execution_count": 20,
   "metadata": {},
   "outputs": [
    {
     "data": {
      "text/plain": [
       "array([[[0.        ]],\n",
       "\n",
       "       [[0.        ]],\n",
       "\n",
       "       [[0.        ]],\n",
       "\n",
       "       [[0.02272727]],\n",
       "\n",
       "       [[0.        ]]])"
      ]
     },
     "execution_count": 20,
     "metadata": {},
     "output_type": "execute_result"
    }
   ],
   "source": [
    "probarX[0:5]"
   ]
  },
  {
   "cell_type": "code",
   "execution_count": 21,
   "metadata": {},
   "outputs": [
    {
     "data": {
      "text/plain": [
       "array([0.        , 0.        , 0.02272727, 0.        , 1.        ])"
      ]
     },
     "execution_count": 21,
     "metadata": {},
     "output_type": "execute_result"
    }
   ],
   "source": [
    "probarY[0:5]"
   ]
  },
  {
   "cell_type": "markdown",
   "metadata": {},
   "source": [
    "Resultado del entrenamiento: 23.34 RMSE\n",
    "Resultado del test: 47.56 RMSE\n",
    "\n",
    "- bidireccional:\n",
    "Resultado del entrenamiento: 22.85 RMSE\n",
    "Resultado del test: 48.85 RMSE\n"
   ]
  }
 ],
 "metadata": {
  "kernelspec": {
   "display_name": "Python 3",
   "language": "python",
   "name": "python3"
  },
  "language_info": {
   "codemirror_mode": {
    "name": "ipython",
    "version": 3
   },
   "file_extension": ".py",
   "mimetype": "text/x-python",
   "name": "python",
   "nbconvert_exporter": "python",
   "pygments_lexer": "ipython3",
   "version": "3.6.5"
  }
 },
 "nbformat": 4,
 "nbformat_minor": 2
}
