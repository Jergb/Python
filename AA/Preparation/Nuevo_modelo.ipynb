{
 "cells": [
  {
   "cell_type": "markdown",
   "metadata": {},
   "source": [
    "datos = pd.read_csv('ajustado.csv', parse_dates=True,index_col=0)\n",
    "d_prueba = pd.read_csv('nodo3_periodo3.csv', parse_dates=True,index_col=0)\n",
    "d_prueba = d_prueba.drop(columns=['HORA'])\n",
    "data = pd.DataFrame(datos.loc[:,'TEMPERATURA'])\n",
    "probar = pd.DataFrame(d_prueba.loc[:,'TEMPERATURA'])\n",
    "#data = data.astype('float32')\n",
    "display(data.shape,probar.shape)\n",
    "plt.plot(probar)\n",
    "plt.plot(data)"
   ]
  },
  {
   "cell_type": "code",
   "execution_count": null,
   "metadata": {},
   "outputs": [],
   "source": []
  }
 ],
 "metadata": {
  "kernelspec": {
   "display_name": "Python 3",
   "language": "python",
   "name": "python3"
  },
  "language_info": {
   "codemirror_mode": {
    "name": "ipython",
    "version": 3
   },
   "file_extension": ".py",
   "mimetype": "text/x-python",
   "name": "python",
   "nbconvert_exporter": "python",
   "pygments_lexer": "ipython3",
   "version": "3.6.5"
  }
 },
 "nbformat": 4,
 "nbformat_minor": 2
}
