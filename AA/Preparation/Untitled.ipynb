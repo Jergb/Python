{
 "cells": [
  {
   "cell_type": "code",
   "execution_count": 2,
   "metadata": {},
   "outputs": [
    {
     "name": "stderr",
     "output_type": "stream",
     "text": [
      "C:\\Users\\Jergb\\Anaconda3\\lib\\site-packages\\ggplot\\utils.py:81: FutureWarning: pandas.tslib is deprecated and will be removed in a future version.\n",
      "You can access Timestamp as pandas.Timestamp\n",
      "  pd.tslib.Timestamp,\n"
     ]
    },
    {
     "data": {
      "text/html": [
       "<script>requirejs.config({paths: { 'plotly': ['https://cdn.plot.ly/plotly-latest.min']},});if(!window.Plotly) {{require(['plotly'],function(plotly) {window.Plotly=plotly;});}}</script>"
      ],
      "text/vnd.plotly.v1+html": [
       "<script>requirejs.config({paths: { 'plotly': ['https://cdn.plot.ly/plotly-latest.min']},});if(!window.Plotly) {{require(['plotly'],function(plotly) {window.Plotly=plotly;});}}</script>"
      ]
     },
     "metadata": {},
     "output_type": "display_data"
    }
   ],
   "source": [
    "import pandas as pd\n",
    "import matplotlib.pyplot as plt\n",
    "import pandas as pd\n",
    "import funs\n",
    "import seaborn as sns\n",
    "import plotly.plotly as py\n",
    "from plotly.graph_objs import *\n",
    "from plotly.offline import download_plotlyjs, init_notebook_mode, plot, iplot\n",
    "init_notebook_mode(connected=True)"
   ]
  },
  {
   "cell_type": "code",
   "execution_count": 12,
   "metadata": {},
   "outputs": [],
   "source": [
    "periodo=3\n",
    "nodosp={}\n",
    "for i in [2,3,5]:\n",
    "    nodosp[i] = pd.read_csv('nodo%d_periodo%d.csv'%(i,periodo),\n",
    "                                           parse_dates=True,index_col=0)\n",
    "    nodosp[i] = nodosp[i].drop(columns=['HORA'])"
   ]
  },
  {
   "cell_type": "code",
   "execution_count": 27,
   "metadata": {},
   "outputs": [],
   "source": [
    "raw=nodosp.copy()"
   ]
  },
  {
   "cell_type": "code",
   "execution_count": null,
   "metadata": {},
   "outputs": [],
   "source": [
    "val=[filtrar[variable][i-(60*24)*(1+j)] for j in range(int(d)) if d>1]"
   ]
  },
  {
   "cell_type": "code",
   "execution_count": 9,
   "metadata": {},
   "outputs": [],
   "source": [
    "\n",
    "raw = pd.read_csv('nodo%d_periodo%d.csv'%(2,2),\n",
    "                  parse_dates=True,index_col=0)\n"
   ]
  },
  {
   "cell_type": "code",
   "execution_count": null,
   "metadata": {},
   "outputs": [],
   "source": [
    "a=raw['TEMPERATURA'].rolling(2000).std()\n",
    "b=raw['HUMEDAD RELATIVA'].rolling(2000).std()\n",
    "s=raw['HUMEDAD RELATIVA'].std()\n",
    "#hacemos la desviación esandar, y escogemos un tamaño de muestra anterior con una desviacón estandar cercana\n",
    "for i in range(len(raw)-i):\n",
    "    val= [raw.TEMPERATURA[i-x:i].std for x in range(len(raw)) if raw.TEMPERATURA[i-x:i].std() < s]\n",
    "    if len(val)>0:\n",
    "        break"
   ]
  },
  {
   "cell_type": "code",
   "execution_count": 56,
   "metadata": {},
   "outputs": [
    {
     "data": {
      "text/plain": [
       "16.5"
      ]
     },
     "metadata": {},
     "output_type": "display_data"
    },
    {
     "data": {
      "text/plain": [
       "44.5"
      ]
     },
     "metadata": {},
     "output_type": "display_data"
    },
    {
     "data": {
      "text/plain": [
       "False"
      ]
     },
     "execution_count": 56,
     "metadata": {},
     "output_type": "execute_result"
    },
    {
     "data": {
      "image/png": "[encoded data removed]",
      "text/plain": [
       "<Figure size 432x288 with 1 Axes>"
      ]
     },
     "metadata": {},
     "output_type": "display_data"
    }
   ],
   "source": [
    "from datetime import datetime, timedelta\n",
    "# calcula el rango d tukey\n",
    "\n",
    "nob=raw.copy()\n",
    "li,ls=funs.tukey(raw['TEMPERATURA'])\n",
    "display(li,ls)\n",
    "indice=[x for x in raw.TEMPERATURA.index\n",
    "   if raw.TEMPERATURA.loc[x]<li or raw.TEMPERATURA.loc[x]>ls]\n",
    "#tenemos el indice y los valores atípicos\n",
    "b=[x-timedelta(days=1) for x in indice]\n",
    "\n",
    "\n",
    "nob.TEMPERATURA.loc[indice]=raw.TEMPERATURA.loc[b].values\n",
    "#plt.plot(raw.TEMPERATURA.loc[indice])\n",
    "#plt.plot(raw.TEMPERATURA.loc[b])\n",
    "#plt.plot(raw.TEMPERATURA)\n",
    "plt.plot(nob.TEMPERATURA)\n",
    "#plt.plot(raw.TEMPERATURA.loc[b])\n",
    "nob.TEMPERATURA.isnull().any()"
   ]
  },
  {
   "cell_type": "code",
   "execution_count": 49,
   "metadata": {},
   "outputs": [
    {
     "data": {
      "text/html": [
       "<div>\n",
       "<style scoped>\n",
       "    .dataframe tbody tr th:only-of-type {\n",
       "        vertical-align: middle;\n",
       "    }\n",
       "\n",
       "    .dataframe tbody tr th {\n",
       "        vertical-align: top;\n",
       "    }\n",
       "\n",
       "    .dataframe thead th {\n",
       "        text-align: right;\n",
       "    }\n",
       "</style>\n",
       "<table border=\"1\" class=\"dataframe\">\n",
       "  <thead>\n",
       "    <tr style=\"text-align: right;\">\n",
       "      <th></th>\n",
       "      <th>v</th>\n",
       "    </tr>\n",
       "  </thead>\n",
       "  <tbody>\n",
       "    <tr>\n",
       "      <th>0</th>\n",
       "      <td>1</td>\n",
       "    </tr>\n",
       "    <tr>\n",
       "      <th>1</th>\n",
       "      <td>2</td>\n",
       "    </tr>\n",
       "    <tr>\n",
       "      <th>2</th>\n",
       "      <td>2</td>\n",
       "    </tr>\n",
       "    <tr>\n",
       "      <th>3</th>\n",
       "      <td>1</td>\n",
       "    </tr>\n",
       "  </tbody>\n",
       "</table>\n",
       "</div>"
      ],
      "text/plain": [
       "   v\n",
       "0  1\n",
       "1  2\n",
       "2  2\n",
       "3  1"
      ]
     },
     "execution_count": 49,
     "metadata": {},
     "output_type": "execute_result"
    }
   ],
   "source": [
    "a=pd.DataFrame({'v':[1,2,3,4]})\n",
    "a.loc[[2,3]]=a.loc[[1,0]].values\n",
    "a"
   ]
  },
  {
   "cell_type": "code",
   "execution_count": null,
   "metadata": {},
   "outputs": [],
   "source": [
    "filtrado=tablas[2]\n",
    "li1,ls1 = funs.tukey(filtrado.TEMPERATURA)\n",
    "print(li1,ls1)\n",
    "li2,ls2 = funs.tukey(ajustado['HUMEDAD RELATIVA'])\n",
    "a = ajustado.loc[:,['TEMPERATURA', 'HUMEDAD RELATIVA']].copy()\n",
    "ind = [[x,a.TEMPERATURA.loc[x]] for x in list(a.TEMPERATURA.index)\n",
    "       if 30 >= a.TEMPERATURA.loc[x]]\n",
    "a.loc[pd.DataFrame(ind).iloc[:,0],'outlier'] = pd.DataFrame(ind).iloc[:,1].values\n",
    "plt.plot(filtrado.TEMPERATURA)\n",
    "plt.plot(a.outlier)\n",
    "#Revisar que tipos de valores son "
   ]
  },
  {
   "cell_type": "code",
   "execution_count": null,
   "metadata": {},
   "outputs": [],
   "source": [
    "a=tablas[2].rolling(20).median()\n",
    "plt.figure(figsize=[20,10])\n",
    "plt.plot(tablas[2].TEMPERATURA)\n",
    "plt.plot(a.TEMPERATURA)\n",
    "a"
   ]
  },
  {
   "cell_type": "code",
   "execution_count": null,
   "metadata": {},
   "outputs": [],
   "source": [
    "t = 24*60\n",
    "nodo, periodos = {}, {}\n",
    "for i in [2,3,4,5,6,8]:\n",
    "    nodo[i], periodos[i] = funs.separa_datos(tablas[i],t)"
   ]
  },
  {
   "cell_type": "code",
   "execution_count": null,
   "metadata": {},
   "outputs": [],
   "source": [
    "separados = nodo[2][1]\n",
    "inicio = nodo[2][1].index[0]\n",
    "fin = nodo[2][1].index[-1]\n",
    "periodos"
   ]
  },
  {
   "cell_type": "code",
   "execution_count": null,
   "metadata": {},
   "outputs": [],
   "source": [
    "nodo[2][1].TEMPERATURA.plot()"
   ]
  },
  {
   "cell_type": "code",
   "execution_count": null,
   "metadata": {},
   "outputs": [],
   "source": [
    "tablas[2]"
   ]
  },
  {
   "cell_type": "code",
   "execution_count": null,
   "metadata": {},
   "outputs": [],
   "source": [
    ".TEMPERATURA[[1,3,5,2]]=40"
   ]
  },
  {
   "cell_type": "code",
   "execution_count": null,
   "metadata": {},
   "outputs": [],
   "source": [
    "tablas[2].TEMPERATURA[300]"
   ]
  },
  {
   "cell_type": "markdown",
   "metadata": {},
   "source": [
    "def info_periodo(dataset,inicio,fin):\n",
    "    registros = len(dataset.loc[inicio:fin,:])+1\n",
    "    inicio = pd.Timestamp(inicio)\n",
    "    fin = pd.Timestamp(fin)\n",
    "    tiempo = fin - inicio\n",
    "    \n",
    "    faltantes = funs.transcurrido_fechas(fin, inicio) + 1 - registros\n",
    "    r_registros = registros / (funs.transcurrido_fechas(fin, inicio) +1)\n",
    "    n_registros = faltantes / (funs.transcurrido_fechas(fin, inicio) +1)\n",
    "    info = pd.DataFrame({'Inicio': [inicio], 'Fin': [fin],\n",
    "                             'Registrado': [registros], 'No Registrado':[faltantes],\n",
    "                             '% Registrado':[r_registros],'% No Registrado':[n_registros],\n",
    "                             'Duración':[tiempo]})\n",
    "    return info"
   ]
  },
  {
   "cell_type": "code",
   "execution_count": null,
   "metadata": {},
   "outputs": [],
   "source": [
    "from time import time\n",
    "import numpy as np\n",
    "start_time = time()\n",
    "a=[]\n",
    "for i in range(int(1e5)):\n",
    "    a.append(i)\n",
    "elapsed_time = time() - start_time\n",
    "print(\"Elapsed time: %0.10f seconds.\" % elapsed_time)"
   ]
  },
  {
   "cell_type": "code",
   "execution_count": null,
   "metadata": {},
   "outputs": [],
   "source": [
    "start_time = time()\n",
    "a = [i for i in range(int(1e7))]\n",
    "elapsed_time = time() - start_time\n",
    "print(\"Elapsed time: %0.10f seconds.\" % elapsed_time)\n",
    "elapsed_time"
   ]
  },
  {
   "cell_type": "code",
   "execution_count": null,
   "metadata": {},
   "outputs": [],
   "source": [
    "start_time = time()\n",
    "a = {i for i in range(int(1e7))}\n",
    "elapsed_time = time() - start_time\n",
    "print(\"Elapsed time: %0.10f seconds.\" % elapsed_time)\n",
    "elapsed_time"
   ]
  },
  {
   "cell_type": "code",
   "execution_count": null,
   "metadata": {},
   "outputs": [],
   "source": [
    "start_time = time()\n",
    "a = np.arange(1e7)\n",
    "elapsed_time = time() - start_time\n",
    "print(\"Elapsed time: %0.10f seconds.\" % elapsed_time)\n",
    "elapsed_time"
   ]
  },
  {
   "cell_type": "code",
   "execution_count": null,
   "metadata": {},
   "outputs": [],
   "source": [
    "a=np.arange(40)\n",
    "b = {i for i in a if i>30}\n",
    "b"
   ]
  },
  {
   "cell_type": "code",
   "execution_count": null,
   "metadata": {},
   "outputs": [],
   "source": []
  }
 ],
 "metadata": {
  "kernelspec": {
   "display_name": "Python 3",
   "language": "python",
   "name": "python3"
  },
  "language_info": {
   "codemirror_mode": {
    "name": "ipython",
    "version": 3
   },
   "file_extension": ".py",
   "mimetype": "text/x-python",
   "name": "python",
   "nbconvert_exporter": "python",
   "pygments_lexer": "ipython3",
   "version": "3.6.5"
  }
 },
 "nbformat": 4,
 "nbformat_minor": 2
}
