{
 "cells": [
  {
   "cell_type": "code",
   "execution_count": null,
   "metadata": {},
   "outputs": [],
   "source": [
    "import matplotlib.pyplot as plt\n",
    "import pandas as pd\n",
    "pd.options.display.max_rows = 10"
   ]
  },
  {
   "cell_type": "markdown",
   "metadata": {},
   "source": [
    "# 1. Datos de carga de la Red Neuronal\n",
    "Siempre que trabajemos con algoritmos de machine learning que utilicen un proceso estocástico(por ejemplo, números aleatorios), es una buena idea establecer la semilla del número aleatorio.\n",
    "Esto es para que pueda ejecutar el mismo código una y otra vez y obtener el mismo resultado. Esto es útil si necesita demostrar un resultado, comparar algoritmos usando la misma fuente de \n",
    "aleatoriedad o depurar una parte de su código."
   ]
  },
  {
   "cell_type": "code",
   "execution_count": null,
   "metadata": {},
   "outputs": [],
   "source": [
    "# Crea tu primer MLP en Keras\n",
    "from keras.models import Sequential\n",
    "from keras.layers import Dense\n",
    "import numpy\n",
    "# Fija las semillas aleatorias para la reproducibilidad\n",
    "numpy.random.seed(7)"
   ]
  },
  {
   "cell_type": "code",
   "execution_count": null,
   "metadata": {},
   "outputs": [],
   "source": [
    "data = pd.read_csv('pima-indians-diabetes.csv')\n",
    "data"
   ]
  },
  {
   "cell_type": "code",
   "execution_count": null,
   "metadata": {},
   "outputs": [],
   "source": [
    "data.values"
   ]
  },
  {
   "cell_type": "code",
   "execution_count": null,
   "metadata": {},
   "outputs": [],
   "source": [
    "# carga los datos\n",
    "dataset = data.values\n",
    "# dividido en variables de entrada (X) y salida (Y)\n",
    "X = dataset[:,0:8]\n",
    "Y = dataset[:,8]\n",
    "dataset"
   ]
  },
  {
   "cell_type": "markdown",
   "metadata": {},
   "source": [
    "Hemos inicializado nuestro generador de números aleatorios para asegurarnos de que nuestros resultados sean reproducibles y cargamos nuestros datos. Ahora estamos listos para definir nuestro modelo de red neuronal."
   ]
  },
  {
   "cell_type": "markdown",
   "metadata": {},
   "source": [
    "# 2. Definir el modelo de la Red Neuronal\n",
    "\n",
    "Los modelos en Keras se definen como una secuencia de capas. Creamos un modelo secuencial y añadimos capas una a una hasta que estamos satisfechos con nuestra topología de red. Lo primero que hay que hacer es asegurarse de que la capa de entrada tiene el número correcto de entradas. Esto se puede especificar al crear la primera capa con el argumento input_dim y establecerlo en 8 para las 8 variables de entrada.\n",
    "\n",
    "## ¿Cómo sabemos el número de capas y sus tipos?\n",
    "\n",
    "Esta es una pregunta muy difícil. Hay estructuras de redes expertas que podemos utilizar y a menudo la mejor estructura de red se encuentra a través de un proceso de experimentación de ensayo y error. Por lo general, se necesita una red lo suficientemente grande para capturar la estructura del problema.\n",
    "\n",
    "En este ejemplo, utilizaremos una estructura de red conectada con tres capas.\n",
    "\n",
    "Las capas completamente conectadas se densifican utilizando la clase **Dense**. Podemos especificar el número de neuronas en la capa como el primer argumento y especificar la función de activación usando el argumento de activación. Usaremos la función de activación del rectificador (**relu**) en las dos primeras capas y la función de activación sigmoide en la capa de salida. Antes las funciones de activación sigmoide y tanh eran preferidas para todas las capas. Hoy en día, se observa un mejor rendimiento utilizando la función de activación del rectificador. Utilizamos una función de activación sigmoide en la capa de salida para asegurarnos de que nuestra salida de red está entre 0 y 1 y es fácil de mapear a cualquier probabilidad de clase 1 o encajar en una clase dura de cualquiera de las dos clases con un umbral por defecto de 0,5. Unimos todo sumando cada capa. La primera capa oculta tiene 12 neuronas y espera 8 variables de entrada (p. ej. entrada dim=8). La segunda capa oculta tiene 8 neuronas y finalmente la capa de salida que tiene 1 neurona para predecir la clase (inicio de diabetes o no)."
   ]
  },
  {
   "cell_type": "code",
   "execution_count": null,
   "metadata": {},
   "outputs": [],
   "source": [
    "# crea el modelo\n",
    "model = Sequential()\n",
    "\n",
    "# model.add.Dense(Dimensiones del espacio de salida, dimensión de entrada,\n",
    "    # inicializador para la matriz de ponderaciones, función de activación relu)\n",
    "\n",
    "# Añade una capa 2D de 12 neuronas y espera 8 variables de entrada.\n",
    "model.add(Dense(12, input_dim=8, activation='relu'))\n",
    "# Añade una capa 2D oculta de 8 neuronas\n",
    "model.add(Dense(8, activation='relu'))\n",
    "# Añade una capa de salida con una neurona para predecir la clase\n",
    "model.add(Dense(1, activation='sigmoid'))"
   ]
  },
  {
   "cell_type": "markdown",
   "metadata": {},
   "source": [
    "# 3. Modelo de compilación de la Red Neuronal\n",
    "\n",
    "Ahora que el modelo está definido, podemos compilarlo.\n",
    "\n",
    "La compilación del modelo utiliza las eficientes librerías numéricas de backend como Theano o TensorFlow. El backend elige automáticamente la mejor manera de representar la red para entrenar y hacer predicciones para que se ejecuten en su hardware, como CPU o GPU o incluso distribuidas.\n",
    "\n",
    "Al compilar, debemos especificar algunas propiedades adicionales necesarias para la formación de la red. Recuerde que entrenar una red significa encontrar el mejor conjunto de pesos para hacer predicciones para este problema.\n",
    "\n",
    "**Debemos especificar la función de pérdida a utilizar para evaluar un conjunto de pesos, el optimizador utilizado para buscar a través de diferentes pesos para la red y cualquier métrica opcional que nos gustaría recopilar y reportar durante el entrenamiento.**\n",
    "\n",
    "En este caso, utilizaremos la pérdida logarítmica, que para un problema de clasificación binaria se define en Keras como “binary_crossentropy”. También utilizaremos el algoritmo de descenso de gradiente eficiente “adam” por su alta eficiencia en estos problemas.\n",
    "\n",
    "Finalmente, debido a que es un problema de clasificación, recopilaremos y reportaremos la exactitud de la clasificación como la métrica."
   ]
  },
  {
   "cell_type": "code",
   "execution_count": null,
   "metadata": {},
   "outputs": [],
   "source": [
    "# Compila el modelo\n",
    "model.compile(loss='binary_crossentropy', optimizer='adam', metrics=['accuracy'])"
   ]
  },
  {
   "cell_type": "markdown",
   "metadata": {},
   "source": [
    "# 4. Modelo de ajuste de la Red Neuronal\n",
    "Hemos definido nuestro modelo y lo hemos compilado listo para un cálculo eficiente. Ahora es el momento de ejecutar el modelo sobre algunos datos. Podemos entrenar o ajustar nuestro modelo a los datos cargados llamando a la función fit() en el modelo.\n",
    "\n",
    "El proceso de entrenamiento se ejecutará para un número fijo de iteraciones denominado epochs o épocas. También podemos establecer el número de instancias que se evalúan antes de que se realice una actualización de peso en la red llamada batch_size y establecerlo mediante el argumento batch_size. Para este problema utilizaremos un pequeño número de epochs (150) y un batch_size relativamente pequeño (10). Una vez más, estos pueden ser elegidos experimentalmente por ensayo y error."
   ]
  },
  {
   "cell_type": "code",
   "execution_count": null,
   "metadata": {
    "scrolled": true
   },
   "outputs": [],
   "source": [
    "# Ajusta el modelo\n",
    "model.fit(X, Y, epochs=200, batch_size=10)\n",
    "scores = model.evaluate(X, Y)\n",
    "for ep in range(50,300,1):\n",
    "    if (model.metrics_names[1], scores[1]*100)[1] < 95:\n",
    "    #model.fit(X, Y, epochs=150, batch_size=10)\n",
    "        model.fit(X, Y, epochs=200, batch_size=10)\n",
    "        scores = model.evaluate(X, Y)\n",
    "    else:\n",
    "        print('funcionó')\n",
    "        break\n",
    "(model.metrics_names[1], scores[1]*100)[1]"
   ]
  },
  {
   "cell_type": "code",
   "execution_count": null,
   "metadata": {},
   "outputs": [],
   "source": [
    "af"
   ]
  },
  {
   "cell_type": "code",
   "execution_count": null,
   "metadata": {},
   "outputs": [],
   "source": [
    "ascores = model.evaluate(X, Y)\n",
    "model.metrics_names[1], ascores[1]*100"
   ]
  },
  {
   "cell_type": "markdown",
   "metadata": {},
   "source": [
    "# 5. Evaluar el modelo de la Red Neuronal\n",
    "Hemos entrenado nuestra red neuronal en todo el conjunto de datos y podemos evaluar el rendimiento de la red en el mismo conjunto de datos.\n",
    "\n",
    "Esto sólo nos dará una idea de lo bien que hemos modelado el conjunto de datos, pero no nos dará una idea de lo bien que el algoritmo podría funcionar con los nuevos datos. Hemos hecho esto por simplicidad, pero lo ideal sería que separara sus datos en conjuntos de datos de entreno y de prueba para la formación y evaluación de su modelo. Resaltamos esta frase ya que es importante:\n",
    "\n",
    "### Lo ideal sería que separara sus datos en conjuntos de datos de entreno y de prueba para la formación y evaluación de su modelo.\n",
    "\n",
    "Usted puede evaluar su modelo en su conjunto de datos de entrenamiento usando la función evaluate() y pasarle la misma entrada y salida usada para entrenar el modelo.\n",
    "\n",
    "Esto generará una predicción para cada par de entrada y salida y recogerá las puntuaciones, incluyendo la pérdida media y cualquier métrica que haya configurado, como la precisión."
   ]
  },
  {
   "cell_type": "code",
   "execution_count": null,
   "metadata": {},
   "outputs": [],
   "source": [
    "# evalua el modelo\n",
    "scores = model.evaluate(X, Y)\n",
    "print(\"\\n%s: %.2f%%\" % (model.metrics_names[1], scores[1]*100))"
   ]
  },
  {
   "cell_type": "markdown",
   "metadata": {},
   "source": [
    "# 6. Nuestra Primera Red Neural\n",
    "\n",
    "Acaba de ver cómo puede crear fácilmente su primer modelo de red neuronal en Keras.\n",
    "\n",
    "Vamos a enlazarlo todo en un ejemplo con el código completo."
   ]
  },
  {
   "cell_type": "code",
   "execution_count": null,
   "metadata": {},
   "outputs": [],
   "source": [
    "# Crea tu primer MLP en Keras\n",
    "from keras.models import Sequential\n",
    "from keras.layers import Dense\n",
    "import numpy\n",
    "# Fija las semillas aleatorias para la reproducibilidad\n",
    "numpy.random.seed(7)\n",
    "# carga los datos\n",
    "# dividido en variables de entrada (X) y salida (Y)\n",
    "X = dataset[:,0:8]\n",
    "Y = dataset[:,8]\n",
    "# crea el modelo\n",
    "model = Sequential()\n",
    "model.add(Dense(12, input_dim=8, activation='relu'))\n",
    "model.add(Dense(8, activation='relu'))\n",
    "model.add(Dense(1, activation='sigmoid'))\n",
    "# Compila el modelo\n",
    "model.compile(loss='binary_crossentropy', optimizer='adam', metrics=['accuracy'])\n",
    "# Ajusta el modelo\n",
    "model.fit(X, Y, epochs=150, batch_size=10)\n",
    "# evalua el modelo\n",
    "scores = model.evaluate(X, Y)\n",
    "print(\"\\n%s: %.2f%%\" % (model.metrics_names[1], scores[1]*100))"
   ]
  },
  {
   "cell_type": "markdown",
   "metadata": {},
   "source": [
    "Tenga en cuenta que la habilidad de su modelo puede variar.\n",
    "\n",
    "Las redes neuronales son un algoritmo estocástico, lo que significa que el mismo algoritmo con los mismos datos puede entrenar un modelo diferente con habilidades diferentes. Esto es una característica, no un error.\n",
    "\n",
    "# 7. Hacer predicciones\n",
    "Podemos adaptar el ejemplo anterior y usarlo para generar predicciones sobre el conjunto de datos de entrenamiento, pretendiendo que es un nuevo conjunto de datos que no hemos visto antes.\n",
    "\n",
    "Hacer predicciones es tan fácil como llamar a model.predict(). Estamos utilizando una función de activación sigmoide en la capa de salida, por lo que las predicciones estarán en el rango entre 0 y 1. Podemos convertirlas fácilmente en una predicción binaria nítida para esta tarea de clasificación redondeándolas.\n",
    "\n",
    "El ejemplo completo que hace predicciones para cada registro en los datos de entrenamiento se enumeran a continuación."
   ]
  },
  {
   "cell_type": "code",
   "execution_count": null,
   "metadata": {},
   "outputs": [],
   "source": [
    "# Crea tu primer MLP en Keras\n",
    "from keras.models import Sequential\n",
    "from keras.layers import Dense\n",
    "import numpy\n",
    "# Fija las semillas aleatorias para la reproducibilidad\n",
    "numpy.random.seed(7)\n",
    "# carga los datos\n",
    "\n",
    "# dividido en variables de entrada (X) y salida (Y)\n",
    "X = dataset[:,0:8]\n",
    "Y = dataset[:,8]\n",
    "# crea el modelo\n",
    "model = Sequential()\n",
    "model.add(Dense(12, input_dim=8, activation='relu'))\n",
    "model.add(Dense(8, activation='relu'))\n",
    "model.add(Dense(1, activation='sigmoid'))\n",
    "# Compila el modelo\n",
    "model.compile(loss='binary_crossentropy', optimizer='adam', metrics=['accuracy'])\n",
    "# Ajusta el modelo\n",
    "model.fit(X, Y, epochs=150, batch_size=10)\n",
    "# calcula las predicciones\n",
    "predictions = model.predict(X)\n",
    "# redondeamos las predicciones\n",
    "rounded = [round(x[0]) for x in predictions]"
   ]
  },
  {
   "cell_type": "code",
   "execution_count": null,
   "metadata": {},
   "outputs": [],
   "source": []
  },
  {
   "cell_type": "code",
   "execution_count": null,
   "metadata": {},
   "outputs": [],
   "source": [
    "predictions = model.predict(X)\n",
    "# redondeamos las predicciones\n",
    "rounded = [round(x[0]) for x in predictions]\n",
    "plt.plot(Y)\n",
    "plt.figure()\n",
    "plt.plot(rounded)\n",
    "print(rounded[0:5])\n",
    "print(Y[0:5])"
   ]
  },
  {
   "cell_type": "code",
   "execution_count": null,
   "metadata": {},
   "outputs": [],
   "source": [
    "[round(x[0]) for x in model.predict(X[0:5])]"
   ]
  },
  {
   "cell_type": "code",
   "execution_count": null,
   "metadata": {},
   "outputs": [],
   "source": [
    "#Hace la predicción del valor para la primera fila\n",
    "round((model.predict(numpy.array([[6,148,72,35,0,33.6,.625,50]])))[0][0])"
   ]
  }
 ],
 "metadata": {
  "kernelspec": {
   "display_name": "Python 3",
   "language": "python",
   "name": "python3"
  },
  "language_info": {
   "codemirror_mode": {
    "name": "ipython",
    "version": 3
   },
   "file_extension": ".py",
   "mimetype": "text/x-python",
   "name": "python",
   "nbconvert_exporter": "python",
   "pygments_lexer": "ipython3",
   "version": "3.6.5"
  }
 },
 "nbformat": 4,
 "nbformat_minor": 2
}
