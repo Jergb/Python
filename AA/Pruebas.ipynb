{
 "cells": [
  {
   "cell_type": "code",
   "execution_count": 1,
   "metadata": {},
   "outputs": [],
   "source": [
    "import pandas as pd\n",
    "import numpy as np\n",
    "import matplotlib.pyplot as plt"
   ]
  },
  {
   "cell_type": "code",
   "execution_count": 7,
   "metadata": {},
   "outputs": [
    {
     "data": {
      "text/html": [
       "<div>\n",
       "<style scoped>\n",
       "    .dataframe tbody tr th:only-of-type {\n",
       "        vertical-align: middle;\n",
       "    }\n",
       "\n",
       "    .dataframe tbody tr th {\n",
       "        vertical-align: top;\n",
       "    }\n",
       "\n",
       "    .dataframe thead th {\n",
       "        text-align: right;\n",
       "    }\n",
       "</style>\n",
       "<table border=\"1\" class=\"dataframe\">\n",
       "  <thead>\n",
       "    <tr style=\"text-align: right;\">\n",
       "      <th></th>\n",
       "      <th>IDMEDIDA2</th>\n",
       "      <th>NODO2</th>\n",
       "      <th>TEMPERATURA2</th>\n",
       "      <th>HUMEDAD RELATIVA2</th>\n",
       "      <th>HUMEDAD DE LA TIERRA2</th>\n",
       "      <th>NIVEL UV2</th>\n",
       "      <th>INTENSIDAD LUMÍNICA2</th>\n",
       "      <th>TIME2</th>\n",
       "    </tr>\n",
       "  </thead>\n",
       "  <tbody>\n",
       "    <tr>\n",
       "      <th>0</th>\n",
       "      <td>1</td>\n",
       "      <td>2</td>\n",
       "      <td>27</td>\n",
       "      <td>19</td>\n",
       "      <td>74.97</td>\n",
       "      <td>0</td>\n",
       "      <td>5853</td>\n",
       "      <td>2018-05-09 09:38:00</td>\n",
       "    </tr>\n",
       "    <tr>\n",
       "      <th>1</th>\n",
       "      <td>2</td>\n",
       "      <td>2</td>\n",
       "      <td>28</td>\n",
       "      <td>19</td>\n",
       "      <td>72.72</td>\n",
       "      <td>0</td>\n",
       "      <td>5865</td>\n",
       "      <td>2018-05-09 09:49:00</td>\n",
       "    </tr>\n",
       "    <tr>\n",
       "      <th>2</th>\n",
       "      <td>3</td>\n",
       "      <td>2</td>\n",
       "      <td>28</td>\n",
       "      <td>19</td>\n",
       "      <td>72.56</td>\n",
       "      <td>0</td>\n",
       "      <td>5859</td>\n",
       "      <td>2018-05-09 09:50:00</td>\n",
       "    </tr>\n",
       "    <tr>\n",
       "      <th>3</th>\n",
       "      <td>4</td>\n",
       "      <td>2</td>\n",
       "      <td>28</td>\n",
       "      <td>19</td>\n",
       "      <td>72.40</td>\n",
       "      <td>0</td>\n",
       "      <td>5859</td>\n",
       "      <td>2018-05-09 09:51:00</td>\n",
       "    </tr>\n",
       "    <tr>\n",
       "      <th>4</th>\n",
       "      <td>5</td>\n",
       "      <td>2</td>\n",
       "      <td>28</td>\n",
       "      <td>19</td>\n",
       "      <td>72.08</td>\n",
       "      <td>0</td>\n",
       "      <td>5859</td>\n",
       "      <td>2018-05-09 09:52:00</td>\n",
       "    </tr>\n",
       "  </tbody>\n",
       "</table>\n",
       "</div>"
      ],
      "text/plain": [
       "   IDMEDIDA2  NODO2  TEMPERATURA2  HUMEDAD RELATIVA2  HUMEDAD DE LA TIERRA2  \\\n",
       "0          1      2            27                 19                  74.97   \n",
       "1          2      2            28                 19                  72.72   \n",
       "2          3      2            28                 19                  72.56   \n",
       "3          4      2            28                 19                  72.40   \n",
       "4          5      2            28                 19                  72.08   \n",
       "\n",
       "   NIVEL UV2  INTENSIDAD LUMÍNICA2                TIME2  \n",
       "0          0                  5853  2018-05-09 09:38:00  \n",
       "1          0                  5865  2018-05-09 09:49:00  \n",
       "2          0                  5859  2018-05-09 09:50:00  \n",
       "3          0                  5859  2018-05-09 09:51:00  \n",
       "4          0                  5859  2018-05-09 09:52:00  "
      ]
     },
     "execution_count": 7,
     "metadata": {},
     "output_type": "execute_result"
    }
   ],
   "source": [
    "df = pd.read_csv('medidas.csv')\n",
    "df.columns = [i+str(df.NODO[0]) for i in df.columns]\n",
    "df.head()"
   ]
  },
  {
   "cell_type": "code",
   "execution_count": null,
   "metadata": {},
   "outputs": [],
   "source": [
    "for i in df.columns[3:5]:\n",
    "    print(i)"
   ]
  },
  {
   "cell_type": "code",
   "execution_count": 21,
   "metadata": {},
   "outputs": [
    {
     "data": {
      "image/png": "[encoded data removed]",
      "text/plain": [
       "<Figure size 216x360 with 1 Axes>"
      ]
     },
     "metadata": {},
     "output_type": "display_data"
    }
   ],
   "source": [
    "#plt.figure(figsize = [10,20])\n",
    "df.TEMPERATURA2.plot(figsize = [3,5])\n",
    "plt.tight_layout()"
   ]
  },
  {
   "cell_type": "code",
   "execution_count": 4,
   "metadata": {},
   "outputs": [
    {
     "data": {
      "text/plain": [
       "-0.2384230810164191"
      ]
     },
     "execution_count": 4,
     "metadata": {},
     "output_type": "execute_result"
    }
   ],
   "source": [
    "np.corrcoef(df.iloc[:,1],df.iloc[:,2])[0][1]b"
   ]
  },
  {
   "cell_type": "code",
   "execution_count": null,
   "metadata": {},
   "outputs": [],
   "source": [
    "df.reindex(columns = sorted(df.columns))"
   ]
  },
  {
   "cell_type": "code",
   "execution_count": 20,
   "metadata": {},
   "outputs": [
    {
     "data": {
      "text/plain": [
       "[<matplotlib.lines.Line2D at 0x265aab29320>]"
      ]
     },
     "execution_count": 20,
     "metadata": {},
     "output_type": "execute_result"
    },
    {
     "data": {
      "image/png": "[encoded data removed]",
      "text/plain": [
       "<Figure size 432x288 with 1 Axes>"
      ]
     },
     "metadata": {},
     "output_type": "display_data"
    }
   ],
   "source": [
    "import numpy as np\n",
    "import scipy.fftpack\n",
    "\n",
    "N = 100\n",
    "x = np.linspace(0,2*np.pi,N)\n",
    "y = np.sin(x) + np.random.random(N) * 0.2\n",
    "\n",
    "w = scipy.fftpack.rfft(y)\n",
    "f = scipy.fftpack.rfftfreq(N, x[1]-x[0])\n",
    "spectrum = w**2\n",
    "\n",
    "cutoff_idx = spectrum < (spectrum.max()/5)\n",
    "w2 = w.copy()\n",
    "w2[cutoff_idx] = 0\n",
    "\n",
    "y2 = scipy.fftpack.irfft(w2)\n",
    "plt.plot(y)\n",
    "plt.plot(y2)\n"
   ]
  },
  {
   "cell_type": "code",
   "execution_count": null,
   "metadata": {},
   "outputs": [],
   "source": [
    "df = pd.DataFrame({'$a':[1,2], '$b': [10,20]})\n",
    "#df.columns = ['a', 'b']\n",
    "df.columns = [i for i in df.columns]\n",
    "df\n"
   ]
  },
  {
   "cell_type": "code",
   "execution_count": 17,
   "metadata": {},
   "outputs": [
    {
     "name": "stdout",
     "output_type": "stream",
     "text": [
      "1\n",
      "4\n",
      "7\n",
      "10\n",
      "13\n",
      "16\n",
      "19\n"
     ]
    }
   ],
   "source": [
    "for i in range(1,22,3):\n",
    "    print(i)"
   ]
  }
 ],
 "metadata": {
  "kernelspec": {
   "display_name": "Python 3",
   "language": "python",
   "name": "python3"
  },
  "language_info": {
   "codemirror_mode": {
    "name": "ipython",
    "version": 3
   },
   "file_extension": ".py",
   "mimetype": "text/x-python",
   "name": "python",
   "nbconvert_exporter": "python",
   "pygments_lexer": "ipython3",
   "version": "3.6.5"
  }
 },
 "nbformat": 4,
 "nbformat_minor": 2
}
