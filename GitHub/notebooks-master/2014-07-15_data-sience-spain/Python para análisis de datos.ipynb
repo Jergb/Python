{
 "metadata": {
  "celltoolbar": "Slideshow",
  "name": "",
  "signature": "sha256:2f55341d7cf431c0fdf6a5f1c4ad85d7dae2be7aa057c5bcbe9fe072ecef23e8"
 },
 "nbformat": 3,
 "nbformat_minor": 0,
 "worksheets": [
  {
   "cells": [
    {
     "cell_type": "markdown",
     "metadata": {
      "slideshow": {
       "slide_type": "slide"
      }
     },
     "source": [
      "# Python para an\u00e1lisis de datos\n",
      "\n",
      "![](Python-logo-notext.png)\n",
      "\n",
      "## Juan Luis Cano Rodr\u00edguez < <juanlu001@gmail.com> >\n",
      "## Data Science Spain, Madrid 2014-07-15"
     ]
    },
    {
     "cell_type": "markdown",
     "metadata": {
      "slideshow": {
       "slide_type": "slide"
      }
     },
     "source": [
      "## \u00cdndice\n",
      "\n",
      "1. Introducci\u00f3n\n",
      "2. Bibliotecas: numpy, matplotlib, pandas\n",
      "3. IPython y su filosof\u00eda\n",
      "4. Instalaci\u00f3n: Anaconda\n",
      "5. Python en Espa\u00f1a"
     ]
    },
    {
     "cell_type": "markdown",
     "metadata": {
      "slideshow": {
       "slide_type": "slide"
      }
     },
     "source": [
      "## \u00bfQui\u00e9n soy yo?\n",
      "\n",
      "* _Casi_ ingeniero aeron\u00e1utico por la UPM\n",
      "* Fortran ~~77~~ 90, ~~Excel~~, MATLAB y **Python**\n",
      "* **Pybonacci**: blog sobre Python cient\u00edfico en espa\u00f1ol <http://pybonacci.wordpress.com/>\n",
      "* Presidente de la **Asociaci\u00f3n Python Espa\u00f1a** <http://www.es.python.org/>\n",
      "* Becario en Airbus"
     ]
    },
    {
     "cell_type": "markdown",
     "metadata": {
      "slideshow": {
       "slide_type": "slide"
      }
     },
     "source": [
      "## \u00bfQu\u00e9 es Python?\n",
      "\n",
      "* Lenguaje de prop\u00f3sito general din\u00e1mico y f\u00e1cil de aprender*\n",
      "* Desarrollado por voluntarios, libre (estilo BSD) y mantenido por una fundaci\u00f3n (PSF)\n",
      "* Usos: lenguaje de scripting, servidores web, computaci\u00f3n cient\u00edfica...\n",
      "* A partir de ~2010, **an\u00e1lisis de datos**\n",
      "\n",
      "<span class=\"small\">* \"Python es ya el lenguaje de introducci\u00f3n m\u00e1s popular en las universidades norteamericanas\" http://www.genbetadev.com/formacion/python-es-ya-el-lenguaje-de-introduccion-mas-popular-en-las-universidades-norteamericanas</span>"
     ]
    },
    {
     "cell_type": "code",
     "collapsed": false,
     "input": [
      "print(\"Hello, world!\")"
     ],
     "language": "python",
     "metadata": {
      "slideshow": {
       "slide_type": "subslide"
      }
     },
     "outputs": [
      {
       "output_type": "stream",
       "stream": "stdout",
       "text": [
        "Hello, world!\n"
       ]
      }
     ],
     "prompt_number": 1
    },
    {
     "cell_type": "code",
     "collapsed": false,
     "input": [
      "def fib(N):\n",
      "    a, b = 0, 1\n",
      "    for ii in range(N):\n",
      "        a, b = b, a + b\n",
      "    return b\n",
      "\n",
      "for ii in range(8):\n",
      "    print(fib(ii))"
     ],
     "language": "python",
     "metadata": {
      "slideshow": {
       "slide_type": "fragment"
      }
     },
     "outputs": [
      {
       "output_type": "stream",
       "stream": "stdout",
       "text": [
        "1\n",
        "1\n",
        "2\n",
        "3\n",
        "5\n",
        "8\n",
        "13\n",
        "21\n"
       ]
      }
     ],
     "prompt_number": 2
    },
    {
     "cell_type": "markdown",
     "metadata": {
      "slideshow": {
       "slide_type": "subslide"
      }
     },
     "source": [
      "### Lenguaje de prop\u00f3sito general\n",
      "\n",
      "* Sintaxis cuidadosamente dise\u00f1ada\n",
      "* Interfaz con multitud de bibliotecas diferentes\n",
      "* Mayor variedad de herramientas de desarrollo"
     ]
    },
    {
     "cell_type": "markdown",
     "metadata": {
      "slideshow": {
       "slide_type": "slide"
      }
     },
     "source": [
      "## NumPy\n",
      "\n",
      "* **NumPy es el pilar fundamental** de todo el ecosistema num\u00e9rico en Python <http://www.numpy.org/>\n",
      "* Arrays N-dimensionales: almacenamiento en memoria eficiente\n",
      "* Funciones para operar eficientemente con ellos: operaciones **vectorizadas**\n",
      "* Adem\u00e1s: \u00e1lgebra lineal, FFTs, n\u00fameros aleatorios, funciones financieras"
     ]
    },
    {
     "cell_type": "markdown",
     "metadata": {
      "slideshow": {
       "slide_type": "fragment"
      }
     },
     "source": [
      "Motivaci\u00f3n:\n",
      "\n",
      "> \"Make [Python] equivalent to a basic scientific calculator.\""
     ]
    },
    {
     "cell_type": "code",
     "collapsed": false,
     "input": [
      "import numpy as np"
     ],
     "language": "python",
     "metadata": {
      "slideshow": {
       "slide_type": "subslide"
      }
     },
     "outputs": [],
     "prompt_number": 3
    },
    {
     "cell_type": "code",
     "collapsed": false,
     "input": [
      "np.array([\n",
      "    [1, 2, 3],\n",
      "    [4, 5, 6]\n",
      "])"
     ],
     "language": "python",
     "metadata": {
      "slideshow": {
       "slide_type": "fragment"
      }
     },
     "outputs": [
      {
       "metadata": {},
       "output_type": "pyout",
       "prompt_number": 4,
       "text": [
        "array([[1, 2, 3],\n",
        "       [4, 5, 6]])"
       ]
      }
     ],
     "prompt_number": 4
    },
    {
     "cell_type": "code",
     "collapsed": false,
     "input": [
      "np.linspace(0, 10, 5)"
     ],
     "language": "python",
     "metadata": {
      "slideshow": {
       "slide_type": "fragment"
      }
     },
     "outputs": [
      {
       "metadata": {},
       "output_type": "pyout",
       "prompt_number": 5,
       "text": [
        "array([  0. ,   2.5,   5. ,   7.5,  10. ])"
       ]
      }
     ],
     "prompt_number": 5
    },
    {
     "cell_type": "code",
     "collapsed": false,
     "input": [
      "_.mean()"
     ],
     "language": "python",
     "metadata": {
      "slideshow": {
       "slide_type": "fragment"
      }
     },
     "outputs": [
      {
       "metadata": {},
       "output_type": "pyout",
       "prompt_number": 6,
       "text": [
        "5.0"
       ]
      }
     ],
     "prompt_number": 6
    },
    {
     "cell_type": "markdown",
     "metadata": {
      "slideshow": {
       "slide_type": "subslide"
      }
     },
     "source": [
      "### Desventajas\n",
      "\n",
      "* Pensado para conjuntos de datos de tama\u00f1o _fijo_\n",
      "* No optimizado para datos heterog\u00e9neos (n\u00fameros, texto, fechas)\n",
      "* Manejo de datos textuales engorroso"
     ]
    },
    {
     "cell_type": "markdown",
     "metadata": {
      "slideshow": {
       "slide_type": "fragment"
      }
     },
     "source": [
      "Soluci\u00f3n: **pandas**"
     ]
    },
    {
     "cell_type": "markdown",
     "metadata": {
      "slideshow": {
       "slide_type": "slide"
      }
     },
     "source": [
      "## pandas\n",
      "\n",
      "* Estructura de datos de alto nivel y optimizada para an\u00e1lisis de datos: **DataFrame** <http://pandas.pydata.org/>\n",
      "* Herramientas para leer y escribir datos en diversos formatos: CSV y texto, Excel, bases de datos SQL, HDF5\n",
      "* Manejo de series temporales\n",
      "* Tama\u00f1o flexible, _merge_ y _join_ de varios DataFrames...\n",
      "* Tutorial en espa\u00f1ol: <http://pybonacci.wordpress.com/2014/05/30/pandas-i/>\n",
      "\n",
      "![](pydata_cover.jpg)"
     ]
    },
    {
     "cell_type": "code",
     "collapsed": false,
     "input": [
      "import pandas as pd"
     ],
     "language": "python",
     "metadata": {
      "slideshow": {
       "slide_type": "subslide"
      }
     },
     "outputs": [],
     "prompt_number": 7
    },
    {
     "cell_type": "code",
     "collapsed": false,
     "input": [
      "pd.Series([1, 3, 5, np.nan, 6, 8])"
     ],
     "language": "python",
     "metadata": {
      "slideshow": {
       "slide_type": "fragment"
      }
     },
     "outputs": [
      {
       "metadata": {},
       "output_type": "pyout",
       "prompt_number": 8,
       "text": [
        "0     1\n",
        "1     3\n",
        "2     5\n",
        "3   NaN\n",
        "4     6\n",
        "5     8\n",
        "dtype: float64"
       ]
      }
     ],
     "prompt_number": 8
    },
    {
     "cell_type": "code",
     "collapsed": false,
     "input": [
      "dates = pd.date_range('20140701', periods=6)\n",
      "dates"
     ],
     "language": "python",
     "metadata": {
      "slideshow": {
       "slide_type": "fragment"
      }
     },
     "outputs": [
      {
       "metadata": {},
       "output_type": "pyout",
       "prompt_number": 9,
       "text": [
        "<class 'pandas.tseries.index.DatetimeIndex'>\n",
        "[2014-07-01, ..., 2014-07-06]\n",
        "Length: 6, Freq: D, Timezone: None"
       ]
      }
     ],
     "prompt_number": 9
    },
    {
     "cell_type": "code",
     "collapsed": false,
     "input": [
      "datos = pd.DataFrame(np.random.randn(6,4), index=dates,\n",
      "                     columns=list('ABCD'))\n",
      "datos"
     ],
     "language": "python",
     "metadata": {
      "slideshow": {
       "slide_type": "subslide"
      }
     },
     "outputs": [
      {
       "html": [
        "<div style=\"max-height:1000px;max-width:1500px;overflow:auto;\">\n",
        "<table border=\"1\" class=\"dataframe\">\n",
        "  <thead>\n",
        "    <tr style=\"text-align: right;\">\n",
        "      <th></th>\n",
        "      <th>A</th>\n",
        "      <th>B</th>\n",
        "      <th>C</th>\n",
        "      <th>D</th>\n",
        "    </tr>\n",
        "  </thead>\n",
        "  <tbody>\n",
        "    <tr>\n",
        "      <th>2014-07-01</th>\n",
        "      <td>-0.278300</td>\n",
        "      <td> 0.424450</td>\n",
        "      <td>-1.508621</td>\n",
        "      <td>-1.746290</td>\n",
        "    </tr>\n",
        "    <tr>\n",
        "      <th>2014-07-02</th>\n",
        "      <td> 0.941110</td>\n",
        "      <td> 0.050437</td>\n",
        "      <td> 0.371443</td>\n",
        "      <td>-0.508548</td>\n",
        "    </tr>\n",
        "    <tr>\n",
        "      <th>2014-07-03</th>\n",
        "      <td> 0.761886</td>\n",
        "      <td> 1.308292</td>\n",
        "      <td> 0.871853</td>\n",
        "      <td> 0.548142</td>\n",
        "    </tr>\n",
        "    <tr>\n",
        "      <th>2014-07-04</th>\n",
        "      <td> 1.972977</td>\n",
        "      <td> 0.213835</td>\n",
        "      <td>-1.778572</td>\n",
        "      <td>-0.165594</td>\n",
        "    </tr>\n",
        "    <tr>\n",
        "      <th>2014-07-05</th>\n",
        "      <td>-0.783794</td>\n",
        "      <td>-1.057578</td>\n",
        "      <td> 0.067174</td>\n",
        "      <td>-0.141001</td>\n",
        "    </tr>\n",
        "    <tr>\n",
        "      <th>2014-07-06</th>\n",
        "      <td> 0.326622</td>\n",
        "      <td>-1.085902</td>\n",
        "      <td>-0.236260</td>\n",
        "      <td>-0.403086</td>\n",
        "    </tr>\n",
        "  </tbody>\n",
        "</table>\n",
        "<p>6 rows \u00d7 4 columns</p>\n",
        "</div>"
       ],
       "metadata": {},
       "output_type": "pyout",
       "prompt_number": 10,
       "text": [
        "                   A         B         C         D\n",
        "2014-07-01 -0.278300  0.424450 -1.508621 -1.746290\n",
        "2014-07-02  0.941110  0.050437  0.371443 -0.508548\n",
        "2014-07-03  0.761886  1.308292  0.871853  0.548142\n",
        "2014-07-04  1.972977  0.213835 -1.778572 -0.165594\n",
        "2014-07-05 -0.783794 -1.057578  0.067174 -0.141001\n",
        "2014-07-06  0.326622 -1.085902 -0.236260 -0.403086\n",
        "\n",
        "[6 rows x 4 columns]"
       ]
      }
     ],
     "prompt_number": 10
    },
    {
     "cell_type": "code",
     "collapsed": false,
     "input": [
      "datos.describe()"
     ],
     "language": "python",
     "metadata": {
      "slideshow": {
       "slide_type": "subslide"
      }
     },
     "outputs": [
      {
       "html": [
        "<div style=\"max-height:1000px;max-width:1500px;overflow:auto;\">\n",
        "<table border=\"1\" class=\"dataframe\">\n",
        "  <thead>\n",
        "    <tr style=\"text-align: right;\">\n",
        "      <th></th>\n",
        "      <th>A</th>\n",
        "      <th>B</th>\n",
        "      <th>C</th>\n",
        "      <th>D</th>\n",
        "    </tr>\n",
        "  </thead>\n",
        "  <tbody>\n",
        "    <tr>\n",
        "      <th>count</th>\n",
        "      <td> 6.000000</td>\n",
        "      <td> 6.000000</td>\n",
        "      <td> 6.000000</td>\n",
        "      <td> 6.000000</td>\n",
        "    </tr>\n",
        "    <tr>\n",
        "      <th>mean</th>\n",
        "      <td> 0.490083</td>\n",
        "      <td>-0.024411</td>\n",
        "      <td>-0.368831</td>\n",
        "      <td>-0.402730</td>\n",
        "    </tr>\n",
        "    <tr>\n",
        "      <th>std</th>\n",
        "      <td> 0.971202</td>\n",
        "      <td> 0.920232</td>\n",
        "      <td> 1.056548</td>\n",
        "      <td> 0.754353</td>\n",
        "    </tr>\n",
        "    <tr>\n",
        "      <th>min</th>\n",
        "      <td>-0.783794</td>\n",
        "      <td>-1.085902</td>\n",
        "      <td>-1.778572</td>\n",
        "      <td>-1.746290</td>\n",
        "    </tr>\n",
        "    <tr>\n",
        "      <th>25%</th>\n",
        "      <td>-0.127069</td>\n",
        "      <td>-0.780575</td>\n",
        "      <td>-1.190531</td>\n",
        "      <td>-0.482183</td>\n",
        "    </tr>\n",
        "    <tr>\n",
        "      <th>50%</th>\n",
        "      <td> 0.544254</td>\n",
        "      <td> 0.132136</td>\n",
        "      <td>-0.084543</td>\n",
        "      <td>-0.284340</td>\n",
        "    </tr>\n",
        "    <tr>\n",
        "      <th>75%</th>\n",
        "      <td> 0.896304</td>\n",
        "      <td> 0.371796</td>\n",
        "      <td> 0.295376</td>\n",
        "      <td>-0.147149</td>\n",
        "    </tr>\n",
        "    <tr>\n",
        "      <th>max</th>\n",
        "      <td> 1.972977</td>\n",
        "      <td> 1.308292</td>\n",
        "      <td> 0.871853</td>\n",
        "      <td> 0.548142</td>\n",
        "    </tr>\n",
        "  </tbody>\n",
        "</table>\n",
        "<p>8 rows \u00d7 4 columns</p>\n",
        "</div>"
       ],
       "metadata": {},
       "output_type": "pyout",
       "prompt_number": 11,
       "text": [
        "              A         B         C         D\n",
        "count  6.000000  6.000000  6.000000  6.000000\n",
        "mean   0.490083 -0.024411 -0.368831 -0.402730\n",
        "std    0.971202  0.920232  1.056548  0.754353\n",
        "min   -0.783794 -1.085902 -1.778572 -1.746290\n",
        "25%   -0.127069 -0.780575 -1.190531 -0.482183\n",
        "50%    0.544254  0.132136 -0.084543 -0.284340\n",
        "75%    0.896304  0.371796  0.295376 -0.147149\n",
        "max    1.972977  1.308292  0.871853  0.548142\n",
        "\n",
        "[8 rows x 4 columns]"
       ]
      }
     ],
     "prompt_number": 11
    },
    {
     "cell_type": "markdown",
     "metadata": {
      "slideshow": {
       "slide_type": "slide"
      }
     },
     "source": [
      "## matplotlib\n",
      "\n",
      "* El **est\u00e1ndar de visualizaci\u00f3n 2D** en Python <http://matplotlib.org/>\n",
      "* Inspirada en MATLAB\n",
      "* Aprendizaje costoso, pero extremadamente vers\u00e1til"
     ]
    },
    {
     "cell_type": "code",
     "collapsed": false,
     "input": [
      "import matplotlib.pyplot as plt\n",
      "%matplotlib inline"
     ],
     "language": "python",
     "metadata": {
      "slideshow": {
       "slide_type": "slide"
      }
     },
     "outputs": [],
     "prompt_number": 12
    },
    {
     "cell_type": "code",
     "collapsed": false,
     "input": [
      "datos[\"A\"].plot()"
     ],
     "language": "python",
     "metadata": {
      "slideshow": {
       "slide_type": "fragment"
      }
     },
     "outputs": [
      {
       "metadata": {},
       "output_type": "pyout",
       "prompt_number": 13,
       "text": [
        "<matplotlib.axes.AxesSubplot at 0x7fd6a471ed10>"
       ]
      },
      {
       "metadata": {},
       "output_type": "display_data",
       "png": "[encoded data removed]",
       "text": [
        "<matplotlib.figure.Figure at 0x7fd6a4727e10>"
       ]
      }
     ],
     "prompt_number": 13
    },
    {
     "cell_type": "code",
     "collapsed": false,
     "input": [
      "datos[\"A\"].plot()\n",
      "plt.xlabel(\"Fecha\")\n",
      "plt.ylabel(\"Columna A\")\n",
      "plt.legend([\"Datos\"])\n",
      "plt.title(\"Gr\u00e1fica 1\")"
     ],
     "language": "python",
     "metadata": {
      "slideshow": {
       "slide_type": "subslide"
      }
     },
     "outputs": [
      {
       "metadata": {},
       "output_type": "pyout",
       "prompt_number": 14,
       "text": [
        "<matplotlib.text.Text at 0x7fd6a4189090>"
       ]
      },
      {
       "metadata": {},
       "output_type": "display_data",
       "png": "[encoded data removed]",
       "text": [
        "<matplotlib.figure.Figure at 0x7fd6a41d7a10>"
       ]
      }
     ],
     "prompt_number": 14
    },
    {
     "cell_type": "markdown",
     "metadata": {
      "slideshow": {
       "slide_type": "slide"
      }
     },
     "source": [
      "## Otras bibliotecas\n",
      "\n",
      "* Computaci\u00f3n cient\u00edfica general: **SciPy** <http://www.scipy.org/>\n",
      "* ggplot2 en Python: **ggplot** <http://ggplot.yhathq.com/>\n",
      "* Aprendizaje autom\u00e1tico (_machine learning_): **scikit-learn** <http://scikit-learn.org>\n",
      "* Modelos y tests estad\u00edsticos: **StatsModels** <http://statsmodels.sourceforge.net/>\n",
      "* Manejo de vol\u00famenes grandes de datos: **PyTables** <http://www.pytables.org/>"
     ]
    },
    {
     "cell_type": "markdown",
     "metadata": {
      "slideshow": {
       "slide_type": "subslide"
      }
     },
     "source": [
      "**\u00a1Y mucho m\u00e1s!**\n",
      "\n",
      "![](scipy_eco.png)"
     ]
    },
    {
     "cell_type": "markdown",
     "metadata": {
      "slideshow": {
       "slide_type": "slide"
      }
     },
     "source": [
      "## IPython y el notebook\n",
      "\n",
      "* IPython es un **int\u00e9rprete de Python mejorado** <http://ipython.org/>\n",
      "* Inspirado en el notebook de Mathematica\n",
      "* Ayuda en l\u00ednea, autocompletado, mejoras en la depuraci\u00f3n..."
     ]
    },
    {
     "cell_type": "markdown",
     "metadata": {
      "slideshow": {
       "slide_type": "fragment"
      }
     },
     "source": [
      "La joya de la corona: **el notebook**"
     ]
    },
    {
     "cell_type": "markdown",
     "metadata": {
      "slideshow": {
       "slide_type": "subslide"
      }
     },
     "source": [
      "* Documento interactivo dividido en celdas\n",
      "* Mezcla de c\u00f3digo con texto, HTML, v\u00eddeo, im\u00e1genes...\n",
      "* Gr\u00e1ficos incrustados, animaciones...\n",
      "* Formato f\u00e1cil de exportar y compartir: <http://nbviewer.ipython.org/>"
     ]
    },
    {
     "cell_type": "markdown",
     "metadata": {
      "slideshow": {
       "slide_type": "fragment"
      }
     },
     "source": [
      "> **\u00bfPor qu\u00e9 usar solo Python?**"
     ]
    },
    {
     "cell_type": "code",
     "collapsed": false,
     "input": [
      "X = np.array([0,1,2,3,4])\n",
      "Y = np.array([3,5,4,6,7])"
     ],
     "language": "python",
     "metadata": {
      "slideshow": {
       "slide_type": "subslide"
      }
     },
     "outputs": [],
     "prompt_number": 16
    },
    {
     "cell_type": "code",
     "collapsed": false,
     "input": [
      "%load_ext rpy2.ipython"
     ],
     "language": "python",
     "metadata": {
      "slideshow": {
       "slide_type": "fragment"
      }
     },
     "outputs": [],
     "prompt_number": 17
    },
    {
     "cell_type": "code",
     "collapsed": false,
     "input": [
      "%Rpush X Y\n",
      "%R lm(Y~X)$coef"
     ],
     "language": "python",
     "metadata": {
      "slideshow": {
       "slide_type": "fragment"
      }
     },
     "outputs": [
      {
       "metadata": {},
       "output_type": "pyout",
       "prompt_number": 18,
       "text": [
        "<FloatVector - Python:0x7fd6a2fdf5f0 / R:0x2d86ec8>\n",
        "[3.200000, 0.900000]"
       ]
      }
     ],
     "prompt_number": 18
    },
    {
     "cell_type": "code",
     "collapsed": false,
     "input": [
      "b = %R a=resid(lm(Y~X))\n",
      "%Rpull a\n",
      "print(a)\n",
      "%R -o a"
     ],
     "language": "python",
     "metadata": {
      "slideshow": {
       "slide_type": "fragment"
      }
     },
     "outputs": [
      {
       "output_type": "stream",
       "stream": "stdout",
       "text": [
        "   1    2    3    4    5 \n",
        "-0.2  0.9 -1.0  0.1  0.2 \n",
        "\n"
       ]
      }
     ],
     "prompt_number": 19
    },
    {
     "cell_type": "code",
     "collapsed": false,
     "input": [
      "%%R -i X,Y -o XYcoef\n",
      "XYlm = lm(Y~X)\n",
      "XYcoef = coef(XYlm)\n",
      "print(summary(XYlm))\n",
      "par(mfrow=c(2,2))\n",
      "plot(XYlm)"
     ],
     "language": "python",
     "metadata": {
      "slideshow": {
       "slide_type": "subslide"
      }
     },
     "outputs": [
      {
       "metadata": {},
       "output_type": "display_data",
       "text": [
        "\n",
        "Call:\n",
        "lm(formula = Y ~ X)\n",
        "\n",
        "Residuals:\n",
        "   1    2    3    4    5 \n",
        "-0.2  0.9 -1.0  0.1  0.2 \n",
        "\n",
        "Coefficients:\n",
        "            Estimate Std. Error t value Pr(>|t|)  \n",
        "(Intercept)   3.2000     0.6164   5.191   0.0139 *\n",
        "X             0.9000     0.2517   3.576   0.0374 *\n",
        "---\n",
        "Signif. codes:  0 \u2018***\u2019 0.001 \u2018**\u2019 0.01 \u2018*\u2019 0.05 \u2018.\u2019 0.1 \u2018 \u2019 1\n",
        "\n",
        "Residual standard error: 0.7958 on 3 degrees of freedom\n",
        "Multiple R-squared:   0.81,\tAdjusted R-squared:  0.7467 \n",
        "F-statistic: 12.79 on 1 and 3 DF,  p-value: 0.03739\n",
        "\n"
       ]
      },
      {
       "metadata": {},
       "output_type": "display_data",
       "png": "[encoded data removed]"
      }
     ],
     "prompt_number": 20
    },
    {
     "cell_type": "markdown",
     "metadata": {
      "slideshow": {
       "slide_type": "subslide"
      }
     },
     "source": [
      "Puedo usar esta t\u00e9cnica con multitud de lenguajes:\n",
      "\n",
      "* MATLAB <https://github.com/arokem/python-matlab-bridge>\n",
      "* Octave <http://blink1073.github.io/oct2py/docs/>\n",
      "* \u00a1Fortran! <http://nbviewer.ipython.org/github/mgaitan/fortran_magic/blob/master/documentation.ipynb>\n",
      "\n",
      "\u00a1y m\u00e1s! <https://github.com/ipython/ipython/wiki/Extensions-Index>"
     ]
    },
    {
     "cell_type": "markdown",
     "metadata": {
      "slideshow": {
       "slide_type": "subslide"
      }
     },
     "source": [
      "> **P**: \u00bfPor qu\u00e9 lo llaman IPython si puede iteractuar con multitud de lenguajes diferentes?\n",
      "\n",
      "> **R**: <https://speakerdeck.com/fperez/project-jupyter>"
     ]
    },
    {
     "cell_type": "markdown",
     "metadata": {
      "slideshow": {
       "slide_type": "slide"
      }
     },
     "source": [
      "## Distribuciones de Python: Anaconda\n",
      "\n",
      "* En Windows especialmente, instalar individualmente cada una de las bibliotecas es una pesadilla\n",
      "* Incluso en Linux o OS X el problema se complica si necesitamos _versiones diferentes_\n",
      "* Soluci\u00f3n: **distribuciones monol\u00edticas**\n",
      "  * Anaconda, de Continuum Analytics <https://store.continuum.io/cshop/anaconda>\n",
      "  * Otras: Pyzo, WinPython, Canopy, Python(x,y)..."
     ]
    },
    {
     "cell_type": "markdown",
     "metadata": {
      "slideshow": {
       "slide_type": "slide"
      }
     },
     "source": [
      "## La comunidad Python espa\u00f1ola\n",
      "\n",
      "* Python Madrid <http://www.meetup.com/Madrid-Python-Meetup/>\n",
      "* Asociaci\u00f3n Python Espa\u00f1a <http://www.es.python.org/>\n",
      "  * Calendario de eventos y meetups nacionales <http://calendario.es.python.org/>\n",
      "  * \u00a1Hazte socio! <http://www.es.python.org/page/quiero-ser-socio>\n",
      "* Primera conferencia nacional: PyCon Espa\u00f1a 2013 <http://2013.es.pycon.org/>\n",
      "  * \u00a1Estamos preparando la segunda en Zaragoza! <http://2014.es.pycon.org/>"
     ]
    },
    {
     "cell_type": "markdown",
     "metadata": {
      "slideshow": {
       "slide_type": "slide"
      }
     },
     "source": [
      "<p style=\"text-align: center\">**Muchas gracias :)**</p>"
     ]
    }
   ],
   "metadata": {}
  }
 ]
}