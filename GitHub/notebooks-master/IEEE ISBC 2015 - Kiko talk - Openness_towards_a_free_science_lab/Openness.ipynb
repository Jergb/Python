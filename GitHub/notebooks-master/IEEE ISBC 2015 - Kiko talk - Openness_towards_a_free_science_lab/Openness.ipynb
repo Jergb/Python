{
 "cells": [
  {
   "cell_type": "markdown",
   "metadata": {
    "slideshow": {
     "slide_type": "slide"
    }
   },
   "source": [
    "<div style=\"text-align: center; font-size: 80px; top-padding: 100px; bottom-padding: 100px\">\n",
    " <br>OPENNESS<br><br><br><br>\n",
    "</div>"
   ]
  },
  {
   "cell_type": "markdown",
   "metadata": {
    "slideshow": {
     "slide_type": "subslide"
    }
   },
   "source": [
    "<div style=\"text-align: center; font-size: 40px; top-padding: 100px; bottom-padding: 100px\">\n",
    " <br><em>Kiko Correoso</em><br><br><br><br>\n",
    "</div>\n",
    "<div style=\"text-align: center; font-size: 20px; top-padding: 100px; bottom-padding: 100px\">\n",
    " <table style=\"border: solid #FFF;\">\n",
    "    <tr style=\"border: solid #FFF;\">\n",
    "      <td><img src=\"./misc/pybofractal1.png\"/ height=\"200\"></td>\n",
    "    </tr>\n",
    "   <tr>\n",
    "      <td style=\"text-align: center;\"><a href=\"http://pybonacci.org\">pybonacci.org</a> (<em>kiko@pybonacci.org</em>)<br></td>\n",
    "    </tr>\n",
    "  </table>\n",
    "</div>"
   ]
  },
  {
   "cell_type": "markdown",
   "metadata": {
    "slideshow": {
     "slide_type": "subslide"
    }
   },
   "source": [
    "<div style=\"text-align: center; font-size: 20px; top-padding: 100px; bottom-padding: 100px\">\n",
    " <table style=\"border: solid #FFF;\">\n",
    "    <tr style=\"border: solid #FFF;\">\n",
    "      <td><img src=\"./misc/twitter.png\"/></td>\n",
    "    </tr>\n",
    "   <tr>\n",
    "      <td style=\"text-align: center;\">@pybonacci</td>\n",
    "    </tr>\n",
    "  </table>\n",
    "</div>"
   ]
  },
  {
   "cell_type": "markdown",
   "metadata": {
    "slideshow": {
     "slide_type": "subslide"
    }
   },
   "source": [
    "<div style=\"text-align: center; font-size: 20px; top-padding: 100px; bottom-padding: 100px;margin-left: auto;\n",
    "    margin-right: auto;\">\n",
    " <table style=\"border: solid #FFF;\">\n",
    "    <tr style=\"border: solid #FFF;\">\n",
    "      <td><img src=\"./misc/github.png\"/></td>\n",
    "    </tr>\n",
    "   <tr style=\"border: solid #FFF;\">\n",
    "      <td><img src=\"./misc/bitbucket.jpeg\"/></td>\n",
    "    </tr>\n",
    "   <tr>\n",
    "      <td style=\"text-align: center;\">kikocorreoso</td>\n",
    "    </tr>\n",
    "  </table>\n",
    "</div>"
   ]
  },
  {
   "cell_type": "markdown",
   "metadata": {
    "slideshow": {
     "slide_type": "slide"
    }
   },
   "source": [
    "<div style=\"text-align: center; font-size: 30px\">\n",
    "<em>Science knows no country, because knowledge belongs to humanity, and is the torch which illuminates the world.</em>\n",
    "</div>"
   ]
  },
  {
   "cell_type": "markdown",
   "metadata": {
    "slideshow": {
     "slide_type": "fragment"
    }
   },
   "source": [
    "> Louis Pasteur"
   ]
  },
  {
   "cell_type": "code",
   "execution_count": 1,
   "metadata": {
    "collapsed": true,
    "slideshow": {
     "slide_type": "skip"
    }
   },
   "outputs": [],
   "source": [
    "import os\n",
    "\n",
    "import matplotlib.pyplot as plt\n",
    "from matplotlib import rcParams\n",
    "%matplotlib inline"
   ]
  },
  {
   "cell_type": "code",
   "execution_count": 2,
   "metadata": {
    "collapsed": false,
    "slideshow": {
     "slide_type": "skip"
    }
   },
   "outputs": [],
   "source": [
    "plt.xkcd()\n",
    "rcParams['font.size'] = 20"
   ]
  },
  {
   "cell_type": "code",
   "execution_count": 3,
   "metadata": {
    "collapsed": false,
    "slideshow": {
     "slide_type": "skip"
    }
   },
   "outputs": [
    {
     "data": {
      "image/png": "[encoded data removed]",
      "text/plain": [
       "<matplotlib.figure.Figure at 0x7fc61872e198>"
      ]
     },
     "metadata": {},
     "output_type": "display_data"
    }
   ],
   "source": [
    "fig = plt.figure(figsize = (10, 10))\n",
    "ax = fig.add_subplot(1, 1, 1)\n",
    "ax.spines['right'].set_color('none')\n",
    "ax.spines['top'].set_color('none')\n",
    "ax.spines['left'].set_color('none')\n",
    "ax.spines['bottom'].set_color('none')\n",
    "plt.xticks([])\n",
    "plt.yticks([])\n",
    "plt.xlim(0, 100)\n",
    "plt.ylim(0,100)\n",
    "plt.annotate('Openness', xy=(25, 50), arrowprops=dict(arrowstyle='->'), xytext=(50, 90))\n",
    "plt.annotate('Openness', xy=(75, 50), arrowprops=dict(arrowstyle='->'), xytext=(50, 90))\n",
    "plt.annotate('Openness', xy=(50, 65), arrowprops=dict(arrowstyle='->'), xytext=(50, 90))\n",
    "plt.annotate('Open access', xy=(70, 50), arrowprops=dict(arrowstyle='->'), xytext=(40, 60))\n",
    "plt.annotate('Open Data', xy=(50, 25), arrowprops=dict(arrowstyle='->'), xytext=(15, 45))\n",
    "plt.annotate('Open Data', xy=(65, 45), arrowprops=dict(arrowstyle='->'), xytext=(15, 45))\n",
    "plt.annotate('Open Source', xy=(50, 25), arrowprops=dict(arrowstyle='->'), xytext=(65, 45))\n",
    "plt.text(40, 20, 'Open Science')\n",
    "plt.savefig('./misc/openness01.png')"
   ]
  },
  {
   "cell_type": "markdown",
   "metadata": {
    "slideshow": {
     "slide_type": "slide"
    }
   },
   "source": [
    "<img src=\"./misc/openness01.png\"/>"
   ]
  },
  {
   "cell_type": "code",
   "execution_count": 4,
   "metadata": {
    "collapsed": false,
    "slideshow": {
     "slide_type": "skip"
    }
   },
   "outputs": [
    {
     "data": {
      "image/png": "[encoded data removed]",
      "text/plain": [
       "<matplotlib.figure.Figure at 0x7fc616652828>"
      ]
     },
     "metadata": {},
     "output_type": "display_data"
    }
   ],
   "source": [
    "fig = plt.figure(figsize = (10, 10))\n",
    "ax = fig.add_subplot(1, 1, 1)\n",
    "ax.spines['right'].set_color('none')\n",
    "ax.spines['top'].set_color('none')\n",
    "ax.spines['left'].set_color('none')\n",
    "ax.spines['bottom'].set_color('none')\n",
    "plt.xticks([])\n",
    "plt.yticks([])\n",
    "plt.xlim(0, 100)\n",
    "plt.ylim(0,100)\n",
    "plt.annotate('Openness', xy=(25, 50), arrowprops=dict(arrowstyle='->'), xytext=(50, 90))\n",
    "plt.annotate('Openness', xy=(75, 50), arrowprops=dict(arrowstyle='->'), xytext=(50, 90))\n",
    "plt.annotate('Openness', xy=(50, 65), arrowprops=dict(arrowstyle='->'), xytext=(50, 90))\n",
    "plt.annotate('Open access', xy=(70, 50), arrowprops=dict(arrowstyle='->'), xytext=(40, 60))\n",
    "plt.annotate('Open Data', xy=(50, 25), arrowprops=dict(arrowstyle='->'), xytext=(15, 45))\n",
    "plt.annotate('Open Data', xy=(65, 45), arrowprops=dict(arrowstyle='->'), xytext=(15, 45))\n",
    "plt.annotate('Open Source', xy=(50, 25), arrowprops=dict(arrowstyle='->'), xytext=(65, 45))\n",
    "plt.annotate('Open Source', xy=(80, 35), arrowprops=dict(arrowstyle='->'), xytext=(65, 45))\n",
    "plt.text(40, 20, 'Open Science')\n",
    "plt.text(70, 30, 'Open Lab')\n",
    "plt.savefig('misc/openness02.png')"
   ]
  },
  {
   "cell_type": "markdown",
   "metadata": {
    "slideshow": {
     "slide_type": "subslide"
    }
   },
   "source": [
    "<img src=\"./misc/openness02.png\"/>"
   ]
  },
  {
   "cell_type": "markdown",
   "metadata": {
    "collapsed": true,
    "slideshow": {
     "slide_type": "slide"
    }
   },
   "source": [
    "<div style=\"text-align: center; font-size: 50px\">\n",
    "<br>Open?<br><br>\n",
    "</div>"
   ]
  },
  {
   "cell_type": "markdown",
   "metadata": {
    "slideshow": {
     "slide_type": "fragment"
    }
   },
   "source": [
    "<div style=\"text-align: center; font-size: 30px\">\n",
    "<br><em>Open means anyone can freely access, use, modify, and share for any purpose (subject, at most, to requirements that preserve provenance and openness).</em><br><br>\n",
    "</div>"
   ]
  },
  {
   "cell_type": "markdown",
   "metadata": {
    "slideshow": {
     "slide_type": "fragment"
    }
   },
   "source": [
    "> http://opendefinition.org/ (ES: http://opendefinition.org/od/2.0/es/, PT: http://opendefinition.org/od/1.1/pt/) "
   ]
  },
  {
   "cell_type": "markdown",
   "metadata": {
    "slideshow": {
     "slide_type": "slide"
    }
   },
   "source": [
    "<div style=\"text-align: center; font-size: 50px\">\n",
    "<br>HOW-TO: open community member<br><br>\n",
    "</div>"
   ]
  },
  {
   "cell_type": "markdown",
   "metadata": {
    "slideshow": {
     "slide_type": "fragment"
    }
   },
   "source": [
    "<div style=\"text-align: center; font-size: 30px\">\n",
    "<br>- I try to help in the mail-lists, forums,... (science, programming).<br><br>\n",
    "</div>"
   ]
  },
  {
   "cell_type": "markdown",
   "metadata": {
    "slideshow": {
     "slide_type": "fragment"
    }
   },
   "source": [
    "<div style=\"text-align: center; font-size: 30px\">\n",
    "<br>- I blog (http://www.pybonacci.org) and tweet (<a href=\"https://twitter.com/pybonacci\">@pybonacci</a>) about open source and science.<br><br>\n",
    "</div>"
   ]
  },
  {
   "cell_type": "markdown",
   "metadata": {
    "slideshow": {
     "slide_type": "subslide"
    }
   },
   "source": [
    "<div style=\"text-align: center; font-size: 50px\">\n",
    "<br>HOW-TO: open community member<br><br>\n",
    "</div>"
   ]
  },
  {
   "cell_type": "markdown",
   "metadata": {
    "slideshow": {
     "slide_type": "fragment"
    }
   },
   "source": [
    "<div style=\"text-align: center; font-size: 30px\">\n",
    "<br>- Management of an open community of scientist that program or programmers that make science (https://groups.google.com/forum/#!forum/scipydata-es).<br><br>\n",
    "</div>"
   ]
  },
  {
   "cell_type": "markdown",
   "metadata": {
    "slideshow": {
     "slide_type": "fragment"
    }
   },
   "source": [
    "<div style=\"text-align: center; font-size: 30px\">\n",
    "<br>- Some tasks as VP of the Asociación Python España.<br><br>\n",
    "</div>"
   ]
  },
  {
   "cell_type": "markdown",
   "metadata": {
    "slideshow": {
     "slide_type": "fragment"
    }
   },
   "source": [
    "<div style=\"text-align: center; font-size: 20px\">\n",
    "<br>(http://www.es.python.org/)<br><br>\n",
    "</div>"
   ]
  },
  {
   "cell_type": "markdown",
   "metadata": {
    "slideshow": {
     "slide_type": "subslide"
    }
   },
   "source": [
    "<div style=\"text-align: center; font-size: 50px\">\n",
    "<br>HOW-TO: open community member<br><br>\n",
    "</div>"
   ]
  },
  {
   "cell_type": "markdown",
   "metadata": {
    "slideshow": {
     "slide_type": "fragment"
    }
   },
   "source": [
    "<div style=\"text-align: center; font-size: 30px\">\n",
    "<br>- I commit code to some open source projects.<br><br>\n",
    "</div>"
   ]
  },
  {
   "cell_type": "markdown",
   "metadata": {
    "slideshow": {
     "slide_type": "fragment"
    }
   },
   "source": [
    "<div style=\"text-align: center; font-size: 20px\">\n",
    "<br>(https://groups.google.com/forum/?fromgroups=#!topic/brython/wW_wMwZUva4)<br><br>\n",
    "</div>"
   ]
  },
  {
   "cell_type": "markdown",
   "metadata": {
    "slideshow": {
     "slide_type": "fragment"
    }
   },
   "source": [
    "<div style=\"text-align: center; font-size: 20px\">\n",
    "<img src=\"./misc/Carlo.png\"/ width=\"1000px\">\n",
    "</div>"
   ]
  },
  {
   "cell_type": "markdown",
   "metadata": {
    "slideshow": {
     "slide_type": "fragment"
    }
   },
   "source": [
    "<div style=\"text-align: center; font-size: 30px\">\n",
    "<br>- I report bugs.<br><br>\n",
    "</div>"
   ]
  },
  {
   "cell_type": "markdown",
   "metadata": {
    "slideshow": {
     "slide_type": "subslide"
    }
   },
   "source": [
    "<div style=\"text-align: center; font-size: 50px\">\n",
    "<br>HOW-TO: open community member<br><br>\n",
    "</div>"
   ]
  },
  {
   "cell_type": "markdown",
   "metadata": {
    "slideshow": {
     "slide_type": "fragment"
    }
   },
   "source": [
    "<div style=\"text-align: center; font-size: 30px\">\n",
    "<br>- Speaker at some conferences.<br><br>\n",
    "</div>"
   ]
  },
  {
   "cell_type": "markdown",
   "metadata": {
    "slideshow": {
     "slide_type": "fragment"
    }
   },
   "source": [
    "<div style=\"text-align: center; font-size: 30px\">\n",
    "<br>- Open Educational resources on github.<br><br>\n",
    "</div>"
   ]
  },
  {
   "cell_type": "markdown",
   "metadata": {
    "slideshow": {
     "slide_type": "fragment"
    }
   },
   "source": [
    "<div style=\"text-align: center; font-size: 20px\">\n",
    "<br>(e.g., https://github.com/Python-en-ciencia/Python-cientifico)<br><br>\n",
    "</div>"
   ]
  },
  {
   "cell_type": "markdown",
   "metadata": {
    "slideshow": {
     "slide_type": "subslide"
    }
   },
   "source": [
    "<div style=\"text-align: center; font-size: 50px\">\n",
    "<br>HOW-TO: open community member<br><br>\n",
    "</div>"
   ]
  },
  {
   "cell_type": "markdown",
   "metadata": {
    "slideshow": {
     "slide_type": "fragment"
    }
   },
   "source": [
    "<div style=\"text-align: center; font-size: 30px\">\n",
    "<br>- Donations to numfocus, wikipedia,...<br><br>\n",
    "</div>"
   ]
  },
  {
   "cell_type": "markdown",
   "metadata": {
    "slideshow": {
     "slide_type": "fragment"
    }
   },
   "source": [
    "<div style=\"text-align: center; font-size: 30px\">\n",
    "<br>- Member of open source societies.<br><br>\n",
    "</div>"
   ]
  },
  {
   "cell_type": "markdown",
   "metadata": {
    "slideshow": {
     "slide_type": "slide"
    }
   },
   "source": [
    "<div style=\"text-align: center; font-size: 50px\">\n",
    "<br>Openness - Open Education?<br><br>\n",
    "</div>"
   ]
  },
  {
   "cell_type": "markdown",
   "metadata": {
    "slideshow": {
     "slide_type": "subslide"
    }
   },
   "source": [
    "<div style=\"text-align: center; font-size: 50px\">\n",
    "<br>How can we learn?<br><br>\n",
    "</div>"
   ]
  },
  {
   "cell_type": "markdown",
   "metadata": {
    "slideshow": {
     "slide_type": "fragment"
    }
   },
   "source": [
    "<div style=\"text-align: center; font-size: 30px\">\n",
    "<br>Traditionally from school, university,...<br><br>\n",
    "</div>"
   ]
  },
  {
   "cell_type": "markdown",
   "metadata": {
    "slideshow": {
     "slide_type": "fragment"
    }
   },
   "source": [
    "<div style=\"text-align: center; font-size: 30px\">\n",
    "<br>OPEN EDUCATION!!!<br><br>\n",
    "</div>"
   ]
  },
  {
   "cell_type": "markdown",
   "metadata": {
    "slideshow": {
     "slide_type": "subslide"
    }
   },
   "source": [
    "<div style=\"text-align: center; font-size: 50px\">\n",
    "<br>OPEN EDUCATION!!!<br><br>\n",
    "</div>\n",
    "<div style=\"text-align: center; font-size: 20px\">\n",
    "<br>(http://www.wsj.com/articles/SB10001424052702303812904577295930047604846)<br><br>\n",
    "<img src=\"./misc/WSJ.png\"/ width=\"800px\">\n",
    "</div>"
   ]
  },
  {
   "cell_type": "markdown",
   "metadata": {
    "slideshow": {
     "slide_type": "subslide"
    }
   },
   "source": [
    "<div style=\"text-align: center; font-size: 50px\">\n",
    "<br>OPEN EDUCATION!!!<br><br>\n",
    "</div>\n",
    "<div style=\"text-align: center; font-size: 20px\">\n",
    "<br>(http://fortune.com/2015/03/10/american-millennials-are-among-the-worlds-least-skilled/)<br><br>\n",
    "<img src=\"./misc/Fortune.png\"/ width=\"800px\">\n",
    "</div>"
   ]
  },
  {
   "cell_type": "markdown",
   "metadata": {
    "slideshow": {
     "slide_type": "subslide"
    }
   },
   "source": [
    "<div style=\"text-align: center; font-size: 50px\">\n",
    "<br>OPEN EDUCATION!!!<br><br>\n",
    "</div>\n",
    "<div style=\"text-align: center; font-size: 20px\">\n",
    "<br>(http://gao.gov/assets/660/655066.pdf)<br><br>\n",
    "<img src=\"./misc/gao.png\"/ width=\"600px\">\n",
    "</div>"
   ]
  },
  {
   "cell_type": "markdown",
   "metadata": {
    "slideshow": {
     "slide_type": "subslide"
    }
   },
   "source": [
    "<div style=\"text-align: center; font-size: 50px\">\n",
    "<br>How can we learn?<br><br>\n",
    "</div>"
   ]
  },
  {
   "cell_type": "markdown",
   "metadata": {
    "slideshow": {
     "slide_type": "fragment"
    }
   },
   "source": [
    "<div style=\"text-align: center; font-size: 50px\">\n",
    "<br>OPEN EDUCATION!!!<br><br>\n",
    "</div>\n",
    "<div style=\"text-align: center; font-size: 30px\">\n",
    "<br>Nowadays the paradigm is changing: wikipedia, MOOCs, stackexchange, blog posts, apps in the mobile, lectures from your teachers in electronic format,...<br><br>\n",
    "</div>\n",
    "<div style=\"text-align: center; font-size: 20px\">\n",
    "<br>(http://openstaxcollege.org/, http://www.ck12.org/, http://www.etnassoft.com/biblioteca/, https://www.coursera.org/, https://www.edx.org/,...)<br><br>\n",
    "</div>"
   ]
  },
  {
   "cell_type": "markdown",
   "metadata": {
    "slideshow": {
     "slide_type": "slide"
    }
   },
   "source": [
    "<div style=\"text-align: center; font-size: 50px\">\n",
    "<br>Openness - Open Access<br><br>\n",
    "</div>"
   ]
  },
  {
   "cell_type": "markdown",
   "metadata": {
    "slideshow": {
     "slide_type": "subslide"
    }
   },
   "source": [
    "<div style=\"text-align: center; font-size: 50px\">\n",
    "<br>How can we learn?<br><br>\n",
    "</div>"
   ]
  },
  {
   "cell_type": "markdown",
   "metadata": {
    "slideshow": {
     "slide_type": "fragment"
    }
   },
   "source": [
    "<div style=\"text-align: center; font-size: 30px\">\n",
    "<br>We learn also from previous work from other people, their methodologies, their conclusions,...<br><br>\n",
    "</div>"
   ]
  },
  {
   "cell_type": "markdown",
   "metadata": {
    "slideshow": {
     "slide_type": "fragment"
    }
   },
   "source": [
    "<div style=\"text-align: center; font-size: 30px\">\n",
    "<br>OPEN ACCESS!!!<br><br>\n",
    "</div>"
   ]
  },
  {
   "cell_type": "markdown",
   "metadata": {
    "slideshow": {
     "slide_type": "subslide"
    }
   },
   "source": [
    "<div style=\"text-align: center; font-size: 50px\">\n",
    "<br>How can we learn?<br><br>\n",
    "</div>"
   ]
  },
  {
   "cell_type": "markdown",
   "metadata": {
    "slideshow": {
     "slide_type": "fragment"
    }
   },
   "source": [
    "<div style=\"text-align: center; font-size: 50px\">\n",
    "<br>OPEN ACCESS!!!<br><br>\n",
    "</div>\n",
    "<div style=\"text-align: center; font-size: 30px\">\n",
    "<br>Most of the 2.5 million articles published each year in the world’s 24,000 peer-reviewed journals are closed to many of their potential users, because they cannot afford access.<br><br>\n",
    "</div>\n",
    "<div style=\"text-align: center; font-size: 20px\">\n",
    "<br>(http://access.okfn.org/)<br><br>\n",
    "</div>"
   ]
  },
  {
   "cell_type": "markdown",
   "metadata": {
    "slideshow": {
     "slide_type": "subslide"
    }
   },
   "source": [
    "<div style=\"text-align: center; font-size: 50px\">\n",
    "<br>How can we learn?<br><br>\n",
    "</div>"
   ]
  },
  {
   "cell_type": "markdown",
   "metadata": {
    "slideshow": {
     "slide_type": "fragment"
    }
   },
   "source": [
    "<div style=\"text-align: center; font-size: 50px\">\n",
    "<br>OPEN ACCESS!!!<br><br>\n",
    "</div>\n",
    "<div style=\"text-align: center; font-size: 20px\">\n",
    "<br>(http://www.nytimes.com/2015/04/08/opinion/yes-we-were-warned-about-ebola.html)<br><br>\n",
    "<img src=\"./misc/ebola.png\"/ width=\"800px\">\n",
    "</div>"
   ]
  },
  {
   "cell_type": "markdown",
   "metadata": {
    "slideshow": {
     "slide_type": "subslide"
    }
   },
   "source": [
    "<div style=\"text-align: center; font-size: 50px\">\n",
    "<br>How can we learn?<br><br>\n",
    "</div>"
   ]
  },
  {
   "cell_type": "markdown",
   "metadata": {
    "slideshow": {
     "slide_type": "fragment"
    }
   },
   "source": [
    "<div style=\"text-align: center; font-size: 50px\">\n",
    "<br>OPEN ACCESS!!!<br><br>\n",
    "</div>\n",
    "<div style=\"text-align: center; font-size: 20px\">\n",
    "<br>(http://www.bbc.com/news/magazine-22223190)<br><br>\n",
    "<img src=\"./misc/bbc.png\"/ width=\"800px\">\n",
    "</div>"
   ]
  },
  {
   "cell_type": "markdown",
   "metadata": {
    "slideshow": {
     "slide_type": "subslide"
    }
   },
   "source": [
    "<div style=\"text-align: center; font-size: 50px\">\n",
    "<br>How can we learn?<br><br>\n",
    "</div>"
   ]
  },
  {
   "cell_type": "markdown",
   "metadata": {
    "slideshow": {
     "slide_type": "fragment"
    }
   },
   "source": [
    "<div style=\"text-align: center; font-size: 50px\">\n",
    "<br>OPEN ACCESS!!!<br><br>\n",
    "</div>\n",
    "<div style=\"text-align: center; font-size: 30px\">\n",
    "<br>~2/3rds of open access users come from outside of academy<br><br>\n",
    "</div>\n",
    "<div style=\"text-align: center; font-size: 20px\">\n",
    "<br>(http://www.slideshare.net/RightToResearch/state-of-oa-us)<br><br>\n",
    "</div>"
   ]
  },
  {
   "cell_type": "markdown",
   "metadata": {
    "slideshow": {
     "slide_type": "subslide"
    }
   },
   "source": [
    "<div style=\"text-align: center; font-size: 50px\">\n",
    "<br>How can we learn?<br><br>\n",
    "</div>"
   ]
  },
  {
   "cell_type": "markdown",
   "metadata": {
    "slideshow": {
     "slide_type": "fragment"
    }
   },
   "source": [
    "<div style=\"text-align: center; font-size: 50px\">\n",
    "<br>OPEN ACCESS!!!<br><br>\n",
    "</div>\n",
    "<div style=\"text-align: center; font-size: 20px\">\n",
    "<br>(http://poeticeconomics.blogspot.com.es/2015/04/dramatic-growth-of-open-access-2015.html)<br><br>\n",
    "<img src=\"./misc/DOAJ.png\"/ width=\"600px\">\n",
    "</div>"
   ]
  },
  {
   "cell_type": "markdown",
   "metadata": {
    "slideshow": {
     "slide_type": "subslide"
    }
   },
   "source": [
    "<div style=\"text-align: center; font-size: 50px\">\n",
    "<br>How can we learn?<br><br>\n",
    "</div>"
   ]
  },
  {
   "cell_type": "markdown",
   "metadata": {
    "slideshow": {
     "slide_type": "fragment"
    }
   },
   "source": [
    "<div style=\"text-align: center; font-size: 50px\">\n",
    "<br>OPEN ACCESS!!!<br><br>\n",
    "</div>\n",
    "<div style=\"text-align: center; font-size: 30px\">\n",
    "<br>On average, the citation advantage of OA papers is 40.3% while the citation disadvantage is 27% for non-OA papers.<br><br>\n",
    "</div>\n",
    "<div style=\"text-align: center; font-size: 20px\">\n",
    "<br>(http://www.science-metrix.com/files/science-metrix/publications/d_1.8_sm_ec_dg-rtd_proportion_oa_1996-2013_v11p.pdf)<br><br>\n",
    "</div>"
   ]
  },
  {
   "cell_type": "markdown",
   "metadata": {
    "slideshow": {
     "slide_type": "subslide"
    }
   },
   "source": [
    "<div style=\"text-align: center; font-size: 50px\">\n",
    "<br>How can we learn?<br><br>\n",
    "</div>"
   ]
  },
  {
   "cell_type": "markdown",
   "metadata": {
    "slideshow": {
     "slide_type": "fragment"
    }
   },
   "source": [
    "<div style=\"text-align: center; font-size: 50px\">\n",
    "<br>OPEN ACCESS!!!<br><br>\n",
    "</div>\n",
    "<div style=\"text-align: center; font-size: 20px\">\n",
    "<br>(http://www.science-metrix.com/files/science-metrix/publications/d_1.8_sm_ec_dg-rtd_proportion_oa_1996-2013_v11p.pdf)<br><br>\n",
    "<img src=\"./misc/OAmetrics.png\"/ width=\"800px\">\n",
    "</div>"
   ]
  },
  {
   "cell_type": "markdown",
   "metadata": {
    "slideshow": {
     "slide_type": "fragment"
    }
   },
   "source": [
    "<div style=\"text-align: center; font-size: 20px\">\n",
    "<br>(https://www.openaire.eu/, https://zenodo.org/, https://www.fosteropenscience.eu/,  http://figshare.com/about, http://arxiv.org,...)<br><br>\n",
    "</div>"
   ]
  },
  {
   "cell_type": "markdown",
   "metadata": {
    "slideshow": {
     "slide_type": "subslide"
    }
   },
   "source": [
    "<div style=\"text-align: center; font-size: 50px\">\n",
    "<br>How can we learn?<br><br>\n",
    "</div>"
   ]
  },
  {
   "cell_type": "markdown",
   "metadata": {
    "slideshow": {
     "slide_type": "fragment"
    }
   },
   "source": [
    "<div style=\"text-align: center; font-size: 50px\">\n",
    "<br>OPEN ACCESS!!!<br><br>\n",
    "</div>\n",
    "<div style=\"text-align: center; font-size: 20px\">\n",
    "<br>([http://www.washingtonpost.com/blogs/the-switch/wp/2013/12/19/how-one-publisher-is-stopping-academics-from-sharing-their-research/)<br><br>\n",
    "<img src=\"./misc/elsevier.png\"/ width=\"800px\">\n",
    "</div>"
   ]
  },
  {
   "cell_type": "markdown",
   "metadata": {
    "slideshow": {
     "slide_type": "slide"
    }
   },
   "source": [
    "<div style=\"text-align: center; font-size: 50px\">\n",
    "<br>Openness - Open Data<br><br>\n",
    "</div>"
   ]
  },
  {
   "cell_type": "markdown",
   "metadata": {
    "slideshow": {
     "slide_type": "subslide"
    }
   },
   "source": [
    "<div style=\"text-align: center; font-size: 50px\">\n",
    "<br>How can we learn?<br><br>\n",
    "</div>"
   ]
  },
  {
   "cell_type": "markdown",
   "metadata": {
    "slideshow": {
     "slide_type": "fragment"
    }
   },
   "source": [
    "<div style=\"text-align: center; font-size: 30px\">\n",
    "<br>Of course, if we are not working in something theoretical, we need data. We can collect that data or re-use data from others.<br><br>\n",
    "</div>"
   ]
  },
  {
   "cell_type": "markdown",
   "metadata": {
    "slideshow": {
     "slide_type": "fragment"
    }
   },
   "source": [
    "<div style=\"text-align: center; font-size: 30px\">\n",
    "<br>OPEN DATA!!!<br><br>\n",
    "</div>"
   ]
  },
  {
   "cell_type": "markdown",
   "metadata": {
    "slideshow": {
     "slide_type": "subslide"
    }
   },
   "source": [
    "<div style=\"text-align: center; font-size: 50px\">\n",
    "<br>How can we learn?<br><br>\n",
    "</div>"
   ]
  },
  {
   "cell_type": "markdown",
   "metadata": {
    "slideshow": {
     "slide_type": "fragment"
    }
   },
   "source": [
    "<div style=\"text-align: center; font-size: 50px\">\n",
    "<br>OPEN DATA!!!<br><br>\n",
    "</div>"
   ]
  },
  {
   "cell_type": "markdown",
   "metadata": {
    "slideshow": {
     "slide_type": "fragment"
    }
   },
   "source": [
    "<div style=\"text-align: center; font-size: 30px\">\n",
    "<br>Transparency.<br><br>\n",
    "</div>"
   ]
  },
  {
   "cell_type": "markdown",
   "metadata": {
    "slideshow": {
     "slide_type": "fragment"
    }
   },
   "source": [
    "<div style=\"text-align: center; font-size: 30px\">\n",
    "<br>Innovation.<br><br>\n",
    "</div>"
   ]
  },
  {
   "cell_type": "markdown",
   "metadata": {
    "slideshow": {
     "slide_type": "fragment"
    }
   },
   "source": [
    "<div style=\"text-align: center; font-size: 30px\">\n",
    "<br>Reuse, Efficiency.<br><br>\n",
    "</div>"
   ]
  },
  {
   "cell_type": "markdown",
   "metadata": {
    "slideshow": {
     "slide_type": "fragment"
    }
   },
   "source": [
    "<div style=\"text-align: center; font-size: 30px\">\n",
    "<br>Costs.<br><br>\n",
    "</div>"
   ]
  },
  {
   "cell_type": "markdown",
   "metadata": {
    "slideshow": {
     "slide_type": "slide"
    }
   },
   "source": [
    "<div style=\"text-align: center; font-size: 50px\">\n",
    "<br>We are ready for the SCIENCE!<br><br>\n",
    "</div>"
   ]
  },
  {
   "cell_type": "markdown",
   "metadata": {
    "slideshow": {
     "slide_type": "subslide"
    }
   },
   "source": [
    "<div style=\"text-align: center; font-size: 50px\">\n",
    "<br>But why OPEN SCIENCE?<br><br>\n",
    "</div>"
   ]
  },
  {
   "cell_type": "markdown",
   "metadata": {
    "slideshow": {
     "slide_type": "fragment"
    }
   },
   "source": [
    "<div style=\"text-align: center; font-size: 30px\">\n",
    "<br>Mertonian (Robert K. Merton) Norms for modern science:<br><br>\n",
    "</div>"
   ]
  },
  {
   "cell_type": "markdown",
   "metadata": {
    "slideshow": {
     "slide_type": "fragment"
    }
   },
   "source": [
    "<div style=\"text-align: center; font-size: 20px\">\n",
    "<br><b>Communalism</b> all scientists should have equal access to scientific goods (intellectual property) and there should be a sense of common ownership in order to promote collective collaboration.<br><br>\n",
    "</div>"
   ]
  },
  {
   "cell_type": "markdown",
   "metadata": {
    "slideshow": {
     "slide_type": "fragment"
    }
   },
   "source": [
    "<div style=\"text-align: center; font-size: 20px\">\n",
    "<br><b>Universalism</b> all scientists can contribute to science regardless of race, nationality, culture, or gender.<br><br>\n",
    "</div>"
   ]
  },
  {
   "cell_type": "markdown",
   "metadata": {
    "slideshow": {
     "slide_type": "fragment"
    }
   },
   "source": [
    "<div style=\"text-align: center; font-size: 20px\">\n",
    "<br><b>Disinterestedness </b> according to which scientists are supposed to act for the benefit of a common scientific enterprise, rather than for personal gain.<br><br>\n",
    "</div>"
   ]
  },
  {
   "cell_type": "markdown",
   "metadata": {
    "slideshow": {
     "slide_type": "fragment"
    }
   },
   "source": [
    "<div style=\"text-align: center; font-size: 20px\">\n",
    "<br><b>Organized Skepticism</b> Skepticism means that scientific claims must be exposed to critical scrutiny before being accepted.<br><br>\n",
    "</div>"
   ]
  },
  {
   "cell_type": "markdown",
   "metadata": {
    "slideshow": {
     "slide_type": "subslide"
    }
   },
   "source": [
    "<div style=\"text-align: center; font-size: 50px\">\n",
    "<br>But why OPEN SCIENCE?<br><br>\n",
    "</div>"
   ]
  },
  {
   "cell_type": "markdown",
   "metadata": {
    "slideshow": {
     "slide_type": "fragment"
    }
   },
   "source": [
    "<div style=\"text-align: center; font-size: 30px\">\n",
    "<br>Imagine a world where no-one shared their results.<br><br>\n",
    "</div>"
   ]
  },
  {
   "cell_type": "markdown",
   "metadata": {
    "slideshow": {
     "slide_type": "fragment"
    }
   },
   "source": [
    "<div style=\"text-align: center; font-size: 30px\">\n",
    "<br>How would we know what was truth & what was lies or fraud or errors?<br><br>\n",
    "</div>"
   ]
  },
  {
   "cell_type": "markdown",
   "metadata": {
    "slideshow": {
     "slide_type": "fragment"
    }
   },
   "source": [
    "<div style=\"text-align: center; font-size: 30px\">\n",
    "<br>Imagine the waste of time and resources if everyone had to replicate results every time.<br><br>\n",
    "</div>"
   ]
  },
  {
   "cell_type": "markdown",
   "metadata": {
    "slideshow": {
     "slide_type": "fragment"
    }
   },
   "source": [
    "<div style=\"text-align: center; font-size: 30px\">\n",
    "<br>How would we make progress?<br><br>\n",
    "</div>"
   ]
  },
  {
   "cell_type": "markdown",
   "metadata": {
    "slideshow": {
     "slide_type": "fragment"
    }
   },
   "source": [
    "<div style=\"text-align: center; font-size: 20px\">\n",
    "<br>([http://www.slideshare.net/RightToResearch/open-con-mouncedata-41594350)<br><br>\n",
    "</div>"
   ]
  },
  {
   "cell_type": "markdown",
   "metadata": {
    "slideshow": {
     "slide_type": "subslide"
    }
   },
   "source": [
    "<div style=\"text-align: center; font-size: 50px\">\n",
    "<br>But why OPEN SCIENCE?<br><br>\n",
    "</div>"
   ]
  },
  {
   "cell_type": "markdown",
   "metadata": {
    "slideshow": {
     "slide_type": "fragment"
    }
   },
   "source": [
    "<div style=\"text-align: center; font-size: 30px\">\n",
    "<br>Open access, re-used data, etc, allow others to advance more quickly and easily (and cheaply). They can test the results from others (Science need to be reproduced to be credible), they can analyse the same data from other point of view,...\n",
    "<br><br>\n",
    "</div>"
   ]
  },
  {
   "cell_type": "markdown",
   "metadata": {
    "slideshow": {
     "slide_type": "subslide"
    }
   },
   "source": [
    "<div style=\"text-align: center; font-size: 50px\">\n",
    "<br>But why OPEN SCIENCE?<br><br>\n",
    "</div>"
   ]
  },
  {
   "cell_type": "markdown",
   "metadata": {
    "slideshow": {
     "slide_type": "fragment"
    }
   },
   "source": [
    "<div style=\"text-align: center; font-size: 30px\">\n",
    "<br>And if the science is open... <br><br>\n",
    "</div>"
   ]
  },
  {
   "cell_type": "markdown",
   "metadata": {
    "slideshow": {
     "slide_type": "fragment"
    }
   },
   "source": [
    "<div style=\"text-align: center; font-size: 30px\">\n",
    "<br>everybody in the society, professional or amateur, can access the results, the methodology, the driven data,... MORE IMPACT!!<br><br>\n",
    "</div>"
   ]
  },
  {
   "cell_type": "markdown",
   "metadata": {
    "slideshow": {
     "slide_type": "fragment"
    }
   },
   "source": [
    "<div style=\"text-align: center; font-size: 30px\">\n",
    "<br>Potentially drives to open notebook science, open research,... => VICIOUS CIRCLE!!<br><br>\n",
    "</div>"
   ]
  },
  {
   "cell_type": "markdown",
   "metadata": {
    "slideshow": {
     "slide_type": "fragment"
    }
   },
   "source": [
    "<div style=\"text-align: center; font-size: 30px\">\n",
    "<br>Knowledge is property of nobody... ETHICAL!!<br><br>\n",
    "</div>"
   ]
  },
  {
   "cell_type": "markdown",
   "metadata": {
    "slideshow": {
     "slide_type": "fragment"
    }
   },
   "source": [
    "<div style=\"text-align: center; font-size: 30px\">\n",
    "<br>Can be shared almost inmediately... FASTER PROGRESS<br><br>\n",
    "</div>"
   ]
  },
  {
   "cell_type": "markdown",
   "metadata": {
    "slideshow": {
     "slide_type": "subslide"
    }
   },
   "source": [
    "<div style=\"text-align: center; font-size: 50px\">\n",
    "<br>But why OPEN SCIENCE?<br><br>\n",
    "</div>"
   ]
  },
  {
   "cell_type": "markdown",
   "metadata": {
    "slideshow": {
     "slide_type": "fragment"
    }
   },
   "source": [
    "<div style=\"text-align: center; font-size: 30px\">\n",
    "<br>Credit / Impact:<br><br>\n",
    "</div>"
   ]
  },
  {
   "cell_type": "markdown",
   "metadata": {
    "slideshow": {
     "slide_type": "fragment"
    }
   },
   "source": [
    "<div style=\"text-align: center; font-size: 30px\">\n",
    "<br>altmetric (http://www.altmetric.com/)<br><br>\n",
    "</div>"
   ]
  },
  {
   "cell_type": "markdown",
   "metadata": {
    "slideshow": {
     "slide_type": "fragment"
    }
   },
   "source": [
    "<div style=\"text-align: center; font-size: 30px\">\n",
    "<br>-plum (http://www.plumanalytics.com/metrics.html)<br><br>\n",
    "</div>"
   ]
  },
  {
   "cell_type": "markdown",
   "metadata": {
    "slideshow": {
     "slide_type": "fragment"
    }
   },
   "source": [
    "<div style=\"text-align: center; font-size: 30px\">\n",
    "<br>-impactstory (https://impactstory.org/)<br><br>\n",
    "</div>"
   ]
  },
  {
   "cell_type": "markdown",
   "metadata": {
    "slideshow": {
     "slide_type": "fragment"
    }
   },
   "source": [
    "<div style=\"text-align: center; font-size: 30px\">\n",
    "<br>-twitter, facebook, mentions, blog posts,...<br><br>\n",
    "</div>"
   ]
  },
  {
   "cell_type": "markdown",
   "metadata": {
    "slideshow": {
     "slide_type": "slide"
    }
   },
   "source": [
    "<div style=\"text-align: center; font-size: 50px\">\n",
    "<br>Open Lab<br><br>\n",
    "</div>"
   ]
  },
  {
   "cell_type": "markdown",
   "metadata": {
    "slideshow": {
     "slide_type": "fragment"
    }
   },
   "source": [
    "<div style=\"text-align: center; font-size: 30px\">\n",
    "<br>Some tools are a limitation so your results will be limited.<br><br>\n",
    "</div>"
   ]
  },
  {
   "cell_type": "markdown",
   "metadata": {
    "slideshow": {
     "slide_type": "fragment"
    }
   },
   "source": [
    "<div style=\"text-align: center; font-size: 30px\">\n",
    "<br>Traditional tools don't update as fast as needed.<br><br>\n",
    "</div>"
   ]
  },
  {
   "cell_type": "markdown",
   "metadata": {
    "slideshow": {
     "slide_type": "fragment"
    }
   },
   "source": [
    "<div style=\"text-align: center; font-size: 30px\">\n",
    "<br>Programming is a must for a researcher nowadays!!<br><br>\n",
    "</div>"
   ]
  },
  {
   "cell_type": "markdown",
   "metadata": {
    "slideshow": {
     "slide_type": "fragment"
    }
   },
   "source": [
    "<div style=\"text-align: center; font-size: 30px\">\n",
    "<br>We are living an explosion of data, analytics and visualisation tools.<br><br>\n",
    "</div>"
   ]
  },
  {
   "cell_type": "markdown",
   "metadata": {
    "slideshow": {
     "slide_type": "subslide"
    }
   },
   "source": [
    "<div style=\"text-align: center; font-size: 50px\">\n",
    "<br>Open Lab<br><br>\n",
    "</div>"
   ]
  },
  {
   "cell_type": "markdown",
   "metadata": {
    "slideshow": {
     "slide_type": "fragment"
    }
   },
   "source": [
    "<div style=\"text-align: center; font-size: 30px\">\n",
    "<br>There are a lot of programming languages out there.<br><br>\n",
    "</div>"
   ]
  },
  {
   "cell_type": "markdown",
   "metadata": {
    "slideshow": {
     "slide_type": "fragment"
    }
   },
   "source": [
    "<div style=\"text-align: center; font-size: 30px\">\n",
    "<br>But I will like to talk about languages better suited for scientists.<br><br>\n",
    "</div>"
   ]
  },
  {
   "cell_type": "markdown",
   "metadata": {
    "slideshow": {
     "slide_type": "fragment"
    }
   },
   "source": [
    "<div style=\"text-align: center; font-size: 30px\">\n",
    "<br>A scientists is not a hacker. Scientists need an easy tool to solve their problems.<br><br>\n",
    "</div>"
   ]
  },
  {
   "cell_type": "markdown",
   "metadata": {
    "slideshow": {
     "slide_type": "fragment"
    }
   },
   "source": [
    "<div style=\"text-align: center; font-size: 30px\">\n",
    "<br>And the tool cannot be the problem.<br><br>\n",
    "</div>"
   ]
  },
  {
   "cell_type": "markdown",
   "metadata": {
    "slideshow": {
     "slide_type": "subslide"
    }
   },
   "source": [
    "<div style=\"text-align: center; font-size: 50px\">\n",
    "<br>Open Lab<br><br>\n",
    "</div>"
   ]
  },
  {
   "cell_type": "markdown",
   "metadata": {
    "slideshow": {
     "slide_type": "fragment"
    }
   },
   "source": [
    "<div style=\"text-align: center; font-size: 30px\">\n",
    "<br>And this is how I arrived to...<br><br>\n",
    "</div>"
   ]
  },
  {
   "cell_type": "markdown",
   "metadata": {
    "slideshow": {
     "slide_type": "fragment"
    }
   },
   "source": [
    "<div style=\"text-align: center; font-size: 20px\">\n",
    "<img src=\"./misc/python.png\"/ width=\"800px\">\n",
    "</div>"
   ]
  },
  {
   "cell_type": "markdown",
   "metadata": {
    "slideshow": {
     "slide_type": "subslide"
    }
   },
   "source": [
    "<div style=\"text-align: center; font-size: 50px\">\n",
    "<br>Open Lab<br><br>\n",
    "</div>"
   ]
  },
  {
   "cell_type": "markdown",
   "metadata": {
    "slideshow": {
     "slide_type": "fragment"
    }
   },
   "source": [
    "<div style=\"text-align: center; font-size: 30px\">\n",
    "<br>We are talking about tools, not religion...<br><br>\n",
    "</div>"
   ]
  },
  {
   "cell_type": "markdown",
   "metadata": {
    "slideshow": {
     "slide_type": "fragment"
    }
   },
   "source": [
    "<div style=\"text-align: center; font-size: 30px\">\n",
    "<br>If you don't like Python there are other free tools (Julia, R,...).<br><br>\n",
    "</div>"
   ]
  },
  {
   "cell_type": "markdown",
   "metadata": {
    "slideshow": {
     "slide_type": "subslide"
    }
   },
   "source": [
    "<div style=\"text-align: center; font-size: 50px\">\n",
    "<br>Open Lab<br><br>\n",
    "</div>"
   ]
  },
  {
   "cell_type": "markdown",
   "metadata": {
    "slideshow": {
     "slide_type": "fragment"
    }
   },
   "source": [
    "<div style=\"text-align: center; font-size: 30px\">\n",
    "<br>Python has libraries for:<br><br>\n",
    "</div>"
   ]
  },
  {
   "cell_type": "markdown",
   "metadata": {
    "slideshow": {
     "slide_type": "fragment"
    }
   },
   "source": [
    "<div style=\"text-align: center; font-size: 20px\">\n",
    "<br>Astronomy<br>\n",
    "</div>"
   ]
  },
  {
   "cell_type": "markdown",
   "metadata": {
    "slideshow": {
     "slide_type": "fragment"
    }
   },
   "source": [
    "<div style=\"text-align: center; font-size: 20px\">\n",
    "<br>Molecular biology<br>\n",
    "</div>"
   ]
  },
  {
   "cell_type": "markdown",
   "metadata": {
    "slideshow": {
     "slide_type": "fragment"
    }
   },
   "source": [
    "<div style=\"text-align: center; font-size: 20px\">\n",
    "<br>Data analysis<br>\n",
    "</div>"
   ]
  },
  {
   "cell_type": "markdown",
   "metadata": {
    "slideshow": {
     "slide_type": "fragment"
    }
   },
   "source": [
    "<div style=\"text-align: center; font-size: 20px\">\n",
    "<br>Data visualisation<br>\n",
    "</div>"
   ]
  },
  {
   "cell_type": "markdown",
   "metadata": {
    "slideshow": {
     "slide_type": "fragment"
    }
   },
   "source": [
    "<div style=\"text-align: center; font-size: 20px\">\n",
    "<br>Cryptography<br>\n",
    "</div>"
   ]
  },
  {
   "cell_type": "markdown",
   "metadata": {
    "slideshow": {
     "slide_type": "fragment"
    }
   },
   "source": [
    "<div style=\"text-align: center; font-size: 20px\">\n",
    "<br>Numerical Optimisation<br>\n",
    "</div>"
   ]
  },
  {
   "cell_type": "markdown",
   "metadata": {
    "slideshow": {
     "slide_type": "subslide"
    }
   },
   "source": [
    "<div style=\"text-align: center; font-size: 50px\">\n",
    "<br>Open Lab<br><br>\n",
    "</div>"
   ]
  },
  {
   "cell_type": "markdown",
   "metadata": {
    "slideshow": {
     "slide_type": "fragment"
    }
   },
   "source": [
    "<div style=\"text-align: center; font-size: 30px\">\n",
    "<br>Python has libraries for:<br><br>\n",
    "</div>"
   ]
  },
  {
   "cell_type": "markdown",
   "metadata": {
    "slideshow": {
     "slide_type": "fragment"
    }
   },
   "source": [
    "<div style=\"text-align: center; font-size: 20px\">\n",
    "<br>GIS<br>\n",
    "</div>"
   ]
  },
  {
   "cell_type": "markdown",
   "metadata": {
    "slideshow": {
     "slide_type": "fragment"
    }
   },
   "source": [
    "<div style=\"text-align: center; font-size: 20px\">\n",
    "<br>Spatial analysis<br>\n",
    "</div>"
   ]
  },
  {
   "cell_type": "markdown",
   "metadata": {
    "slideshow": {
     "slide_type": "fragment"
    }
   },
   "source": [
    "<div style=\"text-align: center; font-size: 20px\">\n",
    "<br>Science notebook<br>\n",
    "</div>"
   ]
  },
  {
   "cell_type": "markdown",
   "metadata": {
    "slideshow": {
     "slide_type": "fragment"
    }
   },
   "source": [
    "<div style=\"text-align: center; font-size: 20px\">\n",
    "<br>Natural language analysis<br>\n",
    "</div>"
   ]
  },
  {
   "cell_type": "markdown",
   "metadata": {
    "slideshow": {
     "slide_type": "fragment"
    }
   },
   "source": [
    "<div style=\"text-align: center; font-size: 20px\">\n",
    "<br>Solar Physics<br>\n",
    "</div>"
   ]
  },
  {
   "cell_type": "markdown",
   "metadata": {
    "slideshow": {
     "slide_type": "fragment"
    }
   },
   "source": [
    "<div style=\"text-align: center; font-size: 20px\">\n",
    "<br>Machine Learning<br>\n",
    "</div>"
   ]
  },
  {
   "cell_type": "markdown",
   "metadata": {
    "slideshow": {
     "slide_type": "subslide"
    }
   },
   "source": [
    "<div style=\"text-align: center; font-size: 50px\">\n",
    "<br>Open Lab<br><br>\n",
    "</div>"
   ]
  },
  {
   "cell_type": "markdown",
   "metadata": {
    "slideshow": {
     "slide_type": "fragment"
    }
   },
   "source": [
    "<div style=\"text-align: center; font-size: 30px\">\n",
    "<br>Python has libraries for:<br><br>\n",
    "</div>"
   ]
  },
  {
   "cell_type": "markdown",
   "metadata": {
    "slideshow": {
     "slide_type": "fragment"
    }
   },
   "source": [
    "<div style=\"text-align: center; font-size: 20px\">\n",
    "<br>Time series Analysis<br>\n",
    "</div>"
   ]
  },
  {
   "cell_type": "markdown",
   "metadata": {
    "slideshow": {
     "slide_type": "fragment"
    }
   },
   "source": [
    "<div style=\"text-align: center; font-size: 20px\">\n",
    "<br>Bayesian Analysis<br>\n",
    "</div>"
   ]
  },
  {
   "cell_type": "markdown",
   "metadata": {
    "slideshow": {
     "slide_type": "fragment"
    }
   },
   "source": [
    "<div style=\"text-align: center; font-size: 20px\">\n",
    "<br>Symbolic Mathematics<br>\n",
    "</div>"
   ]
  },
  {
   "cell_type": "markdown",
   "metadata": {
    "slideshow": {
     "slide_type": "fragment"
    }
   },
   "source": [
    "<div style=\"text-align: center; font-size: 20px\">\n",
    "<br>Chemistry<br>\n",
    "</div>"
   ]
  },
  {
   "cell_type": "markdown",
   "metadata": {
    "slideshow": {
     "slide_type": "fragment"
    }
   },
   "source": [
    "<div style=\"text-align: center; font-size: 20px\">\n",
    "<br>Image analysis<br>\n",
    "</div>"
   ]
  },
  {
   "cell_type": "markdown",
   "metadata": {
    "slideshow": {
     "slide_type": "fragment"
    }
   },
   "source": [
    "<div style=\"text-align: center; font-size: 20px\">\n",
    "<br>And many more (more than 3700 packages tagged as scientific/engineering, [https://pypi.python.org/pypi?:action=browse&show=all&c=385<br>\n",
    "</div>"
   ]
  },
  {
   "cell_type": "markdown",
   "metadata": {
    "slideshow": {
     "slide_type": "slide"
    }
   },
   "source": [
    "<div style=\"text-align: center; font-size: 50px\">\n",
    "<br>Live demo of the talk...<br><br>\n",
    "</div>"
   ]
  },
  {
   "cell_type": "markdown",
   "metadata": {
    "slideshow": {
     "slide_type": "slide"
    }
   },
   "source": [
    "<div style=\"text-align: center; font-size: 50px\">\n",
    "<br>Thanks.<br><br>\n",
    "</div>"
   ]
  }
 ],
 "metadata": {
  "celltoolbar": "Slideshow",
  "kernelspec": {
   "display_name": "Python 3",
   "language": "python",
   "name": "python3"
  },
  "language_info": {
   "codemirror_mode": {
    "name": "ipython",
    "version": 3
   },
   "file_extension": ".py",
   "mimetype": "text/x-python",
   "name": "python",
   "nbconvert_exporter": "python",
   "pygments_lexer": "ipython3",
   "version": "3.4.0"
  }
 },
 "nbformat": 4,
 "nbformat_minor": 0
}
