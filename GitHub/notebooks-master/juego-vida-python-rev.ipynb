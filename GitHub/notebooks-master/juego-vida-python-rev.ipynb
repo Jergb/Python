{
 "metadata": {
  "name": "Juego de la vida en Python, revisi\u00f3n y mejoras"
 },
 "nbformat": 3,
 "nbformat_minor": 0,
 "worksheets": [
  {
   "cells": [
    {
     "cell_type": "heading",
     "level": 1,
     "metadata": {},
     "source": "Juego de la vida en Python: revisi\u00f3n y mejoras"
    },
    {
     "cell_type": "heading",
     "level": 2,
     "metadata": {},
     "source": "Introducci\u00f3n"
    },
    {
     "cell_type": "markdown",
     "metadata": {},
     "source": "Hace meses public\u00e1bamos en Pybonacci una entrada sobre c\u00f3mo implementar el **Juego de la vida de Conway** en Python utilizando arrays de NumPy. Recientemente el gran Jake VanderPlas hizo lo mismo, dando un c\u00f3digo mucho m\u00e1s compacto y centr\u00e1ndose m\u00e1s en la creaci\u00f3n de animaciones. A ra\u00edz de ello, Chema Cort\u00e9s pregunt\u00f3 en nuestro blog si no existir\u00eda una manera m\u00e1s eficiente de calcular cada paso. En esta entrada vamos a explicar nuestros resultados, y ya os adelantamos que son muy buenos :)\n\nAviso a navegantes: hoy vamos a ver m\u00e1s matem\u00e1ticas que Python, porque creo que es valioso explicar c\u00f3mo hall\u00e9 este nuevo m\u00e9todo. Pero \u00bfa qui\u00e9n no le gustan las matem\u00e1ticas?\n\n(Si no te interesa esa parte, puedes saltar directamente a [c\u00f3mo construir la matriz de adyacencia](#Construyendo-la-matriz-de-adyacencia)).\n\n** *En esta entrada se han utilizado numpy 1.7.1, scipy 0.12.0 y matplotlib 1.3.* **"
    },
    {
     "cell_type": "heading",
     "level": 2,
     "metadata": {},
     "source": "Un poco de \u00e1lgebra lineal"
    },
    {
     "cell_type": "markdown",
     "metadata": {},
     "source": "Supongamos que tenemos un tablero muy peque\u00f1o, de 5 filas y 5 columnas nada m\u00e1s, y que hemos etiquetado las celdas. Las vamos a llamar $c_{ij}$, donde $i$ ser\u00e1 la fila y $j$ ser\u00e1 la columna (empezando por cero). Veamos c\u00f3mo quedar\u00eda, y fij\u00e9monos en la c\u00e9lula del centro. Por un momento olvid\u00e9monos de c\u00e9lulas muertas y vivas:"
    },
    {
     "cell_type": "code",
     "collapsed": false,
     "input": "from IPython.display import HTML\nfrom jinja2 import Template\n\ndef make_table(M, N, id):\n    table = Template(\"\"\"<table id=\"{{ id }}\">\n{% for row in rows %}\n<tr>\n    {% for col in cols %}<td id=\"c{{ row }}{{ col }}\">$c_{ {{ row }}{{ col }} }$</td>{% endfor %}\n</tr>\n{% endfor %}\n</table>\"\"\").render(rows=range(M), cols=range(N), id=id)\n    return table\n\nstyle = \"\"\"<style>\ntable#t1 #c22 { background-color: #bcd; border-width: 2px; }\ntable#t1 #c11,\ntable#t1 #c12,\ntable#t1 #c13,\ntable#t1 #c21,\ntable#t1 #c23,\ntable#t1 #c31,\ntable#t1 #c32,\ntable#t1 #c33 { background-color: #def; }\n</style>\n\"\"\"\n\nHTML(style + make_table(5, 5, \"t1\"))",
     "language": "python",
     "metadata": {},
     "outputs": [
      {
       "html": "<style>\ntable#t1 #c22 { background-color: #bcd; border-width: 2px; }\ntable#t1 #c11,\ntable#t1 #c12,\ntable#t1 #c13,\ntable#t1 #c21,\ntable#t1 #c23,\ntable#t1 #c31,\ntable#t1 #c32,\ntable#t1 #c33 { background-color: #def; }\n</style>\n<table id=\"t1\">\n\n<tr>\n    <td id=\"c00\">$c_{ 00 }$</td><td id=\"c01\">$c_{ 01 }$</td><td id=\"c02\">$c_{ 02 }$</td><td id=\"c03\">$c_{ 03 }$</td><td id=\"c04\">$c_{ 04 }$</td>\n</tr>\n\n<tr>\n    <td id=\"c10\">$c_{ 10 }$</td><td id=\"c11\">$c_{ 11 }$</td><td id=\"c12\">$c_{ 12 }$</td><td id=\"c13\">$c_{ 13 }$</td><td id=\"c14\">$c_{ 14 }$</td>\n</tr>\n\n<tr>\n    <td id=\"c20\">$c_{ 20 }$</td><td id=\"c21\">$c_{ 21 }$</td><td id=\"c22\">$c_{ 22 }$</td><td id=\"c23\">$c_{ 23 }$</td><td id=\"c24\">$c_{ 24 }$</td>\n</tr>\n\n<tr>\n    <td id=\"c30\">$c_{ 30 }$</td><td id=\"c31\">$c_{ 31 }$</td><td id=\"c32\">$c_{ 32 }$</td><td id=\"c33\">$c_{ 33 }$</td><td id=\"c34\">$c_{ 34 }$</td>\n</tr>\n\n<tr>\n    <td id=\"c40\">$c_{ 40 }$</td><td id=\"c41\">$c_{ 41 }$</td><td id=\"c42\">$c_{ 42 }$</td><td id=\"c43\">$c_{ 43 }$</td><td id=\"c44\">$c_{ 44 }$</td>\n</tr>\n\n</table>",
       "metadata": {},
       "output_type": "pyout",
       "prompt_number": 1,
       "text": "<IPython.core.display.HTML at 0x7f76c402e510>"
      }
     ],
     "prompt_number": 1
    },
    {
     "cell_type": "markdown",
     "metadata": {},
     "source": "Todas las c\u00e9lulas tienen 8 vecinos, tambi\u00e9n las de los bordes (imaginad el tablero como un nivel de _Asteroids_). Si ahora las c\u00e9lulas pueden estar vivas o muertas, el n\u00famero de vecinos vivos de $c_{22}$ ser\u00eda:\n\n$$ v_{22} = c_{11} + c_{12} + c_{13} + c_{21} + c_{23} + c_{31} + c_{32} + c_{33} $$\n\ndonde $c_{ij}$ puede valer 1 o 0, dependiendo de si est\u00e1 viva o no, y el n\u00famero $v_{22}$ es el n\u00famero de vecinos vivos de $c_{22}$. Tambi\u00e9n podemos escribir esto as\u00ed, aunque ahora parezca tonto:\n\n$$ v_{22} = 1 \u00b7 c_{11} + 1 \u00b7 c_{12} + 1 \u00b7 c_{13} + 1 \u00b7 c_{21} + 1 \u00b7 c_{23} + 1 \u00b7 c_{31} + 1 \u00b7 c_{32} + 1 \u00b7 c_{33} $$\n\no, incluyendo todas las c\u00e9lulas del tablero:\n\n$$ v_{22} = 0 \u00b7 c_{00} + 0 \u00b7 c_{01} +{}...{}+ 0 \u00b7 c_{10} + 1 \u00b7 c_{11} + 1 \u00b7 c_{12} +{}...{}+ 0 \u00b7 c_{44} $$"
    },
    {
     "cell_type": "markdown",
     "metadata": {},
     "source": "Por ejemplo, si la \u00fanica c\u00e9lula viva del tablero fuese $c_{12}$, obviamente esta operaci\u00f3n resulta 1:\n\n$$ v_{22} = 0 \u00b7 0 + 0 \u00b7 0 +{}...{}+ 0 \u00b7 0 + 1 \u00b7 0 + 1 \u00b7 1 +{}+ 0 \u00b7 0 = 1 $$"
    },
    {
     "cell_type": "markdown",
     "metadata": {},
     "source": "Vemos que podemos expresar esto como un producto escalar:\n\n$$ v_{22} = \\begin{pmatrix}0 & 0 &{}...{}& 0 & 1 & 1 &{}...{}& 0\\end{pmatrix} \u00b7 \\begin{pmatrix}c_{00} \\\\ c_{01} \\\\ \\vdots \\\\ c_{10} \\\\ c_{11} \\\\ c_{12} \\\\ \\vdots \\\\ c_{44}\\end{pmatrix} = R_{22} \u00b7 T$$"
    },
    {
     "cell_type": "markdown",
     "metadata": {},
     "source": "siendo $R_{22}$ el vector de unos y ceros que indica **cu\u00e1les c\u00e9lulas cuentan en la suma y cu\u00e1les no** y $T$ un vector columna donde tenemos todas las c\u00e9lulas de tablero. Esto se pone interesante ;)"
    },
    {
     "cell_type": "markdown",
     "metadata": {},
     "source": "Veamos c\u00f3mo es el vector $R_{22}$ completo:\n\n$$ R_{22} = \\small \\begin{pmatrix}0 & 0 & 0 & 0 & 0 & | & 0 & 1 & 1 & 1 & 0 & | & 0 & 1 & 0 & 1 & 0 & | & 0 & 1 & 1 & 1 & 0 & | & 0 & 0 & 0 & 0 & 0\\end{pmatrix}$$\n\nEsto es importante. He escrito un separador cada cinco elementos para que te imagines la situaci\u00f3n por filas. Los primeros cinco son todo ceros, porque ninguna de las celdas de la primera fila es vecina de la celda $v_{22}$. La segunda fila tiene los tres del centro, la tercera fila tiene dos (\u00a1la celda $v_{22}$ no es vecina de s\u00ed misma!), la cuarta vuelve a tener las tres del centro y la quinta de nuevo todo ceros."
    },
    {
     "cell_type": "markdown",
     "metadata": {},
     "source": "La pregunta es, \u00bfqu\u00e9 pinta tienen el resto de vectores $R$? \u00bfSe parecen entre s\u00ed? Veamos otro ejemplo:"
    },
    {
     "cell_type": "code",
     "collapsed": false,
     "input": "style = \"\"\"<style>\ntable#t2 #c21 { background-color: #bcd; border-width: 2px; }\ntable#t2 #c10,\ntable#t2 #c11,\ntable#t2 #c12,\ntable#t2 #c20,\ntable#t2 #c22,\ntable#t2 #c30,\ntable#t2 #c31,\ntable#t2 #c32 { background-color: #def; }\n</style>\n\"\"\"\n\nHTML(style + make_table(5, 5, \"t2\"))",
     "language": "python",
     "metadata": {},
     "outputs": [
      {
       "html": "<style>\ntable#t2 #c21 { background-color: #bcd; border-width: 2px; }\ntable#t2 #c10,\ntable#t2 #c11,\ntable#t2 #c12,\ntable#t2 #c20,\ntable#t2 #c22,\ntable#t2 #c30,\ntable#t2 #c31,\ntable#t2 #c32 { background-color: #def; }\n</style>\n<table id=\"t2\">\n\n<tr>\n    <td id=\"c00\">$c_{ 00 }$</td><td id=\"c01\">$c_{ 01 }$</td><td id=\"c02\">$c_{ 02 }$</td><td id=\"c03\">$c_{ 03 }$</td><td id=\"c04\">$c_{ 04 }$</td>\n</tr>\n\n<tr>\n    <td id=\"c10\">$c_{ 10 }$</td><td id=\"c11\">$c_{ 11 }$</td><td id=\"c12\">$c_{ 12 }$</td><td id=\"c13\">$c_{ 13 }$</td><td id=\"c14\">$c_{ 14 }$</td>\n</tr>\n\n<tr>\n    <td id=\"c20\">$c_{ 20 }$</td><td id=\"c21\">$c_{ 21 }$</td><td id=\"c22\">$c_{ 22 }$</td><td id=\"c23\">$c_{ 23 }$</td><td id=\"c24\">$c_{ 24 }$</td>\n</tr>\n\n<tr>\n    <td id=\"c30\">$c_{ 30 }$</td><td id=\"c31\">$c_{ 31 }$</td><td id=\"c32\">$c_{ 32 }$</td><td id=\"c33\">$c_{ 33 }$</td><td id=\"c34\">$c_{ 34 }$</td>\n</tr>\n\n<tr>\n    <td id=\"c40\">$c_{ 40 }$</td><td id=\"c41\">$c_{ 41 }$</td><td id=\"c42\">$c_{ 42 }$</td><td id=\"c43\">$c_{ 43 }$</td><td id=\"c44\">$c_{ 44 }$</td>\n</tr>\n\n</table>",
       "metadata": {},
       "output_type": "pyout",
       "prompt_number": 2,
       "text": "<IPython.core.display.HTML at 0x7f76c4039e50>"
      }
     ],
     "prompt_number": 2
    },
    {
     "cell_type": "markdown",
     "metadata": {},
     "source": "$$ R_{21} = \\small \\begin{pmatrix}0 & 0 & 0 & 0 & 0 & | & 1 & 1 & 1 & 0 & 0 & | & 1 & 0 & 1 & 0 & 0 & | & 1 & 1 & 1 & 0 & 0 & | & 0 & 0 & 0 & 0 & 0\\end{pmatrix}$$\n\n\u00bfVen bien mis ojos? \u00bf**Es el mismo vector de antes, desplazado una posici\u00f3n a la izquierda**? \u00a1S\u00ed! :D Si repetimos este proceso con todas las celdas y apilamos todos esos vectores por filas, obtendremos una matriz que visualizada en matplotlib quedar\u00eda as\u00ed:"
    },
    {
     "cell_type": "code",
     "collapsed": false,
     "input": "%matplotlib inline\nimport numpy as np\nimport matplotlib.pyplot as plt\nfrom matplotlib import cm\n\nA55 = np.array([\n[0, 1, 0, 0, 1, 1, 1, 0, 0, 0, 0, 0, 0, 0, 0, 0, 0, 0, 0, 1, 1, 1, 0, 0, 1],\n[1, 0, 1, 0, 0, 1, 1, 1, 0, 0, 0, 0, 0, 0, 0, 0, 0, 0, 0, 0, 1, 1, 1, 0, 0],\n[0, 1, 0, 1, 0, 0, 1, 1, 1, 0, 0, 0, 0, 0, 0, 0, 0, 0, 0, 0, 0, 1, 1, 1, 0],\n[0, 0, 1, 0, 1, 0, 0, 1, 1, 1, 0, 0, 0, 0, 0, 0, 0, 0, 0, 0, 0, 0, 1, 1, 1],\n[1, 0, 0, 1, 0, 1, 0, 0, 1, 1, 1, 0, 0, 0, 0, 0, 0, 0, 0, 0, 0, 0, 0, 1, 1],\n[1, 1, 0, 0, 1, 0, 1, 0, 0, 1, 1, 1, 0, 0, 0, 0, 0, 0, 0, 0, 0, 0, 0, 0, 1],\n[1, 1, 1, 0, 0, 1, 0, 1, 0, 0, 1, 1, 1, 0, 0, 0, 0, 0, 0, 0, 0, 0, 0, 0, 0],\n[0, 1, 1, 1, 0, 0, 1, 0, 1, 0, 0, 1, 1, 1, 0, 0, 0, 0, 0, 0, 0, 0, 0, 0, 0],\n[0, 0, 1, 1, 1, 0, 0, 1, 0, 1, 0, 0, 1, 1, 1, 0, 0, 0, 0, 0, 0, 0, 0, 0, 0],\n[0, 0, 0, 1, 1, 1, 0, 0, 1, 0, 1, 0, 0, 1, 1, 1, 0, 0, 0, 0, 0, 0, 0, 0, 0],\n[0, 0, 0, 0, 1, 1, 1, 0, 0, 1, 0, 1, 0, 0, 1, 1, 1, 0, 0, 0, 0, 0, 0, 0, 0],\n[0, 0, 0, 0, 0, 1, 1, 1, 0, 0, 1, 0, 1, 0, 0, 1, 1, 1, 0, 0, 0, 0, 0, 0, 0],\n[0, 0, 0, 0, 0, 0, 1, 1, 1, 0, 0, 1, 0, 1, 0, 0, 1, 1, 1, 0, 0, 0, 0, 0, 0],\n[0, 0, 0, 0, 0, 0, 0, 1, 1, 1, 0, 0, 1, 0, 1, 0, 0, 1, 1, 1, 0, 0, 0, 0, 0],\n[0, 0, 0, 0, 0, 0, 0, 0, 1, 1, 1, 0, 0, 1, 0, 1, 0, 0, 1, 1, 1, 0, 0, 0, 0],\n[0, 0, 0, 0, 0, 0, 0, 0, 0, 1, 1, 1, 0, 0, 1, 0, 1, 0, 0, 1, 1, 1, 0, 0, 0],\n[0, 0, 0, 0, 0, 0, 0, 0, 0, 0, 1, 1, 1, 0, 0, 1, 0, 1, 0, 0, 1, 1, 1, 0, 0],\n[0, 0, 0, 0, 0, 0, 0, 0, 0, 0, 0, 1, 1, 1, 0, 0, 1, 0, 1, 0, 0, 1, 1, 1, 0],\n[0, 0, 0, 0, 0, 0, 0, 0, 0, 0, 0, 0, 1, 1, 1, 0, 0, 1, 0, 1, 0, 0, 1, 1, 1],\n[1, 0, 0, 0, 0, 0, 0, 0, 0, 0, 0, 0, 0, 1, 1, 1, 0, 0, 1, 0, 1, 0, 0, 1, 1],\n[1, 1, 0, 0, 0, 0, 0, 0, 0, 0, 0, 0, 0, 0, 1, 1, 1, 0, 0, 1, 0, 1, 0, 0, 1],\n[1, 1, 1, 0, 0, 0, 0, 0, 0, 0, 0, 0, 0, 0, 0, 1, 1, 1, 0, 0, 1, 0, 1, 0, 0],\n[0, 1, 1, 1, 0, 0, 0, 0, 0, 0, 0, 0, 0, 0, 0, 0, 1, 1, 1, 0, 0, 1, 0, 1, 0],\n[0, 0, 1, 1, 1, 0, 0, 0, 0, 0, 0, 0, 0, 0, 0, 0, 0, 1, 1, 1, 0, 0, 1, 0, 1],\n[1, 0, 0, 1, 1, 1, 0, 0, 0, 0, 0, 0, 0, 0, 0, 0, 0, 0, 1, 1, 1, 0, 0, 1, 0]\n])\n\n\"\"\"\n$$ A = \\tiny \\begin{pmatrix}\n0 & 1 & 0 & 0 & 1 & 1 & 1 & 0 & 0 & 0 & 0 & 0 & 0 & 0 & 0 & 0 & 0 & 0 & 0 & 1 & 1 & 1 & 0 & 0 & 1 \\\\\n1 & 0 & 1 & 0 & 0 & 1 & 1 & 1 & 0 & 0 & 0 & 0 & 0 & 0 & 0 & 0 & 0 & 0 & 0 & 0 & 1 & 1 & 1 & 0 & 0 \\\\\n0 & 1 & 0 & 1 & 0 & 0 & 1 & 1 & 1 & 0 & 0 & 0 & 0 & 0 & 0 & 0 & 0 & 0 & 0 & 0 & 0 & 1 & 1 & 1 & 0 \\\\\n0 & 0 & 1 & 0 & 1 & 0 & 0 & 1 & 1 & 1 & 0 & 0 & 0 & 0 & 0 & 0 & 0 & 0 & 0 & 0 & 0 & 0 & 1 & 1 & 1 \\\\\n1 & 0 & 0 & 1 & 0 & 1 & 0 & 0 & 1 & 1 & 1 & 0 & 0 & 0 & 0 & 0 & 0 & 0 & 0 & 0 & 0 & 0 & 0 & 1 & 1 \\\\\n1 & 1 & 0 & 0 & 1 & 0 & 1 & 0 & 0 & 1 & 1 & 1 & 0 & 0 & 0 & 0 & 0 & 0 & 0 & 0 & 0 & 0 & 0 & 0 & 1 \\\\\n1 & 1 & 1 & 0 & 0 & 1 & 0 & 1 & 0 & 0 & 1 & 1 & 1 & 0 & 0 & 0 & 0 & 0 & 0 & 0 & 0 & 0 & 0 & 0 & 0 \\\\\n0 & 1 & 1 & 1 & 0 & 0 & 1 & 0 & 1 & 0 & 0 & 1 & 1 & 1 & 0 & 0 & 0 & 0 & 0 & 0 & 0 & 0 & 0 & 0 & 0 \\\\\n0 & 0 & 1 & 1 & 1 & 0 & 0 & 1 & 0 & 1 & 0 & 0 & 1 & 1 & 1 & 0 & 0 & 0 & 0 & 0 & 0 & 0 & 0 & 0 & 0 \\\\\n0 & 0 & 0 & 1 & 1 & 1 & 0 & 0 & 1 & 0 & 1 & 0 & 0 & 1 & 1 & 1 & 0 & 0 & 0 & 0 & 0 & 0 & 0 & 0 & 0 \\\\\n0 & 0 & 0 & 0 & 1 & 1 & 1 & 0 & 0 & 1 & 0 & 1 & 0 & 0 & 1 & 1 & 1 & 0 & 0 & 0 & 0 & 0 & 0 & 0 & 0 \\\\\n0 & 0 & 0 & 0 & 0 & 1 & 1 & 1 & 0 & 0 & 1 & 0 & 1 & 0 & 0 & 1 & 1 & 1 & 0 & 0 & 0 & 0 & 0 & 0 & 0 \\\\\n0 & 0 & 0 & 0 & 0 & 0 & 1 & 1 & 1 & 0 & 0 & 1 & \\normalsize{0} & 1 & 0 & 0 & 1 & 1 & 1 & 0 & 0 & 0 & 0 & 0 & 0 \\\\\n0 & 0 & 0 & 0 & 0 & 0 & 0 & 1 & 1 & 1 & 0 & 0 & 1 & 0 & 1 & 0 & 0 & 1 & 1 & 1 & 0 & 0 & 0 & 0 & 0 \\\\\n0 & 0 & 0 & 0 & 0 & 0 & 0 & 0 & 1 & 1 & 1 & 0 & 0 & 1 & 0 & 1 & 0 & 0 & 1 & 1 & 1 & 0 & 0 & 0 & 0 \\\\\n0 & 0 & 0 & 0 & 0 & 0 & 0 & 0 & 0 & 1 & 1 & 1 & 0 & 0 & 1 & 0 & 1 & 0 & 0 & 1 & 1 & 1 & 0 & 0 & 0 \\\\\n0 & 0 & 0 & 0 & 0 & 0 & 0 & 0 & 0 & 0 & 1 & 1 & 1 & 0 & 0 & 1 & 0 & 1 & 0 & 0 & 1 & 1 & 1 & 0 & 0 \\\\\n0 & 0 & 0 & 0 & 0 & 0 & 0 & 0 & 0 & 0 & 0 & 1 & 1 & 1 & 0 & 0 & 1 & 0 & 1 & 0 & 0 & 1 & 1 & 1 & 0 \\\\\n0 & 0 & 0 & 0 & 0 & 0 & 0 & 0 & 0 & 0 & 0 & 0 & 1 & 1 & 1 & 0 & 0 & 1 & 0 & 1 & 0 & 0 & 1 & 1 & 1 \\\\\n1 & 0 & 0 & 0 & 0 & 0 & 0 & 0 & 0 & 0 & 0 & 0 & 0 & 1 & 1 & 1 & 0 & 0 & 1 & 0 & 1 & 0 & 0 & 1 & 1 \\\\\n1 & 1 & 0 & 0 & 0 & 0 & 0 & 0 & 0 & 0 & 0 & 0 & 0 & 0 & 1 & 1 & 1 & 0 & 0 & 1 & 0 & 1 & 0 & 0 & 1 \\\\\n1 & 1 & 1 & 0 & 0 & 0 & 0 & 0 & 0 & 0 & 0 & 0 & 0 & 0 & 0 & 1 & 1 & 1 & 0 & 0 & 1 & 0 & 1 & 0 & 0 \\\\\n0 & 1 & 1 & 1 & 0 & 0 & 0 & 0 & 0 & 0 & 0 & 0 & 0 & 0 & 0 & 0 & 1 & 1 & 1 & 0 & 0 & 1 & 0 & 1 & 0 \\\\\n0 & 0 & 1 & 1 & 1 & 0 & 0 & 0 & 0 & 0 & 0 & 0 & 0 & 0 & 0 & 0 & 0 & 1 & 1 & 1 & 0 & 0 & 1 & 0 & 1 \\\\\n1 & 0 & 0 & 1 & 1 & 1 & 0 & 0 & 0 & 0 & 0 & 0 & 0 & 0 & 0 & 0 & 0 & 0 & 1 & 1 & 1 & 0 & 0 & 1 & 0\n\\end{pmatrix} $$\n\"\"\"\n\nplt.matshow(A55, cmap=cm.gray_r)\nplt.grid(False)",
     "language": "python",
     "metadata": {},
     "outputs": [
      {
       "metadata": {},
       "output_type": "display_data",
       "png": "[encoded data removed]",
       "text": "<matplotlib.figure.Figure at 0x7f76c4039b50>"
      }
     ],
     "prompt_number": 3
    },
    {
     "cell_type": "markdown",
     "metadata": {},
     "source": "**Lo especial de esta matriz es que si la multiplicamos por el vector $T$, nos da un vector $V$ que cuenta cu\u00e1ntas vecinas vivas tiene cada celda.**\n\n$$ V = A T $$\n\n\u00a1Ya tenemos el misterio resuelto! Podemos calcular cada paso en el Juego de la vida con una simple multiplicaci\u00f3n matricial. Esta matriz no es m\u00e1s que la **matriz de adyacencia** de un **grafo** tal que cada v\u00e9rtice es una c\u00e9lula del tablero y cada arista indica dos c\u00e9lulas adyacentes. Hemos pasado de aut\u00f3matas celulares a teor\u00eda de grafos, casi sin despeinarnos :)\n\nSin embargo, no vamos a utilizar el grafo del tablero porque nos complicar\u00edamos en exceso. En su lugar, vamos a construir la matriz directamente usando **matrices dispersas**."
    },
    {
     "cell_type": "heading",
     "level": 2,
     "metadata": {},
     "source": "Construyendo la matriz de adyacencia"
    },
    {
     "cell_type": "markdown",
     "metadata": {},
     "source": "Ya tenemos un art\u00edculo en Pybonacci sobre [c\u00f3mo construir matrices tridiagonales en Python](http://pybonacci.org/2012/05/10/como-crear-una-matriz-tridiagonal-en-python-con-numpy-y-scipy/). Visto por la gr\u00e1fica anterior que la matriz de adyacencia tiene una estructura diagonal, vamos a hacer algo muy similar a lo que ya hicimos entonces: solo tenemos que crear el vector $R$, y despu\u00e9s vamos a crear la matriz por diagonales utilizando el m\u00f3dulo `scipy.sparse`."
    },
    {
     "cell_type": "code",
     "collapsed": false,
     "input": "M, N = 5, 5  # Dimensiones del tablero\n\nR_22 = np.zeros((5, 5))  # Idea de Chema Cort\u00e9s\nR_22[1:4, 1:4] = np.ones((3, 3))\nR_22[2, 2] = 0\nprint(R_22)\nR_22 = R_22.flatten()",
     "language": "python",
     "metadata": {},
     "outputs": [
      {
       "output_type": "stream",
       "stream": "stdout",
       "text": "[[ 0.  0.  0.  0.  0.]\n [ 0.  1.  1.  1.  0.]\n [ 0.  1.  0.  1.  0.]\n [ 0.  1.  1.  1.  0.]\n [ 0.  0.  0.  0.  0.]]\n"
      }
     ],
     "prompt_number": 4
    },
    {
     "cell_type": "markdown",
     "metadata": {},
     "source": "Nos interesa $R_{00}$:"
    },
    {
     "cell_type": "code",
     "collapsed": false,
     "input": "R_00 = np.roll(R_22, 2 * (-N - 1))  # Trasladamos el vector\nR_00",
     "language": "python",
     "metadata": {},
     "outputs": [
      {
       "metadata": {},
       "output_type": "pyout",
       "prompt_number": 5,
       "text": "array([ 0.,  1.,  0.,  0.,  1.,  1.,  1.,  0.,  0.,  0.,  0.,  0.,  0.,\n        0.,  0.,  0.,  0.,  0.,  0.,  1.,  1.,  1.,  0.,  0.,  1.])"
      }
     ],
     "prompt_number": 5
    },
    {
     "cell_type": "markdown",
     "metadata": {},
     "source": "Y ahora viene el truco: como s\u00f3lo nos interesa almacenar los unos, hay que decir a la funci\u00f3n `spdiags` _cu\u00e1ntos hay_ y _en qu\u00e9 posiciones se encuentran_."
    },
    {
     "cell_type": "code",
     "collapsed": false,
     "input": "cnt = np.count_nonzero(R_00)\nnonzero_idx = R_00.nonzero()[0]\nprint(cnt, nonzero_idx)",
     "language": "python",
     "metadata": {},
     "outputs": [
      {
       "output_type": "stream",
       "stream": "stdout",
       "text": "8 [ 1  4  5  6 19 20 21 24]\n"
      }
     ],
     "prompt_number": 6
    },
    {
     "cell_type": "code",
     "collapsed": false,
     "input": "import scipy.sparse as ss\n\nnp.set_printoptions(linewidth=100)\nss.diags(np.ones(cnt),  # N\u00famero de unos\n         nonzero_idx,  # Posiciones\n         shape=(M * N, M * N),  # Tama\u00f1o de la matriz\n         format=\"csr\",  # Formato (CSR es mejor para productos matriz-vector)\n         dtype=int  # Tipo entero\n         ).todense()",
     "language": "python",
     "metadata": {},
     "outputs": [
      {
       "metadata": {},
       "output_type": "pyout",
       "prompt_number": 7,
       "text": "matrix([[0, 1, 0, 0, 1, 1, 1, 0, 0, 0, 0, 0, 0, 0, 0, 0, 0, 0, 0, 1, 1, 1, 0, 0, 1],\n        [0, 0, 1, 0, 0, 1, 1, 1, 0, 0, 0, 0, 0, 0, 0, 0, 0, 0, 0, 0, 1, 1, 1, 0, 0],\n        [0, 0, 0, 1, 0, 0, 1, 1, 1, 0, 0, 0, 0, 0, 0, 0, 0, 0, 0, 0, 0, 1, 1, 1, 0],\n        [0, 0, 0, 0, 1, 0, 0, 1, 1, 1, 0, 0, 0, 0, 0, 0, 0, 0, 0, 0, 0, 0, 1, 1, 1],\n        [0, 0, 0, 0, 0, 1, 0, 0, 1, 1, 1, 0, 0, 0, 0, 0, 0, 0, 0, 0, 0, 0, 0, 1, 1],\n        [0, 0, 0, 0, 0, 0, 1, 0, 0, 1, 1, 1, 0, 0, 0, 0, 0, 0, 0, 0, 0, 0, 0, 0, 1],\n        [0, 0, 0, 0, 0, 0, 0, 1, 0, 0, 1, 1, 1, 0, 0, 0, 0, 0, 0, 0, 0, 0, 0, 0, 0],\n        [0, 0, 0, 0, 0, 0, 0, 0, 1, 0, 0, 1, 1, 1, 0, 0, 0, 0, 0, 0, 0, 0, 0, 0, 0],\n        [0, 0, 0, 0, 0, 0, 0, 0, 0, 1, 0, 0, 1, 1, 1, 0, 0, 0, 0, 0, 0, 0, 0, 0, 0],\n        [0, 0, 0, 0, 0, 0, 0, 0, 0, 0, 1, 0, 0, 1, 1, 1, 0, 0, 0, 0, 0, 0, 0, 0, 0],\n        [0, 0, 0, 0, 0, 0, 0, 0, 0, 0, 0, 1, 0, 0, 1, 1, 1, 0, 0, 0, 0, 0, 0, 0, 0],\n        [0, 0, 0, 0, 0, 0, 0, 0, 0, 0, 0, 0, 1, 0, 0, 1, 1, 1, 0, 0, 0, 0, 0, 0, 0],\n        [0, 0, 0, 0, 0, 0, 0, 0, 0, 0, 0, 0, 0, 1, 0, 0, 1, 1, 1, 0, 0, 0, 0, 0, 0],\n        [0, 0, 0, 0, 0, 0, 0, 0, 0, 0, 0, 0, 0, 0, 1, 0, 0, 1, 1, 1, 0, 0, 0, 0, 0],\n        [0, 0, 0, 0, 0, 0, 0, 0, 0, 0, 0, 0, 0, 0, 0, 1, 0, 0, 1, 1, 1, 0, 0, 0, 0],\n        [0, 0, 0, 0, 0, 0, 0, 0, 0, 0, 0, 0, 0, 0, 0, 0, 1, 0, 0, 1, 1, 1, 0, 0, 0],\n        [0, 0, 0, 0, 0, 0, 0, 0, 0, 0, 0, 0, 0, 0, 0, 0, 0, 1, 0, 0, 1, 1, 1, 0, 0],\n        [0, 0, 0, 0, 0, 0, 0, 0, 0, 0, 0, 0, 0, 0, 0, 0, 0, 0, 1, 0, 0, 1, 1, 1, 0],\n        [0, 0, 0, 0, 0, 0, 0, 0, 0, 0, 0, 0, 0, 0, 0, 0, 0, 0, 0, 1, 0, 0, 1, 1, 1],\n        [0, 0, 0, 0, 0, 0, 0, 0, 0, 0, 0, 0, 0, 0, 0, 0, 0, 0, 0, 0, 1, 0, 0, 1, 1],\n        [0, 0, 0, 0, 0, 0, 0, 0, 0, 0, 0, 0, 0, 0, 0, 0, 0, 0, 0, 0, 0, 1, 0, 0, 1],\n        [0, 0, 0, 0, 0, 0, 0, 0, 0, 0, 0, 0, 0, 0, 0, 0, 0, 0, 0, 0, 0, 0, 1, 0, 0],\n        [0, 0, 0, 0, 0, 0, 0, 0, 0, 0, 0, 0, 0, 0, 0, 0, 0, 0, 0, 0, 0, 0, 0, 1, 0],\n        [0, 0, 0, 0, 0, 0, 0, 0, 0, 0, 0, 0, 0, 0, 0, 0, 0, 0, 0, 0, 0, 0, 0, 0, 1],\n        [0, 0, 0, 0, 0, 0, 0, 0, 0, 0, 0, 0, 0, 0, 0, 0, 0, 0, 0, 0, 0, 0, 0, 0, 0]], dtype=int64)"
      }
     ],
     "prompt_number": 7
    },
    {
     "cell_type": "markdown",
     "metadata": {},
     "source": "El problema es que los \u00edndices positivos solo representan el tri\u00e1ngulo superior de la matriz. Para rellenar tambi\u00e9n el tri\u00e1ngulo inferior podemos escribir esto:"
    },
    {
     "cell_type": "code",
     "collapsed": false,
     "input": "ss.diags(np.ones(cnt * 2),  # N\u00famero de unos\n         list(-nonzero_idx) + list(nonzero_idx),  # Posiciones\n         shape=(M * N, M * N),  # Tama\u00f1o de la matriz\n         format=\"csr\",  # Formato (CSR es mejor para productos matriz-vector)\n         dtype=int  # Tipo entero\n         ).todense()",
     "language": "python",
     "metadata": {},
     "outputs": [
      {
       "metadata": {},
       "output_type": "pyout",
       "prompt_number": 8,
       "text": "matrix([[0, 1, 0, 0, 1, 1, 1, 0, 0, 0, 0, 0, 0, 0, 0, 0, 0, 0, 0, 1, 1, 1, 0, 0, 1],\n        [1, 0, 1, 0, 0, 1, 1, 1, 0, 0, 0, 0, 0, 0, 0, 0, 0, 0, 0, 0, 1, 1, 1, 0, 0],\n        [0, 1, 0, 1, 0, 0, 1, 1, 1, 0, 0, 0, 0, 0, 0, 0, 0, 0, 0, 0, 0, 1, 1, 1, 0],\n        [0, 0, 1, 0, 1, 0, 0, 1, 1, 1, 0, 0, 0, 0, 0, 0, 0, 0, 0, 0, 0, 0, 1, 1, 1],\n        [1, 0, 0, 1, 0, 1, 0, 0, 1, 1, 1, 0, 0, 0, 0, 0, 0, 0, 0, 0, 0, 0, 0, 1, 1],\n        [1, 1, 0, 0, 1, 0, 1, 0, 0, 1, 1, 1, 0, 0, 0, 0, 0, 0, 0, 0, 0, 0, 0, 0, 1],\n        [1, 1, 1, 0, 0, 1, 0, 1, 0, 0, 1, 1, 1, 0, 0, 0, 0, 0, 0, 0, 0, 0, 0, 0, 0],\n        [0, 1, 1, 1, 0, 0, 1, 0, 1, 0, 0, 1, 1, 1, 0, 0, 0, 0, 0, 0, 0, 0, 0, 0, 0],\n        [0, 0, 1, 1, 1, 0, 0, 1, 0, 1, 0, 0, 1, 1, 1, 0, 0, 0, 0, 0, 0, 0, 0, 0, 0],\n        [0, 0, 0, 1, 1, 1, 0, 0, 1, 0, 1, 0, 0, 1, 1, 1, 0, 0, 0, 0, 0, 0, 0, 0, 0],\n        [0, 0, 0, 0, 1, 1, 1, 0, 0, 1, 0, 1, 0, 0, 1, 1, 1, 0, 0, 0, 0, 0, 0, 0, 0],\n        [0, 0, 0, 0, 0, 1, 1, 1, 0, 0, 1, 0, 1, 0, 0, 1, 1, 1, 0, 0, 0, 0, 0, 0, 0],\n        [0, 0, 0, 0, 0, 0, 1, 1, 1, 0, 0, 1, 0, 1, 0, 0, 1, 1, 1, 0, 0, 0, 0, 0, 0],\n        [0, 0, 0, 0, 0, 0, 0, 1, 1, 1, 0, 0, 1, 0, 1, 0, 0, 1, 1, 1, 0, 0, 0, 0, 0],\n        [0, 0, 0, 0, 0, 0, 0, 0, 1, 1, 1, 0, 0, 1, 0, 1, 0, 0, 1, 1, 1, 0, 0, 0, 0],\n        [0, 0, 0, 0, 0, 0, 0, 0, 0, 1, 1, 1, 0, 0, 1, 0, 1, 0, 0, 1, 1, 1, 0, 0, 0],\n        [0, 0, 0, 0, 0, 0, 0, 0, 0, 0, 1, 1, 1, 0, 0, 1, 0, 1, 0, 0, 1, 1, 1, 0, 0],\n        [0, 0, 0, 0, 0, 0, 0, 0, 0, 0, 0, 1, 1, 1, 0, 0, 1, 0, 1, 0, 0, 1, 1, 1, 0],\n        [0, 0, 0, 0, 0, 0, 0, 0, 0, 0, 0, 0, 1, 1, 1, 0, 0, 1, 0, 1, 0, 0, 1, 1, 1],\n        [1, 0, 0, 0, 0, 0, 0, 0, 0, 0, 0, 0, 0, 1, 1, 1, 0, 0, 1, 0, 1, 0, 0, 1, 1],\n        [1, 1, 0, 0, 0, 0, 0, 0, 0, 0, 0, 0, 0, 0, 1, 1, 1, 0, 0, 1, 0, 1, 0, 0, 1],\n        [1, 1, 1, 0, 0, 0, 0, 0, 0, 0, 0, 0, 0, 0, 0, 1, 1, 1, 0, 0, 1, 0, 1, 0, 0],\n        [0, 1, 1, 1, 0, 0, 0, 0, 0, 0, 0, 0, 0, 0, 0, 0, 1, 1, 1, 0, 0, 1, 0, 1, 0],\n        [0, 0, 1, 1, 1, 0, 0, 0, 0, 0, 0, 0, 0, 0, 0, 0, 0, 1, 1, 1, 0, 0, 1, 0, 1],\n        [1, 0, 0, 1, 1, 1, 0, 0, 0, 0, 0, 0, 0, 0, 0, 0, 0, 0, 1, 1, 1, 0, 0, 1, 0]], dtype=int64)"
      }
     ],
     "prompt_number": 8
    },
    {
     "cell_type": "markdown",
     "metadata": {},
     "source": "\u00a1Es el mismo resultado que hemos obtenido antes! Si generalizamos lo que hemos escrito a una funci\u00f3n:"
    },
    {
     "cell_type": "code",
     "collapsed": false,
     "input": "def adjacency_matrix(M, N):\n    \"\"\"Matriz de adyacencia de un tablero M x N.\n\n    Reglas:\n\n    * 8 vecinos por celda\n    * Geometr\u00eda toroidal\n\n    No he implementado el caso N < 3 o M < 3.\n\n    \"\"\"\n    if M < 3 or N < 3:\n        raise NotImplementedError\n\n    R_11 = np.zeros((M, N))\n    R_11[0:3, 0:3] = np.ones((3, 3))\n    R_11[1, 1] = 0\n    R_00 = np.roll(R_11.flatten(), -N - 1)\n    mn = M * N\n    cnt = np.count_nonzero(R_00)\n    nonzero_idx = R_00.nonzero()[0]\n    A = ss.diags(np.ones(cnt * 2, dtype=int), list(-nonzero_idx) + list(nonzero_idx),\n                 shape=(mn, mn), format=\"csr\", dtype=int)\n    return A",
     "language": "python",
     "metadata": {},
     "outputs": [],
     "prompt_number": 9
    },
    {
     "cell_type": "code",
     "collapsed": false,
     "input": "def plot_board(A, axis=True):\n    plt.matshow(A, cmap=cm.gray_r)\n    plt.grid(False)\n    if not axis:\n        plt.axis('off')\n\nplot_board(adjacency_matrix(5, 5).todense())\nplot_board(adjacency_matrix(4, 12).todense())",
     "language": "python",
     "metadata": {},
     "outputs": [
      {
       "metadata": {},
       "output_type": "display_data",
       "png": "[encoded data removed]",
       "text": "<matplotlib.figure.Figure at 0x7f76b4a6f590>"
      },
      {
       "metadata": {},
       "output_type": "display_data",
       "png": "[encoded data removed]",
       "text": "<matplotlib.figure.Figure at 0x7f76b4a6ffd0>"
      }
     ],
     "prompt_number": 10
    },
    {
     "cell_type": "markdown",
     "metadata": {},
     "source": "Vemos que calcular la matriz de adyacencia es un tanto costoso para dimensiones grandes:"
    },
    {
     "cell_type": "code",
     "collapsed": false,
     "input": "%timeit adjacency_matrix(100, 200)",
     "language": "python",
     "metadata": {},
     "outputs": [
      {
       "output_type": "stream",
       "stream": "stdout",
       "text": "100 loops, best of 3: 16.3 ms per loop\n"
      }
     ],
     "prompt_number": 11
    },
    {
     "cell_type": "markdown",
     "metadata": {},
     "source": "Pero no importa porque este c\u00e1lculo s\u00f3lo lo vamos a hacer una vez en toda la simulaci\u00f3n, puesto que las dimensiones del tablero no cambian. Podemos cachear nuestros resultados:"
    },
    {
     "cell_type": "code",
     "collapsed": false,
     "input": "adj_matrices = {}\ndef get_adj_matrix(M, N):\n    try:\n        A = adj_matrices[(M, N)]\n    except KeyError:\n        A = adjacency_matrix(M, N)\n        adj_matrices[(M, N)] = A\n    return A",
     "language": "python",
     "metadata": {},
     "outputs": [],
     "prompt_number": 12
    },
    {
     "cell_type": "code",
     "collapsed": false,
     "input": "%timeit -n1 -r1 get_adj_matrix(100, 200)",
     "language": "python",
     "metadata": {},
     "outputs": [
      {
       "output_type": "stream",
       "stream": "stdout",
       "text": "1 loops, best of 1: 20.5 ms per loop\n"
      }
     ],
     "prompt_number": 13
    },
    {
     "cell_type": "code",
     "collapsed": false,
     "input": "%timeit get_adj_matrix(100, 200)",
     "language": "python",
     "metadata": {},
     "outputs": [
      {
       "output_type": "stream",
       "stream": "stdout",
       "text": "1000000 loops, best of 3: 316 ns per loop\n"
      }
     ],
     "prompt_number": 14
    },
    {
     "cell_type": "markdown",
     "metadata": {},
     "source": "Y ahora, los resultados :)"
    },
    {
     "cell_type": "heading",
     "level": 2,
     "metadata": {},
     "source": "Comparaci\u00f3n de m\u00e9todos"
    },
    {
     "cell_type": "markdown",
     "metadata": {},
     "source": "Jake VanderPlas propon\u00eda estos dos m\u00e9todos para calcular el paso:"
    },
    {
     "cell_type": "code",
     "collapsed": false,
     "input": "from scipy.signal import convolve2d\ndef life_step_1(X):\n    \"\"\"Game of life step using generator expressions\"\"\"\n    nbrs_count = sum(np.roll(np.roll(X, i, 0), j, 1)\n                     for i in (-1, 0, 1) for j in (-1, 0, 1)\n                     if (i != 0 or j != 0))\n    return (nbrs_count == 3) | (X & (nbrs_count == 2))\n\ndef life_step_2(X):\n    \"\"\"Game of life step using scipy tools\"\"\"\n    nbrs_count = convolve2d(X, np.ones((3, 3)), mode='same', boundary='wrap') - X\n    return (nbrs_count == 3) | (X & (nbrs_count == 2))",
     "language": "python",
     "metadata": {},
     "outputs": [],
     "prompt_number": 15
    },
    {
     "cell_type": "markdown",
     "metadata": {},
     "source": "Veamos c\u00f3mo funcionan frente al nuestro:"
    },
    {
     "cell_type": "code",
     "collapsed": false,
     "input": "def life_step_3(X):\n    \"\"\"Calcula el paso usando la matriz de adyacencia.\"\"\"\n    A = get_adj_matrix(*X.shape)\n    nbrs_count = A.dot(X.flatten()).reshape(X.shape)\n    return (nbrs_count == 3) | (X & (nbrs_count == 2))",
     "language": "python",
     "metadata": {},
     "outputs": [],
     "prompt_number": 16
    },
    {
     "cell_type": "code",
     "collapsed": false,
     "input": "tab = np.round(np.random.rand(100, 200)).astype(int)  # Tablero aleatorio\nget_adj_matrix(*tab.shape)  # Cacheamos la matriz correspondiente",
     "language": "python",
     "metadata": {},
     "outputs": [
      {
       "metadata": {},
       "output_type": "pyout",
       "prompt_number": 17,
       "text": "<20000x20000 sparse matrix of type '<class 'numpy.int64'>'\n\twith 160000 stored elements in Compressed Sparse Row format>"
      }
     ],
     "prompt_number": 17
    },
    {
     "cell_type": "code",
     "collapsed": false,
     "input": "%timeit life_step_1(tab)",
     "language": "python",
     "metadata": {},
     "outputs": [
      {
       "output_type": "stream",
       "stream": "stdout",
       "text": "1000 loops, best of 3: 1.53 ms per loop\n"
      }
     ],
     "prompt_number": 18
    },
    {
     "cell_type": "code",
     "collapsed": false,
     "input": "%timeit life_step_2(tab)",
     "language": "python",
     "metadata": {},
     "outputs": [
      {
       "output_type": "stream",
       "stream": "stdout",
       "text": "100 loops, best of 3: 2.7 ms per loop\n"
      }
     ],
     "prompt_number": 19
    },
    {
     "cell_type": "code",
     "collapsed": false,
     "input": "%timeit life_step_3(tab)",
     "language": "python",
     "metadata": {},
     "outputs": [
      {
       "output_type": "stream",
       "stream": "stdout",
       "text": "1000 loops, best of 3: 359 \u00b5s per loop\n"
      }
     ],
     "prompt_number": 20
    },
    {
     "cell_type": "markdown",
     "metadata": {},
     "source": "Vencedor: **matriz de adyacencia** :D \u00a1Cinco veces m\u00e1s r\u00e1pido! (En mi ordenador)"
    },
    {
     "cell_type": "markdown",
     "metadata": {},
     "source": "Y para terminar:"
    },
    {
     "cell_type": "code",
     "collapsed": false,
     "input": "from functools import reduce\n\nfor ii in range(0, 18, 6):\n    plot_board(reduce(lambda x, _: life_step_3(x), range(ii), tab), False)\n    plt.title(\"{} iteraciones\".format(ii))",
     "language": "python",
     "metadata": {},
     "outputs": [
      {
       "metadata": {},
       "output_type": "display_data",
       "png": "[encoded data removed]",
       "text": "<matplotlib.figure.Figure at 0x7f76b4105a50>"
      },
      {
       "metadata": {},
       "output_type": "display_data",
       "png": "[encoded data removed]",
       "text": "<matplotlib.figure.Figure at 0x7f76a552fc90>"
      },
      {
       "metadata": {},
       "output_type": "display_data",
       "png": "[encoded data removed]",
       "text": "<matplotlib.figure.Figure at 0x7f76a5504390>"
      }
     ],
     "prompt_number": 21
    },
    {
     "cell_type": "markdown",
     "metadata": {},
     "source": "\u00a1Un saludo! ;)"
    }
   ],
   "metadata": {}
  }
 ]
}
